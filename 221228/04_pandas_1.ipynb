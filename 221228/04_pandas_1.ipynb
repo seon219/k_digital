{
 "cells": [
  {
   "cell_type": "code",
   "execution_count": 1,
   "id": "b554a85d",
   "metadata": {},
   "outputs": [],
   "source": [
    "import warnings\n",
    "warnings.filterwarnings('ignore')\n",
    "import numpy as np\n",
    "import pandas as pd"
   ]
  },
  {
   "cell_type": "markdown",
   "id": "2f61c197",
   "metadata": {},
   "source": [
    "데이터 분석을 위해 데이터를 불러온다. => 불러온 데이터를 데이터 집합(set)이라고 한다."
   ]
  },
  {
   "cell_type": "code",
   "execution_count": 2,
   "id": "56996cfc",
   "metadata": {},
   "outputs": [
    {
     "name": "stdout",
     "output_type": "stream",
     "text": [
      "<class 'pandas.core.frame.DataFrame'>\n",
      "          country continent  year  lifeExp       pop   gdpPercap\n",
      "0     Afghanistan      Asia  1952   28.801   8425333  779.445314\n",
      "1     Afghanistan      Asia  1957   30.332   9240934  820.853030\n",
      "2     Afghanistan      Asia  1962   31.997  10267083  853.100710\n",
      "3     Afghanistan      Asia  1967   34.020  11537966  836.197138\n",
      "4     Afghanistan      Asia  1972   36.088  13079460  739.981106\n",
      "...           ...       ...   ...      ...       ...         ...\n",
      "1699     Zimbabwe    Africa  1987   62.351   9216418  706.157306\n",
      "1700     Zimbabwe    Africa  1992   60.377  10704340  693.420786\n",
      "1701     Zimbabwe    Africa  1997   46.809  11404948  792.449960\n",
      "1702     Zimbabwe    Africa  2002   39.989  11926563  672.038623\n",
      "1703     Zimbabwe    Africa  2007   43.487  12311143  469.709298\n",
      "\n",
      "[1704 rows x 6 columns]\n"
     ]
    }
   ],
   "source": [
    "# read_csv() 함수로 데이터 집합을 불러와서 데이터프레임으로 리턴한다.\n",
    "# read_csv() 함수는 ','로 구분된 데이터를 불러오기 때문에 탭으로 구분된 갭마인더 데이터는 sep='\\t' 옵션을 사용해서 불러온다.\n",
    "gapminder_df = pd.read_csv('./data/gapminder.tsv', sep='\\t')\n",
    "print(type(gapminder_df)) # <class 'pandas.core.frame.DataFrame'>\n",
    "print(gapminder_df)"
   ]
  },
  {
   "cell_type": "code",
   "execution_count": 3,
   "id": "f065c3b5",
   "metadata": {},
   "outputs": [
    {
     "data": {
      "text/html": [
       "<div>\n",
       "<style scoped>\n",
       "    .dataframe tbody tr th:only-of-type {\n",
       "        vertical-align: middle;\n",
       "    }\n",
       "\n",
       "    .dataframe tbody tr th {\n",
       "        vertical-align: top;\n",
       "    }\n",
       "\n",
       "    .dataframe thead th {\n",
       "        text-align: right;\n",
       "    }\n",
       "</style>\n",
       "<table border=\"1\" class=\"dataframe\">\n",
       "  <thead>\n",
       "    <tr style=\"text-align: right;\">\n",
       "      <th></th>\n",
       "      <th>country</th>\n",
       "      <th>continent</th>\n",
       "      <th>year</th>\n",
       "      <th>lifeExp</th>\n",
       "      <th>pop</th>\n",
       "      <th>gdpPercap</th>\n",
       "    </tr>\n",
       "  </thead>\n",
       "  <tbody>\n",
       "    <tr>\n",
       "      <th>0</th>\n",
       "      <td>Afghanistan</td>\n",
       "      <td>Asia</td>\n",
       "      <td>1952</td>\n",
       "      <td>28.801</td>\n",
       "      <td>8425333</td>\n",
       "      <td>779.445314</td>\n",
       "    </tr>\n",
       "    <tr>\n",
       "      <th>1</th>\n",
       "      <td>Afghanistan</td>\n",
       "      <td>Asia</td>\n",
       "      <td>1957</td>\n",
       "      <td>30.332</td>\n",
       "      <td>9240934</td>\n",
       "      <td>820.853030</td>\n",
       "    </tr>\n",
       "    <tr>\n",
       "      <th>2</th>\n",
       "      <td>Afghanistan</td>\n",
       "      <td>Asia</td>\n",
       "      <td>1962</td>\n",
       "      <td>31.997</td>\n",
       "      <td>10267083</td>\n",
       "      <td>853.100710</td>\n",
       "    </tr>\n",
       "    <tr>\n",
       "      <th>3</th>\n",
       "      <td>Afghanistan</td>\n",
       "      <td>Asia</td>\n",
       "      <td>1967</td>\n",
       "      <td>34.020</td>\n",
       "      <td>11537966</td>\n",
       "      <td>836.197138</td>\n",
       "    </tr>\n",
       "    <tr>\n",
       "      <th>4</th>\n",
       "      <td>Afghanistan</td>\n",
       "      <td>Asia</td>\n",
       "      <td>1972</td>\n",
       "      <td>36.088</td>\n",
       "      <td>13079460</td>\n",
       "      <td>739.981106</td>\n",
       "    </tr>\n",
       "    <tr>\n",
       "      <th>5</th>\n",
       "      <td>Afghanistan</td>\n",
       "      <td>Asia</td>\n",
       "      <td>1977</td>\n",
       "      <td>38.438</td>\n",
       "      <td>14880372</td>\n",
       "      <td>786.113360</td>\n",
       "    </tr>\n",
       "    <tr>\n",
       "      <th>6</th>\n",
       "      <td>Afghanistan</td>\n",
       "      <td>Asia</td>\n",
       "      <td>1982</td>\n",
       "      <td>39.854</td>\n",
       "      <td>12881816</td>\n",
       "      <td>978.011439</td>\n",
       "    </tr>\n",
       "    <tr>\n",
       "      <th>7</th>\n",
       "      <td>Afghanistan</td>\n",
       "      <td>Asia</td>\n",
       "      <td>1987</td>\n",
       "      <td>40.822</td>\n",
       "      <td>13867957</td>\n",
       "      <td>852.395945</td>\n",
       "    </tr>\n",
       "    <tr>\n",
       "      <th>8</th>\n",
       "      <td>Afghanistan</td>\n",
       "      <td>Asia</td>\n",
       "      <td>1992</td>\n",
       "      <td>41.674</td>\n",
       "      <td>16317921</td>\n",
       "      <td>649.341395</td>\n",
       "    </tr>\n",
       "    <tr>\n",
       "      <th>9</th>\n",
       "      <td>Afghanistan</td>\n",
       "      <td>Asia</td>\n",
       "      <td>1997</td>\n",
       "      <td>41.763</td>\n",
       "      <td>22227415</td>\n",
       "      <td>635.341351</td>\n",
       "    </tr>\n",
       "    <tr>\n",
       "      <th>10</th>\n",
       "      <td>Afghanistan</td>\n",
       "      <td>Asia</td>\n",
       "      <td>2002</td>\n",
       "      <td>42.129</td>\n",
       "      <td>25268405</td>\n",
       "      <td>726.734055</td>\n",
       "    </tr>\n",
       "    <tr>\n",
       "      <th>11</th>\n",
       "      <td>Afghanistan</td>\n",
       "      <td>Asia</td>\n",
       "      <td>2007</td>\n",
       "      <td>43.828</td>\n",
       "      <td>31889923</td>\n",
       "      <td>974.580338</td>\n",
       "    </tr>\n",
       "  </tbody>\n",
       "</table>\n",
       "</div>"
      ],
      "text/plain": [
       "        country continent  year  lifeExp       pop   gdpPercap\n",
       "0   Afghanistan      Asia  1952   28.801   8425333  779.445314\n",
       "1   Afghanistan      Asia  1957   30.332   9240934  820.853030\n",
       "2   Afghanistan      Asia  1962   31.997  10267083  853.100710\n",
       "3   Afghanistan      Asia  1967   34.020  11537966  836.197138\n",
       "4   Afghanistan      Asia  1972   36.088  13079460  739.981106\n",
       "5   Afghanistan      Asia  1977   38.438  14880372  786.113360\n",
       "6   Afghanistan      Asia  1982   39.854  12881816  978.011439\n",
       "7   Afghanistan      Asia  1987   40.822  13867957  852.395945\n",
       "8   Afghanistan      Asia  1992   41.674  16317921  649.341395\n",
       "9   Afghanistan      Asia  1997   41.763  22227415  635.341351\n",
       "10  Afghanistan      Asia  2002   42.129  25268405  726.734055\n",
       "11  Afghanistan      Asia  2007   43.828  31889923  974.580338"
      ]
     },
     "execution_count": 3,
     "metadata": {},
     "output_type": "execute_result"
    }
   ],
   "source": [
    "# head() 함수는 데이터 프레임 앞쪽 데이터를 지정한 인수 개만큼 출력한다. 기본값은 5\n",
    "gapminder_df.head(12)"
   ]
  },
  {
   "cell_type": "code",
   "execution_count": 4,
   "id": "330270a9",
   "metadata": {
    "scrolled": false
   },
   "outputs": [
    {
     "data": {
      "text/html": [
       "<div>\n",
       "<style scoped>\n",
       "    .dataframe tbody tr th:only-of-type {\n",
       "        vertical-align: middle;\n",
       "    }\n",
       "\n",
       "    .dataframe tbody tr th {\n",
       "        vertical-align: top;\n",
       "    }\n",
       "\n",
       "    .dataframe thead th {\n",
       "        text-align: right;\n",
       "    }\n",
       "</style>\n",
       "<table border=\"1\" class=\"dataframe\">\n",
       "  <thead>\n",
       "    <tr style=\"text-align: right;\">\n",
       "      <th></th>\n",
       "      <th>country</th>\n",
       "      <th>continent</th>\n",
       "      <th>year</th>\n",
       "      <th>lifeExp</th>\n",
       "      <th>pop</th>\n",
       "      <th>gdpPercap</th>\n",
       "    </tr>\n",
       "  </thead>\n",
       "  <tbody>\n",
       "    <tr>\n",
       "      <th>1692</th>\n",
       "      <td>Zimbabwe</td>\n",
       "      <td>Africa</td>\n",
       "      <td>1952</td>\n",
       "      <td>48.451</td>\n",
       "      <td>3080907</td>\n",
       "      <td>406.884115</td>\n",
       "    </tr>\n",
       "    <tr>\n",
       "      <th>1693</th>\n",
       "      <td>Zimbabwe</td>\n",
       "      <td>Africa</td>\n",
       "      <td>1957</td>\n",
       "      <td>50.469</td>\n",
       "      <td>3646340</td>\n",
       "      <td>518.764268</td>\n",
       "    </tr>\n",
       "    <tr>\n",
       "      <th>1694</th>\n",
       "      <td>Zimbabwe</td>\n",
       "      <td>Africa</td>\n",
       "      <td>1962</td>\n",
       "      <td>52.358</td>\n",
       "      <td>4277736</td>\n",
       "      <td>527.272182</td>\n",
       "    </tr>\n",
       "    <tr>\n",
       "      <th>1695</th>\n",
       "      <td>Zimbabwe</td>\n",
       "      <td>Africa</td>\n",
       "      <td>1967</td>\n",
       "      <td>53.995</td>\n",
       "      <td>4995432</td>\n",
       "      <td>569.795071</td>\n",
       "    </tr>\n",
       "    <tr>\n",
       "      <th>1696</th>\n",
       "      <td>Zimbabwe</td>\n",
       "      <td>Africa</td>\n",
       "      <td>1972</td>\n",
       "      <td>55.635</td>\n",
       "      <td>5861135</td>\n",
       "      <td>799.362176</td>\n",
       "    </tr>\n",
       "    <tr>\n",
       "      <th>1697</th>\n",
       "      <td>Zimbabwe</td>\n",
       "      <td>Africa</td>\n",
       "      <td>1977</td>\n",
       "      <td>57.674</td>\n",
       "      <td>6642107</td>\n",
       "      <td>685.587682</td>\n",
       "    </tr>\n",
       "    <tr>\n",
       "      <th>1698</th>\n",
       "      <td>Zimbabwe</td>\n",
       "      <td>Africa</td>\n",
       "      <td>1982</td>\n",
       "      <td>60.363</td>\n",
       "      <td>7636524</td>\n",
       "      <td>788.855041</td>\n",
       "    </tr>\n",
       "    <tr>\n",
       "      <th>1699</th>\n",
       "      <td>Zimbabwe</td>\n",
       "      <td>Africa</td>\n",
       "      <td>1987</td>\n",
       "      <td>62.351</td>\n",
       "      <td>9216418</td>\n",
       "      <td>706.157306</td>\n",
       "    </tr>\n",
       "    <tr>\n",
       "      <th>1700</th>\n",
       "      <td>Zimbabwe</td>\n",
       "      <td>Africa</td>\n",
       "      <td>1992</td>\n",
       "      <td>60.377</td>\n",
       "      <td>10704340</td>\n",
       "      <td>693.420786</td>\n",
       "    </tr>\n",
       "    <tr>\n",
       "      <th>1701</th>\n",
       "      <td>Zimbabwe</td>\n",
       "      <td>Africa</td>\n",
       "      <td>1997</td>\n",
       "      <td>46.809</td>\n",
       "      <td>11404948</td>\n",
       "      <td>792.449960</td>\n",
       "    </tr>\n",
       "    <tr>\n",
       "      <th>1702</th>\n",
       "      <td>Zimbabwe</td>\n",
       "      <td>Africa</td>\n",
       "      <td>2002</td>\n",
       "      <td>39.989</td>\n",
       "      <td>11926563</td>\n",
       "      <td>672.038623</td>\n",
       "    </tr>\n",
       "    <tr>\n",
       "      <th>1703</th>\n",
       "      <td>Zimbabwe</td>\n",
       "      <td>Africa</td>\n",
       "      <td>2007</td>\n",
       "      <td>43.487</td>\n",
       "      <td>12311143</td>\n",
       "      <td>469.709298</td>\n",
       "    </tr>\n",
       "  </tbody>\n",
       "</table>\n",
       "</div>"
      ],
      "text/plain": [
       "       country continent  year  lifeExp       pop   gdpPercap\n",
       "1692  Zimbabwe    Africa  1952   48.451   3080907  406.884115\n",
       "1693  Zimbabwe    Africa  1957   50.469   3646340  518.764268\n",
       "1694  Zimbabwe    Africa  1962   52.358   4277736  527.272182\n",
       "1695  Zimbabwe    Africa  1967   53.995   4995432  569.795071\n",
       "1696  Zimbabwe    Africa  1972   55.635   5861135  799.362176\n",
       "1697  Zimbabwe    Africa  1977   57.674   6642107  685.587682\n",
       "1698  Zimbabwe    Africa  1982   60.363   7636524  788.855041\n",
       "1699  Zimbabwe    Africa  1987   62.351   9216418  706.157306\n",
       "1700  Zimbabwe    Africa  1992   60.377  10704340  693.420786\n",
       "1701  Zimbabwe    Africa  1997   46.809  11404948  792.449960\n",
       "1702  Zimbabwe    Africa  2002   39.989  11926563  672.038623\n",
       "1703  Zimbabwe    Africa  2007   43.487  12311143  469.709298"
      ]
     },
     "execution_count": 4,
     "metadata": {},
     "output_type": "execute_result"
    }
   ],
   "source": [
    "# tail() 함수는 데이터 프레임 뒤쪽 데이터를 지정한 인수 개만큼 출력한다. 기본값은 5\n",
    "gapminder_df.tail(12)"
   ]
  },
  {
   "cell_type": "code",
   "execution_count": 5,
   "id": "df3ade08",
   "metadata": {},
   "outputs": [
    {
     "name": "stdout",
     "output_type": "stream",
     "text": [
      "(1704, 6)\n",
      "1704\n",
      "6\n",
      "Index(['country', 'continent', 'year', 'lifeExp', 'pop', 'gdpPercap'], dtype='object')\n"
     ]
    }
   ],
   "source": [
    "# shape 속성은 데이터 프레임에 저장된 데이터의 행과 열의 크기 정보를 저장하고 있다.\n",
    "print(gapminder_df.shape)\n",
    "print(gapminder_df.shape[0]) # 데이터 프래임의 행(세로)의 개수\n",
    "print(gapminder_df.shape[1]) # 데이터 프래임의 열(가로)의 개수\n",
    "\n",
    "# columns 속성은 데이터 프레임의 열 이름을 저장하고 있다.\n",
    "print(gapminder_df.columns)\n",
    "# country: 국가, continent: 대륙, year: 년도, lifeExp: 평균수명, pop: 인구수, gdpPercap: 1인당 gdp"
   ]
  },
  {
   "cell_type": "code",
   "execution_count": 6,
   "id": "9b0825dd",
   "metadata": {
    "scrolled": true
   },
   "outputs": [
    {
     "name": "stdout",
     "output_type": "stream",
     "text": [
      "country       object\n",
      "continent     object\n",
      "year           int64\n",
      "lifeExp      float64\n",
      "pop            int64\n",
      "gdpPercap    float64\n",
      "dtype: object\n"
     ]
    }
   ],
   "source": [
    "# dtypes 속성은 데이터 프레임을 구성하고 있는 데이터의 자료형을 확인할 수 있다. object=> 문자열\n",
    "print(gapminder_df.dtypes)"
   ]
  },
  {
   "cell_type": "code",
   "execution_count": 7,
   "id": "5909d6a8",
   "metadata": {},
   "outputs": [
    {
     "name": "stdout",
     "output_type": "stream",
     "text": [
      "<class 'pandas.core.frame.DataFrame'>\n",
      "RangeIndex: 1704 entries, 0 to 1703\n",
      "Data columns (total 6 columns):\n",
      " #   Column     Non-Null Count  Dtype  \n",
      "---  ------     --------------  -----  \n",
      " 0   country    1704 non-null   object \n",
      " 1   continent  1704 non-null   object \n",
      " 2   year       1704 non-null   int64  \n",
      " 3   lifeExp    1704 non-null   float64\n",
      " 4   pop        1704 non-null   int64  \n",
      " 5   gdpPercap  1704 non-null   float64\n",
      "dtypes: float64(2), int64(2), object(2)\n",
      "memory usage: 80.0+ KB\n",
      "None\n"
     ]
    }
   ],
   "source": [
    "# info() 함수를 사용하면 dtypes를 사용한 것 보다 좀 더 자세한 내용을 확인할 수 있다.\n",
    "print(gapminder_df.info())"
   ]
  },
  {
   "cell_type": "markdown",
   "id": "505b29bb",
   "metadata": {},
   "source": [
    "열 단위 데이터 추출하기"
   ]
  },
  {
   "cell_type": "code",
   "execution_count": 8,
   "id": "77b3a936",
   "metadata": {},
   "outputs": [
    {
     "name": "stdout",
     "output_type": "stream",
     "text": [
      "<class 'pandas.core.series.Series'>\n",
      "<class 'pandas.core.series.Series'>\n",
      "23.599\n",
      "<class 'pandas.core.series.Series'>\n"
     ]
    }
   ],
   "source": [
    "# 데이터 프레임에서 추출하려면 대괄호와 열 이름을 사용하며 추출한 열은 변수에 저장해서 사용한다.\n",
    "# 1개의 열만 추출하면 시리즈를 얻을 수 있다.\n",
    "country_df = gapminder_df['country'] # 데이터 프레임에서 1개의 열만 얻어오려면 열 이름만 사용하면 된다.\n",
    "print(type(country_df)) # <class 'pandas.core.series.Series'>\n",
    "\n",
    "# get() 메소드의 인수로 열 이름을 지정하면 1개의 열을 얻어올 수 있다.\n",
    "lifeExp_df = gapminder_df.get('lifeExp')\n",
    "print(type(lifeExp_df)) # <class 'pandas.core.series.Series'>\n",
    "print(lifeExp_df.min())\n",
    "\n",
    "country_df = gapminder_df.country # 1개의 열만 얻어올 경우 데이터프레임 이름 뒤에 '.'을 찍고 열 이름만 적어주면 된다.\n",
    "print(type(country_df))"
   ]
  },
  {
   "cell_type": "code",
   "execution_count": 9,
   "id": "8848f320",
   "metadata": {
    "scrolled": false
   },
   "outputs": [
    {
     "name": "stdout",
     "output_type": "stream",
     "text": [
      "<class 'pandas.core.frame.DataFrame'>\n",
      "<class 'pandas.core.frame.DataFrame'>\n"
     ]
    },
    {
     "data": {
      "text/html": [
       "<div>\n",
       "<style scoped>\n",
       "    .dataframe tbody tr th:only-of-type {\n",
       "        vertical-align: middle;\n",
       "    }\n",
       "\n",
       "    .dataframe tbody tr th {\n",
       "        vertical-align: top;\n",
       "    }\n",
       "\n",
       "    .dataframe thead th {\n",
       "        text-align: right;\n",
       "    }\n",
       "</style>\n",
       "<table border=\"1\" class=\"dataframe\">\n",
       "  <thead>\n",
       "    <tr style=\"text-align: right;\">\n",
       "      <th></th>\n",
       "      <th>country</th>\n",
       "      <th>continent</th>\n",
       "    </tr>\n",
       "  </thead>\n",
       "  <tbody>\n",
       "    <tr>\n",
       "      <th>0</th>\n",
       "      <td>Afghanistan</td>\n",
       "      <td>Asia</td>\n",
       "    </tr>\n",
       "    <tr>\n",
       "      <th>1</th>\n",
       "      <td>Afghanistan</td>\n",
       "      <td>Asia</td>\n",
       "    </tr>\n",
       "    <tr>\n",
       "      <th>2</th>\n",
       "      <td>Afghanistan</td>\n",
       "      <td>Asia</td>\n",
       "    </tr>\n",
       "    <tr>\n",
       "      <th>3</th>\n",
       "      <td>Afghanistan</td>\n",
       "      <td>Asia</td>\n",
       "    </tr>\n",
       "    <tr>\n",
       "      <th>4</th>\n",
       "      <td>Afghanistan</td>\n",
       "      <td>Asia</td>\n",
       "    </tr>\n",
       "    <tr>\n",
       "      <th>...</th>\n",
       "      <td>...</td>\n",
       "      <td>...</td>\n",
       "    </tr>\n",
       "    <tr>\n",
       "      <th>1699</th>\n",
       "      <td>Zimbabwe</td>\n",
       "      <td>Africa</td>\n",
       "    </tr>\n",
       "    <tr>\n",
       "      <th>1700</th>\n",
       "      <td>Zimbabwe</td>\n",
       "      <td>Africa</td>\n",
       "    </tr>\n",
       "    <tr>\n",
       "      <th>1701</th>\n",
       "      <td>Zimbabwe</td>\n",
       "      <td>Africa</td>\n",
       "    </tr>\n",
       "    <tr>\n",
       "      <th>1702</th>\n",
       "      <td>Zimbabwe</td>\n",
       "      <td>Africa</td>\n",
       "    </tr>\n",
       "    <tr>\n",
       "      <th>1703</th>\n",
       "      <td>Zimbabwe</td>\n",
       "      <td>Africa</td>\n",
       "    </tr>\n",
       "  </tbody>\n",
       "</table>\n",
       "<p>1704 rows × 2 columns</p>\n",
       "</div>"
      ],
      "text/plain": [
       "          country continent\n",
       "0     Afghanistan      Asia\n",
       "1     Afghanistan      Asia\n",
       "2     Afghanistan      Asia\n",
       "3     Afghanistan      Asia\n",
       "4     Afghanistan      Asia\n",
       "...           ...       ...\n",
       "1699     Zimbabwe    Africa\n",
       "1700     Zimbabwe    Africa\n",
       "1701     Zimbabwe    Africa\n",
       "1702     Zimbabwe    Africa\n",
       "1703     Zimbabwe    Africa\n",
       "\n",
       "[1704 rows x 2 columns]"
      ]
     },
     "execution_count": 9,
     "metadata": {},
     "output_type": "execute_result"
    }
   ],
   "source": [
    "# 2개 이상의 열을 추출하면 데이터 프레임을 얻을 수 있다.\n",
    "# 데이터프레임에서 1개의 열만 얻어오려면 []안에 또는 get() 함수의 인수로 열 이름만 적어주면 되지만,\n",
    "# 2개 이상의 열을 얻어오려면 []안에 반드시 리스트 형태로 열 이름을 적어줘야 한다.\n",
    "subset_df = gapminder_df[['country', 'continent']]\n",
    "print(type(subset_df)) # <class 'pandas.core.frame.DataFrame'>\n",
    "\n",
    "subset_df = gapminder_df.get(['country', 'continent'])\n",
    "print(type(subset_df)) # <class 'pandas.core.frame.DataFrame'>\n",
    "\n",
    "# subset_df = gapminder_df.['country', 'continent'] # 에러, 1개의 열만 얻어올 때 사용해야 한다.\n",
    "subset_df"
   ]
  },
  {
   "cell_type": "code",
   "execution_count": 10,
   "id": "034607b8",
   "metadata": {},
   "outputs": [
    {
     "data": {
      "text/html": [
       "<div>\n",
       "<style scoped>\n",
       "    .dataframe tbody tr th:only-of-type {\n",
       "        vertical-align: middle;\n",
       "    }\n",
       "\n",
       "    .dataframe tbody tr th {\n",
       "        vertical-align: top;\n",
       "    }\n",
       "\n",
       "    .dataframe thead th {\n",
       "        text-align: right;\n",
       "    }\n",
       "</style>\n",
       "<table border=\"1\" class=\"dataframe\">\n",
       "  <thead>\n",
       "    <tr style=\"text-align: right;\">\n",
       "      <th></th>\n",
       "      <th>country</th>\n",
       "      <th>continent</th>\n",
       "    </tr>\n",
       "  </thead>\n",
       "  <tbody>\n",
       "    <tr>\n",
       "      <th>0</th>\n",
       "      <td>Afghanistan</td>\n",
       "      <td>Asia</td>\n",
       "    </tr>\n",
       "    <tr>\n",
       "      <th>1</th>\n",
       "      <td>Afghanistan</td>\n",
       "      <td>Asia</td>\n",
       "    </tr>\n",
       "    <tr>\n",
       "      <th>2</th>\n",
       "      <td>Afghanistan</td>\n",
       "      <td>Asia</td>\n",
       "    </tr>\n",
       "  </tbody>\n",
       "</table>\n",
       "</div>"
      ],
      "text/plain": [
       "       country continent\n",
       "0  Afghanistan      Asia\n",
       "1  Afghanistan      Asia\n",
       "2  Afghanistan      Asia"
      ]
     },
     "execution_count": 10,
     "metadata": {},
     "output_type": "execute_result"
    }
   ],
   "source": [
    "subset_df.head(3)"
   ]
  },
  {
   "cell_type": "code",
   "execution_count": 11,
   "id": "c9b5d88c",
   "metadata": {},
   "outputs": [
    {
     "data": {
      "text/html": [
       "<div>\n",
       "<style scoped>\n",
       "    .dataframe tbody tr th:only-of-type {\n",
       "        vertical-align: middle;\n",
       "    }\n",
       "\n",
       "    .dataframe tbody tr th {\n",
       "        vertical-align: top;\n",
       "    }\n",
       "\n",
       "    .dataframe thead th {\n",
       "        text-align: right;\n",
       "    }\n",
       "</style>\n",
       "<table border=\"1\" class=\"dataframe\">\n",
       "  <thead>\n",
       "    <tr style=\"text-align: right;\">\n",
       "      <th></th>\n",
       "      <th>country</th>\n",
       "      <th>continent</th>\n",
       "    </tr>\n",
       "  </thead>\n",
       "  <tbody>\n",
       "    <tr>\n",
       "      <th>1701</th>\n",
       "      <td>Zimbabwe</td>\n",
       "      <td>Africa</td>\n",
       "    </tr>\n",
       "    <tr>\n",
       "      <th>1702</th>\n",
       "      <td>Zimbabwe</td>\n",
       "      <td>Africa</td>\n",
       "    </tr>\n",
       "    <tr>\n",
       "      <th>1703</th>\n",
       "      <td>Zimbabwe</td>\n",
       "      <td>Africa</td>\n",
       "    </tr>\n",
       "  </tbody>\n",
       "</table>\n",
       "</div>"
      ],
      "text/plain": [
       "       country continent\n",
       "1701  Zimbabwe    Africa\n",
       "1702  Zimbabwe    Africa\n",
       "1703  Zimbabwe    Africa"
      ]
     },
     "execution_count": 11,
     "metadata": {},
     "output_type": "execute_result"
    }
   ],
   "source": [
    "subset_df.tail(3)"
   ]
  },
  {
   "cell_type": "markdown",
   "id": "b84d0ff3",
   "metadata": {},
   "source": [
    "행 단위 데이터 추출하기  \n",
    "loc는 인덱스를 기준으로 행 단위 데이터를 추출하고 iloc는 행 번호를 기준으로 행 단위 데이터를 추출한다."
   ]
  },
  {
   "cell_type": "code",
   "execution_count": 12,
   "id": "bf5ce48e",
   "metadata": {},
   "outputs": [
    {
     "data": {
      "text/html": [
       "<div>\n",
       "<style scoped>\n",
       "    .dataframe tbody tr th:only-of-type {\n",
       "        vertical-align: middle;\n",
       "    }\n",
       "\n",
       "    .dataframe tbody tr th {\n",
       "        vertical-align: top;\n",
       "    }\n",
       "\n",
       "    .dataframe thead th {\n",
       "        text-align: right;\n",
       "    }\n",
       "</style>\n",
       "<table border=\"1\" class=\"dataframe\">\n",
       "  <thead>\n",
       "    <tr style=\"text-align: right;\">\n",
       "      <th></th>\n",
       "      <th>country</th>\n",
       "      <th>continent</th>\n",
       "      <th>year</th>\n",
       "      <th>lifeExp</th>\n",
       "      <th>pop</th>\n",
       "      <th>gdpPercap</th>\n",
       "    </tr>\n",
       "  </thead>\n",
       "  <tbody>\n",
       "    <tr>\n",
       "      <th>0</th>\n",
       "      <td>Afghanistan</td>\n",
       "      <td>Asia</td>\n",
       "      <td>1952</td>\n",
       "      <td>28.801</td>\n",
       "      <td>8425333</td>\n",
       "      <td>779.445314</td>\n",
       "    </tr>\n",
       "    <tr>\n",
       "      <th>1</th>\n",
       "      <td>Afghanistan</td>\n",
       "      <td>Asia</td>\n",
       "      <td>1957</td>\n",
       "      <td>30.332</td>\n",
       "      <td>9240934</td>\n",
       "      <td>820.853030</td>\n",
       "    </tr>\n",
       "    <tr>\n",
       "      <th>2</th>\n",
       "      <td>Afghanistan</td>\n",
       "      <td>Asia</td>\n",
       "      <td>1962</td>\n",
       "      <td>31.997</td>\n",
       "      <td>10267083</td>\n",
       "      <td>853.100710</td>\n",
       "    </tr>\n",
       "    <tr>\n",
       "      <th>3</th>\n",
       "      <td>Afghanistan</td>\n",
       "      <td>Asia</td>\n",
       "      <td>1967</td>\n",
       "      <td>34.020</td>\n",
       "      <td>11537966</td>\n",
       "      <td>836.197138</td>\n",
       "    </tr>\n",
       "    <tr>\n",
       "      <th>4</th>\n",
       "      <td>Afghanistan</td>\n",
       "      <td>Asia</td>\n",
       "      <td>1972</td>\n",
       "      <td>36.088</td>\n",
       "      <td>13079460</td>\n",
       "      <td>739.981106</td>\n",
       "    </tr>\n",
       "  </tbody>\n",
       "</table>\n",
       "</div>"
      ],
      "text/plain": [
       "       country continent  year  lifeExp       pop   gdpPercap\n",
       "0  Afghanistan      Asia  1952   28.801   8425333  779.445314\n",
       "1  Afghanistan      Asia  1957   30.332   9240934  820.853030\n",
       "2  Afghanistan      Asia  1962   31.997  10267083  853.100710\n",
       "3  Afghanistan      Asia  1967   34.020  11537966  836.197138\n",
       "4  Afghanistan      Asia  1972   36.088  13079460  739.981106"
      ]
     },
     "execution_count": 12,
     "metadata": {},
     "output_type": "execute_result"
    }
   ],
   "source": [
    "# 데이터 프레임을 출력했을 때 왼쪽(컬럼 이름이 없는)에 보이는 숫자가 인덱스를 위미하고 행 번호는 데이터의 순서를 의미한다.\n",
    "gapminder_df.head()"
   ]
  },
  {
   "cell_type": "code",
   "execution_count": 13,
   "id": "c09dd554",
   "metadata": {},
   "outputs": [
    {
     "name": "stdout",
     "output_type": "stream",
     "text": [
      "country      Afghanistan\n",
      "continent           Asia\n",
      "year                1952\n",
      "lifeExp           28.801\n",
      "pop              8425333\n",
      "gdpPercap        779.445\n",
      "Name: 0, dtype: object\n",
      "==================================================\n",
      "country      Zimbabwe\n",
      "continent      Africa\n",
      "year             2007\n",
      "lifeExp        43.487\n",
      "pop          12311143\n",
      "gdpPercap     469.709\n",
      "Name: 1703, dtype: object\n",
      "==================================================\n"
     ]
    }
   ],
   "source": [
    "# loc를 사용하면 0 - 1703사이의 값을 이용해서 행 단위 데이터를 추출할 수 있고,\n",
    "# 인덱스가 아닌 -1이나 1704와 같이 인덱스 범위를 벗어나는 인덱스를 지정하면 에러가 발생된다.\n",
    "print(gapminder_df.loc[0])\n",
    "print('=' * 50)\n",
    "\n",
    "print(gapminder_df.loc[1703])\n",
    "print('=' * 50)\n",
    "\n",
    "#print(gapminder_df.loc[-1]) # 인덱스 범위를 벗어나므로 에러가 발생된다.\n",
    "#print(gapminder_df.loc[1704]) # 인덱스 범위를 벗어나므로 에러가 발생된다."
   ]
  },
  {
   "cell_type": "code",
   "execution_count": 14,
   "id": "22dace7a",
   "metadata": {},
   "outputs": [
    {
     "name": "stdout",
     "output_type": "stream",
     "text": [
      "       country continent  year  lifeExp       pop   gdpPercap\n",
      "1703  Zimbabwe    Africa  2007   43.487  12311143  469.709298\n",
      "       country continent  year  lifeExp       pop   gdpPercap\n",
      "1703  Zimbabwe    Africa  2007   43.487  12311143  469.709298\n"
     ]
    }
   ],
   "source": [
    "# 마지막 데이터 추출하기 => tail() 함수를 사용\n",
    "print(gapminder_df.tail(1))\n",
    "gapminder_df_last = gapminder_df.tail(1)\n",
    "print(gapminder_df_last)"
   ]
  },
  {
   "cell_type": "code",
   "execution_count": 15,
   "id": "7cb91dc5",
   "metadata": {},
   "outputs": [
    {
     "name": "stdout",
     "output_type": "stream",
     "text": [
      "(1704, 6)\n",
      "1704\n",
      "country      Zimbabwe\n",
      "continent      Africa\n",
      "year             2007\n",
      "lifeExp        43.487\n",
      "pop          12311143\n",
      "gdpPercap     469.709\n",
      "Name: 1703, dtype: object\n"
     ]
    }
   ],
   "source": [
    "# 마지막 데이터 추출하기 => shape 사용\n",
    "print(gapminder_df.shape)\n",
    "print(gapminder_df.shape[0])\n",
    "print(gapminder_df.loc[gapminder_df.shape[0] - 1])"
   ]
  },
  {
   "cell_type": "code",
   "execution_count": 16,
   "id": "95ecdcf1",
   "metadata": {},
   "outputs": [
    {
     "name": "stdout",
     "output_type": "stream",
     "text": [
      "          country continent  year  lifeExp       pop    gdpPercap\n",
      "0     Afghanistan      Asia  1952   28.801   8425333   779.445314\n",
      "99     Bangladesh      Asia  1967   43.453  62821884   721.186086\n",
      "999      Mongolia      Asia  1967   51.253   1149500  1226.041130\n",
      "1703     Zimbabwe    Africa  2007   43.487  12311143   469.709298\n"
     ]
    }
   ],
   "source": [
    "# 여러 인덱스의 데이터를 한꺼번에 추출하려면 리스트에 추출하려는 데이터의 인덱스를 담아서 loc에 넘겨주면 된다.\n",
    "print(gapminder_df.loc[[0, 99, 999, 1703]])"
   ]
  },
  {
   "cell_type": "code",
   "execution_count": 17,
   "id": "08017207",
   "metadata": {},
   "outputs": [
    {
     "name": "stdout",
     "output_type": "stream",
     "text": [
      "country      Afghanistan\n",
      "continent           Asia\n",
      "year                1952\n",
      "lifeExp           28.801\n",
      "pop              8425333\n",
      "gdpPercap        779.445\n",
      "Name: 0, dtype: object\n",
      "==================================================\n",
      "country      Zimbabwe\n",
      "continent      Africa\n",
      "year             2007\n",
      "lifeExp        43.487\n",
      "pop          12311143\n",
      "gdpPercap     469.709\n",
      "Name: 1703, dtype: object\n",
      "==================================================\n",
      "country      Zimbabwe\n",
      "continent      Africa\n",
      "year             2007\n",
      "lifeExp        43.487\n",
      "pop          12311143\n",
      "gdpPercap     469.709\n",
      "Name: 1703, dtype: object\n",
      "==================================================\n"
     ]
    }
   ],
   "source": [
    "# iloc를 사용하면 0 ~ 1703 사이의 값을 이용해 행 단위 데이터를 추출할 수 있고 1704와 같이 범위를 벗어나는 행 번호를 사용하면 에러가 발생된다.\n",
    "# 음수를 지정하면 뒤부터 역순으로 행 단위의 데이터를 추출할 수 있다.\n",
    "print(gapminder_df.iloc[0])\n",
    "print('=' * 50)\n",
    "\n",
    "print(gapminder_df.iloc[1703])\n",
    "print('=' * 50)\n",
    "\n",
    "print(gapminder_df.iloc[-1])\n",
    "print('=' * 50)\n",
    "\n",
    "# print(gapminder_df.iloc[1704]) # 행 번호 범위를 벗어나므로 에러가 발생된다."
   ]
  },
  {
   "cell_type": "code",
   "execution_count": 18,
   "id": "679c538a",
   "metadata": {},
   "outputs": [
    {
     "name": "stdout",
     "output_type": "stream",
     "text": [
      "          country continent  year  lifeExp       pop    gdpPercap\n",
      "0     Afghanistan      Asia  1952   28.801   8425333   779.445314\n",
      "99     Bangladesh      Asia  1967   43.453  62821884   721.186086\n",
      "999      Mongolia      Asia  1967   51.253   1149500  1226.041130\n",
      "1703     Zimbabwe    Africa  2007   43.487  12311143   469.709298\n"
     ]
    }
   ],
   "source": [
    "# 여러 인덱스의 데이터를 한꺼번에 추출하려면 리스트에 추출하려는 데이터의 인덱스를 담아서 loc에 넘겨주면 된다.\n",
    "print(gapminder_df.iloc[[0, 99, 999, 1703]])"
   ]
  },
  {
   "cell_type": "markdown",
   "id": "f9f58933",
   "metadata": {},
   "source": [
    "loc와 iloc를 자유자재로 사용하려면 추출할 데이터의 행과 열을 지정하는 방법을 알아야 한다.  \n",
    "데이터프레임.loc[[행], [열]], 데이터프레임.iloc[[행], [열]] 방법을 사용해야 하며 슬라이싱이나 range() 함수를 사용하는 방법을 알아야한다"
   ]
  },
  {
   "cell_type": "code",
   "execution_count": 19,
   "id": "4faaaafb",
   "metadata": {
    "scrolled": true
   },
   "outputs": [
    {
     "data": {
      "text/html": [
       "<div>\n",
       "<style scoped>\n",
       "    .dataframe tbody tr th:only-of-type {\n",
       "        vertical-align: middle;\n",
       "    }\n",
       "\n",
       "    .dataframe tbody tr th {\n",
       "        vertical-align: top;\n",
       "    }\n",
       "\n",
       "    .dataframe thead th {\n",
       "        text-align: right;\n",
       "    }\n",
       "</style>\n",
       "<table border=\"1\" class=\"dataframe\">\n",
       "  <thead>\n",
       "    <tr style=\"text-align: right;\">\n",
       "      <th></th>\n",
       "      <th>country</th>\n",
       "      <th>year</th>\n",
       "      <th>pop</th>\n",
       "    </tr>\n",
       "  </thead>\n",
       "  <tbody>\n",
       "    <tr>\n",
       "      <th>0</th>\n",
       "      <td>Afghanistan</td>\n",
       "      <td>1952</td>\n",
       "      <td>8425333</td>\n",
       "    </tr>\n",
       "    <tr>\n",
       "      <th>1</th>\n",
       "      <td>Afghanistan</td>\n",
       "      <td>1957</td>\n",
       "      <td>9240934</td>\n",
       "    </tr>\n",
       "    <tr>\n",
       "      <th>2</th>\n",
       "      <td>Afghanistan</td>\n",
       "      <td>1962</td>\n",
       "      <td>10267083</td>\n",
       "    </tr>\n",
       "    <tr>\n",
       "      <th>3</th>\n",
       "      <td>Afghanistan</td>\n",
       "      <td>1967</td>\n",
       "      <td>11537966</td>\n",
       "    </tr>\n",
       "    <tr>\n",
       "      <th>4</th>\n",
       "      <td>Afghanistan</td>\n",
       "      <td>1972</td>\n",
       "      <td>13079460</td>\n",
       "    </tr>\n",
       "  </tbody>\n",
       "</table>\n",
       "</div>"
      ],
      "text/plain": [
       "       country  year       pop\n",
       "0  Afghanistan  1952   8425333\n",
       "1  Afghanistan  1957   9240934\n",
       "2  Afghanistan  1962  10267083\n",
       "3  Afghanistan  1967  11537966\n",
       "4  Afghanistan  1972  13079460"
      ]
     },
     "execution_count": 19,
     "metadata": {},
     "output_type": "execute_result"
    }
   ],
   "source": [
    "# 슬라이싱\n",
    "# 모든 행(':')의 데이터에 대해 country, year, pop 열을 추출한다.\n",
    "subset = gapminder_df.loc[:, ['country', 'year', 'pop']]\n",
    "subset.head()"
   ]
  },
  {
   "cell_type": "code",
   "execution_count": 20,
   "id": "14b79857",
   "metadata": {},
   "outputs": [],
   "source": [
    "# loc()는 열을 추출할 때 열 이름에 정수 리스트를 전달하면 에러가 발생된다.\n",
    "# subset = gapminder_df.loc[:, [0, 2, 4]] # 에러"
   ]
  },
  {
   "cell_type": "code",
   "execution_count": 21,
   "id": "d1206700",
   "metadata": {},
   "outputs": [
    {
     "data": {
      "text/html": [
       "<div>\n",
       "<style scoped>\n",
       "    .dataframe tbody tr th:only-of-type {\n",
       "        vertical-align: middle;\n",
       "    }\n",
       "\n",
       "    .dataframe tbody tr th {\n",
       "        vertical-align: top;\n",
       "    }\n",
       "\n",
       "    .dataframe thead th {\n",
       "        text-align: right;\n",
       "    }\n",
       "</style>\n",
       "<table border=\"1\" class=\"dataframe\">\n",
       "  <thead>\n",
       "    <tr style=\"text-align: right;\">\n",
       "      <th></th>\n",
       "      <th>country</th>\n",
       "      <th>year</th>\n",
       "      <th>pop</th>\n",
       "    </tr>\n",
       "  </thead>\n",
       "  <tbody>\n",
       "    <tr>\n",
       "      <th>0</th>\n",
       "      <td>Afghanistan</td>\n",
       "      <td>1952</td>\n",
       "      <td>8425333</td>\n",
       "    </tr>\n",
       "    <tr>\n",
       "      <th>1</th>\n",
       "      <td>Afghanistan</td>\n",
       "      <td>1957</td>\n",
       "      <td>9240934</td>\n",
       "    </tr>\n",
       "    <tr>\n",
       "      <th>2</th>\n",
       "      <td>Afghanistan</td>\n",
       "      <td>1962</td>\n",
       "      <td>10267083</td>\n",
       "    </tr>\n",
       "    <tr>\n",
       "      <th>3</th>\n",
       "      <td>Afghanistan</td>\n",
       "      <td>1967</td>\n",
       "      <td>11537966</td>\n",
       "    </tr>\n",
       "    <tr>\n",
       "      <th>4</th>\n",
       "      <td>Afghanistan</td>\n",
       "      <td>1972</td>\n",
       "      <td>13079460</td>\n",
       "    </tr>\n",
       "  </tbody>\n",
       "</table>\n",
       "</div>"
      ],
      "text/plain": [
       "       country  year       pop\n",
       "0  Afghanistan  1952   8425333\n",
       "1  Afghanistan  1957   9240934\n",
       "2  Afghanistan  1962  10267083\n",
       "3  Afghanistan  1967  11537966\n",
       "4  Afghanistan  1972  13079460"
      ]
     },
     "execution_count": 21,
     "metadata": {},
     "output_type": "execute_result"
    }
   ],
   "source": [
    "subset = gapminder_df.iloc[:, [0, 2, 4]]\n",
    "subset.head()"
   ]
  },
  {
   "cell_type": "code",
   "execution_count": 22,
   "id": "6668c671",
   "metadata": {},
   "outputs": [],
   "source": [
    "# iloc는 열을 추출할 때 열 이름에 문자열 리스트를 전달하면 에러가 발생된다.\n",
    "# subset = gapminder_df.iloc[:, ['country', 'year', 'pop']] # 에러"
   ]
  },
  {
   "cell_type": "markdown",
   "id": "ddb41819",
   "metadata": {},
   "source": [
    "range() 함수는 초기치부터 최종치를 넘어가지 않을 때까지 증가치만큼 증가하는 숫자 리스트를 만든다.  \n",
    "range([초기치, ]최종치[, 증가치])  \n",
    "초기치가 생략되면 0이 기본값으로 증가치가 생략되면 1이 가본값으로 사용된다.  \n",
    "range(10)과 range(0, 10)와 range(0, 10, 1)는 같은 표현이다 => 실행 결과 숫자 리스트는 list()를 사용해서 리스트를 만들어야 확인할 수 있다"
   ]
  },
  {
   "cell_type": "code",
   "execution_count": 23,
   "id": "6e172d7d",
   "metadata": {},
   "outputs": [
    {
     "name": "stdout",
     "output_type": "stream",
     "text": [
      "range(0, 10)\n",
      "[0, 1, 2, 3, 4, 5, 6, 7, 8, 9]\n",
      "[0, 1, 2, 3, 4, 5, 6, 7, 8, 9]\n",
      "[0, 1, 2, 3, 4, 5, 6, 7, 8, 9]\n"
     ]
    }
   ],
   "source": [
    "print(range(10))\n",
    "print(list(range(10)))\n",
    "print(list(range(0, 10)))\n",
    "print(list(range(0, 10, 1)))"
   ]
  },
  {
   "cell_type": "code",
   "execution_count": 24,
   "id": "6b0a8bf7",
   "metadata": {},
   "outputs": [
    {
     "data": {
      "text/html": [
       "<div>\n",
       "<style scoped>\n",
       "    .dataframe tbody tr th:only-of-type {\n",
       "        vertical-align: middle;\n",
       "    }\n",
       "\n",
       "    .dataframe tbody tr th {\n",
       "        vertical-align: top;\n",
       "    }\n",
       "\n",
       "    .dataframe thead th {\n",
       "        text-align: right;\n",
       "    }\n",
       "</style>\n",
       "<table border=\"1\" class=\"dataframe\">\n",
       "  <thead>\n",
       "    <tr style=\"text-align: right;\">\n",
       "      <th></th>\n",
       "      <th>country</th>\n",
       "      <th>continent</th>\n",
       "      <th>year</th>\n",
       "      <th>lifeExp</th>\n",
       "      <th>pop</th>\n",
       "    </tr>\n",
       "  </thead>\n",
       "  <tbody>\n",
       "    <tr>\n",
       "      <th>0</th>\n",
       "      <td>Afghanistan</td>\n",
       "      <td>Asia</td>\n",
       "      <td>1952</td>\n",
       "      <td>28.801</td>\n",
       "      <td>8425333</td>\n",
       "    </tr>\n",
       "    <tr>\n",
       "      <th>1</th>\n",
       "      <td>Afghanistan</td>\n",
       "      <td>Asia</td>\n",
       "      <td>1957</td>\n",
       "      <td>30.332</td>\n",
       "      <td>9240934</td>\n",
       "    </tr>\n",
       "    <tr>\n",
       "      <th>2</th>\n",
       "      <td>Afghanistan</td>\n",
       "      <td>Asia</td>\n",
       "      <td>1962</td>\n",
       "      <td>31.997</td>\n",
       "      <td>10267083</td>\n",
       "    </tr>\n",
       "    <tr>\n",
       "      <th>3</th>\n",
       "      <td>Afghanistan</td>\n",
       "      <td>Asia</td>\n",
       "      <td>1967</td>\n",
       "      <td>34.020</td>\n",
       "      <td>11537966</td>\n",
       "    </tr>\n",
       "    <tr>\n",
       "      <th>4</th>\n",
       "      <td>Afghanistan</td>\n",
       "      <td>Asia</td>\n",
       "      <td>1972</td>\n",
       "      <td>36.088</td>\n",
       "      <td>13079460</td>\n",
       "    </tr>\n",
       "  </tbody>\n",
       "</table>\n",
       "</div>"
      ],
      "text/plain": [
       "       country continent  year  lifeExp       pop\n",
       "0  Afghanistan      Asia  1952   28.801   8425333\n",
       "1  Afghanistan      Asia  1957   30.332   9240934\n",
       "2  Afghanistan      Asia  1962   31.997  10267083\n",
       "3  Afghanistan      Asia  1967   34.020  11537966\n",
       "4  Afghanistan      Asia  1972   36.088  13079460"
      ]
     },
     "execution_count": 24,
     "metadata": {},
     "output_type": "execute_result"
    }
   ],
   "source": [
    "subset = gapminder_df.iloc[:, range(5)]\n",
    "subset.head()"
   ]
  },
  {
   "cell_type": "code",
   "execution_count": 25,
   "id": "ac75eeed",
   "metadata": {},
   "outputs": [
    {
     "data": {
      "text/html": [
       "<div>\n",
       "<style scoped>\n",
       "    .dataframe tbody tr th:only-of-type {\n",
       "        vertical-align: middle;\n",
       "    }\n",
       "\n",
       "    .dataframe tbody tr th {\n",
       "        vertical-align: top;\n",
       "    }\n",
       "\n",
       "    .dataframe thead th {\n",
       "        text-align: right;\n",
       "    }\n",
       "</style>\n",
       "<table border=\"1\" class=\"dataframe\">\n",
       "  <thead>\n",
       "    <tr style=\"text-align: right;\">\n",
       "      <th></th>\n",
       "      <th>lifeExp</th>\n",
       "      <th>pop</th>\n",
       "      <th>gdpPercap</th>\n",
       "    </tr>\n",
       "  </thead>\n",
       "  <tbody>\n",
       "    <tr>\n",
       "      <th>0</th>\n",
       "      <td>28.801</td>\n",
       "      <td>8425333</td>\n",
       "      <td>779.445314</td>\n",
       "    </tr>\n",
       "    <tr>\n",
       "      <th>1</th>\n",
       "      <td>30.332</td>\n",
       "      <td>9240934</td>\n",
       "      <td>820.853030</td>\n",
       "    </tr>\n",
       "    <tr>\n",
       "      <th>2</th>\n",
       "      <td>31.997</td>\n",
       "      <td>10267083</td>\n",
       "      <td>853.100710</td>\n",
       "    </tr>\n",
       "    <tr>\n",
       "      <th>3</th>\n",
       "      <td>34.020</td>\n",
       "      <td>11537966</td>\n",
       "      <td>836.197138</td>\n",
       "    </tr>\n",
       "    <tr>\n",
       "      <th>4</th>\n",
       "      <td>36.088</td>\n",
       "      <td>13079460</td>\n",
       "      <td>739.981106</td>\n",
       "    </tr>\n",
       "  </tbody>\n",
       "</table>\n",
       "</div>"
      ],
      "text/plain": [
       "   lifeExp       pop   gdpPercap\n",
       "0   28.801   8425333  779.445314\n",
       "1   30.332   9240934  820.853030\n",
       "2   31.997  10267083  853.100710\n",
       "3   34.020  11537966  836.197138\n",
       "4   36.088  13079460  739.981106"
      ]
     },
     "execution_count": 25,
     "metadata": {},
     "output_type": "execute_result"
    }
   ],
   "source": [
    "subset = gapminder_df.iloc[:, range(3, 6)]\n",
    "subset.head()"
   ]
  },
  {
   "cell_type": "markdown",
   "id": "828e7252",
   "metadata": {},
   "source": [
    "range() 함수보다 슬라이싱을 사용하면 더 간편하게 사용할 수 있다"
   ]
  },
  {
   "cell_type": "code",
   "execution_count": 26,
   "id": "86fb4b7c",
   "metadata": {},
   "outputs": [
    {
     "data": {
      "text/html": [
       "<div>\n",
       "<style scoped>\n",
       "    .dataframe tbody tr th:only-of-type {\n",
       "        vertical-align: middle;\n",
       "    }\n",
       "\n",
       "    .dataframe tbody tr th {\n",
       "        vertical-align: top;\n",
       "    }\n",
       "\n",
       "    .dataframe thead th {\n",
       "        text-align: right;\n",
       "    }\n",
       "</style>\n",
       "<table border=\"1\" class=\"dataframe\">\n",
       "  <thead>\n",
       "    <tr style=\"text-align: right;\">\n",
       "      <th></th>\n",
       "      <th>lifeExp</th>\n",
       "      <th>pop</th>\n",
       "      <th>gdpPercap</th>\n",
       "    </tr>\n",
       "  </thead>\n",
       "  <tbody>\n",
       "    <tr>\n",
       "      <th>0</th>\n",
       "      <td>28.801</td>\n",
       "      <td>8425333</td>\n",
       "      <td>779.445314</td>\n",
       "    </tr>\n",
       "    <tr>\n",
       "      <th>1</th>\n",
       "      <td>30.332</td>\n",
       "      <td>9240934</td>\n",
       "      <td>820.853030</td>\n",
       "    </tr>\n",
       "    <tr>\n",
       "      <th>2</th>\n",
       "      <td>31.997</td>\n",
       "      <td>10267083</td>\n",
       "      <td>853.100710</td>\n",
       "    </tr>\n",
       "    <tr>\n",
       "      <th>3</th>\n",
       "      <td>34.020</td>\n",
       "      <td>11537966</td>\n",
       "      <td>836.197138</td>\n",
       "    </tr>\n",
       "    <tr>\n",
       "      <th>4</th>\n",
       "      <td>36.088</td>\n",
       "      <td>13079460</td>\n",
       "      <td>739.981106</td>\n",
       "    </tr>\n",
       "  </tbody>\n",
       "</table>\n",
       "</div>"
      ],
      "text/plain": [
       "   lifeExp       pop   gdpPercap\n",
       "0   28.801   8425333  779.445314\n",
       "1   30.332   9240934  820.853030\n",
       "2   31.997  10267083  853.100710\n",
       "3   34.020  11537966  836.197138\n",
       "4   36.088  13079460  739.981106"
      ]
     },
     "execution_count": 26,
     "metadata": {},
     "output_type": "execute_result"
    }
   ],
   "source": [
    "# subset = gapminder_df.iloc[:, range(3, 6)]\n",
    "subset = gapminder_df.iloc[:, 3:]\n",
    "subset.head()"
   ]
  },
  {
   "cell_type": "code",
   "execution_count": 27,
   "id": "b3d14d28",
   "metadata": {},
   "outputs": [
    {
     "data": {
      "text/html": [
       "<div>\n",
       "<style scoped>\n",
       "    .dataframe tbody tr th:only-of-type {\n",
       "        vertical-align: middle;\n",
       "    }\n",
       "\n",
       "    .dataframe tbody tr th {\n",
       "        vertical-align: top;\n",
       "    }\n",
       "\n",
       "    .dataframe thead th {\n",
       "        text-align: right;\n",
       "    }\n",
       "</style>\n",
       "<table border=\"1\" class=\"dataframe\">\n",
       "  <thead>\n",
       "    <tr style=\"text-align: right;\">\n",
       "      <th></th>\n",
       "      <th>country</th>\n",
       "      <th>year</th>\n",
       "      <th>pop</th>\n",
       "    </tr>\n",
       "  </thead>\n",
       "  <tbody>\n",
       "    <tr>\n",
       "      <th>0</th>\n",
       "      <td>Afghanistan</td>\n",
       "      <td>1952</td>\n",
       "      <td>8425333</td>\n",
       "    </tr>\n",
       "    <tr>\n",
       "      <th>1</th>\n",
       "      <td>Afghanistan</td>\n",
       "      <td>1957</td>\n",
       "      <td>9240934</td>\n",
       "    </tr>\n",
       "    <tr>\n",
       "      <th>2</th>\n",
       "      <td>Afghanistan</td>\n",
       "      <td>1962</td>\n",
       "      <td>10267083</td>\n",
       "    </tr>\n",
       "    <tr>\n",
       "      <th>3</th>\n",
       "      <td>Afghanistan</td>\n",
       "      <td>1967</td>\n",
       "      <td>11537966</td>\n",
       "    </tr>\n",
       "    <tr>\n",
       "      <th>4</th>\n",
       "      <td>Afghanistan</td>\n",
       "      <td>1972</td>\n",
       "      <td>13079460</td>\n",
       "    </tr>\n",
       "  </tbody>\n",
       "</table>\n",
       "</div>"
      ],
      "text/plain": [
       "       country  year       pop\n",
       "0  Afghanistan  1952   8425333\n",
       "1  Afghanistan  1957   9240934\n",
       "2  Afghanistan  1962  10267083\n",
       "3  Afghanistan  1967  11537966\n",
       "4  Afghanistan  1972  13079460"
      ]
     },
     "execution_count": 27,
     "metadata": {},
     "output_type": "execute_result"
    }
   ],
   "source": [
    "# subset = gapminder_df.iloc[:, range(0, 6, 2)]\n",
    "# [시작:끝] => [:], [시작:끝:증가]\n",
    "subset = gapminder_df.iloc[:, ::2]\n",
    "subset.head()"
   ]
  },
  {
   "cell_type": "markdown",
   "id": "df8fa424",
   "metadata": {},
   "source": [
    "iloc 열 리스트를 정수로 전달하는 방법이 간편해 보일 수 있지만 이렇게 작성한 코드는 나중에 어떤 데이터를 추출하기 위한 코드인지 파악하지 못할 수 있다.  \n",
    "그래서 보통 loc로 열 리스트로 열 이름을 전달하는 방법을 많이 사용한다."
   ]
  },
  {
   "cell_type": "code",
   "execution_count": 28,
   "id": "cec2843a",
   "metadata": {},
   "outputs": [
    {
     "data": {
      "text/html": [
       "<div>\n",
       "<style scoped>\n",
       "    .dataframe tbody tr th:only-of-type {\n",
       "        vertical-align: middle;\n",
       "    }\n",
       "\n",
       "    .dataframe tbody tr th {\n",
       "        vertical-align: top;\n",
       "    }\n",
       "\n",
       "    .dataframe thead th {\n",
       "        text-align: right;\n",
       "    }\n",
       "</style>\n",
       "<table border=\"1\" class=\"dataframe\">\n",
       "  <thead>\n",
       "    <tr style=\"text-align: right;\">\n",
       "      <th></th>\n",
       "      <th>country</th>\n",
       "      <th>lifeExp</th>\n",
       "      <th>gdpPercap</th>\n",
       "    </tr>\n",
       "  </thead>\n",
       "  <tbody>\n",
       "    <tr>\n",
       "      <th>0</th>\n",
       "      <td>Afghanistan</td>\n",
       "      <td>28.801</td>\n",
       "      <td>779.445314</td>\n",
       "    </tr>\n",
       "    <tr>\n",
       "      <th>1</th>\n",
       "      <td>Afghanistan</td>\n",
       "      <td>30.332</td>\n",
       "      <td>820.853030</td>\n",
       "    </tr>\n",
       "    <tr>\n",
       "      <th>2</th>\n",
       "      <td>Afghanistan</td>\n",
       "      <td>31.997</td>\n",
       "      <td>853.100710</td>\n",
       "    </tr>\n",
       "    <tr>\n",
       "      <th>3</th>\n",
       "      <td>Afghanistan</td>\n",
       "      <td>34.020</td>\n",
       "      <td>836.197138</td>\n",
       "    </tr>\n",
       "    <tr>\n",
       "      <th>4</th>\n",
       "      <td>Afghanistan</td>\n",
       "      <td>36.088</td>\n",
       "      <td>739.981106</td>\n",
       "    </tr>\n",
       "  </tbody>\n",
       "</table>\n",
       "</div>"
      ],
      "text/plain": [
       "       country  lifeExp   gdpPercap\n",
       "0  Afghanistan   28.801  779.445314\n",
       "1  Afghanistan   30.332  820.853030\n",
       "2  Afghanistan   31.997  853.100710\n",
       "3  Afghanistan   34.020  836.197138\n",
       "4  Afghanistan   36.088  739.981106"
      ]
     },
     "execution_count": 28,
     "metadata": {},
     "output_type": "execute_result"
    }
   ],
   "source": [
    "gapminder_df.iloc[:, [0, 3, 5]].head()"
   ]
  },
  {
   "cell_type": "code",
   "execution_count": 29,
   "id": "451c0957",
   "metadata": {},
   "outputs": [
    {
     "data": {
      "text/html": [
       "<div>\n",
       "<style scoped>\n",
       "    .dataframe tbody tr th:only-of-type {\n",
       "        vertical-align: middle;\n",
       "    }\n",
       "\n",
       "    .dataframe tbody tr th {\n",
       "        vertical-align: top;\n",
       "    }\n",
       "\n",
       "    .dataframe thead th {\n",
       "        text-align: right;\n",
       "    }\n",
       "</style>\n",
       "<table border=\"1\" class=\"dataframe\">\n",
       "  <thead>\n",
       "    <tr style=\"text-align: right;\">\n",
       "      <th></th>\n",
       "      <th>country</th>\n",
       "      <th>lifeExp</th>\n",
       "      <th>gdpPercap</th>\n",
       "    </tr>\n",
       "  </thead>\n",
       "  <tbody>\n",
       "    <tr>\n",
       "      <th>0</th>\n",
       "      <td>Afghanistan</td>\n",
       "      <td>28.801</td>\n",
       "      <td>779.445314</td>\n",
       "    </tr>\n",
       "    <tr>\n",
       "      <th>1</th>\n",
       "      <td>Afghanistan</td>\n",
       "      <td>30.332</td>\n",
       "      <td>820.853030</td>\n",
       "    </tr>\n",
       "    <tr>\n",
       "      <th>2</th>\n",
       "      <td>Afghanistan</td>\n",
       "      <td>31.997</td>\n",
       "      <td>853.100710</td>\n",
       "    </tr>\n",
       "    <tr>\n",
       "      <th>3</th>\n",
       "      <td>Afghanistan</td>\n",
       "      <td>34.020</td>\n",
       "      <td>836.197138</td>\n",
       "    </tr>\n",
       "    <tr>\n",
       "      <th>4</th>\n",
       "      <td>Afghanistan</td>\n",
       "      <td>36.088</td>\n",
       "      <td>739.981106</td>\n",
       "    </tr>\n",
       "  </tbody>\n",
       "</table>\n",
       "</div>"
      ],
      "text/plain": [
       "       country  lifeExp   gdpPercap\n",
       "0  Afghanistan   28.801  779.445314\n",
       "1  Afghanistan   30.332  820.853030\n",
       "2  Afghanistan   31.997  853.100710\n",
       "3  Afghanistan   34.020  836.197138\n",
       "4  Afghanistan   36.088  739.981106"
      ]
     },
     "execution_count": 29,
     "metadata": {},
     "output_type": "execute_result"
    }
   ],
   "source": [
    "gapminder_df.loc[:, ['country', 'lifeExp', 'gdpPercap']].head()"
   ]
  },
  {
   "cell_type": "markdown",
   "id": "1028e82f",
   "metadata": {},
   "source": [
    "기초적인 통계 계산하기"
   ]
  },
  {
   "cell_type": "code",
   "execution_count": 30,
   "id": "4e94ee1d",
   "metadata": {},
   "outputs": [
    {
     "name": "stdout",
     "output_type": "stream",
     "text": [
      "<pandas.core.groupby.generic.DataFrameGroupBy object at 0x0000029B7E4525F8>\n",
      "<pandas.core.groupby.generic.SeriesGroupBy object at 0x0000029B7E452630>\n",
      "year\n",
      "1952    49.057620\n",
      "1957    51.507401\n",
      "1962    53.609249\n",
      "1967    55.678290\n",
      "1972    57.647386\n",
      "1977    59.570157\n",
      "1982    61.533197\n",
      "1987    63.212613\n",
      "1992    64.160338\n",
      "1997    65.014676\n",
      "2002    65.694923\n",
      "2007    67.007423\n",
      "Name: lifeExp, dtype: float64\n"
     ]
    }
   ],
   "source": [
    "# groupby() 함수를 사용해 year 열로 그룹화하고 평균 수명 열(lifeExp)만 추출한 후 평균(mean()) 함수를 사용해 평균을 계산한다.\n",
    "print(gapminder_df.groupby('year')) # 그룹화\n",
    "print(gapminder_df.groupby('year')['lifeExp']) # 그룹화된 데이터프레임에서 시리즈 추출\n",
    "print(gapminder_df.groupby('year')['lifeExp'].mean())"
   ]
  },
  {
   "cell_type": "code",
   "execution_count": 31,
   "id": "6b4370f9",
   "metadata": {},
   "outputs": [
    {
     "name": "stdout",
     "output_type": "stream",
     "text": [
      "country      year\n",
      "Afghanistan  1952    28.801\n",
      "             1957    30.332\n",
      "             1962    31.997\n",
      "             1967    34.020\n",
      "             1972    36.088\n",
      "                      ...  \n",
      "Zimbabwe     1987    62.351\n",
      "             1992    60.377\n",
      "             1997    46.809\n",
      "             2002    39.989\n",
      "             2007    43.487\n",
      "Name: lifeExp, Length: 1704, dtype: float64\n"
     ]
    }
   ],
   "source": [
    "print(gapminder_df.groupby(['country', 'year'])['lifeExp'].mean())"
   ]
  },
  {
   "cell_type": "markdown",
   "id": "a4b08605",
   "metadata": {},
   "source": [
    "그래프 그리기"
   ]
  },
  {
   "cell_type": "code",
   "execution_count": 32,
   "id": "e036bb20",
   "metadata": {},
   "outputs": [],
   "source": [
    "import matplotlib.pyplot as plt\n",
    "# %matplotlib inline는 쥬피터 노트북에서 그래프를 표시하기 위해 사용하는 매직함수라 한다.\n",
    "# %matplotlib inline"
   ]
  },
  {
   "cell_type": "code",
   "execution_count": 33,
   "id": "be2bf13a",
   "metadata": {},
   "outputs": [],
   "source": [
    "global_yearly_life = gapminder_df.groupby('year')['lifeExp'].mean()"
   ]
  },
  {
   "cell_type": "code",
   "execution_count": 34,
   "id": "dd49ca01",
   "metadata": {},
   "outputs": [
    {
     "data": {
      "text/plain": [
       "year\n",
       "1952    49.057620\n",
       "1957    51.507401\n",
       "1962    53.609249\n",
       "1967    55.678290\n",
       "1972    57.647386\n",
       "1977    59.570157\n",
       "1982    61.533197\n",
       "1987    63.212613\n",
       "1992    64.160338\n",
       "1997    65.014676\n",
       "2002    65.694923\n",
       "2007    67.007423\n",
       "Name: lifeExp, dtype: float64"
      ]
     },
     "execution_count": 34,
     "metadata": {},
     "output_type": "execute_result"
    }
   ],
   "source": [
    "global_yearly_life"
   ]
  },
  {
   "cell_type": "code",
   "execution_count": 35,
   "id": "a9306d22",
   "metadata": {
    "scrolled": false
   },
   "outputs": [
    {
     "data": {
      "image/png": "[encoded data removed]",
      "text/plain": [
       "<Figure size 576x432 with 1 Axes>"
      ]
     },
     "metadata": {
      "needs_background": "light"
     },
     "output_type": "display_data"
    }
   ],
   "source": [
    "plt.figure(figsize=(8, 6))\n",
    "# global_yearly_life.plot()\n",
    "plt.plot(global_yearly_life, 'c--', marker='*')\n",
    "plt.show()"
   ]
  }
 ],
 "metadata": {
  "kernelspec": {
   "display_name": "Python 3",
   "language": "python",
   "name": "python3"
  },
  "language_info": {
   "codemirror_mode": {
    "name": "ipython",
    "version": 3
   },
   "file_extension": ".py",
   "mimetype": "text/x-python",
   "name": "python",
   "nbconvert_exporter": "python",
   "pygments_lexer": "ipython3",
   "version": "3.6.8"
  }
 },
 "nbformat": 4,
 "nbformat_minor": 5
}
