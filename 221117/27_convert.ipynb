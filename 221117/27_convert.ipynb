{
 "cells": [
  {
   "cell_type": "markdown",
   "id": "8bbe4d15",
   "metadata": {},
   "source": [
    "# 진법변환\n",
    "<img src=\"./images/convert.png\" align=\"left\" title=\"소인수분해 이미지\"/>"
   ]
  },
  {
   "cell_type": "markdown",
   "id": "fc314fa5",
   "metadata": {},
   "source": [
    " 10진수를 2진수로 26 => 11010<sub>2"
   ]
  },
  {
   "cell_type": "code",
   "execution_count": 1,
   "id": "f1056532",
   "metadata": {},
   "outputs": [
    {
     "name": "stdout",
     "output_type": "stream",
     "text": [
      "10진수를 입력하세요: 26\n",
      "[1, 1, 0, 1, 0]\n",
      "11010\n"
     ]
    }
   ],
   "source": [
    "d = int(input('10진수를 입력하세요: '))\n",
    "b =  [] # 10진수가 2진수로 변환된 결과를 기억할 빈 리스트를 선언\n",
    "# 입력되는 10진수의 크기에 따라 반복 횟수가 달라지므로 무한 루프를 돌려 처리\n",
    "while True:\n",
    "    m = d // 2 # 10진수를 2로 나눈 몫을 계산\n",
    "    r = d % 2 # 10진수를 2로 나눈 나머지를 계산\n",
    "    b.append(r) # 나머지를 2진수로 변환된 결과를 기억할 리스트에 저장\n",
    "    \n",
    "    # 몫이 0이 되면 진법 변환이 완료된 것이므로 무한 루프를 탈출한다.\n",
    "    if m == 0:\n",
    "        break;\n",
    "    # ===== IF\n",
    "    \n",
    "    # 다음 계산을 위해서 d를 몫으로 수정\n",
    "    d = m\n",
    "# ===== while True\n",
    "print(b[::-1])\n",
    "#b.reverse()\n",
    "#print(b)\n",
    "\n",
    "for i in range(len(b) - 1, -1, -1):\n",
    "    print(b[i], end='')\n",
    "print()"
   ]
  },
  {
   "cell_type": "markdown",
   "id": "ece6a93c",
   "metadata": {},
   "source": [
    "10진수를 8진수로 26 => 32<sub>8"
   ]
  },
  {
   "cell_type": "code",
   "execution_count": 2,
   "id": "da20e147",
   "metadata": {},
   "outputs": [
    {
     "name": "stdout",
     "output_type": "stream",
     "text": [
      "10진수를 입력하세요: 26\n",
      "32\n"
     ]
    }
   ],
   "source": [
    "d = int(input('10진수를 입력하세요: '))\n",
    "o =  []\n",
    "while True:\n",
    "    m = d // 8 \n",
    "    r = d % 8 \n",
    "    o.append(r) \n",
    "    \n",
    "    if m == 0:\n",
    "        break;\n",
    "    d = m\n",
    "\n",
    "for i in range(len(o) - 1, -1, -1):\n",
    "    print(o[i], end='')\n",
    "print()"
   ]
  },
  {
   "cell_type": "markdown",
   "id": "4c9eec32",
   "metadata": {},
   "source": [
    "10진수를 16진수로 26 => 1A<sub>16"
   ]
  },
  {
   "cell_type": "code",
   "execution_count": 3,
   "id": "8f825931",
   "metadata": {},
   "outputs": [
    {
     "name": "stdout",
     "output_type": "stream",
     "text": [
      "10진수를 입력하세요: 26\n",
      "1A\n"
     ]
    }
   ],
   "source": [
    "d = int(input('10진수를 입력하세요: '))\n",
    "h =  []\n",
    "# 16진수를 기억하는 리스트를 만든다.\n",
    "hex16 = ['0', '1', '2', '3', '4', '5', '6', '7', '8', '9', 'A', 'B', 'C', 'D', 'E', 'F']\n",
    "while True:\n",
    "    m = d // 16 \n",
    "    r = d % 16 \n",
    "    h.append(hex16[r]) \n",
    "    \n",
    "    if m == 0:\n",
    "        break;\n",
    "    d = m\n",
    "\n",
    "for i in range(len(h) - 1, -1, -1):\n",
    "    print(h[i], end='')\n",
    "print()"
   ]
  },
  {
   "cell_type": "markdown",
   "id": "53eb4066",
   "metadata": {},
   "source": [
    "10진수를 n진수로"
   ]
  },
  {
   "cell_type": "code",
   "execution_count": 4,
   "id": "e5b66555",
   "metadata": {},
   "outputs": [
    {
     "name": "stdout",
     "output_type": "stream",
     "text": [
      "10진수와 변환할 진법을 입력하세요: 35 36\n",
      "Z\n"
     ]
    }
   ],
   "source": [
    "d, n =  map(int, input('10진수와 변환할 진법을 입력하세요: ').split())\n",
    "c =  []\n",
    "\n",
    "while True:\n",
    "    m = d // n\n",
    "    r = d % n \n",
    "    c.append(r) \n",
    "    \n",
    "    if m == 0:\n",
    "        break;\n",
    "    d = m\n",
    "\n",
    "for i in range(len(c) - 1, -1, -1):\n",
    "    # chr() 인수로 지정된 유니코드에 해당되는 문자를 리턴\n",
    "    print(c[i] if c[i] < 10 else chr(c[i] + 55), end='')\n",
    "print()"
   ]
  }
 ],
 "metadata": {
  "kernelspec": {
   "display_name": "Python 3",
   "language": "python",
   "name": "python3"
  },
  "language_info": {
   "codemirror_mode": {
    "name": "ipython",
    "version": 3
   },
   "file_extension": ".py",
   "mimetype": "text/x-python",
   "name": "python",
   "nbconvert_exporter": "python",
   "pygments_lexer": "ipython3",
   "version": "3.6.8"
  }
 },
 "nbformat": 4,
 "nbformat_minor": 5
}
