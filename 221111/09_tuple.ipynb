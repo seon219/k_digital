{
 "cells": [
  {
   "cell_type": "markdown",
   "id": "fe99f6d2",
   "metadata": {},
   "source": [
    "# 튜플 만들기\n",
    "튜플은 리스트와 거의 비슷하지만 약간의 차이가 있다.  \n",
    "리스트는 데이터를 []로 감싸지만 튜플은 ()로 감싼다.  \n",
    "리스트는 데이터 요소의 수정 및 삭제가 가능하지만 튜플은 불가능하다"
   ]
  },
  {
   "cell_type": "code",
   "execution_count": 1,
   "id": "a5a216ec",
   "metadata": {},
   "outputs": [
    {
     "name": "stdout",
     "output_type": "stream",
     "text": [
      "<class 'tuple'>\n",
      "()\n",
      "================================================================================\n",
      "<class 'tuple'>\n",
      "()\n"
     ]
    }
   ],
   "source": [
    "# 빈 튜플 만들기\n",
    "a = ()\n",
    "print(type(a))\n",
    "print(a)\n",
    "print('=' * 80)\n",
    "\n",
    "# 빈 튜플은 생성자 함수를 사용해서도 만들 수 있다.\n",
    "b = tuple()\n",
    "print(type(b))\n",
    "print(b)"
   ]
  },
  {
   "cell_type": "code",
   "execution_count": 2,
   "id": "c6c72dbf",
   "metadata": {},
   "outputs": [
    {
     "name": "stdout",
     "output_type": "stream",
     "text": [
      "<class 'list'>\n",
      "[1]\n",
      "================================================================================\n",
      "<class 'int'>\n",
      "1\n",
      "================================================================================\n",
      "<class 'tuple'>\n",
      "(1,)\n",
      "================================================================================\n"
     ]
    }
   ],
   "source": [
    "# 데이터가 1개인 리스트\n",
    "a = [1]\n",
    "print(type(a))\n",
    "print(a)\n",
    "print('=' * 80)\n",
    "\n",
    "# 데이터가 1개인 튜플\n",
    "# 데이터가 1개인 튜플을 만들려는 경우 ()만 사용하면 ()를 튜플로 인식하는 것이 아니고,\n",
    "#  일반 연산식의 우선순위 지정에 사용하는 ()로 인식한다.\n",
    "b = (1)\n",
    "print(type(b))\n",
    "print(b)\n",
    "print('=' * 80)\n",
    "\n",
    "# 데이터가 1개인 튜플을 만들려면 ()안의 데이터 뒤에 ','를 반드시 써야 한다.\n",
    "c = (1,)\n",
    "print(type(c))\n",
    "print(c)\n",
    "print('=' * 80)"
   ]
  },
  {
   "cell_type": "code",
   "execution_count": 3,
   "id": "a6c2b44e",
   "metadata": {},
   "outputs": [
    {
     "name": "stdout",
     "output_type": "stream",
     "text": [
      "(1, 2, 3)\n",
      "('a', 'b', 'c')\n",
      "(1, 'a', 2, 'b')\n",
      "('a', 'b', 'c', (1, 2, 3))\n",
      "('a', 'b', 'c', [1, 2, 3])\n",
      "['a', 'b', 'c', (1, 2, 3)]\n"
     ]
    }
   ],
   "source": [
    "# 초기치를 가지는 튜플\n",
    "a = (1, 2, 3)\n",
    "print(a)\n",
    "b = ('a', 'b', 'c')\n",
    "print(b)\n",
    "c = (1, 'a', 2, 'b')\n",
    "print(c)\n",
    "\n",
    "d = ('a', 'b', 'c', (1, 2, 3))\n",
    "print(d)\n",
    "e = ('a', 'b', 'c', [1, 2, 3])\n",
    "print(e)\n",
    "f = ['a', 'b', 'c', (1, 2, 3)]\n",
    "print(f)"
   ]
  },
  {
   "cell_type": "markdown",
   "id": "f343069d",
   "metadata": {},
   "source": [
    "튜플은 리스트와 같이 인덱싱과 슬라이싱이 가능하다"
   ]
  },
  {
   "cell_type": "code",
   "execution_count": 4,
   "id": "9c12c8d9",
   "metadata": {
    "scrolled": true
   },
   "outputs": [
    {
     "name": "stdout",
     "output_type": "stream",
     "text": [
      "('a', 'b', ('ab', 'cd'))\n",
      "a\n",
      "('ab', 'cd')\n",
      "('ab', 'cd')\n",
      "cd\n",
      "('b',)\n",
      "('a', 'b')\n",
      "('b', ('ab', 'cd'))\n",
      "('a', 'b', ('ab', 'cd'))\n",
      "(('ab', 'cd'), 'b', 'a')\n"
     ]
    }
   ],
   "source": [
    "a = ('a', 'b', ('ab', 'cd'))\n",
    "print(a)\n",
    "print(a[0])\n",
    "print(a[2])\n",
    "print(a[-1])\n",
    "print(a[-1][1])\n",
    "print(a[1:2])\n",
    "print(a[:2])\n",
    "print(a[1:])\n",
    "print(a[:])\n",
    "print(a[::-1])"
   ]
  },
  {
   "cell_type": "markdown",
   "id": "6f27222e",
   "metadata": {},
   "source": [
    "튜플은 리스트와 같이 덧셈(연결) 연산과 곱셈(반복) 연산이 가능하다"
   ]
  },
  {
   "cell_type": "code",
   "execution_count": 5,
   "id": "ef366e07",
   "metadata": {},
   "outputs": [
    {
     "name": "stdout",
     "output_type": "stream",
     "text": [
      "(1, 2, 3, 4, 5, 6)\n",
      "(1, 2, 3, 1, 2, 3, 1, 2, 3)\n"
     ]
    }
   ],
   "source": [
    "a = (1, 2, 3)\n",
    "print (a + (4, 5, 6))\n",
    "print (a * 3)"
   ]
  },
  {
   "cell_type": "code",
   "execution_count": 6,
   "id": "d4380f99",
   "metadata": {},
   "outputs": [
    {
     "name": "stdout",
     "output_type": "stream",
     "text": [
      "<class 'tuple'>\n",
      "(1, 2, 3, 4, 5)\n"
     ]
    }
   ],
   "source": [
    "# 튜플을 만들 때 ()로 데이터를 묶지 않고 하나의 변수에 ','로 여러개의 구분해서 튜플로 인식한다.\n",
    "a = 1, 2, 3, 4, 5\n",
    "print(type(a))\n",
    "print(a)"
   ]
  },
  {
   "cell_type": "markdown",
   "id": "d91709c4",
   "metadata": {},
   "source": [
    "튜플은 리스트와 다르게 데이터 수정 및 삭제할 수 없으므로 에러가 발생된다."
   ]
  },
  {
   "cell_type": "code",
   "execution_count": 7,
   "id": "197d4089",
   "metadata": {},
   "outputs": [
    {
     "ename": "TypeError",
     "evalue": "'tuple' object does not support item assignment",
     "output_type": "error",
     "traceback": [
      "\u001b[1;31m---------------------------------------------------------------------------\u001b[0m",
      "\u001b[1;31mTypeError\u001b[0m                                 Traceback (most recent call last)",
      "\u001b[1;32m<ipython-input-7-a3f0e6ed0862>\u001b[0m in \u001b[0;36m<module>\u001b[1;34m\u001b[0m\n\u001b[0;32m      1\u001b[0m \u001b[0ma\u001b[0m \u001b[1;33m=\u001b[0m \u001b[1;36m1\u001b[0m\u001b[1;33m,\u001b[0m \u001b[1;36m2\u001b[0m\u001b[1;33m,\u001b[0m \u001b[1;36m3\u001b[0m\u001b[1;33m,\u001b[0m \u001b[1;36m4\u001b[0m\u001b[1;33m,\u001b[0m \u001b[1;36m5\u001b[0m\u001b[1;33m\u001b[0m\u001b[1;33m\u001b[0m\u001b[0m\n\u001b[1;32m----> 2\u001b[1;33m \u001b[0ma\u001b[0m\u001b[1;33m[\u001b[0m\u001b[1;36m0\u001b[0m\u001b[1;33m]\u001b[0m \u001b[1;33m=\u001b[0m \u001b[1;36m999\u001b[0m \u001b[1;31m# 에러\u001b[0m\u001b[1;33m\u001b[0m\u001b[1;33m\u001b[0m\u001b[0m\n\u001b[0m",
      "\u001b[1;31mTypeError\u001b[0m: 'tuple' object does not support item assignment"
     ]
    }
   ],
   "source": [
    "a = 1, 2, 3, 4, 5\n",
    "a[0] = 999 # 에러"
   ]
  },
  {
   "cell_type": "code",
   "execution_count": 8,
   "id": "c4ec4482",
   "metadata": {},
   "outputs": [
    {
     "ename": "TypeError",
     "evalue": "'tuple' object doesn't support item deletion",
     "output_type": "error",
     "traceback": [
      "\u001b[1;31m---------------------------------------------------------------------------\u001b[0m",
      "\u001b[1;31mTypeError\u001b[0m                                 Traceback (most recent call last)",
      "\u001b[1;32m<ipython-input-8-c61ce6c0b2fa>\u001b[0m in \u001b[0;36m<module>\u001b[1;34m\u001b[0m\n\u001b[0;32m      1\u001b[0m \u001b[0ma\u001b[0m \u001b[1;33m=\u001b[0m \u001b[1;36m1\u001b[0m\u001b[1;33m,\u001b[0m \u001b[1;36m2\u001b[0m\u001b[1;33m,\u001b[0m \u001b[1;36m3\u001b[0m\u001b[1;33m,\u001b[0m \u001b[1;36m4\u001b[0m\u001b[1;33m,\u001b[0m \u001b[1;36m5\u001b[0m\u001b[1;33m\u001b[0m\u001b[1;33m\u001b[0m\u001b[0m\n\u001b[1;32m----> 2\u001b[1;33m \u001b[1;32mdel\u001b[0m \u001b[0ma\u001b[0m\u001b[1;33m[\u001b[0m\u001b[1;36m0\u001b[0m\u001b[1;33m]\u001b[0m \u001b[1;31m# 에러\u001b[0m\u001b[1;33m\u001b[0m\u001b[1;33m\u001b[0m\u001b[0m\n\u001b[0m",
      "\u001b[1;31mTypeError\u001b[0m: 'tuple' object doesn't support item deletion"
     ]
    }
   ],
   "source": [
    "a = 1, 2, 3, 4, 5\n",
    "del a[0] # 에러"
   ]
  },
  {
   "cell_type": "code",
   "execution_count": 9,
   "id": "eb15c23f",
   "metadata": {},
   "outputs": [
    {
     "name": "stdout",
     "output_type": "stream",
     "text": [
      "(1, 2, 3, 4, 5)\n"
     ]
    },
    {
     "ename": "NameError",
     "evalue": "name 'a' is not defined",
     "output_type": "error",
     "traceback": [
      "\u001b[1;31m---------------------------------------------------------------------------\u001b[0m",
      "\u001b[1;31mNameError\u001b[0m                                 Traceback (most recent call last)",
      "\u001b[1;32m<ipython-input-9-d49b3f34f7c3>\u001b[0m in \u001b[0;36m<module>\u001b[1;34m\u001b[0m\n\u001b[0;32m      3\u001b[0m \u001b[0mprint\u001b[0m\u001b[1;33m(\u001b[0m\u001b[0ma\u001b[0m\u001b[1;33m)\u001b[0m\u001b[1;33m\u001b[0m\u001b[1;33m\u001b[0m\u001b[0m\n\u001b[0;32m      4\u001b[0m \u001b[1;32mdel\u001b[0m \u001b[0ma\u001b[0m\u001b[1;33m\u001b[0m\u001b[1;33m\u001b[0m\u001b[0m\n\u001b[1;32m----> 5\u001b[1;33m \u001b[0mprint\u001b[0m\u001b[1;33m(\u001b[0m\u001b[0ma\u001b[0m\u001b[1;33m)\u001b[0m\u001b[1;33m\u001b[0m\u001b[1;33m\u001b[0m\u001b[0m\n\u001b[0m",
      "\u001b[1;31mNameError\u001b[0m: name 'a' is not defined"
     ]
    }
   ],
   "source": [
    "# del 명령을 사용해서 튜플 자체를 삭제하는 것은 가능하다\n",
    "a = 1, 2, 3, 4, 5\n",
    "print(a)\n",
    "del a\n",
    "print(a)"
   ]
  }
 ],
 "metadata": {
  "kernelspec": {
   "display_name": "Python 3",
   "language": "python",
   "name": "python3"
  },
  "language_info": {
   "codemirror_mode": {
    "name": "ipython",
    "version": 3
   },
   "file_extension": ".py",
   "mimetype": "text/x-python",
   "name": "python",
   "nbconvert_exporter": "python",
   "pygments_lexer": "ipython3",
   "version": "3.6.8"
  }
 },
 "nbformat": 4,
 "nbformat_minor": 5
}
