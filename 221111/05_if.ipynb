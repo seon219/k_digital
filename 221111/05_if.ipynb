{
 "cells": [
  {
   "cell_type": "markdown",
   "id": "c42bebbd",
   "metadata": {},
   "source": [
    "# if 명령의 형식\n",
    "if 조건식: \n",
    "&nbsp;&nbsp;&nbsp;&nbsp; 조건식이 참일 경우 실행할 문장  \n",
    "&nbsp;&nbsp;&nbsp;&nbsp; ...  \n",
    "else:  \n",
    "&nbsp;&nbsp;&nbsp;&nbsp; 조건식이 거짓일 경우 실행할 문장  \n",
    "&nbsp;&nbsp;&nbsp;&nbsp; ...  \n",
    "***\n",
    "조건식을 만족하지 않을 때 아무런 일도 할 필요가 없다면 else 이하를 생략할 수 있다.  \n",
    "조건을 만족하는 경우 또는 만족하지 않는 경우에 실행할 문장이 없다면 pass를 입력하면 된다."
   ]
  },
  {
   "cell_type": "markdown",
   "id": "d469ca15",
   "metadata": {},
   "source": [
    "# 관계 연산자\n",
    "&nbsp;<&nbsp;&nbsp;: 작다. 미만  \n",
    "&nbsp;<=&nbsp;: 작거나 같다. 이하  \n",
    "&nbsp;>&nbsp;&nbsp;: 크다. 이하  \n",
    "&nbsp;>=&nbsp;: 크거나 같다. 이하  \n",
    "&nbsp;==&nbsp;: 같다.  \n",
    "&nbsp;!=&nbsp;: 같지 않다.  "
   ]
  },
  {
   "cell_type": "markdown",
   "id": "b7554272",
   "metadata": {},
   "source": [
    "# 논리 연산자\n",
    "and&nbsp;: 논리곱. 두 조건이 모두 참일 경우에만 참. ~이고, ~이면서, ~중에서  \n",
    "or&nbsp;: 논리합. 두 조건 중에서 한 개 이상 참일 경우에 참. ~또는, ~이거나  \n",
    "not&nbsp;: 논리 부정"
   ]
  },
  {
   "cell_type": "markdown",
   "id": "863de935",
   "metadata": {},
   "source": [
    "# 연산자 우선순위\n",
    "단항 연산자 => 이항연산자 => 삼항 연산자 => 대입 연산자('='와 같이 사용한다)  \n",
    "이항 연산자: ** => *, /, //, % => +, - => 관계 연산자 => 논리 연산자(not => and => or)"
   ]
  },
  {
   "cell_type": "code",
   "execution_count": 1,
   "id": "1875d0b2",
   "metadata": {},
   "outputs": [
    {
     "name": "stdout",
     "output_type": "stream",
     "text": [
      "나이를 입력하세요: 18\n",
      "<class 'int'>\n",
      "투표권이 있습니다.\n"
     ]
    }
   ],
   "source": [
    "# 나이를 입력받아 투표권이 있나 없나 판단한다.\n",
    "age = int(input('나이를 입력하세요: '))\n",
    "print(type(age))\n",
    "if age >= 18:\n",
    "    print('투표권이 있습니다.');\n",
    "else :\n",
    "    print('투표권이 없습니다.');"
   ]
  },
  {
   "cell_type": "code",
   "execution_count": 2,
   "id": "03cd0fef",
   "metadata": {
    "scrolled": true
   },
   "outputs": [
    {
     "name": "stdout",
     "output_type": "stream",
     "text": [
      "주민등록번호 13자리를 \"-\" 없이 입력하세요: 8305041020110\n",
      "1\n",
      "<class 'str'>\n",
      "남자\n",
      "남자\n",
      "==================================================\n",
      "남자\n",
      "남자\n",
      "==================================================\n",
      "남자\n"
     ]
    }
   ],
   "source": [
    "# 주민등록번호를 입력받아 성별을 판단한다.\n",
    "jumin = input('주민등록번호 13자리를 \"-\" 없이 입력하세요: ')\n",
    "print(jumin[6])\n",
    "print(type(jumin[6]))\n",
    "\n",
    "# 문자열로 비교\n",
    "if jumin[6] == '1' or jumin[6] == '3' :\n",
    "    print('남자')\n",
    "else :\n",
    "    print('여자')\n",
    "    \n",
    "if jumin[6] in ['1', '3'] : # in 연산자 <=> not in 연산자\n",
    "    print('남자')\n",
    "else :\n",
    "    print('여자')\n",
    "\n",
    "print('=' * 50)\n",
    "# 숫자로 비교\n",
    "if int(jumin[6]) == 1 or int(jumin[6]) == '3':\n",
    "    print('남자')\n",
    "else :\n",
    "    print('여자')\n",
    "    \n",
    "if int(jumin[6]) in [1, 3] : \n",
    "    print('남자')\n",
    "else :\n",
    "    print('여자')\n",
    "    \n",
    "print('=' * 50)\n",
    "# 성별이 홀수면 남자, 짝수면 여자로 비교\n",
    "if int(jumin[6]) % 2 == 1:\n",
    "    print('남자')\n",
    "else:\n",
    "    print('여자')"
   ]
  },
  {
   "cell_type": "code",
   "execution_count": 3,
   "id": "b915970b",
   "metadata": {},
   "outputs": [
    {
     "name": "stdout",
     "output_type": "stream",
     "text": [
      "주민등록번호 13자리를 \"-\" 없이 입력하세요: 8205041020100\n",
      "82\n",
      "당신의 출생 년도는 1982년이고 나이는 40세 입니다.\n"
     ]
    }
   ],
   "source": [
    "# 주민등록번호를 입력받아 나이를 출력한다.\n",
    "jumin = input('주민등록번호 13자리를 \"-\" 없이 입력하세요: ')\n",
    "year = int(jumin[:2])\n",
    "print(year)\n",
    "\n",
    "if jumin[6] <= '2':\n",
    "    year += 1900\n",
    "else : \n",
    "    year += 2000\n",
    "    \n",
    "print('당신의 출생 년도는 {}년이고 나이는 {}세 입니다.'.format(year, 2022 - year))"
   ]
  },
  {
   "cell_type": "code",
   "execution_count": 4,
   "id": "157e3646",
   "metadata": {},
   "outputs": [
    {
     "name": "stdout",
     "output_type": "stream",
     "text": [
      "주민등록번호 13자리를 \"-\" 없이 입력하세요: 8305041020100\n",
      "83\n",
      "당신의 출생 년도는 1983년이고 나이는 39세 입니다.\n",
      "당신의 출생 년도는 1983년이고 나이는 39세 입니다.\n"
     ]
    }
   ],
   "source": [
    "# 주민등록번호를 입력받아 나이를 출력한다.\n",
    "jumin = input('주민등록번호 13자리를 \"-\" 없이 입력하세요: ')\n",
    "year = int(jumin[:2])\n",
    "print(year)\n",
    "\n",
    "# 성별이 2 이하면 1900년대, 그렇지 않으면 200년대에 태어났다.\n",
    "''' \n",
    "if jumin[6] <= '2':\n",
    "    # year = year + 1900\n",
    "    # 대입연산자  \n",
    "    # '='와 같이 사용하는 연산자를 말하며 연산자 우선순위가 가장 늦다. => +=, -=, *=, /=, //=, %=  \n",
    "    year += 1900\n",
    "else :\n",
    "    year += 2000\n",
    "'''\n",
    "# 삼항 연산자(간단한 if ~ else) => C/C++이나 java는 '?:'를 사용한다.\n",
    "# 형식 => 조건이 참일 떄 실행할 문장 if 조건식 else 조건이 거짓일 떄 실행할 문장\n",
    "# year에 1900을 더할 건데 만약에 jumin[6] <= '2' 조건을 만족하지 않는다면 2000을 더할꺼야\n",
    "year += 1900 if jumin[6] <= '2' else 2000\n",
    "\n",
    "print('당신의 출생 년도는 {}년이고 나이는 {}세 입니다.'.format(year, 2022 - year))\n",
    "\n",
    "from datetime import datetime as dt\n",
    "now = dt.now()\n",
    "print('당신의 출생 년도는 {}년이고 나이는 {}세 입니다.'.format(year, now.year - year))"
   ]
  },
  {
   "cell_type": "code",
   "execution_count": 5,
   "id": "418037e7",
   "metadata": {},
   "outputs": [
    {
     "name": "stdout",
     "output_type": "stream",
     "text": [
      "년도를 입력하세요: 2022\n",
      "2022년은 평년\n",
      "2022년은 평년\n"
     ]
    }
   ],
   "source": [
    "# 윤년 평년 판단하기\n",
    "# 년도가 4로 나눠 떨어지고(and) 100으로 나눠 떨어지지 않거나(or) 400으로 나눠떨어지면 윤년, 그렇지 않으면 평년\n",
    "year = int(input('년도를 입력하세요: '))\n",
    "\n",
    "# 프로그램에서 여러번 사용되는 데이터나 연산 결과는 변수에 저장시켜 사용하면 편리하다\n",
    "isLeapYear = year%4 == 0 and year%100 != 0 or year%400 == 0\n",
    "\n",
    "if (year%4 == 0 and year%100 != 0) or year%400 == 0:\n",
    "    print('{}년은 윤년'.format(year))\n",
    "else:\n",
    "    print('{}년은 평년'.format(year))\n",
    "        \n",
    "print('{}년은 {}년'.format(year, '윤' if year%4 == 0 and year%100 != 0 or year%400 == 0 else '평'))"
   ]
  },
  {
   "cell_type": "code",
   "execution_count": 6,
   "id": "f06efd1c",
   "metadata": {},
   "outputs": [
    {
     "name": "stdout",
     "output_type": "stream",
     "text": [
      "세과목의 점수를 입력하세요: 100 80 70\n",
      "총점: 250점, 평균:  83.33점\n",
      "B\n"
     ]
    }
   ],
   "source": [
    "# 세 과목 점수를 입력받아 평균 점수가 90점 이상이면 A, 80점 이상이면 B, 70점 이상이면 C, 60점 이상이면 D, 나머지는 F를 출력\n",
    "a, b, c = map(int, input('세과목의 점수를 입력하세요: ').split())\n",
    "#print(a)\n",
    "#print(type(a))\n",
    "\n",
    "sum = a + b + c\n",
    "avg = sum / 3\n",
    "\n",
    "print('총점: {}점, 평균: {:6.2f}점'.format(sum, avg))\n",
    "\n",
    "if avg >= 90:\n",
    "    print('A');\n",
    "elif avg >= 80:\n",
    "    print('B');\n",
    "elif avg >= 70:\n",
    "    print('C');\n",
    "elif avg >= 60:\n",
    "    print('D');\n",
    "else :\n",
    "    print('F');"
   ]
  },
  {
   "cell_type": "code",
   "execution_count": 7,
   "id": "b7ae4aa3",
   "metadata": {},
   "outputs": [
    {
     "name": "stdout",
     "output_type": "stream",
     "text": [
      "세과목의 점수를 입력하세요: 100 80 70\n",
      "총점: 250점, 평균:  83.33점\n",
      "평균:  83.33점, 등급: B\n"
     ]
    }
   ],
   "source": [
    "# 세 과목 점수를 입력받아 평균 점수가 90점 이상이면 A, 80점 이상이면 B, 70점 이상이면 C, 60점 이상이면 D, 나머지는 F를 출력\n",
    "a, b, c = map(int, input('세과목의 점수를 입력하세요: ').split())\n",
    "#print(a)\n",
    "#print(type(a))\n",
    "\n",
    "sum = a + b + c\n",
    "avg = sum / 3\n",
    "\n",
    "print('총점: {}점, 평균: {:6.2f}점'.format(sum, avg))\n",
    "\n",
    "if avg >= 90:\n",
    "    print('평균: {:6.2f}점, 등급: A'.format(avg));\n",
    "elif avg >= 80:\n",
    "    print('평균: {:6.2f}점, 등급: B'.format(avg));\n",
    "elif avg >= 70:\n",
    "    print('평균: {:6.2f}점, 등급: C'.format(avg));\n",
    "elif avg >= 60:\n",
    "    print('평균: {:6.2f}점, 등급: D'.format(avg));\n",
    "else :\n",
    "    print('평균: {:6.2f}점, 등급: F'.format(avg));"
   ]
  },
  {
   "cell_type": "code",
   "execution_count": 8,
   "id": "788d8d34",
   "metadata": {},
   "outputs": [],
   "source": [
    "# 난수를 발생시키는 random 모음을 import 한다\n",
    "import random "
   ]
  },
  {
   "cell_type": "code",
   "execution_count": 9,
   "id": "d5e3b4de",
   "metadata": {},
   "outputs": [
    {
     "name": "stdout",
     "output_type": "stream",
     "text": [
      "23\n",
      "0.2523085139672038\n",
      "17\n"
     ]
    }
   ],
   "source": [
    "# randint(a, b) 메소드는 a부터 b사이의 난수를 정수로 발생시킨다.\n",
    "print(random.randint(1, 46))\n",
    "# random() 메소드는 0이상이고 1미만인 난수를 실수로 발생\n",
    "print(random.random())\n",
    "# randrange(a, b) 메소드는 a부터 b-1 사이의 난수를 정수로 발생시킨다.\n",
    "print(random.randrange(1, 46))"
   ]
  },
  {
   "cell_type": "code",
   "execution_count": 10,
   "id": "17035ce0",
   "metadata": {
    "scrolled": true
   },
   "outputs": [
    {
     "name": "stdout",
     "output_type": "stream",
     "text": [
      "가위(1), 바위(2), 보(3): 2\n",
      "3\n",
      "졌습니다.\n"
     ]
    }
   ],
   "source": [
    "# 가위(1), 바위(2), 보(3)\n",
    "number = random.randint(1, 3)\n",
    "user = int(input('가위(1), 바위(2), 보(3): '))\n",
    "print(number)\n",
    "\n",
    "if number==user:\n",
    "    print('비겼습니다.')\n",
    "elif (number==1 and user==2) or (number==2 and user==3) or (number==3 and user==1) :\n",
    "    print('이겼습니다.')\n",
    "else :\n",
    "    print('졌습니다.')"
   ]
  }
 ],
 "metadata": {
  "kernelspec": {
   "display_name": "Python 3",
   "language": "python",
   "name": "python3"
  },
  "language_info": {
   "codemirror_mode": {
    "name": "ipython",
    "version": 3
   },
   "file_extension": ".py",
   "mimetype": "text/x-python",
   "name": "python",
   "nbconvert_exporter": "python",
   "pygments_lexer": "ipython3",
   "version": "3.6.8"
  }
 },
 "nbformat": 4,
 "nbformat_minor": 5
}
