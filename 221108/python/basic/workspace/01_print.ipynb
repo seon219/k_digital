{
 "cells": [
  {
   "cell_type": "markdown",
   "id": "34df56b5",
   "metadata": {},
   "source": [
    "# 유용한 단축키\n",
    "자동완성: tab  \n",
    "코드실행: ctrl + enter => 셀 실행  \n",
    "========> shift + enter => 셀 실행 후 다음 셀로 이동  \n",
    "함수 설명보기: shift + tab  \n",
    "현재 셀 위에 빈 셀 삽입 : a  \n",
    "현재 셀 아래에 빈 셀 삽입 : b  \n",
    "현재 셀 삭제 : dd  \n",
    "현재 셀 복사 : c  \n",
    "현재 셀 자르기 : x  \n",
    "현재 셀 아래에 복사 또는 잘라낸 셀 붙여넣기 : v  \n",
    "코드 셀을 마크다운 셀로 바꾸기 : m  \n",
    "마크다운 셀을 코드 셀로 바꾸기 : y  "
   ]
  },
  {
   "cell_type": "code",
   "execution_count": 7,
   "id": "699fc048",
   "metadata": {},
   "outputs": [],
   "source": [
    "# '#'으로 시작되면 1줄 주석 => 컴파일러(번역)나 인터프리터(통역)가 변뎍하지 않는다. => 코드 실행\n",
    "# '''부터 ''' 사이에 코딩하면 범위 주석을 지정할 수 있다."
   ]
  },
  {
   "cell_type": "code",
   "execution_count": 6,
   "id": "53a7a68f",
   "metadata": {
    "scrolled": true
   },
   "outputs": [
    {
     "data": {
      "image/png": "[encoded data removed]",
      "text/plain": [
       "<IPython.core.display.Image object>"
      ]
     },
     "execution_count": 6,
     "metadata": {
      "image/png": {
       "width": "200"
      }
     },
     "output_type": "execute_result"
    }
   ],
   "source": [
    "# jupyter notebook의 코드로 image 넣기\n",
    "from IPython.display import Image\n",
    "Image('./python.png', width='200')"
   ]
  },
  {
   "cell_type": "markdown",
   "id": "e395acdb",
   "metadata": {},
   "source": [
    "마크다운 이미지 넣기\n",
    "![이미지 없음](./python.png \"파이썬 로고 이미지\")"
   ]
  },
  {
   "cell_type": "markdown",
   "id": "e122900c",
   "metadata": {},
   "source": [
    "마크다운 이미지 넣기  \n",
    "<img src = './python.png' align=\"left\" width=\"200\" title=\"파이썬 로고 이미지\">"
   ]
  },
  {
   "cell_type": "code",
   "execution_count": 12,
   "id": "7b832cda",
   "metadata": {
    "scrolled": false
   },
   "outputs": [
    {
     "name": "stdout",
     "output_type": "stream",
     "text": [
      "Hello Python\n",
      "안녕 파이썬\n",
      "제 2외국어를 배운 호랑이가 \"야옹\" 했습니다.\n",
      "제 2외국어를 배운 고양이가 '어흥' 했습니다.\n",
      "제 2외국어를 배운 호랑이가 '야옹' 했습니다.\n",
      "제 2외국어를 배운 고양이가 \"어흥\" 했습니다.\n"
     ]
    }
   ],
   "source": [
    "# 파이썬은 문자열 데이터를 표현할 때 큰따옴표나 작은따옴표로 묶어주면 된다. => 짝만 맞추면 된다.\n",
    "# print() 함수는 별도의 설정을 하지 않으면 ()안의 내용을 출력하고 줄을 바꾼다.\n",
    "print('Hello Python')\n",
    "print('안녕 파이썬')\n",
    "print('제 2외국어를 배운 호랑이가 \"야옹\" 했습니다.')\n",
    "print(\"제 2외국어를 배운 고양이가 '어흥' 했습니다.\")\n",
    "print('제 2외국어를 배운 호랑이가 \\'야옹\\' 했습니다.')\n",
    "print(\"제 2외국어를 배운 고양이가 \\\"어흥\\\" 했습니다.\")"
   ]
  },
  {
   "cell_type": "code",
   "execution_count": 11,
   "id": "ffc6ec3b",
   "metadata": {},
   "outputs": [
    {
     "name": "stdout",
     "output_type": "stream",
     "text": [
      "Hello\n",
      "Python\n",
      "안녕 파이썬\n"
     ]
    }
   ],
   "source": [
    "# print() 함수로 출력 후 줄을 변경하지 않으려면 end 옵션을 사용해야 한다.\n",
    "# end 옵션은 print() 함수로 출력한 후 출력할 내용을 지정한다.\n",
    "# end 옵션을 생략하면 '\\n'이 기본값으로 사용 => '\\n' => new lind => 줄을 바꾼다.\n",
    "print('Hello\\nPython', end='\\n')\n",
    "print('안녕 파이썬')\n",
    "print('Hello\\nPython', end='')\n",
    "print('안녕 파이썬')"
   ]
  },
  {
   "cell_type": "code",
   "execution_count": 14,
   "id": "21e0f1d5",
   "metadata": {},
   "outputs": [
    {
     "name": "stdout",
     "output_type": "stream",
     "text": [
      "Hello Python 안녕 파이썬\n",
      "Hello Python 안녕 파이썬\n",
      "Hello Python, 안녕 파이썬\n",
      "Hello Python|안녕 파이썬\n",
      "Hello Python(^^!)안녕 파이썬\n"
     ]
    }
   ],
   "source": [
    "# print() 함수로 2개 이상의 데이터를 출력하려면 ','로 구분해서 출력하면 된다.\n",
    "# print() 함수로 출력시 ','로 데이터를 구분하면 sep 옵션에서 지정한 구분자가 데이터와 데이터 사이에 출력\n",
    "# sep 옵션을 생략하면 공백이 기본값으로 사용된다.\n",
    "print('Hello Python', '안녕 파이썬')\n",
    "print('Hello Python', '안녕 파이썬', sep=' ')\n",
    "print('Hello Python', '안녕 파이썬', sep=', ')\n",
    "print('Hello Python', '안녕 파이썬', sep='|')\n",
    "print('Hello Python', '안녕 파이썬', sep='(^^!)')"
   ]
  },
  {
   "cell_type": "code",
   "execution_count": null,
   "id": "01a59720",
   "metadata": {},
   "outputs": [],
   "source": []
  },
  {
   "cell_type": "code",
   "execution_count": null,
   "id": "1547ac79",
   "metadata": {},
   "outputs": [],
   "source": []
  },
  {
   "cell_type": "code",
   "execution_count": null,
   "id": "f417891d",
   "metadata": {},
   "outputs": [],
   "source": []
  },
  {
   "cell_type": "code",
   "execution_count": null,
   "id": "24aaa822",
   "metadata": {},
   "outputs": [],
   "source": []
  }
 ],
 "metadata": {
  "kernelspec": {
   "display_name": "Python 3",
   "language": "python",
   "name": "python3"
  },
  "language_info": {
   "codemirror_mode": {
    "name": "ipython",
    "version": 3
   },
   "file_extension": ".py",
   "mimetype": "text/x-python",
   "name": "python",
   "nbconvert_exporter": "python",
   "pygments_lexer": "ipython3",
   "version": "3.6.8"
  }
 },
 "nbformat": 4,
 "nbformat_minor": 5
}
