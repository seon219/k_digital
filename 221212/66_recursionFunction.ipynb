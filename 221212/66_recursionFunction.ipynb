{
 "cells": [
  {
   "cell_type": "code",
   "execution_count": 1,
   "id": "bbc4cbf6",
   "metadata": {},
   "outputs": [],
   "source": [
    "# factorial을 계산하는 일반 함수\n",
    "def factorial(number):\n",
    "    fact = 1\n",
    "    for i in range(1, number + 1):\n",
    "        fact *= i\n",
    "    return fact"
   ]
  },
  {
   "cell_type": "code",
   "execution_count": 2,
   "id": "8998eb22",
   "metadata": {},
   "outputs": [
    {
     "name": "stdout",
     "output_type": "stream",
     "text": [
      "숫자를 입력하세요: 5\n",
      "120\n"
     ]
    }
   ],
   "source": [
    "number = int(input('숫자를 입력하세요: '))\n",
    "fact = factorial(number)\n",
    "print(fact)"
   ]
  },
  {
   "cell_type": "code",
   "execution_count": 3,
   "id": "0bc3cccb",
   "metadata": {},
   "outputs": [],
   "source": [
    "# foctorial을 계산하는 recusion 함수\n",
    "def fectorialRecursion(number):\n",
    "    if number == 1:\n",
    "        return 1\n",
    "    return number * fectorialRecursion(number - 1)"
   ]
  },
  {
   "cell_type": "markdown",
   "id": "7690cdca",
   "metadata": {},
   "source": [
    "number에 5가 넘어왔을 때 함수가 실행되는 순서  \n",
    "5 * fectorialRecursion(4)  \n",
    "5 * (4 * fectorialRecursion(3))  \n",
    "5 * (4 * (3 * fectorialRecursion(2)))  \n",
    "5 * (4 * (3 * (2 * fectorialRecursion(1))))  \n",
    "5 * (4 * (3 * (2 * (1))))  \n",
    "***\n",
    "5 * (4 * (3 * (2 * 1)))  \n",
    "5 * (4 * (3 * 2))  \n",
    "5 * (4 * 6)  \n",
    "5 * 24  "
   ]
  },
  {
   "cell_type": "code",
   "execution_count": 4,
   "id": "595b09c1",
   "metadata": {},
   "outputs": [
    {
     "name": "stdout",
     "output_type": "stream",
     "text": [
      "숫자를 입력하세요: 5\n",
      "120\n"
     ]
    }
   ],
   "source": [
    "number = int(input('숫자를 입력하세요: '))\n",
    "fact = factorial(number)\n",
    "print(fact)"
   ]
  }
 ],
 "metadata": {
  "kernelspec": {
   "display_name": "Python 3",
   "language": "python",
   "name": "python3"
  },
  "language_info": {
   "codemirror_mode": {
    "name": "ipython",
    "version": 3
   },
   "file_extension": ".py",
   "mimetype": "text/x-python",
   "name": "python",
   "nbconvert_exporter": "python",
   "pygments_lexer": "ipython3",
   "version": "3.6.8"
  }
 },
 "nbformat": 4,
 "nbformat_minor": 5
}
