{
 "cells": [
  {
   "cell_type": "code",
   "execution_count": 1,
   "id": "b91c1692",
   "metadata": {},
   "outputs": [],
   "source": [
    "%config Completer.use_jedi = False\n",
    "import warnings\n",
    "warnings.filterwarnings(action='ignore')"
   ]
  },
  {
   "cell_type": "markdown",
   "id": "c2e64413",
   "metadata": {},
   "source": [
    "분류 신경망 실습  \n",
    "신경망을 이용해 와인 종류를 분류하는 모형을 만들어본다."
   ]
  },
  {
   "cell_type": "code",
   "execution_count": 2,
   "id": "2ee044d9",
   "metadata": {},
   "outputs": [],
   "source": [
    "# 일관된 결과값이 나오도록 random seed를 설정한다.\n",
    "import numpy as np\n",
    "import tensorflow as tf\n",
    "np.random.seed(0)\n",
    "tf.random.set_seed(0)"
   ]
  },
  {
   "cell_type": "code",
   "execution_count": 3,
   "id": "25d3e0b2",
   "metadata": {},
   "outputs": [],
   "source": [
    "# 데이터 불러오기\n",
    "from sklearn import datasets # 와인 데이터를 사용하기 위해 import 한다.\n",
    "raw_wine = datasets.load_wine() # 와인 데이터를 불러온다."
   ]
  },
  {
   "cell_type": "code",
   "execution_count": 4,
   "id": "66d72fcf",
   "metadata": {},
   "outputs": [],
   "source": [
    "# 피쳐/타겟 데이터 지정\n",
    "X = raw_wine.data # 와인 피쳐 데이터를 저장한다.\n",
    "y = raw_wine.target # 와인 타겟 데이터를 저장한다."
   ]
  },
  {
   "cell_type": "code",
   "execution_count": 5,
   "id": "4088187d",
   "metadata": {},
   "outputs": [
    {
     "name": "stdout",
     "output_type": "stream",
     "text": [
      "(178, 13)\n"
     ]
    }
   ],
   "source": [
    "# 피처 데이터 차원 확인\n",
    "print(X.shape) # 결과를 확인하면 총 13개의 피쳐가 사용되는데, 이는 신경망을 생성할 때 사용된다."
   ]
  },
  {
   "cell_type": "code",
   "execution_count": 6,
   "id": "5157c3ef",
   "metadata": {},
   "outputs": [
    {
     "name": "stdout",
     "output_type": "stream",
     "text": [
      "{0, 1, 2}\n"
     ]
    }
   ],
   "source": [
    "# 타겟 데이터 종류 확인\n",
    "# 타겟 데이터 종류를 확인함으로써 분류 문제인지 아니면 회귀 문제인지 파악할 수 있고, 분류 문제라면 몇 가지 클래스로\n",
    "# 구분되는지 알 수 있다.\n",
    "print(set(y))"
   ]
  },
  {
   "cell_type": "code",
   "execution_count": 7,
   "id": "34c4a928",
   "metadata": {
    "scrolled": true
   },
   "outputs": [
    {
     "name": "stdout",
     "output_type": "stream",
     "text": [
      "[[1. 0. 0.]\n",
      " [1. 0. 0.]\n",
      " [1. 0. 0.]\n",
      " [1. 0. 0.]\n",
      " [1. 0. 0.]\n",
      " [1. 0. 0.]\n",
      " [1. 0. 0.]\n",
      " [1. 0. 0.]\n",
      " [1. 0. 0.]\n",
      " [1. 0. 0.]\n",
      " [1. 0. 0.]\n",
      " [1. 0. 0.]\n",
      " [1. 0. 0.]\n",
      " [1. 0. 0.]\n",
      " [1. 0. 0.]\n",
      " [1. 0. 0.]\n",
      " [1. 0. 0.]\n",
      " [1. 0. 0.]\n",
      " [1. 0. 0.]\n",
      " [1. 0. 0.]\n",
      " [1. 0. 0.]\n",
      " [1. 0. 0.]\n",
      " [1. 0. 0.]\n",
      " [1. 0. 0.]\n",
      " [1. 0. 0.]\n",
      " [1. 0. 0.]\n",
      " [1. 0. 0.]\n",
      " [1. 0. 0.]\n",
      " [1. 0. 0.]\n",
      " [1. 0. 0.]\n",
      " [1. 0. 0.]\n",
      " [1. 0. 0.]\n",
      " [1. 0. 0.]\n",
      " [1. 0. 0.]\n",
      " [1. 0. 0.]\n",
      " [1. 0. 0.]\n",
      " [1. 0. 0.]\n",
      " [1. 0. 0.]\n",
      " [1. 0. 0.]\n",
      " [1. 0. 0.]\n",
      " [1. 0. 0.]\n",
      " [1. 0. 0.]\n",
      " [1. 0. 0.]\n",
      " [1. 0. 0.]\n",
      " [1. 0. 0.]\n",
      " [1. 0. 0.]\n",
      " [1. 0. 0.]\n",
      " [1. 0. 0.]\n",
      " [1. 0. 0.]\n",
      " [1. 0. 0.]\n",
      " [1. 0. 0.]\n",
      " [1. 0. 0.]\n",
      " [1. 0. 0.]\n",
      " [1. 0. 0.]\n",
      " [1. 0. 0.]\n",
      " [1. 0. 0.]\n",
      " [1. 0. 0.]\n",
      " [1. 0. 0.]\n",
      " [1. 0. 0.]\n",
      " [0. 1. 0.]\n",
      " [0. 1. 0.]\n",
      " [0. 1. 0.]\n",
      " [0. 1. 0.]\n",
      " [0. 1. 0.]\n",
      " [0. 1. 0.]\n",
      " [0. 1. 0.]\n",
      " [0. 1. 0.]\n",
      " [0. 1. 0.]\n",
      " [0. 1. 0.]\n",
      " [0. 1. 0.]\n",
      " [0. 1. 0.]\n",
      " [0. 1. 0.]\n",
      " [0. 1. 0.]\n",
      " [0. 1. 0.]\n",
      " [0. 1. 0.]\n",
      " [0. 1. 0.]\n",
      " [0. 1. 0.]\n",
      " [0. 1. 0.]\n",
      " [0. 1. 0.]\n",
      " [0. 1. 0.]\n",
      " [0. 1. 0.]\n",
      " [0. 1. 0.]\n",
      " [0. 1. 0.]\n",
      " [0. 1. 0.]\n",
      " [0. 1. 0.]\n",
      " [0. 1. 0.]\n",
      " [0. 1. 0.]\n",
      " [0. 1. 0.]\n",
      " [0. 1. 0.]\n",
      " [0. 1. 0.]\n",
      " [0. 1. 0.]\n",
      " [0. 1. 0.]\n",
      " [0. 1. 0.]\n",
      " [0. 1. 0.]\n",
      " [0. 1. 0.]\n",
      " [0. 1. 0.]\n",
      " [0. 1. 0.]\n",
      " [0. 1. 0.]\n",
      " [0. 1. 0.]\n",
      " [0. 1. 0.]\n",
      " [0. 1. 0.]\n",
      " [0. 1. 0.]\n",
      " [0. 1. 0.]\n",
      " [0. 1. 0.]\n",
      " [0. 1. 0.]\n",
      " [0. 1. 0.]\n",
      " [0. 1. 0.]\n",
      " [0. 1. 0.]\n",
      " [0. 1. 0.]\n",
      " [0. 1. 0.]\n",
      " [0. 1. 0.]\n",
      " [0. 1. 0.]\n",
      " [0. 1. 0.]\n",
      " [0. 1. 0.]\n",
      " [0. 1. 0.]\n",
      " [0. 1. 0.]\n",
      " [0. 1. 0.]\n",
      " [0. 1. 0.]\n",
      " [0. 1. 0.]\n",
      " [0. 1. 0.]\n",
      " [0. 1. 0.]\n",
      " [0. 1. 0.]\n",
      " [0. 1. 0.]\n",
      " [0. 1. 0.]\n",
      " [0. 1. 0.]\n",
      " [0. 1. 0.]\n",
      " [0. 1. 0.]\n",
      " [0. 1. 0.]\n",
      " [0. 1. 0.]\n",
      " [0. 1. 0.]\n",
      " [0. 0. 1.]\n",
      " [0. 0. 1.]\n",
      " [0. 0. 1.]\n",
      " [0. 0. 1.]\n",
      " [0. 0. 1.]\n",
      " [0. 0. 1.]\n",
      " [0. 0. 1.]\n",
      " [0. 0. 1.]\n",
      " [0. 0. 1.]\n",
      " [0. 0. 1.]\n",
      " [0. 0. 1.]\n",
      " [0. 0. 1.]\n",
      " [0. 0. 1.]\n",
      " [0. 0. 1.]\n",
      " [0. 0. 1.]\n",
      " [0. 0. 1.]\n",
      " [0. 0. 1.]\n",
      " [0. 0. 1.]\n",
      " [0. 0. 1.]\n",
      " [0. 0. 1.]\n",
      " [0. 0. 1.]\n",
      " [0. 0. 1.]\n",
      " [0. 0. 1.]\n",
      " [0. 0. 1.]\n",
      " [0. 0. 1.]\n",
      " [0. 0. 1.]\n",
      " [0. 0. 1.]\n",
      " [0. 0. 1.]\n",
      " [0. 0. 1.]\n",
      " [0. 0. 1.]\n",
      " [0. 0. 1.]\n",
      " [0. 0. 1.]\n",
      " [0. 0. 1.]\n",
      " [0. 0. 1.]\n",
      " [0. 0. 1.]\n",
      " [0. 0. 1.]\n",
      " [0. 0. 1.]\n",
      " [0. 0. 1.]\n",
      " [0. 0. 1.]\n",
      " [0. 0. 1.]\n",
      " [0. 0. 1.]\n",
      " [0. 0. 1.]\n",
      " [0. 0. 1.]\n",
      " [0. 0. 1.]\n",
      " [0. 0. 1.]\n",
      " [0. 0. 1.]\n",
      " [0. 0. 1.]\n",
      " [0. 0. 1.]]\n"
     ]
    }
   ],
   "source": [
    "# 타겟 데이터 원-핫 인코딩\n",
    "from tensorflow.keras.utils import to_categorical # 원-핫 인코딩을 사용하기 위해 import 한다.\n",
    "y_hot = to_categorical(y) # 타겟 데이터를 넣고 원-핫 인코딩을 실행한다.\n",
    "print(y_hot)"
   ]
  },
  {
   "cell_type": "code",
   "execution_count": 8,
   "id": "84bdf447",
   "metadata": {},
   "outputs": [
    {
     "name": "stdout",
     "output_type": "stream",
     "text": [
      "(133, 13) (45, 13)\n"
     ]
    }
   ],
   "source": [
    "# 트레이닝/테스트 데이터 분할\n",
    "from sklearn.model_selection import train_test_split # 트레이닝/테스트 데이터 분할을 위해 import 한다.\n",
    "# 피쳐 데이터와 원-핫 인코딩된 타겟 데이터를 트레이닝 데이터와 테스트 데이터로 분할한다.\n",
    "X_tn, X_te, y_tn, y_te = train_test_split(X, y_hot, random_state=0)\n",
    "print(X_tn.shape, X_te.shape)"
   ]
  },
  {
   "cell_type": "code",
   "execution_count": 9,
   "id": "2a36632d",
   "metadata": {},
   "outputs": [],
   "source": [
    "# 시퀀스 API 신경망 생성\n",
    "from tensorflow.keras.models import Sequential # 시퀀스 API 신경망 생성하기 위해 import 한다.\n",
    "# from tensorflow.keras.layers import Dense # 신경망에 추가할 layer를 생성하기 위해 import 한다.\n",
    "# from tensorflow.keras.layers import BatchNormalization # 배치 정규화를 하기 위해 import 한다.\n",
    "# from tensorflow.keras.layers import Activation # 활성화 함수 layer를 생성하기 위해 import 한다.\n",
    "from tensorflow.keras.layers import Dense, BatchNormalization, Activation\n",
    "\n",
    "# 신경망에 사용되는 피쳐 개수(n)와 클래스 개수(c)를 저장한다.\n",
    "n = X_tn.shape[1]\n",
    "c = len(set(y))\n",
    "# print('피쳐 개수: {}, 클래스 개수: {}'.format(n, c))\n",
    "e = 30 # 학습 횟수를 의미하는 epoch 값을 설정한다."
   ]
  },
  {
   "cell_type": "markdown",
   "id": "660a237e",
   "metadata": {},
   "source": [
    "batch size: 하나의 미니 배치에 속하는 데이터의 개수  \n",
    "epoch: 전체 트레이닝 데이터셋이 신경망을 통과한 횟수  \n",
    "iteration(반복): 1 epoch를 마치는데 필요한 미니 배치 개수"
   ]
  },
  {
   "cell_type": "code",
   "execution_count": 10,
   "id": "8c1aa739",
   "metadata": {},
   "outputs": [
    {
     "name": "stdout",
     "output_type": "stream",
     "text": [
      "Model: \"sequential\"\n",
      "_________________________________________________________________\n",
      "Layer (type)                 Output Shape              Param #   \n",
      "=================================================================\n",
      "dense (Dense)                (None, 20)                280       \n",
      "_________________________________________________________________\n",
      "batch_normalization (BatchNo (None, 20)                80        \n",
      "_________________________________________________________________\n",
      "activation (Activation)      (None, 20)                0         \n",
      "_________________________________________________________________\n",
      "dense_1 (Dense)              (None, 3)                 63        \n",
      "_________________________________________________________________\n",
      "activation_1 (Activation)    (None, 3)                 0         \n",
      "=================================================================\n",
      "Total params: 423\n",
      "Trainable params: 383\n",
      "Non-trainable params: 40\n",
      "_________________________________________________________________\n"
     ]
    }
   ],
   "source": [
    "# Sequential()로 신경망 모형을 만들고 add() 함수를 이용해서 layer를 추가한다.\n",
    "model = Sequential() # 신경망 모델을 만든다.\n",
    "# units 옵션으로 출력 차원, input_dim 옵션으로 입력 데이터(피쳐) 차원을 지정해서 입력 layer를 만든다.\n",
    "model.add(Dense(units=20, input_dim=n)) # 입력 layer를 만든다.\n",
    "model.add(BatchNormalization()) # 배치 정규화를 실행한다.\n",
    "model.add(Activation('relu')) # 활성화 함수를 relu로 지정한다.\n",
    "model.add(Dense(units=c)) # 출력 layer를 만든다. 구분해야 할 클래스 개수만큼 출력 노드 개수로 설정한다.\n",
    "model.add(Activation('softmax')) # 활성화 함수를 softmax로 지정한다.\n",
    "model.summary()"
   ]
  },
  {
   "cell_type": "code",
   "execution_count": 11,
   "id": "a69616ff",
   "metadata": {},
   "outputs": [],
   "source": [
    "# 모형 컴파일\n",
    "# loss 옵션으로 손실 함수를 지정하는데, 이진 분류 문제에서는 binary_crossentropy를 지정하고, 3개 아상의 클래스로\n",
    "# 분류하는 다중 분류 문제에서는 categorical_crossentropy를 지정한다.\n",
    "# optimizer 옵션으로 최적화 함수(optimizer)를 지정하고 metrics 옵션으로 평가 기준을 지정한다.\n",
    "model.compile(loss='categorical_crossentropy', optimizer='adam', metrics=['accuracy'])"
   ]
  },
  {
   "cell_type": "code",
   "execution_count": 12,
   "id": "5e993e35",
   "metadata": {
    "scrolled": true
   },
   "outputs": [
    {
     "name": "stdout",
     "output_type": "stream",
     "text": [
      "Epoch 1/30\n",
      "27/27 [==============================] - 2s 1ms/step - loss: 1.9798 - accuracy: 0.3459\n",
      "Epoch 2/30\n",
      "27/27 [==============================] - 0s 1ms/step - loss: 1.6155 - accuracy: 0.3835\n",
      "Epoch 3/30\n",
      "27/27 [==============================] - 0s 1ms/step - loss: 1.2918 - accuracy: 0.3985\n",
      "Epoch 4/30\n",
      "27/27 [==============================] - 0s 1ms/step - loss: 1.0279 - accuracy: 0.4436\n",
      "Epoch 5/30\n",
      "27/27 [==============================] - 0s 1ms/step - loss: 0.9092 - accuracy: 0.5263\n",
      "Epoch 6/30\n",
      "27/27 [==============================] - 0s 1ms/step - loss: 0.8728 - accuracy: 0.6015\n",
      "Epoch 7/30\n",
      "27/27 [==============================] - 0s 1ms/step - loss: 0.8734 - accuracy: 0.5639\n",
      "Epoch 8/30\n",
      "27/27 [==============================] - 0s 1ms/step - loss: 0.7951 - accuracy: 0.6241\n",
      "Epoch 9/30\n",
      "27/27 [==============================] - 0s 1ms/step - loss: 0.8200 - accuracy: 0.5940\n",
      "Epoch 10/30\n",
      "27/27 [==============================] - 0s 1ms/step - loss: 0.7862 - accuracy: 0.6165\n",
      "Epoch 11/30\n",
      "27/27 [==============================] - 0s 1ms/step - loss: 0.7411 - accuracy: 0.6617\n",
      "Epoch 12/30\n",
      "27/27 [==============================] - 0s 1ms/step - loss: 0.7207 - accuracy: 0.6842\n",
      "Epoch 13/30\n",
      "27/27 [==============================] - 0s 1ms/step - loss: 0.7284 - accuracy: 0.6842\n",
      "Epoch 14/30\n",
      "27/27 [==============================] - 0s 1ms/step - loss: 0.7209 - accuracy: 0.6992\n",
      "Epoch 15/30\n",
      "27/27 [==============================] - 0s 1ms/step - loss: 0.6617 - accuracy: 0.7143\n",
      "Epoch 16/30\n",
      "27/27 [==============================] - 0s 1ms/step - loss: 0.6384 - accuracy: 0.7744\n",
      "Epoch 17/30\n",
      "27/27 [==============================] - 0s 1ms/step - loss: 0.6167 - accuracy: 0.7519\n",
      "Epoch 18/30\n",
      "27/27 [==============================] - 0s 1ms/step - loss: 0.6318 - accuracy: 0.7519\n",
      "Epoch 19/30\n",
      "27/27 [==============================] - 0s 1ms/step - loss: 0.7050 - accuracy: 0.7444\n",
      "Epoch 20/30\n",
      "27/27 [==============================] - 0s 1ms/step - loss: 0.5679 - accuracy: 0.7895\n",
      "Epoch 21/30\n",
      "27/27 [==============================] - 0s 2ms/step - loss: 0.5816 - accuracy: 0.7970\n",
      "Epoch 22/30\n",
      "27/27 [==============================] - 0s 2ms/step - loss: 0.5676 - accuracy: 0.7669\n",
      "Epoch 23/30\n",
      "27/27 [==============================] - 0s 1ms/step - loss: 0.4883 - accuracy: 0.8421\n",
      "Epoch 24/30\n",
      "27/27 [==============================] - 0s 1ms/step - loss: 0.5764 - accuracy: 0.8271\n",
      "Epoch 25/30\n",
      "27/27 [==============================] - 0s 1ms/step - loss: 0.5072 - accuracy: 0.8271\n",
      "Epoch 26/30\n",
      "27/27 [==============================] - 0s 1ms/step - loss: 0.4827 - accuracy: 0.8271\n",
      "Epoch 27/30\n",
      "27/27 [==============================] - 0s 1ms/step - loss: 0.4284 - accuracy: 0.8496\n",
      "Epoch 28/30\n",
      "27/27 [==============================] - 0s 1ms/step - loss: 0.4656 - accuracy: 0.8421\n",
      "Epoch 29/30\n",
      "27/27 [==============================] - 0s 1ms/step - loss: 0.4603 - accuracy: 0.8271\n",
      "Epoch 30/30\n",
      "27/27 [==============================] - 0s 1ms/step - loss: 0.4337 - accuracy: 0.8571\n"
     ]
    }
   ],
   "source": [
    "# 신경망 학습\n",
    "# 트레이팅 데이터(X_tn), 트레이팅 데이터에 따른 타겟 데이터(y_tn), epoch, batch_size\n",
    "hist = model.fit(X_tn, y_tn, epochs=e, batch_size=5)"
   ]
  },
  {
   "cell_type": "code",
   "execution_count": 13,
   "id": "8ad07338",
   "metadata": {},
   "outputs": [
    {
     "name": "stdout",
     "output_type": "stream",
     "text": [
      "5/5 [==============================] - 0s 1ms/step - loss: 0.5509 - accuracy: 0.7669\n",
      "[0.5508796572685242, 0.7669172883033752]\n",
      "2/2 [==============================] - 0s 2ms/step - loss: 0.5008 - accuracy: 0.8667\n",
      "[0.5007778406143188, 0.8666666746139526]\n"
     ]
    }
   ],
   "source": [
    "# 학습 평가\n",
    "print(model.evaluate(X_tn, y_tn)) # 트레이닝 데이터 학습 평가\n",
    "print(model.evaluate(X_te, y_te)) # 테스트 데이터 학습 평가"
   ]
  },
  {
   "cell_type": "code",
   "execution_count": 14,
   "id": "86cc43d0",
   "metadata": {},
   "outputs": [
    {
     "name": "stdout",
     "output_type": "stream",
     "text": [
      "[ 1  2  3  4  5  6  7  8  9 10 11 12 13 14 15 16 17 18 19 20 21 22 23 24\n",
      " 25 26 27 28 29 30]\n",
      "[0.3458646535873413, 0.3834586441516876, 0.39849624037742615, 0.4436090290546417, 0.5263158082962036, 0.6015037298202515, 0.5639097690582275, 0.6240601539611816, 0.5939849615097046, 0.61654132604599, 0.6616541147232056, 0.6842105388641357, 0.6842105388641357, 0.6992481350898743, 0.7142857313156128, 0.7744361162185669, 0.7518796920776367, 0.7518796920776367, 0.7443609237670898, 0.7894737124443054, 0.7969924807548523, 0.7669172883033752, 0.8421052694320679, 0.8270676732063293, 0.8270676732063293, 0.8270676732063293, 0.8496240377426147, 0.8421052694320679, 0.8270676732063293, 0.8571428656578064]\n",
      "[1.979773998260498, 1.6155288219451904, 1.2918164730072021, 1.0279443264007568, 0.9091539978981018, 0.8727607727050781, 0.873351514339447, 0.7951135635375977, 0.8200010061264038, 0.7861722111701965, 0.7411399483680725, 0.7207075953483582, 0.7284014821052551, 0.7208660244941711, 0.6616865396499634, 0.6384438276290894, 0.6166804432868958, 0.6318175792694092, 0.704966127872467, 0.5679482221603394, 0.5816115736961365, 0.5675511956214905, 0.488301157951355, 0.5763712525367737, 0.5072324275970459, 0.4827423095703125, 0.42841485142707825, 0.46561071276664734, 0.4602752923965454, 0.4336509108543396]\n"
     ]
    }
   ],
   "source": [
    "# 정확도 및 손실 정도 시각화 준비\n",
    "epoch = np.arange(1, e + 1)\n",
    "print(epoch)\n",
    "accuracy = hist.history['accuracy']\n",
    "print(accuracy)\n",
    "loss = hist.history['loss']\n",
    "print(loss)"
   ]
  },
  {
   "cell_type": "code",
   "execution_count": 15,
   "id": "f4c1d513",
   "metadata": {},
   "outputs": [
    {
     "data": {
      "image/png": "[encoded data removed]",
      "text/plain": [
       "<Figure size 576x432 with 1 Axes>"
      ]
     },
     "metadata": {
      "needs_background": "light"
     },
     "output_type": "display_data"
    }
   ],
   "source": [
    "# 학습 정확도 그래프\n",
    "import matplotlib.pyplot as plt\n",
    "plt.figure(figsize=[8, 6])\n",
    "plt.plot(epoch, accuracy, label='accuracy')\n",
    "plt.xlabel('epoch')\n",
    "plt.ylabel('accuracy')\n",
    "plt.legend()\n",
    "plt.show()\n",
    "# 정확도 확인 결과 에포크 진행 단계별로 정확도가 상승하는 것을 볼 수 있다."
   ]
  },
  {
   "cell_type": "code",
   "execution_count": 16,
   "id": "679748cf",
   "metadata": {},
   "outputs": [
    {
     "data": {
      "image/png": "[encoded data removed]",
      "text/plain": [
       "<Figure size 576x432 with 1 Axes>"
      ]
     },
     "metadata": {
      "needs_background": "light"
     },
     "output_type": "display_data"
    }
   ],
   "source": [
    "# 손실 그래프\n",
    "plt.figure(figsize=[8, 6])\n",
    "plt.plot(epoch, loss, 'r', marker='o', label='loss')\n",
    "plt.xlabel('epoch')\n",
    "plt.ylabel('loss')\n",
    "plt.legend()\n",
    "plt.show()\n",
    "# 손실 확인 결과 에포크 진행 단계별로 손실이 점차 낮아지는 것을 볼 수 있다."
   ]
  }
 ],
 "metadata": {
  "kernelspec": {
   "display_name": "py36",
   "language": "python",
   "name": "py36"
  },
  "language_info": {
   "codemirror_mode": {
    "name": "ipython",
    "version": 3
   },
   "file_extension": ".py",
   "mimetype": "text/x-python",
   "name": "python",
   "nbconvert_exporter": "python",
   "pygments_lexer": "ipython3",
   "version": "3.6.13"
  }
 },
 "nbformat": 4,
 "nbformat_minor": 5
}
