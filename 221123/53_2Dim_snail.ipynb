{
 "cells": [
  {
   "cell_type": "markdown",
   "id": "12620d26",
   "metadata": {},
   "source": [
    "<img src=\"./images/snail.png\" width=\"800\" align=\"left\"/>"
   ]
  },
  {
   "cell_type": "markdown",
   "id": "faa1f846",
   "metadata": {},
   "source": [
    "<img src=\"./images/snail2.png\" width=\"500\" align=\"left\"/>"
   ]
  },
  {
   "cell_type": "code",
   "execution_count": 1,
   "id": "0be4f826",
   "metadata": {},
   "outputs": [],
   "source": [
    "def pprint(a):\n",
    "    for i in range(len(a)):\n",
    "        for j in range(len(a[0])):\n",
    "            print('{:3d} '.format(a[i][j]), end=' ')\n",
    "        print()"
   ]
  },
  {
   "cell_type": "code",
   "execution_count": 2,
   "id": "841b9d35",
   "metadata": {},
   "outputs": [
    {
     "name": "stdout",
     "output_type": "stream",
     "text": [
      "  1    2    3    4    5  \n",
      " 16   17   18   19    6  \n",
      " 15   24   25   20    7  \n",
      " 14   23   22   21    8  \n",
      " 13   12   11   10    9  \n"
     ]
    }
   ],
   "source": [
    "a = [[0] * 5 for i in range(5)]\n",
    "n = 0 # 1 ~ 25까지 1씩 증가하는 변수\n",
    "s = 1 # 행과 열이 1또는 -1씩 증가 및 감소 처리에 사용하는 변수\n",
    "i = 0 # 행\n",
    "j = -1 # 열\n",
    "k = 5 # 반복문의 반복 횟수 제어에 사용하는 변수\n",
    "\n",
    "while True:\n",
    "    # 행 방향으로 숫자를 채운다.\n",
    "    for p in range(1, k + 1):\n",
    "        n += 1\n",
    "        j += s\n",
    "        a[i][j] = n\n",
    "    # ===== for p\n",
    "    # k를 1감소하고 조건에 만족하면 무한 루프를 탈출한다.\n",
    "    k -= 1\n",
    "    if k <= 0:\n",
    "        break\n",
    "    # 열 방향으로 숫자를 채운다.\n",
    "    for p in range(1, k + 1):\n",
    "        n += 1\n",
    "        i += s\n",
    "        a[i][j] = n\n",
    "    # ===== for p\n",
    "    s *= -1\n",
    "\n",
    "pprint(a)"
   ]
  },
  {
   "cell_type": "code",
   "execution_count": 3,
   "id": "724e10c5",
   "metadata": {},
   "outputs": [
    {
     "name": "stdout",
     "output_type": "stream",
     "text": [
      "2차원 리스트의 차수를 홀수로 입력하세요: 3\n",
      "  1    2    3  \n",
      "  8    9    4  \n",
      "  7    6    5  \n"
     ]
    }
   ],
   "source": [
    "while True:\n",
    "    m = int(input('2차원 리스트의 차수를 홀수로 입력하세요: '))\n",
    "    if m % 2 == 1:\n",
    "        break\n",
    "    print('2차원 리스트의 차수는 홀수로 입력해야 합니다.')\n",
    "# ===== while\n",
    "\n",
    "a = [[0] * m for i in range(m)]; n = 0; s = 1; i = 0; j = -1; k = m\n",
    "\n",
    "while True:\n",
    "    # 행 방향으로 숫자를 채운다.\n",
    "    for p in range(1, k + 1):\n",
    "        n += 1\n",
    "        j += s\n",
    "        a[i][j] = n\n",
    "    # ===== for p\n",
    "    # k를 1감소하고 조건에 만족하면 무한 루프를 탈출한다.\n",
    "    k -= 1\n",
    "    if k <= 0:\n",
    "        break\n",
    "    # 열 방향으로 숫자를 채운다.\n",
    "    for p in range(1, k + 1):\n",
    "        n += 1\n",
    "        i += s\n",
    "        a[i][j] = n\n",
    "    # ===== for p\n",
    "    s *= -1\n",
    "\n",
    "pprint(a)"
   ]
  },
  {
   "cell_type": "code",
   "execution_count": 4,
   "id": "88020a5f",
   "metadata": {},
   "outputs": [
    {
     "name": "stdout",
     "output_type": "stream",
     "text": [
      " 13   14   15   16   17  \n",
      " 12    3    4    5   18  \n",
      " 11    2    1    6   19  \n",
      " 10    9    8    7   20  \n",
      " 25   24   23   22   21  \n"
     ]
    }
   ],
   "source": [
    "a = [[0] * 5 for i in range(5)]\n",
    "n = 1; s = 1; i = 2; j = 2; k = 1; a[i][j] = n; flag = False\n",
    "\n",
    "while True:\n",
    "    # k += 1 # 3시 방향부터 숫자를 채운다.\n",
    "    for p in range(1, k):\n",
    "        n += 1; j += s\n",
    "        if n > 25:\n",
    "            flag = True\n",
    "            break\n",
    "        a[i][j] = n\n",
    "    # ===== for p\n",
    "    if flag:\n",
    "        break\n",
    "    for p in range(1, k):\n",
    "        n += 1; i += s\n",
    "        a[i][j] = n\n",
    "    # ===== for p\n",
    "    k += 1 # 9시 방향부터 숫자를 채운다.\n",
    "    s *= -1\n",
    "\n",
    "pprint(a)"
   ]
  },
  {
   "cell_type": "code",
   "execution_count": 5,
   "id": "95c3ae8e",
   "metadata": {},
   "outputs": [
    {
     "name": "stdout",
     "output_type": "stream",
     "text": [
      "2차원 리스트의 차수를 홀수로 입력하세요: 5\n",
      " 13   14   15   16   17  \n",
      " 12    3    4    5   18  \n",
      " 11    2    1    6   19  \n",
      " 10    9    8    7   20  \n",
      " 25   24   23   22   21  \n"
     ]
    }
   ],
   "source": [
    "while True:\n",
    "    m = int(input('2차원 리스트의 차수를 홀수로 입력하세요: '))\n",
    "    if m % 2 == 1:\n",
    "        break\n",
    "    print('2차원 리스트의 차수는 홀수로 입력해야 합니다.')\n",
    "# ===== while\n",
    "\n",
    "a = [[0] * m for i in range(m)]; n = 1; s = 1; i = m // 2; j = m // 2; k = 1; a[i][j] = n; flag = False\n",
    "\n",
    "while True:\n",
    "    # k += 1 # 3시 방향부터 숫자를 채운다.\n",
    "    for p in range(1, k):\n",
    "        n += 1; j += s\n",
    "        if n > m ** 2:\n",
    "            flag = True\n",
    "            break\n",
    "        a[i][j] = n\n",
    "    # ===== for p\n",
    "    if flag:\n",
    "        break\n",
    "    for p in range(1, k):\n",
    "        n += 1; i += s\n",
    "        a[i][j] = n\n",
    "    # ===== for p\n",
    "    k += 1 # 9시 방향부터 숫자를 채운다.\n",
    "    s *= -1\n",
    "\n",
    "pprint(a)"
   ]
  },
  {
   "cell_type": "code",
   "execution_count": 6,
   "id": "c4657671",
   "metadata": {},
   "outputs": [
    {
     "name": "stdout",
     "output_type": "stream",
     "text": [
      "[1]\n",
      "[]\n"
     ]
    }
   ],
   "source": [
    "print(list(range(1, 2)))\n",
    "print(list(range(1, 1)))"
   ]
  }
 ],
 "metadata": {
  "kernelspec": {
   "display_name": "Python 3",
   "language": "python",
   "name": "python3"
  },
  "language_info": {
   "codemirror_mode": {
    "name": "ipython",
    "version": 3
   },
   "file_extension": ".py",
   "mimetype": "text/x-python",
   "name": "python",
   "nbconvert_exporter": "python",
   "pygments_lexer": "ipython3",
   "version": "3.6.8"
  }
 },
 "nbformat": 4,
 "nbformat_minor": 5
}
