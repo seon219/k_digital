{
 "cells": [
  {
   "cell_type": "code",
   "execution_count": 1,
   "id": "0ab72ed6",
   "metadata": {},
   "outputs": [],
   "source": [
    "import warnings\n",
    "warnings.filterwarnings(action='ignore')\n",
    "import requests\n",
    "from bs4 import BeautifulSoup"
   ]
  },
  {
   "cell_type": "code",
   "execution_count": 2,
   "id": "5b174c6c",
   "metadata": {},
   "outputs": [
    {
     "name": "stdout",
     "output_type": "stream",
     "text": [
      "<Response [200]>\n",
      "6\n",
      "7\n",
      "8\n",
      "9\n",
      "10\n",
      "['내년부터 1월 1일', '상승1']\n",
      "['이다희', '하락2']\n",
      "['츄 퇴출 무기한', '동일']\n",
      "['트랜스젠더 유튜버 폭행', '동일']\n",
      "['檢 내가 그렇게', '동일']\n",
      "**********\n",
      " 6. 내년부터 1월 1일[↑1]\n",
      " 7. 이다희[↓2]\n",
      " 8. 츄 퇴출 무기한[-]\n",
      " 9. 트랜스젠더 유튜버 폭행[-]\n",
      "10. 檢 내가 그렇게[-]\n"
     ]
    }
   ],
   "source": [
    "targetSite = \"https://www.nate.com/?f=autorefresh\"\n",
    "header = {'User-agent':'Mozilla/5.0 (Windows NT 6.3; WOW64; Trident/7.0; rv:11.0) like Gecko'}\n",
    "req = requests.get(targetSite, headers=header)\n",
    "print(req)\n",
    "html = req.text\n",
    "#print(html)\n",
    "soup = BeautifulSoup(html, 'html.parser')\n",
    "\n",
    "# 순위\n",
    "#ranks = soup.findAll('span', {'class':'num_rank'})\n",
    "#print(len(ranks))\n",
    "#print(ranks)\n",
    "#for rank in ranks[:5]:\n",
    "#    print(rank.text)\n",
    "\n",
    "ranks = soup.select('.isKeywordList .num_rank')\n",
    "#print(ranks)\n",
    "for rank in ranks[:5]:\n",
    "    print(rank.text)\n",
    "    \n",
    "\n",
    "# 실시간 이슈 키워드와 상승/하락 폭\n",
    "keywords = soup.findAll('a', {'class':'ik'})\n",
    "#print(len(keywords))\n",
    "#print(keywords)\n",
    "for keyword in keywords:\n",
    "    print(keyword.text.strip().split('\\n'))\n",
    "print(\"*\" * 10)    \n",
    "    \n",
    "for i in range(5):\n",
    "    rank = ranks[i].text\n",
    "    keyword = keywords[i].text.strip().split('\\n')[0]\n",
    "    upDown = keywords[i].text.strip().split('\\n')[1]\n",
    "    #print('%2s. %s (%s)' % (rank, keyword, upDown))\n",
    "    print('{:>2s}. {}'.format(rank, keyword), end='')\n",
    "    if (upDown[:2] == '상승'):\n",
    "        print('[{}{}]'.format('↑', upDown[-1]))\n",
    "    elif (upDown[:2] == '하락'):\n",
    "        print('[{}{}]'.format('↓', upDown[-1]))\n",
    "    elif (upDown[:2] == '동일'):\n",
    "        print('[-]')\n",
    "    else :\n",
    "        print('[new]')"
   ]
  }
 ],
 "metadata": {
  "kernelspec": {
   "display_name": "Python 3",
   "language": "python",
   "name": "python3"
  },
  "language_info": {
   "codemirror_mode": {
    "name": "ipython",
    "version": 3
   },
   "file_extension": ".py",
   "mimetype": "text/x-python",
   "name": "python",
   "nbconvert_exporter": "python",
   "pygments_lexer": "ipython3",
   "version": "3.6.8"
  }
 },
 "nbformat": 4,
 "nbformat_minor": 5
}
