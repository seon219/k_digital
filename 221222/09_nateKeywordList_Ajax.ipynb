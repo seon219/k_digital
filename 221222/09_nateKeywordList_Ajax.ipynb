{
 "cells": [
  {
   "cell_type": "code",
   "execution_count": 1,
   "id": "233f5108",
   "metadata": {},
   "outputs": [],
   "source": [
    "import warnings\n",
    "warnings.filterwarnings(action='ignore')\n",
    "import requests\n",
    "# from bs4 import BeautifulSoup # html 문서를 파싱할 때 사용하므로 json 형태로 넘어오는 데이터에는 사용하지 않는다.\n",
    "import json # json 형태의 문자열을 파이썬에서 처리하기 위해 import 한다."
   ]
  },
  {
   "cell_type": "code",
   "execution_count": 2,
   "id": "8b0b7f4f",
   "metadata": {},
   "outputs": [
    {
     "name": "stdout",
     "output_type": "stream",
     "text": [
      "<Response [200]>\n"
     ]
    }
   ],
   "source": [
    "# 실시간 검색어가 웹 페이지에 전부 혹은 일부가 포함되어있지 않고 ajax를 이용해서 받아는 방식이 사용된다.\n",
    "# Request Method가 GET이므로 requests 모듈의 get() 메소드를 사용해서 실시간 검색어를 받아온다.\n",
    "targetSite = 'https://www.nate.com/js/data/jsonLiveKeywordDataV1.js?v=202212221635'\n",
    "req = requests.get(targetSite)\n",
    "print(req)\n",
    "# 파이썬은 한글 encoding이 유니코드(utf-8)로 되어있기 때문에 'euc-kr'로 encoding된 사이트를 크롤링 할 때 한글이 깨지면\n",
    "# 아래와 같이 한글 encoding을 바꿔주면 된다.\n",
    "req.encoding = 'euc-kr'"
   ]
  },
  {
   "cell_type": "code",
   "execution_count": 3,
   "id": "c957dac5",
   "metadata": {},
   "outputs": [
    {
     "name": "stdout",
     "output_type": "stream",
     "text": [
      "[[\"1\",  \"7호선\",  \"+\",  \"1\",  \"7호선\"], [\"2\",  \"대통령 집회 법\",  \"-\",  \"1\",  \"대통령 집회 법\"], [\"3\",  \"송혜교\",  \"s\",  \"0\",  \"송혜교\"], [\"4\",  \"성관계 아들 감형\",  \"s\",  \"0\",  \"성관계 아들 감형\"], [\"5\",  \"결혼지옥\",  \"+\",  \"1\",  \"결혼지옥\"], [\"6\",  \"내년부터 1월 1일\",  \"+\",  \"1\",  \"내년부터 1월 1일\"], [\"7\",  \"이다희\",  \"-\",  \"2\",  \"이다희\"], [\"8\",  \"츄 퇴출 무기한\",  \"s\",  \"0\",  \"츄 퇴출 무기한 연기\"], [\"9\",  \"트랜스젠더 유튜버 폭행\",  \"s\",  \"0\",  \"트랜스젠더 유튜버 폭행\"], [\"10\",  \"檢 내가 그렇게\",  \"s\",  \"0\",  \"檢 내가 그렇게 무섭나\"]]\n",
      "<class 'str'>\n"
     ]
    }
   ],
   "source": [
    "issues = req.text\n",
    "print(issues)\n",
    "print(type(issues))"
   ]
  },
  {
   "cell_type": "code",
   "execution_count": 4,
   "id": "ebaecb69",
   "metadata": {},
   "outputs": [
    {
     "name": "stdout",
     "output_type": "stream",
     "text": [
      "[['1', '7호선', '+', '1', '7호선'], ['2', '대통령 집회 법', '-', '1', '대통령 집회 법'], ['3', '송혜교', 's', '0', '송혜교'], ['4', '성관계 아들 감형', 's', '0', '성관계 아들 감형'], ['5', '결혼지옥', '+', '1', '결혼지옥'], ['6', '내년부터 1월 1일', '+', '1', '내년부터 1월 1일'], ['7', '이다희', '-', '2', '이다희'], ['8', '츄 퇴출 무기한', 's', '0', '츄 퇴출 무기한 연기'], ['9', '트랜스젠더 유튜버 폭행', 's', '0', '트랜스젠더 유튜버 폭행'], ['10', '檢 내가 그렇게', 's', '0', '檢 내가 그렇게 무섭나']]\n",
      "<class 'list'>\n"
     ]
    }
   ],
   "source": [
    "# json 형태로 얻어온 실시간 이슈 키워드는 json 모듈의 loads() 메소드를 사용해서 파이썬에서 처리할 수 있는 데이터 타입으로\n",
    "# 변환시켜 처리한다.\n",
    "# loads() 메소드는 json 형태의 문자열이 {}를 포함하면 딕셔너리로 {}없이 []만 포함하면 리스트 형태로 자동 변환시킨다.\n",
    "# ranks = json.loads(issues)\n",
    "\n",
    "# requests 모듈을 사용해 응답받은 객체에서 json() 메소드를 실행하면 json 모듈의 loads() 메소드를 실행한 것과 같은 기능이\n",
    "# 실행된다.\n",
    "ranks = req.json()\n",
    "print(ranks)\n",
    "print(type(ranks))"
   ]
  },
  {
   "cell_type": "code",
   "execution_count": 5,
   "id": "4dd70beb",
   "metadata": {},
   "outputs": [
    {
     "name": "stdout",
     "output_type": "stream",
     "text": [
      " 1위: 7호선[↑1]\n",
      " 2위: 대통령 집회 법[↓1]\n",
      " 3위: 송혜교[-]\n",
      " 4위: 성관계 아들 감형[-]\n",
      " 5위: 결혼지옥[↑1]\n",
      " 6위: 내년부터 1월 1일[↑1]\n",
      " 7위: 이다희[↓2]\n",
      " 8위: 츄 퇴출 무기한[-]\n",
      " 9위: 트랜스젠더 유튜버 폭행[-]\n",
      "10위: 檢 내가 그렇게[-]\n"
     ]
    }
   ],
   "source": [
    "for rank in ranks:\n",
    "    print('{:>2s}위: {}'.format(rank[0], rank[1]), end='')\n",
    "    if rank[2] == '+':\n",
    "        print('[{}{}]'.format('↑', rank[3]))\n",
    "    elif rank[2] == '-':\n",
    "        print('[{}{}]'.format('↓', rank[3]))\n",
    "    elif rank[2] == 's':\n",
    "        print('[-]')\n",
    "    else:\n",
    "        print('[new]')"
   ]
  }
 ],
 "metadata": {
  "kernelspec": {
   "display_name": "Python 3",
   "language": "python",
   "name": "python3"
  },
  "language_info": {
   "codemirror_mode": {
    "name": "ipython",
    "version": 3
   },
   "file_extension": ".py",
   "mimetype": "text/x-python",
   "name": "python",
   "nbconvert_exporter": "python",
   "pygments_lexer": "ipython3",
   "version": "3.6.8"
  }
 },
 "nbformat": 4,
 "nbformat_minor": 5
}
