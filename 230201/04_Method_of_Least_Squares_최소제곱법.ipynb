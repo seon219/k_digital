{
 "cells": [
  {
   "cell_type": "code",
   "execution_count": 1,
   "id": "c9fd44df",
   "metadata": {},
   "outputs": [],
   "source": [
    "import warnings\n",
    "warnings.filterwarnings(action='ignore')\n",
    "%config Completer.use_jedi = False\n",
    "import numpy as np\n",
    "import pandas as pd\n",
    "import matplotlib.pyplot as plt\n",
    "plt.rcParams['font.family'] = 'NanumGothicCoding'\n",
    "plt.rcParams['font.size'] = 10\n",
    "import matplotlib as mpl\n",
    "mpl.rcParams['axes.unicode_minus'] = False\n",
    "import seaborn as sns\n",
    "%matplotlib inline"
   ]
  },
  {
   "cell_type": "markdown",
   "id": "0db86840",
   "metadata": {},
   "source": [
    "최소공법으로 기월기와 y절편을 계산할 데이터를 만든다"
   ]
  },
  {
   "cell_type": "code",
   "execution_count": 2,
   "id": "dcce930f",
   "metadata": {},
   "outputs": [],
   "source": [
    "x = [2, 4, 6, 8] # 공부시간\n",
    "y = [81, 93, 91, 97] # 시험점수"
   ]
  },
  {
   "cell_type": "markdown",
   "id": "0ff53b54",
   "metadata": {},
   "source": [
    "공부시간과 시험점수 데이터를 판다스 데이터프레임으로 만든다"
   ]
  },
  {
   "cell_type": "code",
   "execution_count": 3,
   "id": "b0a11f81",
   "metadata": {},
   "outputs": [
    {
     "data": {
      "text/html": [
       "<div>\n",
       "<style scoped>\n",
       "    .dataframe tbody tr th:only-of-type {\n",
       "        vertical-align: middle;\n",
       "    }\n",
       "\n",
       "    .dataframe tbody tr th {\n",
       "        vertical-align: top;\n",
       "    }\n",
       "\n",
       "    .dataframe thead th {\n",
       "        text-align: right;\n",
       "    }\n",
       "</style>\n",
       "<table border=\"1\" class=\"dataframe\">\n",
       "  <thead>\n",
       "    <tr style=\"text-align: right;\">\n",
       "      <th></th>\n",
       "      <th>x</th>\n",
       "      <th>y</th>\n",
       "    </tr>\n",
       "  </thead>\n",
       "  <tbody>\n",
       "    <tr>\n",
       "      <th>0</th>\n",
       "      <td>2</td>\n",
       "      <td>81</td>\n",
       "    </tr>\n",
       "    <tr>\n",
       "      <th>1</th>\n",
       "      <td>4</td>\n",
       "      <td>93</td>\n",
       "    </tr>\n",
       "    <tr>\n",
       "      <th>2</th>\n",
       "      <td>6</td>\n",
       "      <td>91</td>\n",
       "    </tr>\n",
       "    <tr>\n",
       "      <th>3</th>\n",
       "      <td>8</td>\n",
       "      <td>97</td>\n",
       "    </tr>\n",
       "  </tbody>\n",
       "</table>\n",
       "</div>"
      ],
      "text/plain": [
       "   x   y\n",
       "0  2  81\n",
       "1  4  93\n",
       "2  6  91\n",
       "3  8  97"
      ]
     },
     "execution_count": 3,
     "metadata": {},
     "output_type": "execute_result"
    }
   ],
   "source": [
    "df = pd.DataFrame(columns=['x', 'y']) # 빈 데이터프레임 생성\n",
    "# 빈 데이터프레임에 데이터를 넣을 떄는 lco[index]를 사용해서 리스트 형태의 데이터를 넣어주면 된다.\n",
    "df.loc[0] = [2, 81]\n",
    "df.loc[1] = [4, 93]\n",
    "df.loc[2] = [6, 91]\n",
    "df.loc[3] = [8, 97]\n",
    "df"
   ]
  },
  {
   "cell_type": "markdown",
   "id": "4b9090f5",
   "metadata": {},
   "source": [
    "공부시간과 시험점수 시각화"
   ]
  },
  {
   "cell_type": "code",
   "execution_count": 4,
   "id": "9ee9c80d",
   "metadata": {},
   "outputs": [
    {
     "name": "stderr",
     "output_type": "stream",
     "text": [
      "findfont: Font family ['NanumGothicCoding'] not found. Falling back to DejaVu Sans.\n",
      "findfont: Font family ['NanumGothicCoding'] not found. Falling back to DejaVu Sans.\n"
     ]
    },
    {
     "data": {
      "image/png": "[encoded data removed]",
      "text/plain": [
       "<Figure size 864x576 with 1 Axes>"
      ]
     },
     "metadata": {
      "needs_background": "light"
     },
     "output_type": "display_data"
    }
   ],
   "source": [
    "plt.figure(figsize=[12, 8])\n",
    "sns.scatterplot(data=df, x= 'x', y= 'y', s = 100)\n",
    "plt.title('공부시간에 따른 시험성적')\n",
    "plt.xlabel('공부시간')\n",
    "plt.ylabel('시험성적')\n",
    "plt.show()"
   ]
  },
  {
   "cell_type": "markdown",
   "id": "821cae05",
   "metadata": {},
   "source": [
    "기울기 공식 => $\\frac{\\sum_{i=0}^{n-1}(x_i - \\bar x)(y_i - \\bar y)}{\\sum_{i=0}^{n-1}(x_i - \\bar x)^2}$"
   ]
  },
  {
   "cell_type": "code",
   "execution_count": 5,
   "id": "495e6158",
   "metadata": {},
   "outputs": [
    {
     "name": "stdout",
     "output_type": "stream",
     "text": [
      "공부시간의 평균: 5.0, 시험점수의 평균: 90.5\n"
     ]
    }
   ],
   "source": [
    "mean_x = np.mean(x) # 공부시간의 평균\n",
    "mean_y = np.mean(y) # 시험점수의 평균 => 실제값\n",
    "print('공부시간의 평균: {}, 시험점수의 평균: {}'.format(mean_x, mean_y))"
   ]
  },
  {
   "cell_type": "markdown",
   "id": "9e8617da",
   "metadata": {},
   "source": [
    "기울기 공식의 분자를 계산하는 함수"
   ]
  },
  {
   "cell_type": "code",
   "execution_count": 6,
   "id": "d023f097",
   "metadata": {},
   "outputs": [
    {
     "name": "stdout",
     "output_type": "stream",
     "text": [
      "46.0\n"
     ]
    }
   ],
   "source": [
    "def top(x, mean_x, y, mean_y):\n",
    "    total = 0.0\n",
    "    for i in range (len(x)):\n",
    "         total += (x[i] - mean_x) * (y[i] - mean_y)\n",
    "    return total\n",
    "\n",
    "dividend = top(x, mean_x, y, mean_y)\n",
    "print(dividend)"
   ]
  },
  {
   "cell_type": "markdown",
   "id": "26fe407f",
   "metadata": {},
   "source": [
    "기울기 공식의 분모를 계산하는 함수"
   ]
  },
  {
   "cell_type": "code",
   "execution_count": 7,
   "id": "04005467",
   "metadata": {},
   "outputs": [
    {
     "name": "stdout",
     "output_type": "stream",
     "text": [
      "20.0\n"
     ]
    }
   ],
   "source": [
    "def bottom(x, mean_x):\n",
    "    total = 0.0\n",
    "    for i in range (len(x)):\n",
    "        total += (x[i] - mean_x) ** 2\n",
    "    return total\n",
    "\n",
    "divisor = bottom(x, mean_x)\n",
    "print(divisor)"
   ]
  },
  {
   "cell_type": "code",
   "execution_count": 8,
   "id": "4d7e074f",
   "metadata": {},
   "outputs": [
    {
     "name": "stdout",
     "output_type": "stream",
     "text": [
      "기울기 공식의 분자: 46.0, 기울기 공식의 분모: 20.0\n",
      "기울기: 2.3\n"
     ]
    }
   ],
   "source": [
    "print('기울기 공식의 분자: {}, 기울기 공식의 분모: {}'.format(dividend, divisor))\n",
    "a = dividend/divisor\n",
    "print('기울기: {}'.format(a))"
   ]
  },
  {
   "cell_type": "markdown",
   "id": "b76f0fd1",
   "metadata": {},
   "source": [
    "y절편 공식 => $\\bar y - (\\bar x * a)$"
   ]
  },
  {
   "cell_type": "code",
   "execution_count": 9,
   "id": "98d37e74",
   "metadata": {},
   "outputs": [
    {
     "name": "stdout",
     "output_type": "stream",
     "text": [
      "y절편: 79.0\n"
     ]
    }
   ],
   "source": [
    "b = mean_y - (mean_x * a)\n",
    "print('y절편: {}'.format(b))"
   ]
  }
 ],
 "metadata": {
  "kernelspec": {
   "display_name": "Python [conda env:py36] *",
   "language": "python",
   "name": "conda-env-py36-py"
  },
  "language_info": {
   "codemirror_mode": {
    "name": "ipython",
    "version": 3
   },
   "file_extension": ".py",
   "mimetype": "text/x-python",
   "name": "python",
   "nbconvert_exporter": "python",
   "pygments_lexer": "ipython3",
   "version": "3.6.13"
  }
 },
 "nbformat": 4,
 "nbformat_minor": 5
}
