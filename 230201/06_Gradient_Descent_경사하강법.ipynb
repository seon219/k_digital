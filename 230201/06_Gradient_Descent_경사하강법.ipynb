{
 "cells": [
  {
   "cell_type": "markdown",
   "id": "1ce77ba9",
   "metadata": {},
   "source": [
    "경사하강법(GradientDescent)  \n",
    "기울기를 너무 크게 잡으면 오차가 커지고 너무 작게 잡아도 오차가 커진다  \n",
    "기울기를 무한대로 키우면 오차도 무한대로 커지고, 기울기를 무한대로 작게해도 오차는 무한대로 커진다."
   ]
  },
  {
   "cell_type": "code",
   "execution_count": 1,
   "id": "22213f6a",
   "metadata": {},
   "outputs": [
    {
     "name": "stdout",
     "output_type": "stream",
     "text": [
      "WARNING:tensorflow:From D:\\anaconda3\\envs\\py36\\lib\\site-packages\\tensorflow\\python\\compat\\v2_compat.py:101: disable_resource_variables (from tensorflow.python.ops.variable_scope) is deprecated and will be removed in a future version.\n",
      "Instructions for updating:\n",
      "non-resource variables are not supported in the long term\n"
     ]
    }
   ],
   "source": [
    "import warnings\n",
    "warnings.filterwarnings(action='ignore')\n",
    "%config Completer.use_jedi = False\n",
    "import tensorflow.compat.v1 as tf\n",
    "tf.disable_v2_behavior()\n",
    "import numpy as np\n",
    "import pandas as pd\n",
    "import time"
   ]
  },
  {
   "cell_type": "code",
   "execution_count": 2,
   "id": "690a4dd5",
   "metadata": {},
   "outputs": [],
   "source": [
    "data = [[2, 81], [4, 93], [6, 91], [8, 97]] #[공부시간(x), 시험점수(y)]\n",
    "xData = [i[0] for i in data] # 공부시간\n",
    "yData = [i[1] for i in data] # 시험점수"
   ]
  },
  {
   "cell_type": "code",
   "execution_count": 3,
   "id": "1cebaee4",
   "metadata": {},
   "outputs": [
    {
     "name": "stdout",
     "output_type": "stream",
     "text": [
      "a = [8.432562], b = [18.884075]\n"
     ]
    }
   ],
   "source": [
    "# 기울기 a와 y절편 b를 임의로 정한다.\n",
    "# tf.rndom_uniform([난수의 개수], 최소값, 최대값, dtype=난수의 데이터 타입, seed=숫자)\n",
    "# dtype 생략시 기본값은 tf.float32이고, seed를 지정하면 항상 일정한 배열의 난수가 생성된다.\n",
    "a = tf.Variable(tf.random_uniform([1], 0, 10)) # 기울기(가중치), 0 ~ 10 사이의 난수\n",
    "b = tf.Variable(tf.random_uniform([1], 0, 100)) # y절편(바이어스), 0 ~ 100 사이의 난수\n",
    "sess = tf.Session()\n",
    "sess.run(tf.global_variables_initializer()) # 변수 초기화\n",
    "print('a = {}, b = {}'.format(sess.run(a), sess.run(b)))"
   ]
  },
  {
   "cell_type": "code",
   "execution_count": 4,
   "id": "3b895606",
   "metadata": {},
   "outputs": [],
   "source": [
    "# 예측 성적을 얻기 위한 가설(수식)을 만든다.\n",
    "Y = a * xData + b"
   ]
  },
  {
   "cell_type": "code",
   "execution_count": 5,
   "id": "25802f18",
   "metadata": {},
   "outputs": [],
   "source": [
    "# tensorflow에서 실행할 RMSE(평균 제곱근 오차) 수식(오차 함수)을 만든다.\n",
    "# tf.square(Y - yData) => 예측성적과 실제성적의 편차의 제곱을 계산한다.\n",
    "# tf.reduce_mean(tf.square(Y-yData)) => 예측성적과 실제성적의 편차의 제곱의 평균을 계산한다.\n",
    "# sqrt(): 제곱근 값을 계산한다.\n",
    "# tf.sqrt(tf.reduce_mean(tf.square(Y - yData))) => 예측성적과 실제성적의 편차의 제곱의 평균에 대한 제곱근을 계산한다.\n",
    "rmse = tf.sqrt(tf.reduce_mean(tf.square(Y - yData)))"
   ]
  },
  {
   "cell_type": "code",
   "execution_count": 6,
   "id": "dee965b7",
   "metadata": {},
   "outputs": [],
   "source": [
    "# 경사하강법을 이용해서 RMSE를 최소로 하는 값을 찾는 수식을 만든다.\n",
    "# 학습율을 정한다,\n",
    "learning_rate = 0.1\n",
    "# 경사 하강법 수식\n",
    "gradient_descent = tf.train.GradientDescentOptimizer(learning_rate).minimize(rmse)"
   ]
  },
  {
   "cell_type": "code",
   "execution_count": 7,
   "id": "495d16ff",
   "metadata": {},
   "outputs": [
    {
     "name": "stdout",
     "output_type": "stream",
     "text": [
      "epoch =>    0, RMSE:         18.19, 기울기(a):          3.98, y절편(b):         88.14\n",
      "epoch =>  200, RMSE:          3.25, 기울기(a):          1.68, y절편(b):         82.68\n",
      "epoch =>  400, RMSE:          2.93, 기울기(a):          2.09, y절편(b):         80.26\n",
      "epoch =>  600, RMSE:          2.89, 기울기(a):          2.23, y절편(b):         79.41\n",
      "epoch =>  800, RMSE:          2.88, 기울기(a):          2.28, y절편(b):         79.13\n",
      "epoch => 1000, RMSE:          2.88, 기울기(a):          2.29, y절편(b):         79.04\n",
      "epoch => 1200, RMSE:          2.88, 기울기(a):          2.30, y절편(b):         79.01\n",
      "epoch => 1400, RMSE:          2.88, 기울기(a):          2.30, y절편(b):         79.00\n",
      "epoch => 1600, RMSE:          2.88, 기울기(a):          2.30, y절편(b):         79.00\n",
      "epoch => 1800, RMSE:          2.88, 기울기(a):          2.30, y절편(b):         79.00\n",
      "epoch => 2000, RMSE:          2.88, 기울기(a):          2.30, y절편(b):         79.00\n",
      "epoch => 2200, RMSE:          2.88, 기울기(a):          2.30, y절편(b):         79.00\n",
      "epoch => 2400, RMSE:          2.88, 기울기(a):          2.30, y절편(b):         79.00\n",
      "epoch => 2600, RMSE:          2.88, 기울기(a):          2.30, y절편(b):         79.00\n",
      "epoch => 2800, RMSE:          2.88, 기울기(a):          2.30, y절편(b):         79.00\n",
      "epoch => 3000, RMSE:          2.88, 기울기(a):          2.30, y절편(b):         79.00\n"
     ]
    }
   ],
   "source": [
    "# 학습시킨다.\n",
    "sess= tf.Session()\n",
    "sess.run(tf.global_variables_initializer())\n",
    "\n",
    "for epoch in range(3001):\n",
    "    sess.run(gradient_descent)\n",
    "    if epoch % 200 == 0:\n",
    "        print('epoch => {:4d}, RMSE: {:13.2f}, 기울기(a): {:13.2f}, y절편(b): {:13.2f}'.format(\n",
    "            epoch, sess.run(rmse), sess.run(a)[0], sess.run(b)[0]))\n",
    "        time.sleep(0.5)"
   ]
  }
 ],
 "metadata": {
  "kernelspec": {
   "display_name": "Python [conda env:py36] *",
   "language": "python",
   "name": "conda-env-py36-py"
  },
  "language_info": {
   "codemirror_mode": {
    "name": "ipython",
    "version": 3
   },
   "file_extension": ".py",
   "mimetype": "text/x-python",
   "name": "python",
   "nbconvert_exporter": "python",
   "pygments_lexer": "ipython3",
   "version": "3.6.13"
  }
 },
 "nbformat": 4,
 "nbformat_minor": 5
}
