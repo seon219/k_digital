{
 "cells": [
  {
   "cell_type": "code",
   "execution_count": 1,
   "id": "71b153a1",
   "metadata": {},
   "outputs": [
    {
     "name": "stdout",
     "output_type": "stream",
     "text": [
      "WARNING:tensorflow:From D:\\anaconda3\\envs\\py36\\lib\\site-packages\\tensorflow\\python\\compat\\v2_compat.py:101: disable_resource_variables (from tensorflow.python.ops.variable_scope) is deprecated and will be removed in a future version.\n",
      "Instructions for updating:\n",
      "non-resource variables are not supported in the long term\n"
     ]
    }
   ],
   "source": [
    "import warnings\n",
    "warnings.filterwarnings(action='ignore')\n",
    "%config Completer.use_jedi = False\n",
    "import tensorflow.compat.v1 as tf\n",
    "tf.disable_v2_behavior()\n",
    "import numpy as np\n",
    "import pandas as pd\n",
    "import time"
   ]
  },
  {
   "cell_type": "code",
   "execution_count": 2,
   "id": "bc785997",
   "metadata": {},
   "outputs": [],
   "source": [
    "data = [[2, 0, 81], [4, 4, 93], [6, 2, 91], [8, 3, 97]] #[공부시간(x), 시험점수(y)]\n",
    "xData1 = [i[0] for i in data] # 공부시간\n",
    "xData2 = [i[1] for i in data] # 과외시간\n",
    "yData = [i[2] for i in data] # 시험점수"
   ]
  },
  {
   "cell_type": "code",
   "execution_count": 3,
   "id": "d08d7398",
   "metadata": {},
   "outputs": [
    {
     "name": "stdout",
     "output_type": "stream",
     "text": [
      "a1 = [7.2158074], a1 = [6.054764], b = [81.521645]\n"
     ]
    }
   ],
   "source": [
    "# 기울기 a1, a2와 y절편 b를 임의로 정한다.\n",
    "a1 = tf.Variable(tf.random_uniform([1], 0, 10)) # 기울기(가중치), 0 ~ 10 사이의 난수\n",
    "a2 = tf.Variable(tf.random_uniform([1], 0, 10)) # 기울기(가중치), 0 ~ 10 사이의 난수\n",
    "b = tf.Variable(tf.random_uniform([1], 0, 100)) # y절편(바이어스), 0 ~ 100 사이의 난수\n",
    "\n",
    "sess = tf.Session()\n",
    "sess.run(tf.global_variables_initializer()) # 변수 초기화\n",
    "print('a1 = {}, a1 = {}, b = {}'.format(sess.run(a1), sess.run(a2), sess.run(b)))"
   ]
  },
  {
   "cell_type": "code",
   "execution_count": 4,
   "id": "73ef905d",
   "metadata": {},
   "outputs": [],
   "source": [
    "# 예측성적을 얻기 위한 가설(수식)을 만든다.\n",
    "Y = a1 * xData1 + a2 * xData2 + b\n",
    "# tensorflow에서 실행할 RMSE(평균 제곱근 오차) 수식(오차 함수)을 만든다.\n",
    "rmse = tf.sqrt(tf.reduce_mean(tf.square(Y - yData)))\n",
    "# 경사하강법을 이용해서 RMSE를 최소로 하는 값을 찾는 수식을 만든다.\n",
    "gradient_descent = tf.train.GradientDescentOptimizer(0.1).minimize(rmse)"
   ]
  },
  {
   "cell_type": "code",
   "execution_count": 5,
   "id": "b11e42d1",
   "metadata": {},
   "outputs": [
    {
     "name": "stdout",
     "output_type": "stream",
     "text": [
      "epoch =>    0, RMSE:       29.5402, 기울기(a1):        9.4937, 기울기(a2):        4.6760, y절편(b):       10.7464\n",
      "epoch =>  200, RMSE:       23.7581, 기울기(a1):       10.1095, 기울기(a2):        5.1985, y절편(b):       18.9057\n",
      "epoch =>  400, RMSE:       20.5859, 기울기(a1):        8.9465, 기울기(a2):        4.8392, y절편(b):       26.7772\n",
      "epoch =>  600, RMSE:       17.4140, 기울기(a1):        7.7947, 기울기(a2):        4.4549, y절편(b):       34.6490\n",
      "epoch =>  800, RMSE:       14.2425, 기울기(a1):        6.6469, 기울기(a2):        4.0621, y절편(b):       42.5202\n",
      "epoch => 1000, RMSE:       11.0714, 기울기(a1):        5.5003, 기울기(a2):        3.6669, y절편(b):       50.3911\n",
      "epoch => 1200, RMSE:        7.9015, 기울기(a1):        4.3542, 기울기(a2):        3.2712, y절편(b):       58.2606\n",
      "epoch => 1400, RMSE:        4.7351, 기울기(a1):        3.2086, 기울기(a2):        2.8757, y절편(b):       66.1257\n",
      "epoch => 1600, RMSE:        1.5926, 기울기(a1):        2.0675, 기울기(a2):        2.4817, y절편(b):       73.9611\n",
      "epoch => 1800, RMSE:        1.8368, 기울기(a1):        1.8623, 기울기(a2):        2.4398, y절편(b):       77.2479\n",
      "epoch => 2000, RMSE:        1.8370, 기울기(a1):        1.7866, 기울기(a2):        2.4139, y절편(b):       77.7871\n",
      "epoch => 2200, RMSE:        1.8370, 기울기(a1):        1.7729, 기울기(a2):        2.4092, y절편(b):       77.8822\n",
      "epoch => 2400, RMSE:        1.8370, 기울기(a1):        1.7704, 기울기(a2):        2.4083, y절편(b):       77.8990\n",
      "epoch => 2600, RMSE:        1.8370, 기울기(a1):        1.7700, 기울기(a2):        2.4082, y절편(b):       77.9020\n",
      "epoch => 2800, RMSE:        1.8369, 기울기(a1):        1.7699, 기울기(a2):        2.4082, y절편(b):       77.9022\n",
      "epoch => 3000, RMSE:        1.8369, 기울기(a1):        1.7699, 기울기(a2):        2.4082, y절편(b):       77.9022\n"
     ]
    }
   ],
   "source": [
    "# 학습시킨다.\n",
    "sess= tf.Session()\n",
    "sess.run(tf.global_variables_initializer())\n",
    "\n",
    "for epoch in range(3001):\n",
    "    sess.run(gradient_descent)\n",
    "    if epoch % 200 == 0:\n",
    "        print('epoch => {:4d}, RMSE: {:13.4f}, 기울기(a1): {:13.4f}, 기울기(a2): {:13.4f}, y절편(b): {:13.4f}'.format(\n",
    "            epoch, sess.run(rmse), sess.run(a1)[0], sess.run(a2)[0], sess.run(b)[0]))\n",
    "        time.sleep(0.5)"
   ]
  }
 ],
 "metadata": {
  "kernelspec": {
   "display_name": "Python [conda env:py36] *",
   "language": "python",
   "name": "conda-env-py36-py"
  },
  "language_info": {
   "codemirror_mode": {
    "name": "ipython",
    "version": 3
   },
   "file_extension": ".py",
   "mimetype": "text/x-python",
   "name": "python",
   "nbconvert_exporter": "python",
   "pygments_lexer": "ipython3",
   "version": "3.6.13"
  }
 },
 "nbformat": 4,
 "nbformat_minor": 5
}
