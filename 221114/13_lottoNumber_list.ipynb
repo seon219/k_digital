{
 "cells": [
  {
   "cell_type": "code",
   "execution_count": 1,
   "id": "447fa2a2",
   "metadata": {},
   "outputs": [],
   "source": [
    "import random "
   ]
  },
  {
   "cell_type": "code",
   "execution_count": 2,
   "id": "0b895e64",
   "metadata": {
    "scrolled": false
   },
   "outputs": [
    {
     "name": "stdout",
     "output_type": "stream",
     "text": [
      "1등 번호: [2, 5, 11, 25, 33, 39]\n",
      "33\n",
      "12\n",
      "1등 번호: [2, 5, 11, 25, 33, 39], 보너스 번호: 12\n"
     ]
    }
   ],
   "source": [
    "# 로또 번호를 기억할 빈 리스트를 만든다.\n",
    "lotto = list()\n",
    "# 1등 번호\n",
    "while True:\n",
    "    # 1 ~ 45 사이의 난수를 발생시킨다.\n",
    "    number = random.randint(1, 45)\n",
    "    # print(number)\n",
    "    # 리스트에 중복되는 번호가 없으면 발생된 난수를 리스트에 추가한다.\n",
    "    if number not in lotto:\n",
    "        lotto.append(number)\n",
    "    # ===== if\n",
    "    # 리스트에 중복되지 않는 숫자가 6개 저장되면 무한 루프를 탈출시킨다.\n",
    "    if len(lotto) == 6:\n",
    "        break\n",
    "    # ===== if\n",
    "# ===== while\n",
    "lotto.sort()\n",
    "print('1등 번호: {}'.format(lotto))\n",
    "\n",
    "# 보너스 번호\n",
    "while True:\n",
    "    bonus = random.randrange(1, 46)\n",
    "    print(bonus)\n",
    "    if bonus not in lotto:\n",
    "        break\n",
    "    # ===== if\n",
    "# ===== while\n",
    "print('1등 번호: {}, 보너스 번호: {}'.format(lotto, bonus)) "
   ]
  }
 ],
 "metadata": {
  "kernelspec": {
   "display_name": "Python 3",
   "language": "python",
   "name": "python3"
  },
  "language_info": {
   "codemirror_mode": {
    "name": "ipython",
    "version": 3
   },
   "file_extension": ".py",
   "mimetype": "text/x-python",
   "name": "python",
   "nbconvert_exporter": "python",
   "pygments_lexer": "ipython3",
   "version": "3.6.8"
  }
 },
 "nbformat": 4,
 "nbformat_minor": 5
}
