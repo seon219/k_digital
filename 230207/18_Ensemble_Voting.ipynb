{
 "cells": [
  {
   "cell_type": "code",
   "execution_count": 1,
   "id": "84c8d70c",
   "metadata": {},
   "outputs": [],
   "source": [
    "%config Completer.use_jedi = False\n",
    "import warnings\n",
    "warnings.filterwarnings(action='ignore')\n",
    "import pandas as pd\n",
    "import numpy as np\n",
    "import matplotlib.pyplot as plt"
   ]
  },
  {
   "cell_type": "code",
   "execution_count": 2,
   "id": "e96e3338",
   "metadata": {},
   "outputs": [],
   "source": [
    "from sklearn import datasets # MNIST 손글씨 데이터셋을 사용하기 위해 import 한다.\n",
    "from sklearn.neighbors import KNeighborsClassifier # kNN\n",
    "from sklearn.svm import SVC # SVM\n",
    "from sklearn import tree # 의사결정 트리\n",
    "from sklearn.ensemble import VotingClassifier # 하드/소프트 보팅을 계산하기 위해 import 한다.\n",
    "from sklearn.model_selection import train_test_split\n",
    "from sklearn.metrics import accuracy_score"
   ]
  },
  {
   "cell_type": "markdown",
   "id": "185ecfe7",
   "metadata": {},
   "source": [
    "손글씨 데이터를 불러온다."
   ]
  },
  {
   "cell_type": "code",
   "execution_count": 3,
   "id": "f597d982",
   "metadata": {},
   "outputs": [
    {
     "name": "stdout",
     "output_type": "stream",
     "text": [
      "(1797, 64) (1797,)\n"
     ]
    }
   ],
   "source": [
    "mnist = datasets.load_digits()\n",
    "features, labels = mnist.data, mnist.target\n",
    "print(features.shape, labels.shape)"
   ]
  },
  {
   "cell_type": "markdown",
   "id": "005e3d4d",
   "metadata": {},
   "source": [
    "학습 데이터와 테스트 데이터를 나눈다."
   ]
  },
  {
   "cell_type": "code",
   "execution_count": 4,
   "id": "4f16637c",
   "metadata": {},
   "outputs": [
    {
     "name": "stdout",
     "output_type": "stream",
     "text": [
      "학습 데이터 개수: 1437, 테스트 데이터 개수: 360\n"
     ]
    }
   ],
   "source": [
    "X_train, X_test, y_train, y_test = train_test_split(features, labels, test_size=0.2)\n",
    "print('학습 데이터 개수: {}, 테스트 데이터 개수: {}'.format(X_train.shape[0], X_test.shape[0]))"
   ]
  },
  {
   "cell_type": "markdown",
   "id": "2d65bdb9",
   "metadata": {},
   "source": [
    "단일 모델이 정확도 측정  \n",
    "앙상블 정확도를 측정하기에 앞서서 단일 모델들의 정확도를 kNN, SVC, 의사결정 트리 분류기를 만들어 정확도를 계산한다."
   ]
  },
  {
   "cell_type": "code",
   "execution_count": 5,
   "id": "c53c4c79",
   "metadata": {},
   "outputs": [
    {
     "name": "stdout",
     "output_type": "stream",
     "text": [
      "knn accuracy: 87.500000%\n"
     ]
    }
   ],
   "source": [
    "# kNN\n",
    "knn = KNeighborsClassifier(n_neighbors=299).fit(X_train, y_train)\n",
    "knn_predict = knn.predict(X_test)\n",
    "print('knn accuracy: {:%}'.format(accuracy_score(y_test, knn_predict)))"
   ]
  },
  {
   "cell_type": "code",
   "execution_count": 6,
   "id": "65e1939a",
   "metadata": {},
   "outputs": [
    {
     "name": "stdout",
     "output_type": "stream",
     "text": [
      "svm accuracy: 86.388889%\n"
     ]
    }
   ],
   "source": [
    "# SVM\n",
    "svm = SVC(C=0.1, gamma=0.003, probability=True, random_state=35).fit(X_train, y_train)\n",
    "svm_predict = svm.predict(X_test)\n",
    "print('svm accuracy: {:%}'.format(accuracy_score(y_test, svm_predict)))"
   ]
  },
  {
   "cell_type": "code",
   "execution_count": 7,
   "id": "75ea85d7",
   "metadata": {},
   "outputs": [
    {
     "name": "stdout",
     "output_type": "stream",
     "text": [
      "dtree accuracy: 86.111111%\n"
     ]
    }
   ],
   "source": [
    "# 의사결정 트리\n",
    "dtree = tree.DecisionTreeClassifier(max_depth=8, random_state=35).fit(X_train, y_train)\n",
    "dtree_predict = dtree.predict(X_test)\n",
    "print('dtree accuracy: {:%}'.format(accuracy_score(y_test, dtree_predict)))"
   ]
  },
  {
   "cell_type": "markdown",
   "id": "24fa96fb",
   "metadata": {},
   "source": [
    "확률 합계"
   ]
  },
  {
   "cell_type": "code",
   "execution_count": 8,
   "id": "31e2d27b",
   "metadata": {},
   "outputs": [
    {
     "name": "stdout",
     "output_type": "stream",
     "text": [
      "[0.01003344 0.10033445 0.04013378 0.04347826 0.01672241 0.35785953\n",
      " 0.01003344 0.1638796  0.2173913  0.04013378]\n",
      "확률 합계: 0.9999999999999999\n"
     ]
    }
   ],
   "source": [
    "knn_proba = knn.predict_proba(X_test)\n",
    "# print(len(knn_proba))\n",
    "print(knn_proba[0])\n",
    "total = 0.0\n",
    "for i in knn_proba[0]:\n",
    "    total += i\n",
    "print('확률 합계: {}'.format(total))"
   ]
  },
  {
   "cell_type": "code",
   "execution_count": 9,
   "id": "b111759c",
   "metadata": {},
   "outputs": [
    {
     "name": "stdout",
     "output_type": "stream",
     "text": [
      "[0.00340567 0.01366591 0.01405407 0.01245482 0.00772094 0.81301216\n",
      " 0.00394819 0.01387845 0.09047832 0.02738145]\n",
      "확률 합계: 0.9999999999999998\n"
     ]
    }
   ],
   "source": [
    "svm_proba = svm.predict_proba(X_test)\n",
    "# print(len(svm_proba))\n",
    "print(svm_proba[0])\n",
    "total = 0.0\n",
    "for i in svm_proba[0]:\n",
    "    total += i\n",
    "print('확률 합계: {}'.format(total))"
   ]
  },
  {
   "cell_type": "code",
   "execution_count": 10,
   "id": "647d1a55",
   "metadata": {},
   "outputs": [
    {
     "name": "stdout",
     "output_type": "stream",
     "text": [
      "[0. 0. 0. 0. 0. 1. 0. 0. 0. 0.]\n",
      "확률 합계: 1.0\n"
     ]
    }
   ],
   "source": [
    "dtree_proba = dtree.predict_proba(X_test)\n",
    "# print(len(dtree_proba))\n",
    "print(dtree_proba[0])\n",
    "total = 0.0\n",
    "for i in dtree_proba[0]:\n",
    "    total += i\n",
    "print('확률 합계: {}'.format(total))"
   ]
  },
  {
   "cell_type": "markdown",
   "id": "bd495d03",
   "metadata": {},
   "source": [
    "하드 보팅, 소프트 보팅은 VotingClassifier를 사용해 쉽게 구현할 수 있다."
   ]
  },
  {
   "cell_type": "markdown",
   "id": "7052992c",
   "metadata": {},
   "source": [
    "하드 보팅  \n",
    "일반적인 투표와 같이 각 분류기의 예측값들을 모아 가장 많은 투표를 받은 예측값으로 최종 결론을 내린다."
   ]
  },
  {
   "cell_type": "code",
   "execution_count": 11,
   "id": "8f61ea9e",
   "metadata": {},
   "outputs": [
    {
     "name": "stdout",
     "output_type": "stream",
     "text": [
      "hard_voting: 92.777778%\n"
     ]
    }
   ],
   "source": [
    "voting_clf = VotingClassifier(estimators=[('knn', knn), ('svm', svm), ('decision_tree', dtree)], weights=[1, 1, 1],\n",
    "                voting='hard').fit(X_train, y_train)\n",
    "hard_voting_predict = voting_clf.predict(X_test)\n",
    "print('hard_voting: {:%}'.format(accuracy_score(y_test, hard_voting_predict)))"
   ]
  },
  {
   "cell_type": "markdown",
   "id": "818b1178",
   "metadata": {},
   "source": [
    "소프트 보팅"
   ]
  },
  {
   "cell_type": "code",
   "execution_count": 12,
   "id": "62251a58",
   "metadata": {},
   "outputs": [
    {
     "name": "stdout",
     "output_type": "stream",
     "text": [
      "soft_voting: 93.055556%\n"
     ]
    }
   ],
   "source": [
    "voting_clf = VotingClassifier(estimators=[('knn', knn), ('svm', svm), ('decision_tree', dtree)], weights=[1, 1, 1],\n",
    "                voting='soft').fit(X_train, y_train)\n",
    "soft_voting_predict = voting_clf.predict(X_test)\n",
    "print('soft_voting: {:%}'.format(accuracy_score(y_test, soft_voting_predict)))"
   ]
  },
  {
   "cell_type": "markdown",
   "id": "f3c79304",
   "metadata": {},
   "source": [
    "단일 모델과 앙상블 모델의 정확도 비교 시각화"
   ]
  },
  {
   "cell_type": "code",
   "execution_count": 13,
   "id": "e08f7599",
   "metadata": {},
   "outputs": [
    {
     "data": {
      "image/png": "[encoded data removed]",
      "text/plain": [
       "<Figure size 576x432 with 1 Axes>"
      ]
     },
     "metadata": {
      "needs_background": "light"
     },
     "output_type": "display_data"
    }
   ],
   "source": [
    "plt.figure(figsize=(8, 6))\n",
    "x = np.arange(5)\n",
    "plt.bar(x, height=[\n",
    "    accuracy_score(y_test, knn_predict),\n",
    "    accuracy_score(y_test, svm_predict),\n",
    "    accuracy_score(y_test, dtree_predict),\n",
    "    accuracy_score(y_test, hard_voting_predict),\n",
    "    accuracy_score(y_test, soft_voting_predict)\n",
    "])\n",
    "plt.xticks(x, ['knn', 'svm', 'decision_tree', 'hard_voting', 'soft_voting'])\n",
    "plt.show()"
   ]
  }
 ],
 "metadata": {
  "kernelspec": {
   "display_name": "Python [conda env:py36] *",
   "language": "python",
   "name": "conda-env-py36-py"
  },
  "language_info": {
   "codemirror_mode": {
    "name": "ipython",
    "version": 3
   },
   "file_extension": ".py",
   "mimetype": "text/x-python",
   "name": "python",
   "nbconvert_exporter": "python",
   "pygments_lexer": "ipython3",
   "version": "3.6.13"
  }
 },
 "nbformat": 4,
 "nbformat_minor": 5
}
