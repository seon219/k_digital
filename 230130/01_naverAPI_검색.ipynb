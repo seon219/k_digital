{
 "cells": [
  {
   "cell_type": "code",
   "execution_count": 2,
   "id": "7410dbd4",
   "metadata": {},
   "outputs": [],
   "source": [
    "import warnings\n",
    "warnings.filterwarnings(action='ignore')\n",
    "import requests"
   ]
  },
  {
   "cell_type": "markdown",
   "id": "434613fb",
   "metadata": {},
   "source": [
    "네이버 검색 API를 이용한 블로그 검색"
   ]
  },
  {
   "cell_type": "code",
   "execution_count": 9,
   "id": "1ac52061",
   "metadata": {
    "scrolled": false
   },
   "outputs": [
    {
     "name": "stdout",
     "output_type": "stream",
     "text": [
      "검색어 입력:다낭\n",
      "<Response [200]>\n",
      "1.\n",
      "{'title': '즐거운 시간을 보내봤던 <b>다낭</b> 롯데마트', 'link': 'https://blog.naver.com/rio4052/222995181706', 'description': '얼마 전 친구들과 꼭 한번 가보고 싶었던 베트남 <b>다낭</b> 여행을 하고 왔어요. 저렴한 물가도 맘에 들었지만 생각보다 볼거리, 즐길 거리 등 많았기에 더 기억에 남는 것 같아요. 그중 시내에 가까이 있는 <b>다낭</b>... ', 'bloggername': 'Nubi leather', 'bloggerlink': 'blog.naver.com/rio4052', 'postdate': '20230126'}\n",
      "================================================================================\n",
      "2.\n",
      "{'title': '<b>다낭</b> 마사지는 포레스트에서', 'link': 'https://blog.naver.com/jyknn/222993734725', 'description': '<b>다낭</b> 마사지 중에 가장 좋았던 곳을 꼽으라면 포레스트스파라고 말하고 싶어요. 서비스가 뛰어났던 건... 저희도 오전 일정을 미케비치에서 즐겁게 보낸 다음 <b>다낭</b> 마사지로 출발해 봤습니다. 이번 여행을 계획할... ', 'bloggername': 'so so...!', 'bloggerlink': 'blog.naver.com/jyknn', 'postdate': '20230125'}\n",
      "================================================================================\n",
      "3.\n",
      "{'title': '<b>다낭</b> 리조트 중에서 으뜸인 숙소 푸라마리조트', 'link': 'https://blog.naver.com/ghosttravel/222995390027', 'description': '<b>다낭</b> 푸라마리조트 후기입니다. 베트남 <b>다낭</b>은 여러 차례 오간 적이 있는데 특히 이곳에서 묵었던 일정이 기억에 남아요. 이국적인 인테리어로 해외여행 느낌을 제대로 느껴볼 수 있고 조식 또한 훌륭했던... ', 'bloggername': '베트남 자유여행의 동반자', 'bloggerlink': 'blog.naver.com/ghosttravel', 'postdate': '20230129'}\n",
      "================================================================================\n",
      "4.\n",
      "{'title': '<b>다낭</b> 신라모노그램 5성급 리조트 시설 너무 조아', 'link': 'https://blog.naver.com/ghosttour/222988880881', 'description': '한국은 지금 겨울이라 상당히 추운 만큼 동남아로의 여행을 꿈꾸는 분들이 많아졌는데 저도 이번에 추위를 피해 <b>다낭</b> 리조트로 호캉스를 다녀왔어요. 고민하다 신라의 브랜드 네임을 보고 선택한 <b>다낭</b>... ', 'bloggername': '고스트 트레블', 'bloggerlink': 'blog.naver.com/ghosttour', 'postdate': '20230119'}\n",
      "================================================================================\n",
      "5.\n",
      "{'title': '베트남 <b>다낭</b> 빈펄리조트 <b>다낭</b> 가족여행 호텔로 추천합니다', 'link': 'https://blog.naver.com/wkwmd81/222985655155', 'description': '베트남 <b>다낭</b> 여행을 준비하고 있어요. 지난번에 다녀왔던 <b>다낭</b>은 저 혼자 다녀왔던 거라 이번에는 가족여행 가려고 리조트랑 호텔 알아보고 있거든요. 그러다 발견한 대박 패키지가 있어 소개해 봅니다. <b>다낭</b>... ', 'bloggername': '아이와 함께 고고씽', 'bloggerlink': 'blog.naver.com/wkwmd81', 'postdate': '20230116'}\n",
      "================================================================================\n",
      "6.\n",
      "{'title': '<b>다낭</b> 리조트 나만리트리트 달콤했던 시간', 'link': 'https://blog.naver.com/gamseongtrip5/222993488941', 'description': '<b>다낭</b> 리조트 나만리트리트 달콤했던 시간 지난번에 남자친구와 시간을 맞춰 베트남을 방문했다 날씨가... 편이라 <b>다낭</b> 리조트 선택에 신중을 기했다 어디로 가야 좋을까? 한참 고민하다 마침 딱 알맞게도... ', 'bloggername': '뚫어뻥&apos;s Diary', 'bloggerlink': 'blog.naver.com/gamseongtrip5', 'postdate': '20230125'}\n",
      "================================================================================\n",
      "7.\n",
      "{'title': '<b>다낭</b> 마사지 즐거웠던 추억!', 'link': 'https://blog.naver.com/whro152/222956424497', 'description': '특히 그 중에서도 <b>다낭</b>은 한국인 여행객 비율이 높아서 한국인을 타겟으로 한 음식점이나 샵이... 친구들과 함께 찾아간 이 곳은 상시 할인 이벤트도 많이 하고 넓고 쾌적하기로 유명한 <b>다낭</b> 마사지 샵 중 하나... ', 'bloggername': 'wwols잡다한 블로그', 'bloggerlink': 'blog.naver.com/whro152', 'postdate': '20221215'}\n",
      "================================================================================\n",
      "8.\n",
      "{'title': '<b>다낭</b> 숙소 룸 수영장 조식 키즈클럽 <b>다낭</b> 신라모노그램 후기', 'link': 'https://blog.naver.com/gooddaytravel2/222988922299', 'description': '시내, 공항과 멀지 않으면서 골프장 인근에 있는 숙소를 찾다 발견한 <b>다낭</b> 신라모노그램. 2020년 오픈한 곳이라 현대적인 인테리어와 깔끔한 시설이 무척 마음에 들었던 <b>다낭</b> 숙소에요. <b>다낭</b> 신라모노그램 체크인... ', 'bloggername': '굿데이트래블', 'bloggerlink': 'blog.naver.com/gooddaytravel2', 'postdate': '20230122'}\n",
      "================================================================================\n",
      "9.\n",
      "{'title': '<b>다낭</b> 마사지 감동이였던 추억!', 'link': 'https://blog.naver.com/kykpd/222969351405', 'description': \"높다는 <b>다낭</b>으로 갔다 왔는데요 정말로 우리나라 사람들을 위한 샵부터 음식점들이 다양하게... <b>다낭</b> 마사지 제일 유명한 곳인 '안스파'인데요 확실히 신축 호텔 8층 전체로 다 사용하고 있는데 규모가 엄청 컸던... \", 'bloggername': '드라마읽어주는남자', 'bloggerlink': 'blog.naver.com/kykpd', 'postdate': '20221229'}\n",
      "================================================================================\n",
      "10.\n",
      "{'title': '<b>다낭</b> 마사지 추천 구글맵 평점 5점 논라스파 내돈내산', 'link': 'https://blog.naver.com/rltjru/222995659612', 'description': '<b>다낭</b> 마사지 추천 로컬마사지샵 논라스파 #내돈내산 <b>다낭</b>에서 받았던 만족스러웠던 마사지샵 논라스파 후기예요 논라스파는 제가 머물렀던 <b>다낭</b> 살말리아 호텔에서 5분 거리에 있던 마사지샵인데요... ', 'bloggername': '콩쥬언니의 작은부엌', 'bloggerlink': 'blog.naver.com/rltjru', 'postdate': '20230127'}\n",
      "================================================================================\n"
     ]
    }
   ],
   "source": [
    "searchTest = input('검색어 입력:')\n",
    "targetSite = 'https://openapi.naver.com/v1/search/blog.json?query=' + searchTest\n",
    "\n",
    "headers = {\n",
    "    'User-agent': 'Mozilla/5.0 (Windows NT 6.3; WOW64; Trident/7.0; rv:11.0) like Gecko',\n",
    "    'X-Naver-Client-Id' : 'fjhuqZG_YoxSeshpI3Bd',\n",
    "    'X-Naver-Client-Secret': 'Qm4kBFLG6x'\n",
    "}\n",
    "\n",
    "response = requests.get(targetSite, headers=headers)\n",
    "print(response)\n",
    "\n",
    "searchResult = response.json()\n",
    "# print(searchResult)\n",
    "items = searchResult['items']\n",
    "for i in range(len(items)):\n",
    "    print('{}.\\n{}'.format(i + 1, items[i]))\n",
    "    print('=' * 80)\n",
    "    "
   ]
  },
  {
   "cell_type": "markdown",
   "id": "bc56c7cb",
   "metadata": {},
   "source": [
    "네이버 검색 API를 이용한 뉴스 검색"
   ]
  },
  {
   "cell_type": "code",
   "execution_count": 11,
   "id": "6e493954",
   "metadata": {
    "scrolled": false
   },
   "outputs": [
    {
     "name": "stdout",
     "output_type": "stream",
     "text": [
      "검색어 입력:다낭\n",
      "<Response [200]>\n",
      "1.\n",
      "{'title': '이준기, 송중기 대신 &apos;아스달2&apos; 주인공 맡고...&quot;쉽지 않다&quot;', 'originallink': 'https://www.tvreport.co.kr/2130861', 'link': 'https://n.news.naver.com/mnews/article/213/0001243660?sid=106', 'description': '베트남 <b>다낭</b>에서 촬영한 화보로 이준기는 더스타매거진 2월호의 커버를 장식했다. &apos;러브레터&apos;란 주제로 이뤄진 화보에서 이준기는 팬들에게 전하는 감사함을 솔직하게 털어놓았다. 배우로서 대중문화 예술의 중심에서... ', 'pubDate': 'Mon, 30 Jan 2023 11:26:00 +0900'}\n",
      "================================================================================\n",
      "2.\n",
      "{'title': '틈틈이 가까운 해외로 떠나는 ‘틈새여행족’ 증가', 'originallink': 'http://digitalchosun.dizzo.com/site/data/html_dir/2023/01/30/2023013080066.html', 'link': 'http://digitalchosun.dizzo.com/site/data/html_dir/2023/01/30/2023013080066.html', 'description': '선호 여행지 4~10위는 방콕, <b>다낭</b>, 삿포로, 나트랑, 괌, 타이페이, 호치민이 올랐다. 이주철 G마켓 전략사업본부장은 “올해 예정된 해외항공 노선 증편 등에 힘입어 해외여행 회복세가 탄력을 받아 여행수요가 크게... ', 'pubDate': 'Mon, 30 Jan 2023 11:00:00 +0900'}\n",
      "================================================================================\n",
      "3.\n",
      "{'title': '가까운 곳, 틈틈이 떠나는 여행 인기..비수기·성수기 구분 모호', 'originallink': 'http://www.dailypop.kr/news/articleView.html?idxno=66349', 'link': 'http://www.dailypop.kr/news/articleView.html?idxno=66349', 'description': '항공기 공급이 원활해 노선이 많고, 단기간 다녀오기 좋아 인기인 것으로 분석된다. 선호 여행지 4~10위는 방콕, <b>다낭</b>, 삿포로, 나트랑, 괌, 타이페이, 호치민이 올랐다.', 'pubDate': 'Mon, 30 Jan 2023 10:56:00 +0900'}\n",
      "================================================================================\n",
      "4.\n",
      "{'title': '아세안 건축의 미학', 'originallink': 'https://www.travie.com/news/articleView.html?idxno=50944', 'link': 'https://www.travie.com/news/articleView.html?idxno=50944', 'description': '▶베트남 \\xa0Vietnam 골든 브릿지 Golden Bridge 골든 브릿지는 베트남 <b>다낭</b> 바나힐스 엔터테인먼트... 골든 브릿지는 순수 건축물을 넘어 2018년 6월 개통 이후 <b>다낭</b> 관광의 새로운 상징으로 자리매김했다. 에디터... ', 'pubDate': 'Mon, 30 Jan 2023 09:42:00 +0900'}\n",
      "================================================================================\n",
      "5.\n",
      "{'title': '우리은행, 베트남 법인 설립 후 최대실적인 영업수익 1억불 달성', 'originallink': 'https://www.safetynews.co.kr/news/articleView.html?idxno=218869', 'link': 'https://www.safetynews.co.kr/news/articleView.html?idxno=218869', 'description': '이 결과 현재 베트남 북부에 하노이 지점 등 11개, 중부에 <b>다낭</b> 지점 1개, 남부에 호치민 지점 등 8개, 총 20개의 전국 네트워크를 구축했으며\\xa02023년까지 하노이, 호치민 및 껀터 지역에 3개 네트워크를 추가로 신설해... ', 'pubDate': 'Mon, 30 Jan 2023 09:36:00 +0900'}\n",
      "================================================================================\n",
      "6.\n",
      "{'title': '이준기, 베트남 <b>다낭</b>에서의 특별한 하루[화보]', 'originallink': 'http://sports.khan.co.kr/news/sk_index.html?art_id=202301300920003&sec_id=540101&pt=nv', 'link': 'https://n.news.naver.com/mnews/article/144/0000864004?sid=106', 'description': '이준기는 30일 공개된 한 패션지 화보에서 베트남 <b>다낭</b>에서 완성한 화보를 공개했다. 그는 특유의 부드러운 미소와 함께 소년미도 장착해, 팬들의 시선을 사로잡았다. ‘러브레터’를 주제로 진행된 화보에서 이준기는... ', 'pubDate': 'Mon, 30 Jan 2023 09:22:00 +0900'}\n",
      "================================================================================\n",
      "7.\n",
      "{'title': '이준기 화보 “팬들은 나의 동반자, 항상 고마워”', 'originallink': 'https://www.mk.co.kr/article/10622359', 'link': 'https://n.news.naver.com/mnews/article/009/0005080674?sid=106', 'description': '베트남 <b>다낭</b>에서 촬영한 이번 스페셜한 화보에서 이준기는 특유의 부드러운 미소와 소년미까지 장착, 팬들의 시선을 단번에 사로잡았다. ‘러브레터’란 주제로 이뤄진 화보에서 이준기는 팬들에게 보내는 감사함을... ', 'pubDate': 'Mon, 30 Jan 2023 09:20:00 +0900'}\n",
      "================================================================================\n",
      "8.\n",
      "{'title': '[인포그래픽] “틈새여행족이 대세”… G마켓, 상반기 해외여행 트렌드 분석', 'originallink': 'http://www.segye.com/content/html/2023/01/30/20230130503021.html?OutUrl=naver', 'link': 'https://n.news.naver.com/mnews/article/022/0003778427?sid=101', 'description': '선호 여행지 4~10위는 방콕, <b>다낭</b>, 삿포로, 나트랑, 괌, 타이페이, 호치민이 올랐다. 이러한 여행 수요에 맞춰 G마켓은 30일부터 내달 12일까지 노랑풍선과 손잡고 ‘해외항공권 최대 10만원 할인’ 프로모션을 진행... ', 'pubDate': 'Mon, 30 Jan 2023 09:17:00 +0900'}\n",
      "================================================================================\n",
      "9.\n",
      "{'title': '이준기 &quot;&apos;아스달 연대기2&apos; 촬영중..오랜만 사극이라 도전할 것 많아&quot;[화보]', 'originallink': 'http://biz.heraldcorp.com/view.php?ud=202301300901289421367_1', 'link': 'https://n.news.naver.com/mnews/article/112/0003612346?sid=106', 'description': '베트남 <b>다낭</b>에서 촬영한 스페셜한 화보에서 이준기는 특유의 부드러운 미소와 소년미까지 장착했다. ‘러브레터’란 주제로 이뤄진 화보에서 이준기는 팬들에게 보내는 감사함을 진솔하게 털어놓았다. 배우로서... ', 'pubDate': 'Mon, 30 Jan 2023 09:09:00 +0900'}\n",
      "================================================================================\n",
      "10.\n",
      "{'title': '이준기 &quot;&apos;아스달연대기2&apos;, 여러가지로 쉽지 않은 작품&quot; [화보]', 'originallink': 'http://www.slist.kr/news/articleView.html?idxno=420973', 'link': 'http://www.slist.kr/news/articleView.html?idxno=420973', 'description': '베트남 <b>다낭</b>에서 촬영한 이번 스페셜한 화보에서 이준기는 특유의 부드러운 미소와 소년미까지 장착,\\xa0팬들의 시선을 단번에 사로잡았다. &apos;러브레터&apos;란 주제로 이뤄진 화보에서 이준기는 팬들에게 보내는 감사함을... ', 'pubDate': 'Mon, 30 Jan 2023 09:06:00 +0900'}\n",
      "================================================================================\n"
     ]
    }
   ],
   "source": [
    "searchTest = input('검색어 입력:')\n",
    "targetSite = 'https://openapi.naver.com/v1/search/news.json?query=' + searchTest\n",
    "\n",
    "headers = {\n",
    "    'User-agent': 'Mozilla/5.0 (Windows NT 6.3; WOW64; Trident/7.0; rv:11.0) like Gecko',\n",
    "    'X-Naver-Client-Id' : 'fjhuqZG_YoxSeshpI3Bd',\n",
    "    'X-Naver-Client-Secret': 'Qm4kBFLG6x'\n",
    "}\n",
    "\n",
    "response = requests.get(targetSite, headers=headers)\n",
    "print(response)\n",
    "\n",
    "searchResult = response.json()\n",
    "# print(searchResult)\n",
    "items = searchResult['items']\n",
    "for i in range(len(items)):\n",
    "    print('{}.\\n{}'.format(i + 1, items[i]))\n",
    "    print('=' * 80)\n",
    "    "
   ]
  },
  {
   "cell_type": "markdown",
   "id": "ed77e518",
   "metadata": {},
   "source": [
    "네이버 검색 API를 이용한 성인 검색어 판별  \n",
    "https://kin.naver.com/qna/detail.naver?d1id=1&dirId=10601&docId=73835556&qb=64Sk7J2067KEIOyEseyduOqygOyDieyWtA==&enc=utf8&section=kin.ext&rank=2&search_sort=0&spq=0"
   ]
  },
  {
   "cell_type": "code",
   "execution_count": 48,
   "id": "3745f228",
   "metadata": {
    "scrolled": false
   },
   "outputs": [
    {
     "name": "stdout",
     "output_type": "stream",
     "text": [
      "검색어 입력: 너의밤기도\n",
      "<Response [200]>\n",
      "{'adult': '1'}\n",
      "1\n"
     ]
    }
   ],
   "source": [
    "searchTest = input('검색어 입력: ')\n",
    "targetSite = 'https://openapi.naver.com/v1/search/adult.json?query=' + searchTest\n",
    "\n",
    "headers = {\n",
    "    'User-agent': 'Mozilla/5.0 (Windows NT 6.3; WOW64; Trident/7.0; rv:11.0) like Gecko',\n",
    "    'X-Naver-Client-Id' : 'fjhuqZG_YoxSeshpI3Bd',\n",
    "    'X-Naver-Client-Secret': 'Qm4kBFLG6x'\n",
    "}\n",
    "\n",
    "response = requests.get(targetSite, headers=headers)\n",
    "print(response)\n",
    "\n",
    "searchResult = response.json()\n",
    "print(searchResult)\n",
    "adult = searchResult['adult']\n",
    "print(adult)\n",
    "    "
   ]
  },
  {
   "cell_type": "markdown",
   "id": "ca4c4a02",
   "metadata": {},
   "source": [
    "네이버 검색 API를 이용한 사전 검색"
   ]
  },
  {
   "cell_type": "code",
   "execution_count": 28,
   "id": "eab3abbf",
   "metadata": {},
   "outputs": [
    {
     "name": "stdout",
     "output_type": "stream",
     "text": [
      "검색어 입력:다낭\n",
      "<Response [200]>\n",
      "1.\n",
      "{'title': '<b>다낭</b>', 'link': 'https://ko.wikipedia.org/wiki/%EB%8B%A4%EB%82%AD', 'description': '<b>다낭</b> ( 베트남어: Đà Nẵng )은 베트남 남중부 지방의 최대 상업 및 항구도시이자 베트남의 다섯 개의 직할시 중 하나이고, 베트남에서 호찌민시, 하노이, 하이퐁 다음으로 네 번째 큰 도시이다.... ', 'thumbnail': ''}\n",
      "================================================================================\n",
      "2.\n",
      "{'title': '<b>다낭</b>', 'link': 'https://terms.naver.com/entry.naver?docId=1078931&cid=40942&categoryId=34043', 'description': ' 베트남의 직할시이며 베트남 중부지역의 최대 상업도시.  남중국해에 면한 주요항구 도시로 오래전부터 동서무역의 국제무역항으로 발전하였고, 베트남 중부지역의 최대 상업도시이다. <b>다낭</b>의 도심을... ', 'thumbnail': 'https://phinf.pstatic.net/image.rmcnmv/ncr/2017/05/24/1127/531C05F3C303F3AC26336E7793EE40C3181_muploader_d_480P_854_1024_128_logo.jpg#1280x854#m'}\n",
      "================================================================================\n",
      "3.\n",
      "{'title': '<b>다낭</b>', 'link': 'https://terms.naver.com/entry.naver?docId=2696178&cid=51736&categoryId=51736', 'description': \"남중국해에 면한 <b>다낭</b> 만 깊숙한 캄렌 강 하구 왼쪽 기슭에 위치하고 있다. 1787년 안남 왕국에서 프랑스에 할양되어 그 뒤 군항으로 발전하였다. 지명은 베트남 어로 '탁한 하천'이라는 뜻이다. 베트남 전쟁 때... \", 'thumbnail': ''}\n",
      "================================================================================\n",
      "4.\n",
      "{'title': '<b>다낭</b>', 'link': 'https://terms.naver.com/entry.naver?docId=2466400&cid=51778&categoryId=51778', 'description': '베트남 남부, 꽝남 성의 성도, 항구도시. [옛 이름]투란 Tourane. 인구 37만 1000명. 화학 · 섬유공업이 있음. 베트남전쟁중 남 · 북 베트남의 국경 근처, 미국군의 군사기지로 확대 · 사용하였음.', 'thumbnail': ''}\n",
      "================================================================================\n",
      "5.\n",
      "{'title': '<b>다낭</b> 여행 기초 정보', 'link': 'https://terms.naver.com/entry.naver?docId=6033080&cid=67006&categoryId=67272', 'description': \" <b>다낭</b>의 비치는 미국 '포브스'가 선정한 세계 6대 해변 중 하나로 베트남의 대표 휴양지다. [통화] 화폐 단위는 동(đồng, VND)이다. VND1,000에 50원 전후이며, 0 하나를 빼고 나누기 2를 하면 한국... \", 'thumbnail': 'http://openapi-dbscthumb.phinf.naver.net/5885_000_4/20200818175406414_I61U75ITC.jpg/fb104_3_i1.jpg?type=m160_160'}\n",
      "================================================================================\n",
      "6.\n",
      "{'title': '차낭', 'link': 'https://terms.naver.com/entry.naver?docId=1635969&cid=50346&categoryId=50346', 'description': '차(茶)를 넣는 주머니를 말한다.', 'thumbnail': ''}\n",
      "================================================================================\n",
      "7.\n",
      "{'title': '베트남 <b>다낭</b> 여행', 'link': 'https://terms.naver.com/list.naver?categoryId=67272', 'description': '', 'thumbnail': ''}\n",
      "================================================================================\n",
      "8.\n",
      "{'title': '<b>다낭</b>역', 'link': 'https://ko.wikipedia.org/wiki/%EB%8B%A4%EB%82%AD%EC%97%AD', 'description': '<b>다낭</b> 역 ( 베트남어: Ga Đà Nẵng \\xa0/ Ga沱㶞 )은 베트남 <b>다낭</b> 시(인구 89만명 거주)에 위치한 철도역이다. 하노이와 호찌민 시를 잇는 남북선 상에 위치한 역이다. 남북선의 기점역 하노이 역에서 791km 지점에... ', 'thumbnail': ''}\n",
      "================================================================================\n",
      "9.\n",
      "{'title': '<b>다낭</b> 항', 'link': 'https://ko.wikipedia.org/wiki/%EB%8B%A4%EB%82%AD_%ED%95%AD', 'description': '<b>다낭</b>항 ( 베트남어: Cảng Đà Nẵng )은 베트남 중부 남중국해에 접하는 <b>다낭</b>시의 한강 어귀에 위치한 주요 항구이다. <b>다낭</b>항은 베트남 제3의 항구이다. (호찌민시의 사이공항과 하이퐁항에 이어)... ', 'thumbnail': ''}\n",
      "================================================================================\n",
      "10.\n",
      "{'title': '<b>다낭</b> 항', 'link': 'https://terms.naver.com/entry.naver?docId=5810983&cid=63383&categoryId=65542', 'description': '어선들이 <b>다낭</b> 항을 드나들고 있다.', 'thumbnail': 'http://openapi-dbscthumb.phinf.naver.net/5701_000_3/20190810133354728_2AVZC7THN.jpg/am91cm5hbGV5ZXwz.jpg?type=m160_160'}\n",
      "================================================================================\n"
     ]
    }
   ],
   "source": [
    "searchTest = input('검색어 입력:')\n",
    "targetSite = 'https://openapi.naver.com/v1/search/encyc.json?query=' + searchTest\n",
    "\n",
    "headers = {\n",
    "    'User-agent': 'Mozilla/5.0 (Windows NT 6.3; WOW64; Trident/7.0; rv:11.0) like Gecko',\n",
    "    'X-Naver-Client-Id' : 'fjhuqZG_YoxSeshpI3Bd',\n",
    "    'X-Naver-Client-Secret': 'Qm4kBFLG6x'\n",
    "}\n",
    "\n",
    "response = requests.get(targetSite, headers=headers)\n",
    "print(response)\n",
    "\n",
    "searchResult = response.json()\n",
    "# print(searchResult)\n",
    "items = searchResult['items']\n",
    "for i in range(len(items)):\n",
    "    print('{}.\\n{}'.format(i + 1, items[i]))\n",
    "    print('=' * 80)\n",
    "    "
   ]
  },
  {
   "cell_type": "markdown",
   "id": "86d2c638",
   "metadata": {},
   "source": [
    "네이버 검색 API를 이용한 영화 검색"
   ]
  },
  {
   "cell_type": "code",
   "execution_count": 29,
   "id": "c2024413",
   "metadata": {
    "scrolled": true
   },
   "outputs": [
    {
     "name": "stdout",
     "output_type": "stream",
     "text": [
      "검색어 입력:아바타\n",
      "<Response [200]>\n",
      "1.\n",
      "{'title': '<b>아바타</b> 5', 'link': 'https://movie.naver.com/movie/bi/mi/basic.nhn?code=164121', 'image': '', 'subtitle': 'Avatar 5', 'pubDate': '2027', 'director': '제임스 카메론|', 'actor': '시고니 위버|조 샐다나|샘 워싱턴|우나 채플린|스티븐 랭|지오바니 리비시|', 'userRating': '9.64'}\n",
      "================================================================================\n",
      "2.\n",
      "{'title': '<b>아바타</b> 4', 'link': 'https://movie.naver.com/movie/bi/mi/basic.nhn?code=113331', 'image': '', 'subtitle': 'Avatar 4', 'pubDate': '2025', 'director': '제임스 카메론|', 'actor': '조 샐다나|샘 워싱턴|스티븐 랭|시고니 위버|우나 채플린|지오바니 리비시|', 'userRating': '8.53'}\n",
      "================================================================================\n",
      "3.\n",
      "{'title': '<b>아바타</b> 3', 'link': 'https://movie.naver.com/movie/bi/mi/basic.nhn?code=79567', 'image': '', 'subtitle': 'Avatar 3', 'pubDate': '2023', 'director': '제임스 카메론|', 'actor': '스티븐 랭|조 샐다나|샘 워싱턴|시고니 위버|우나 채플린|지오바니 리비시|', 'userRating': '8.96'}\n",
      "================================================================================\n",
      "4.\n",
      "{'title': '<b>아바타</b>: 물의 길', 'link': 'https://movie.naver.com/movie/bi/mi/basic.nhn?code=74977', 'image': 'https://ssl.pstatic.net/imgmovie/mdi/mit110/0749/74977_P61_170924.jpg', 'subtitle': 'Avatar: The Way of Water', 'pubDate': '2022', 'director': '제임스 카메론|', 'actor': '시고니 위버|스티븐 랭|조 샐다나|샘 워싱턴|우나 채플린|케이트 윈슬렛|지오바니 리비시|', 'userRating': '8.65'}\n",
      "================================================================================\n",
      "5.\n",
      "{'title': '<b>아바타</b> 리마스터링', 'link': 'https://movie.naver.com/movie/bi/mi/basic.nhn?code=221031', 'image': 'https://ssl.pstatic.net/imgmovie/mdi/mit110/2210/221031_P01_113306.jpg', 'subtitle': 'Avatar', 'pubDate': '2022', 'director': '제임스 카메론|', 'actor': '샘 워싱턴|조 샐다나|시고니 위버|스티븐 랭|', 'userRating': '9.49'}\n",
      "================================================================================\n",
      "6.\n",
      "{'title': '<b>아바타</b>의 후예1 : 쾌락의 행성', 'link': 'https://movie.naver.com/movie/bi/mi/basic.nhn?code=212492', 'image': 'https://ssl.pstatic.net/imgmovie/mdi/mit110/2124/212492_P01_155817.jpg', 'subtitle': 'This Ain&apos;t Avatar XXX', 'pubDate': '2020', 'director': '엑셀 브라운|', 'actor': '', 'userRating': '0.00'}\n",
      "================================================================================\n",
      "7.\n",
      "{'title': '<b>아바타</b>의 후예2: 인간 성노예', 'link': 'https://movie.naver.com/movie/bi/mi/basic.nhn?code=212861', 'image': 'https://ssl.pstatic.net/imgmovie/mdi/mit110/2128/212861_P01_114306.jpg', 'subtitle': 'This Ain&apos;t Avatar XXX #2', 'pubDate': '2020', 'director': '엑셀 브라운|', 'actor': '', 'userRating': '0.00'}\n",
      "================================================================================\n",
      "8.\n",
      "{'title': '<b>아바타</b> 정글의 비밀', 'link': 'https://movie.naver.com/movie/bi/mi/basic.nhn?code=122101', 'image': 'https://ssl.pstatic.net/imgmovie/mdi/mit110/1221/122101_P00_110037.jpg', 'subtitle': 'Jungle Master', 'pubDate': '2013', 'director': '슈커|', 'actor': '장안치|리정샹|', 'userRating': '4.66'}\n",
      "================================================================================\n",
      "9.\n",
      "{'title': '마이 <b>아바타</b> 호스', 'link': 'https://movie.naver.com/movie/bi/mi/basic.nhn?code=117597', 'image': 'https://ssl.pstatic.net/imgmovie/mdi/mit110/1175/117597_P00_152058.jpg', 'subtitle': 'My Avatar Horse', 'pubDate': '2012', 'director': '호우 케밍|리우 셴|', 'actor': '', 'userRating': '0.00'}\n",
      "================================================================================\n",
      "10.\n",
      "{'title': '<b>아바타</b>', 'link': 'https://movie.naver.com/movie/bi/mi/basic.nhn?code=84024', 'image': 'https://ssl.pstatic.net/imgmovie/mdi/mit110/0840/84024_P01_163324.jpg', 'subtitle': 'Avatar', 'pubDate': '2011', 'director': '와다 아츠시|', 'actor': '사노 카즈마|미즈사와 나코|하시모토 아이|사카타 리카코|하네유리|', 'userRating': '7.86'}\n",
      "================================================================================\n"
     ]
    }
   ],
   "source": [
    "searchTest = input('검색어 입력:')\n",
    "targetSite = 'https://openapi.naver.com/v1/search/movie.json?query=' + searchTest\n",
    "\n",
    "headers = {\n",
    "    'User-agent': 'Mozilla/5.0 (Windows NT 6.3; WOW64; Trident/7.0; rv:11.0) like Gecko',\n",
    "    'X-Naver-Client-Id' : 'fjhuqZG_YoxSeshpI3Bd',\n",
    "    'X-Naver-Client-Secret': 'Qm4kBFLG6x'\n",
    "}\n",
    "\n",
    "response = requests.get(targetSite, headers=headers)\n",
    "print(response)\n",
    "\n",
    "searchResult = response.json()\n",
    "# print(searchResult)\n",
    "items = searchResult['items']\n",
    "for i in range(len(items)):\n",
    "    print('{}.\\n{}'.format(i + 1, items[i]))\n",
    "    print('=' * 80)\n",
    "    "
   ]
  },
  {
   "cell_type": "markdown",
   "id": "fe495577",
   "metadata": {},
   "source": [
    "네이버 검색 API를 이용한 카페 검색"
   ]
  },
  {
   "cell_type": "code",
   "execution_count": 31,
   "id": "58515baf",
   "metadata": {
    "scrolled": true
   },
   "outputs": [
    {
     "name": "stdout",
     "output_type": "stream",
     "text": [
      "검색어 입력:아바타\n",
      "<Response [200]>\n",
      "1.\n",
      "{'title': '<b>아바타</b>와 o3 질문요', 'link': 'http://cafe.naver.com/dronplay/691333', 'description': '<b>아바타</b> 영입해서 바인딩하고 집안에서 조금 날려봤습니다. 소음이 에어2에 비해 날카롭네요. 질문은 ㅡ <b>아바타</b> 1. 티턴투홈이 안되나요? 2. 좁은데 들어가거나 실내에서 신호 않끊기나요? 3. 신호 끊어지면 호버링하고... ', 'cafename': '★드론플레이★대한민국No1드론커뮤니...', 'cafeurl': 'https://cafe.naver.com/dronplay'}\n",
      "================================================================================\n",
      "2.\n",
      "{'title': '<b>아바타</b>1편안봤어도 <b>아바타</b>2 잼나나요?', 'link': 'http://cafe.naver.com/wjswnaka/4539406', 'description': '<b>아바타</b>1편 안봤어도 <b>아바타</b>2 잼나나요? <b>아바타</b> 내용 연결인가요? <b>아바타</b>2만봐도 잼나나요?', 'cafename': '전주&전북 알뜰맘', 'cafeurl': 'https://cafe.naver.com/wjswnaka'}\n",
      "================================================================================\n",
      "3.\n",
      "{'title': '이혼소송] 스노우 <b>아바타</b>', 'link': 'http://cafe.naver.com/w3mj/253621', 'description': '예) 남편외도) 남편외도 모텔cctv 증거보전 질문. 해보세요 .... 뭔가 대리만족 ㅋㅋㅋㅋㅋㅋㅋ 되게되게 사기인데 기분좋네? #SNOW #나만의 <b>아바타</b> 만들기 #AI <b>아바타</b> https://snow.onelink.me/4056789859/zz6as01y', 'cafename': '사랑과전쟁카페 - 상간녀소송, 외도 증...', 'cafeurl': 'https://cafe.naver.com/w3mj'}\n",
      "================================================================================\n",
      "4.\n",
      "{'title': '스노우 AI<b>아바타</b> 만드는방법', 'link': 'http://cafe.naver.com/bk1009/5334135', 'description': '스노우 AI 만드는법 ⏬스노우 AI <b>아바타</b> 만드는비법⏬ http://m.site.naver.com/15pQp *꿀팁/이용안내/무료사용방법/결제 정보 확인 안녕하세요 오늘 요즘 젊은분들에게 가장 핫한 스노우ai <b>아바타</b> 만들기가 엄청난 인기를... ', 'cafename': '급매물과 반값매매[부동산,전원생활,건...', 'cafeurl': 'https://cafe.naver.com/bk1009'}\n",
      "================================================================================\n",
      "5.\n",
      "{'title': '<b>아바타</b>4 &amp; 고갈비', 'link': 'http://cafe.naver.com/nyamnyam/216206', 'description': '하루 늦었지만 새해 복 많이 받으세요^^ 엄니가 지난 주에 <b>아바타</b>2 또 보고 싶다고 하셔서 오늘 복합터미널 CGV에서 보고왔어요. 3일날 <b>아바타</b>2보고 23일날 <b>아바타</b>2봤으니 <b>아바타</b>4 맞지유? <b>아바타</b>2 IMAX 혹시 아직... ', 'cafename': '대전의 맛집멋집', 'cafeurl': 'https://cafe.naver.com/nyamnyam'}\n",
      "================================================================================\n",
      "6.\n",
      "{'title': '<b>아바타</b>로 입문하여 5인치 커스텀을 접한 소감.', 'link': 'http://cafe.naver.com/dronplay/691296', 'description': '<b>아바타</b>를 우선 운용중이었기에, 기체와 배터리 등 만 추가하여 경험해볼 기회가 생겼어요. 시뮬레이터도 몇시간 해봤고, <b>아바타</b>로도 어느정도 날려봤으니깐, 어떻게든 되겠지? 라는, 가벼운 생각으로 들고 나갔는데! 잠깐만... ', 'cafename': '★드론플레이★대한민국No1드론커뮤니...', 'cafeurl': 'https://cafe.naver.com/dronplay'}\n",
      "================================================================================\n",
      "7.\n",
      "{'title': '<b>아바타</b> 보려는데요', 'link': 'http://cafe.naver.com/bbmom/1320734', 'description': '<b>아바타</b> 봐야지 봐야지 했는데 이제야 보네요~~ 4dx 3d랑 3d랑 다른거죠?~^^ 아이들이랑 볼건데 <b>아바타</b>는 그냥 3d로 봐야 할까요?', 'cafename': '♡배방 mom&mom♡', 'cafeurl': 'https://cafe.naver.com/bbmom'}\n",
      "================================================================================\n",
      "8.\n",
      "{'title': '<b>아바타</b>가 이 정도군요...', 'link': 'http://cafe.naver.com/audiodudu/562712', 'description': '1년에 한편 볼까말까하는데 오늘 <b>아바타</b>를 봤습니다. 뭐 한 20분보다 졸거나 끄겠지했는데 이건 뭐 넘사벽... 시간 나시면 꼭~~~~~~~~ 한번 보세요. 스토리, 영상, 연기 뭐하나 빠지는게 없습니다. <b>아바타</b> 2 넘 기대됩니다.', 'cafename': '두근두근 오디오', 'cafeurl': 'https://cafe.naver.com/audiodudu'}\n",
      "================================================================================\n",
      "9.\n",
      "{'title': '<b>아바타</b> 유치원생은 못 보죠?', 'link': 'http://cafe.naver.com/seochom/834063', 'description': '남편이 오랜만에 극장 가고 싶은데 <b>아바타</b> 보고싶다네요. 12세 관람가인데 둘째가 7세라서 못 들어가죠?ㅜ 이해하기 어려울까요?', 'cafename': '서초 엄마들의 모임', 'cafeurl': 'https://cafe.naver.com/seochom'}\n",
      "================================================================================\n",
      "10.\n",
      "{'title': '❤️봉바타(봉구+<b>아바타</b>)❤️', 'link': 'http://cafe.naver.com/freedogcat/838433', 'description': '봉바타 예요 ^^ 귀엽네요 ^___^ 봉구엄니 <b>아바타</b> 재미나구먼요~~', 'cafename': '프리도그-강아지무료분양 고양이무료분...', 'cafeurl': 'https://cafe.naver.com/freedogcat'}\n",
      "================================================================================\n"
     ]
    }
   ],
   "source": [
    "searchTest = input('검색어 입력:')\n",
    "targetSite = 'https://openapi.naver.com/v1/search/cafearticle.json?query=' + searchTest\n",
    "\n",
    "headers = {\n",
    "    'User-agent': 'Mozilla/5.0 (Windows NT 6.3; WOW64; Trident/7.0; rv:11.0) like Gecko',\n",
    "    'X-Naver-Client-Id' : 'fjhuqZG_YoxSeshpI3Bd',\n",
    "    'X-Naver-Client-Secret': 'Qm4kBFLG6x'\n",
    "}\n",
    "\n",
    "response = requests.get(targetSite, headers=headers)\n",
    "print(response)\n",
    "\n",
    "searchResult = response.json()\n",
    "# print(searchResult)\n",
    "items = searchResult['items']\n",
    "for i in range(len(items)):\n",
    "    print('{}.\\n{}'.format(i + 1, items[i]))\n",
    "    print('=' * 80)\n",
    "    "
   ]
  },
  {
   "cell_type": "markdown",
   "id": "4ff0a343",
   "metadata": {},
   "source": [
    "네이버 검색 API를 이용한 지식인 검색"
   ]
  },
  {
   "cell_type": "code",
   "execution_count": 33,
   "id": "9b5f39fd",
   "metadata": {
    "scrolled": true
   },
   "outputs": [
    {
     "name": "stdout",
     "output_type": "stream",
     "text": [
      "검색어 입력:영화\n",
      "<Response [200]>\n",
      "1.\n",
      "{'title': '<b>영화</b>추천 해주세요', 'link': 'https://kin.naver.com/qna/detail.naver?d1id=3&dirId=30302&docId=437582584&qb=7JiB7ZmU&enc=utf8&section=kin.qna&rank=1&search_sort=0&spq=0', 'description': '되게 막장스토리 <b>영화</b> 추천해주세요!해외<b>영화</b>면 더 좋아용  무비 43 감독 엘리자베스 뱅크스, 스티븐 브릴, 스티브... 쌍 존슨 개봉 미개봉 데이트 <b>영화</b> 감독 아론 셀처 출연 앨리슨 해니건, 아담 캠벨 개봉 미개봉 무서운 <b>영화</b> 감독... '}\n",
      "================================================================================\n",
      "2.\n",
      "{'title': '<b>영화</b>추천 부탁드립니다.', 'link': 'https://kin.naver.com/qna/detail.naver?d1id=3&dirId=303&docId=426377710&qb=7JiB7ZmU&enc=utf8&section=kin.qna&rank=2&search_sort=0&spq=0', 'description': '개인적으로 좋아하는 <b>영화</b>부류입니다. 리미트리스 많이들... 흥미로운 <b>영화</b>입니다. 두번째는 원라인입니다. 조직적이며 사기수법으로 큰 돈을 버는 그런<b>영화</b>인데... 인도<b>영화</b>입니다. 인도의 계급사회를 신랄하게 비판하는것 같으면서도... '}\n",
      "================================================================================\n",
      "3.\n",
      "{'title': 'Btv <b>영화</b> 추천해주세요', 'link': 'https://kin.naver.com/qna/detail.naver?d1id=3&dirId=30303&docId=412088191&qb=7JiB7ZmU&enc=utf8&section=kin.qna&rank=3&search_sort=0&spq=0', 'description': '추리물 btv<b>영화</b>나 가족 <b>영화</b>로 부탁드려욤 디즈니영환데 ㅌ비에서 하는거도 좋아요 !!  안녕하세요.... SK브로드밴드 B tv에서 시청하실 수 있는 <b>영화</b>는 아래 링크를 통해 더욱 자세하게 확인해보실 수 있으며, &apos;애니메이션... '}\n",
      "================================================================================\n",
      "4.\n",
      "{'title': '<b>영화</b>감독이 꿈이에요', 'link': 'https://kin.naver.com/qna/detail.naver?d1id=3&dirId=3031102&docId=437842693&qb=7JiB7ZmU&enc=utf8&section=kin.qna&rank=4&search_sort=0&spq=0', 'description': '<b>영화</b>감독이 꿈인 예비고1 학생입니다.진학에 대해 생각하던중 <b>영화</b>감독에 대한 꿈에 마음이 가더라고요. <b>영화</b>감독이라... 고등학생이시면 <b>영화</b> 영상 관련하여 대학에 진학하시면 <b>영화</b>감독이라는 꿈에 좀더 가깝게 다가갈 수 있습니다.... '}\n",
      "================================================================================\n",
      "5.\n",
      "{'title': '고어<b>영화</b>에 대해 잘 아시는 분', 'link': 'https://kin.naver.com/qna/detail.naver?d1id=3&dirId=3031001&docId=429273611&qb=7JiB7ZmU&enc=utf8&section=kin.qna&rank=5&search_sort=0&spq=0', 'description': '한중일 중에서는 일본이 가장 고어<b>영화</b> 강국(?)인 편인가요? 고어<b>영화</b>라고 했을때 생각나는 일본 <b>영화</b>는 몇개 되는데... 아무튼 일본이 확실히 고어<b>영화</b>가 많은 편인가요? 그리고 해외에서도 일본 고어<b>영화</b>가 인지도가 있는 편인가요?... '}\n",
      "================================================================================\n",
      "6.\n",
      "{'title': '플레이스토어 <b>영화</b>보는거', 'link': 'https://kin.naver.com/qna/detail.naver?d1id=3&dirId=30307&docId=434458735&qb=7JiB7ZmU&enc=utf8&section=kin.qna&rank=6&search_sort=0&spq=0', 'description': '플레이스토어 <b>영화</b> 자주 애용했는데 오늘 <b>영화</b>한편 구매하려했는데 <b>영화</b> 보는 칸도 없어지고 전에 구매해놨던 <b>영화</b>들도 다 없어졌더라구요... 혹시 아예 없어진건지와 영구소지한 <b>영화</b>에 대한 보상은 없는지 궁금합니다... '}\n",
      "================================================================================\n",
      "7.\n",
      "{'title': '<b>영화</b> 드라마 추천해주세요', 'link': 'https://kin.naver.com/qna/detail.naver?d1id=13&dirId=130404&docId=437816359&qb=7JiB7ZmU&enc=utf8&section=kin.qna&rank=7&search_sort=0&spq=0', 'description': '<b>영화</b>를 좀 더 많이 보긴 하는데 드라마도 상관없어요!!... 옛날 <b>영화</b> 드라마 그런거 말고 그래도 2014년 이상이였으면 좋겠네여 되도록이면 국내였으면 좋겠습니다 <b>영화</b>를 많이 몰라서 유명한 <b>영화</b>도 잘 안봤어여 범죄도시나... '}\n",
      "================================================================================\n",
      "8.\n",
      "{'title': '넷플릭스 슬픈<b>영화</b>', 'link': 'https://kin.naver.com/qna/detail.naver?d1id=3&dirId=30302&docId=433286678&qb=7JiB7ZmU&enc=utf8&section=kin.qna&rank=8&search_sort=0&spq=0', 'description': '넷플릭스 슬픈<b>영화</b> 추천해주세요! 주말에보고싶은데 볼 <b>영화</b>가 없어서… 완전 눈물흘릴수있는 <b>영화</b>로 추천해주세요! 로맨스,멜로 등등별로 안좋아해요…한국<b>영화</b>쪽으로 추천해주세여! 아이 캔 스피크 감독 김현석 출연... '}\n",
      "================================================================================\n",
      "9.\n",
      "{'title': '한국 외국<b>영화</b>', 'link': 'https://kin.naver.com/qna/detail.naver?d1id=3&dirId=30302&docId=425062643&qb=7JiB7ZmU&enc=utf8&section=kin.qna&rank=9&search_sort=0&spq=0', 'description': '제 개인적인 생각인데 한국 <b>영화</b> 외국 <b>영화</b> 같은 날에 개봉을 했는데 한국<b>영화</b>는 금방 티비에 나오는데 외국<b>영화</b>는 한참 뒤에 나오는 것같은데 맞을까요? 맞다면 왜 그런건가요? 반은 맞고 반은 틀린데 외국<b>영화</b>는 티비에 안나오더라도... '}\n",
      "================================================================================\n",
      "10.\n",
      "{'title': '빨리부탁 <b>영화</b> 추천좀요', 'link': 'https://kin.naver.com/qna/detail.naver?d1id=3&dirId=30302&docId=417113777&qb=7JiB7ZmU&enc=utf8&section=kin.qna&rank=10&search_sort=0&spq=0', 'description': '인생<b>영화</b>.추천<b>영화</b>들 인생 <b>영화</b> 추천 드립니다! 쇼생크 탈출 감독 프랭크 다라본트 출연 팀 로빈스, 모건... 인생 살면서 한 번쯤은 봐야할 <b>영화</b> 골랐습니다. 워낙 유명한 <b>영화</b>들이 많아서 질문자분이 보신 <b>영화</b>도 많이... '}\n",
      "================================================================================\n"
     ]
    }
   ],
   "source": [
    "searchTest = input('검색어 입력:')\n",
    "targetSite = 'https://openapi.naver.com/v1/search/kin.json?query=' + searchTest\n",
    "\n",
    "headers = {\n",
    "    'User-agent': 'Mozilla/5.0 (Windows NT 6.3; WOW64; Trident/7.0; rv:11.0) like Gecko',\n",
    "    'X-Naver-Client-Id' : 'fjhuqZG_YoxSeshpI3Bd',\n",
    "    'X-Naver-Client-Secret': 'Qm4kBFLG6x'\n",
    "}\n",
    "\n",
    "response = requests.get(targetSite, headers=headers)\n",
    "print(response)\n",
    "\n",
    "searchResult = response.json()\n",
    "# print(searchResult)\n",
    "items = searchResult['items']\n",
    "for i in range(len(items)):\n",
    "    print('{}.\\n{}'.format(i + 1, items[i]))\n",
    "    print('=' * 80)\n",
    "    "
   ]
  },
  {
   "cell_type": "markdown",
   "id": "cd475e25",
   "metadata": {},
   "source": [
    "네이버 검색 API를 이용한 지역 검색"
   ]
  },
  {
   "cell_type": "code",
   "execution_count": 35,
   "id": "62394260",
   "metadata": {
    "scrolled": false
   },
   "outputs": [
    {
     "name": "stdout",
     "output_type": "stream",
     "text": [
      "검색어 입력:홍콩반점\n",
      "<Response [200]>\n",
      "1.\n",
      "{'title': '<b>홍콩반점</b>0410 명동점', 'link': 'https://start.theborn.co.kr/prebrand_detail.php?bc=26', 'category': '중식>중식당', 'description': '', 'telephone': '', 'address': '서울특별시 중구 명동2가 3-2', 'roadAddress': '서울특별시 중구 명동10길 13', 'mapx': '310559', 'mapy': '551715'}\n",
      "================================================================================\n",
      "2.\n",
      "{'title': '<b>홍콩반점</b>0410 독립문점', 'link': 'https://start.theborn.co.kr/prebrand_detail.php?bc=26', 'category': '중식>중식당', 'description': '', 'telephone': '', 'address': '서울특별시 서대문구 영천동 91', 'roadAddress': '서울특별시 서대문구 독립문로 15', 'mapx': '308351', 'mapy': '552527'}\n",
      "================================================================================\n",
      "3.\n",
      "{'title': '<b>홍콩반점</b>0410 동대문점', 'link': 'https://start.theborn.co.kr/prebrand_detail.php?bc=26', 'category': '중식>중식당', 'description': '', 'telephone': '', 'address': '서울특별시 중구 을지로6가 18-96 2층', 'roadAddress': '서울특별시 중구 장충단로13길 11 2층', 'mapx': '312569', 'mapy': '552197'}\n",
      "================================================================================\n",
      "4.\n",
      "{'title': '<b>홍콩</b>익스프레스 본점', 'link': 'https://www.instagram.com/hongkong_express_/', 'category': '중식>중식당', 'description': '', 'telephone': '', 'address': '서울특별시 종로구 당주동 5', 'roadAddress': '서울특별시 종로구 새문안로5길 19 로얄빌딩 지하 66호', 'mapx': '309579', 'mapy': '552687'}\n",
      "================================================================================\n",
      "5.\n",
      "{'title': '<b>홍콩반점</b>0410 대학로점', 'link': 'https://start.theborn.co.kr/prebrand_detail.php?bc=26', 'category': '중식>중식당', 'description': '', 'telephone': '', 'address': '서울특별시 종로구 동숭동 1-105 지하1층', 'roadAddress': '서울특별시 종로구 대학로10길 16 지하1층', 'mapx': '312146', 'mapy': '553737'}\n",
      "================================================================================\n"
     ]
    }
   ],
   "source": [
    "searchTest = input('검색어 입력:')\n",
    "targetSite = 'https://openapi.naver.com/v1/search/local.json?query=' + searchTest + '&display=5'\n",
    "\n",
    "headers = {\n",
    "    'User-agent': 'Mozilla/5.0 (Windows NT 6.3; WOW64; Trident/7.0; rv:11.0) like Gecko',\n",
    "    'X-Naver-Client-Id' : 'fjhuqZG_YoxSeshpI3Bd',\n",
    "    'X-Naver-Client-Secret': 'Qm4kBFLG6x'\n",
    "}\n",
    "\n",
    "response = requests.get(targetSite, headers=headers)\n",
    "print(response)\n",
    "\n",
    "searchResult = response.json()\n",
    "# print(searchResult)\n",
    "items = searchResult['items']\n",
    "for i in range(len(items)):\n",
    "    print('{}.\\n{}'.format(i + 1, items[i]))\n",
    "    print('=' * 80)\n",
    "    "
   ]
  },
  {
   "cell_type": "markdown",
   "id": "0d07c68b",
   "metadata": {},
   "source": [
    "네이버 검색 API를 이용한 오타변환 검색"
   ]
  },
  {
   "cell_type": "code",
   "execution_count": 56,
   "id": "d2809815",
   "metadata": {
    "scrolled": false
   },
   "outputs": [
    {
     "name": "stdout",
     "output_type": "stream",
     "text": [
      "검색어 입력:빨레집게\n",
      "<Response [200]>\n",
      "빨래집게\n"
     ]
    }
   ],
   "source": [
    "searchTest = input('검색어 입력:')\n",
    "targetSite = 'https://openapi.naver.com/v1/search/errata.json?query=' + searchTest\n",
    "\n",
    "headers = {\n",
    "    'User-agent': 'Mozilla/5.0 (Windows NT 6.3; WOW64; Trident/7.0; rv:11.0) like Gecko',\n",
    "    'X-Naver-Client-Id' : 'fjhuqZG_YoxSeshpI3Bd',\n",
    "    'X-Naver-Client-Secret': 'Qm4kBFLG6x'\n",
    "}\n",
    "\n",
    "response = requests.get(targetSite, headers=headers)\n",
    "print(response)\n",
    "\n",
    "searchResult = response.json()\n",
    "# print(searchResult)\n",
    "errata = searchResult['errata']\n",
    "print(errata)    "
   ]
  },
  {
   "cell_type": "code",
   "execution_count": 64,
   "id": "4895cdce",
   "metadata": {
    "scrolled": false
   },
   "outputs": [
    {
     "name": "stdout",
     "output_type": "stream",
     "text": [
      "검색어 입력:아름다웅 이땅에 금수강상에\n",
      "아름다운 이땅에 금수강산에 \n"
     ]
    }
   ],
   "source": [
    "searchTest = input('검색어 입력:').split() \n",
    "for text in searchTest: \n",
    "    targetSite = 'https://openapi.naver.com/v1/search/errata.json?query=' + text\n",
    "\n",
    "    headers = {\n",
    "        'User-agent': 'Mozilla/5.0 (Windows NT 6.3; WOW64; Trident/7.0; rv:11.0) like Gecko',\n",
    "        'X-Naver-Client-Id' : 'fjhuqZG_YoxSeshpI3Bd',\n",
    "        'X-Naver-Client-Secret': 'Qm4kBFLG6x'\n",
    "    }\n",
    "\n",
    "    response = requests.get(targetSite, headers=headers)\n",
    "    #print(response)\n",
    "\n",
    "    searchResult = response.json()\n",
    "    # print(searchResult)\n",
    "    errata = searchResult['errata']\n",
    "    if len(errata) == 0:\n",
    "        print(text, end=' ')\n",
    "    else:\n",
    "        print(errata, end= ' ')\n",
    "print()"
   ]
  }
 ],
 "metadata": {
  "kernelspec": {
   "display_name": "Python 3",
   "language": "python",
   "name": "python3"
  },
  "language_info": {
   "codemirror_mode": {
    "name": "ipython",
    "version": 3
   },
   "file_extension": ".py",
   "mimetype": "text/x-python",
   "name": "python",
   "nbconvert_exporter": "python",
   "pygments_lexer": "ipython3",
   "version": "3.6.8"
  }
 },
 "nbformat": 4,
 "nbformat_minor": 5
}
