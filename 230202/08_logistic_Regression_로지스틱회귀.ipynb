{
 "cells": [
  {
   "cell_type": "code",
   "execution_count": 1,
   "id": "2ca57eaf",
   "metadata": {},
   "outputs": [
    {
     "name": "stdout",
     "output_type": "stream",
     "text": [
      "WARNING:tensorflow:From D:\\anaconda3\\envs\\py36\\lib\\site-packages\\tensorflow\\python\\compat\\v2_compat.py:101: disable_resource_variables (from tensorflow.python.ops.variable_scope) is deprecated and will be removed in a future version.\n",
      "Instructions for updating:\n",
      "non-resource variables are not supported in the long term\n"
     ]
    }
   ],
   "source": [
    "import warnings\n",
    "warnings.filterwarnings(action='ignore')\n",
    "%config Completer.use_jedi = False\n",
    "import tensorflow.compat.v1 as tf\n",
    "tf.disable_v2_behavior()\n",
    "import numpy as np\n",
    "import pandas as pd"
   ]
  },
  {
   "cell_type": "markdown",
   "id": "8f5b9622",
   "metadata": {},
   "source": [
    "공부시간, 과외시간과 시험성적 사이의 관계는 좌표로 나타냈을 때 형태가 직선으로 해결되는 선형 회귀를 사용하기에 적합했었다.  \n",
    "공부시간에 따른 점수가 아닌 합격 여부로 발표되는 시험이 있을 경우 직선으로 해결하기에 적합하지 못한 문제가 발생된다.  \n",
    "이럴 때 사용하는 로지스틱 회귀는 참과 거짓 중에 하나를 내놓는 과정으로 참과 거짓을 구분한 'S'를 눞혀놓은 형태의 선을 그어주는 작업이다.\n",
    "<img src='./sigmoid.png'>"
   ]
  },
  {
   "cell_type": "markdown",
   "id": "cdffb1ae",
   "metadata": {},
   "source": [
    "참조  \n",
    "http://taewan.kim/post/sigmoid_diff/  \n",
    "https://devlog.jwgo.kr/2018/04/16/sigmoid-graph-according-to-slope-change/"
   ]
  },
  {
   "cell_type": "code",
   "execution_count": 2,
   "id": "a0b03d94",
   "metadata": {},
   "outputs": [
    {
     "name": "stdout",
     "output_type": "stream",
     "text": [
      "공부시간: [2, 4, 6, 8, 10, 12, 14], 합격여부: [0, 0, 0, 1, 1, 1, 1]\n"
     ]
    }
   ],
   "source": [
    "# 공부시간(x), 합격여부(y) => [공부시간, 합격여부]\n",
    "data = [[2, 0], [4, 0], [6, 0], [8, 1], [10, 1], [12, 1], [14, 1]]\n",
    "xData = [i[0] for i in data] # 공부시간\n",
    "yData = [i[1] for i in data] # 합격여부\n",
    "print('공부시간: {}, 합격여부: {}'.format(xData, yData))"
   ]
  },
  {
   "cell_type": "markdown",
   "id": "0455ebe7",
   "metadata": {},
   "source": [
    "https://tensorflowkorea.gitbooks.io/tensorflow-kr/content/g3doc/api_docs/python/constant_op.html"
   ]
  },
  {
   "cell_type": "code",
   "execution_count": 3,
   "id": "6daaab44",
   "metadata": {},
   "outputs": [
    {
     "name": "stdout",
     "output_type": "stream",
     "text": [
      "a = [0.19012115], b = [-0.31412832]\n"
     ]
    }
   ],
   "source": [
    "# 기울기 a1, a2와 y절편 b를 임의로 정한다.\n",
    "# random_uniform() 균등값으로 난수값 반환\n",
    "# random_normal() 정규분포로부터의 난수값 반환\n",
    "a = tf.Variable(tf.random_normal([1], dtype=tf.float64)) # 기울기(가중치)\n",
    "b = tf.Variable(tf.random_normal([1], dtype=tf.float64)) # y절편(바이어스)\n",
    "sess = tf.Session()\n",
    "sess.run(tf.global_variables_initializer())\n",
    "print('a = {}, b = {}'.format(sess.run(a), sess.run(b)))"
   ]
  },
  {
   "cell_type": "markdown",
   "id": "1d6466ed",
   "metadata": {},
   "source": [
    "시그모이드 방정식"
   ]
  },
  {
   "cell_type": "code",
   "execution_count": 4,
   "id": "ab65213c",
   "metadata": {},
   "outputs": [
    {
     "name": "stdout",
     "output_type": "stream",
     "text": [
      "2.718281828459045\n"
     ]
    }
   ],
   "source": [
    "# np.e: numpy에서 지수 값(2.718281828459045)을 의미하는 함수\n",
    "print(np.e)\n",
    "Y = 1 / (1 + np.e ** - (a * xData + b))"
   ]
  },
  {
   "cell_type": "markdown",
   "id": "638f7f1c",
   "metadata": {},
   "source": [
    "시그모이드 방정식의 오차를 계산하는 수식을 만든다.  \n",
    "시그모이드 함수의 특성은 예측값(Y)이 항상 0 아니면 1이다."
   ]
  },
  {
   "cell_type": "code",
   "execution_count": 5,
   "id": "9004de66",
   "metadata": {},
   "outputs": [],
   "source": [
    "loss = -tf.reduce_mean(np.array(yData) * tf.log(Y) + (1 - np.array(yData)) * tf.log(1 - Y))"
   ]
  },
  {
   "cell_type": "markdown",
   "id": "f3f99e9f",
   "metadata": {},
   "source": [
    "오차를 최소로 하는 값을 찾는다"
   ]
  },
  {
   "cell_type": "code",
   "execution_count": 6,
   "id": "ee1efe49",
   "metadata": {},
   "outputs": [],
   "source": [
    "gradient_descent = tf.train.GradientDescentOptimizer(0.1).minimize(loss)"
   ]
  },
  {
   "cell_type": "markdown",
   "id": "2d06c0de",
   "metadata": {},
   "source": [
    "학습시킨다."
   ]
  },
  {
   "cell_type": "code",
   "execution_count": 7,
   "id": "56e4affe",
   "metadata": {},
   "outputs": [
    {
     "name": "stdout",
     "output_type": "stream",
     "text": [
      "epoch:      0, loss:   0.5393, a:   0.2949, b:  -0.4252\n",
      "epoch:   5000, loss:   0.0579, a:   1.5620, b: -10.7463\n",
      "epoch:  10000, loss:   0.0370, a:   2.0122, b: -13.9193\n",
      "epoch:  15000, loss:   0.0274, a:   2.3199, b: -16.0815\n",
      "epoch:  20000, loss:   0.0217, a:   2.5563, b: -17.7404\n",
      "epoch:  25000, loss:   0.0180, a:   2.7486, b: -19.0891\n",
      "epoch:  30000, loss:   0.0153, a:   2.9108, b: -20.2259\n",
      "epoch:  35000, loss:   0.0134, a:   3.0509, b: -21.2083\n",
      "epoch:  40000, loss:   0.0118, a:   3.1744, b: -22.0731\n",
      "epoch:  45000, loss:   0.0106, a:   3.2846, b: -22.8453\n",
      "epoch:  50000, loss:   0.0096, a:   3.3841, b: -23.5427\n",
      "epoch:  55000, loss:   0.0088, a:   3.4748, b: -24.1783\n",
      "epoch:  60000, loss:   0.0081, a:   3.5582, b: -24.7623\n",
      "epoch:  65000, loss:   0.0075, a:   3.6353, b: -25.3022\n",
      "epoch:  70000, loss:   0.0070, a:   3.7070, b: -25.8043\n",
      "epoch:  75000, loss:   0.0066, a:   3.7740, b: -26.2734\n",
      "epoch:  80000, loss:   0.0062, a:   3.8368, b: -26.7135\n",
      "epoch:  85000, loss:   0.0058, a:   3.8960, b: -27.1281\n",
      "epoch:  90000, loss:   0.0055, a:   3.9520, b: -27.5199\n",
      "epoch:  95000, loss:   0.0052, a:   4.0050, b: -27.8913\n",
      "epoch: 100000, loss:   0.0050, a:   4.0554, b: -28.2442\n",
      "epoch: 105000, loss:   0.0047, a:   4.1034, b: -28.5805\n",
      "epoch: 110000, loss:   0.0045, a:   4.1492, b: -28.9015\n",
      "epoch: 115000, loss:   0.0043, a:   4.1931, b: -29.2087\n",
      "epoch: 120000, loss:   0.0041, a:   4.2352, b: -29.5031\n",
      "epoch: 125000, loss:   0.0040, a:   4.2755, b: -29.7858\n",
      "epoch: 130000, loss:   0.0038, a:   4.3144, b: -30.0577\n",
      "epoch: 135000, loss:   0.0037, a:   4.3518, b: -30.3195\n",
      "epoch: 140000, loss:   0.0036, a:   4.3878, b: -30.5720\n",
      "epoch: 145000, loss:   0.0034, a:   4.4226, b: -30.8158\n",
      "epoch: 150000, loss:   0.0033, a:   4.4563, b: -31.0514\n",
      "epoch: 155000, loss:   0.0032, a:   4.4889, b: -31.2795\n",
      "epoch: 160000, loss:   0.0031, a:   4.5204, b: -31.5005\n",
      "epoch: 165000, loss:   0.0030, a:   4.5510, b: -31.7147\n",
      "epoch: 170000, loss:   0.0029, a:   4.5807, b: -31.9227\n",
      "epoch: 175000, loss:   0.0029, a:   4.6096, b: -32.1247\n",
      "epoch: 180000, loss:   0.0028, a:   4.6376, b: -32.3211\n",
      "epoch: 185000, loss:   0.0027, a:   4.6649, b: -32.5122\n",
      "epoch: 190000, loss:   0.0026, a:   4.6915, b: -32.6983\n",
      "epoch: 195000, loss:   0.0026, a:   4.7174, b: -32.8796\n",
      "epoch: 200000, loss:   0.0025, a:   4.7426, b: -33.0563\n",
      "epoch: 205000, loss:   0.0024, a:   4.7673, b: -33.2287\n",
      "epoch: 210000, loss:   0.0024, a:   4.7913, b: -33.3971\n",
      "epoch: 215000, loss:   0.0023, a:   4.8148, b: -33.5614\n",
      "epoch: 220000, loss:   0.0023, a:   4.8377, b: -33.7221\n",
      "epoch: 225000, loss:   0.0022, a:   4.8602, b: -33.8792\n",
      "epoch: 230000, loss:   0.0022, a:   4.8821, b: -34.0328\n",
      "epoch: 235000, loss:   0.0021, a:   4.9036, b: -34.1832\n",
      "epoch: 240000, loss:   0.0021, a:   4.9246, b: -34.3304\n",
      "epoch: 245000, loss:   0.0020, a:   4.9452, b: -34.4747\n",
      "epoch: 250000, loss:   0.0020, a:   4.9654, b: -34.6160\n",
      "epoch: 255000, loss:   0.0020, a:   4.9852, b: -34.7545\n",
      "epoch: 260000, loss:   0.0019, a:   5.0046, b: -34.8904\n",
      "epoch: 265000, loss:   0.0019, a:   5.0237, b: -35.0237\n",
      "epoch: 270000, loss:   0.0019, a:   5.0423, b: -35.1546\n",
      "epoch: 275000, loss:   0.0018, a:   5.0607, b: -35.2830\n",
      "epoch: 280000, loss:   0.0018, a:   5.0787, b: -35.4092\n",
      "epoch: 285000, loss:   0.0018, a:   5.0964, b: -35.5331\n",
      "epoch: 290000, loss:   0.0017, a:   5.1138, b: -35.6549\n",
      "epoch: 295000, loss:   0.0017, a:   5.1309, b: -35.7746\n",
      "epoch: 300000, loss:   0.0017, a:   5.1477, b: -35.8923\n"
     ]
    }
   ],
   "source": [
    "sess = tf.Session()\n",
    "sess.run(tf.global_variables_initializer())\n",
    "\n",
    "for epoch in range(300001):\n",
    "    sess.run(gradient_descent)\n",
    "    if epoch % 5000 == 0:\n",
    "        # print('epoch: {:6d}, loss: {:8.4f}, a: {:8.4f}, b: {:8.4f}'.format(epoch, sess.run(loss), \n",
    "        #     sess.run(a)[0], sess.run(b)[0]))\n",
    "        print('epoch: %6d, loss: %8.4f, a: %8.4f, b: %8.4f' % (epoch, sess.run(loss), sess.run(a), sess.run(b)))"
   ]
  }
 ],
 "metadata": {
  "kernelspec": {
   "display_name": "Python [conda env:py36] *",
   "language": "python",
   "name": "conda-env-py36-py"
  },
  "language_info": {
   "codemirror_mode": {
    "name": "ipython",
    "version": 3
   },
   "file_extension": ".py",
   "mimetype": "text/x-python",
   "name": "python",
   "nbconvert_exporter": "python",
   "pygments_lexer": "ipython3",
   "version": "3.6.13"
  }
 },
 "nbformat": 4,
 "nbformat_minor": 5
}
