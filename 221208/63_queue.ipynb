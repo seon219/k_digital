{
 "cells": [
  {
   "cell_type": "code",
   "execution_count": 1,
   "id": "b329f117",
   "metadata": {},
   "outputs": [],
   "source": [
    "class Queue:\n",
    "    def __init__(self, size = 5):\n",
    "        self.queue = [] # 큐 역할을 할 빈 리스트\n",
    "        self.size = size # 큐의 크기\n",
    "        self.rear = 0 # 큐의 뒤쪽 포인터 => 큐에 데이터가 입력될 때마다 1씩 증가한다.\n",
    "        self.front = 0 # 큐의 앞쪽 포인터 => 큐에서 데이터가 제거될 때마다 1씩 증가한다.\n",
    "        \n",
    "    # add => 입력\n",
    "    def add(self, data):\n",
    "        if data not in self.queue: # 중복검사\n",
    "            if self.size > self.rear: # overflow 검사\n",
    "                self.queue.append(data)\n",
    "                self.rear += 1\n",
    "                print('큐에 {}을(를) 저장합니다. rear = {}, front = {}'.format(data, self.rear, self.front), end = ' ')\n",
    "            else:\n",
    "                print('overflow 발생... 큐가 가득차서 {}를(을) 저장할 수 없습니다.'.format(data))\n",
    "        else:\n",
    "            print('{}는(은) 중복된 데이터 입니다.'.format(data))\n",
    "        self.view()\n",
    "    \n",
    "    # view => 데이터 보기\n",
    "    def view(self):\n",
    "        \n",
    "        print('큐에 저장된 데이터 => ', end='')\n",
    "        \n",
    "        # underflow 인가 검사한다. 큐는  underflow 조건이 2가지가 있다.\n",
    "        # 데이터가 한 건도 입력되지 않았을 경우 rear는 0이므로 underflow가 발생된다.\n",
    "        # 데이터가 모두 제거된 경우 rear와 front가 같아져서 underflow가 발생된다.\n",
    "        if self.rear <= 0 or self.rear == self.front:\n",
    "            print('없음')\n",
    "        else :\n",
    "            for i in range(self.front, self.rear):\n",
    "                print(self.queue[i], end=' ')\n",
    "            print()\n",
    "    \n",
    "    # remove => 출력\n",
    "    def remove(self):\n",
    "        if self.rear <= 0 or self.rear == self.front: # underlow 검사\n",
    "            print('큐에 저장된 데이터가 없습니다.')\n",
    "        else :\n",
    "            # 큐에 저장된 제거할 데이터를 얻어온다.\n",
    "            data = self.queue[self.front]\n",
    "            # 얻어온 데이터를 큐에서 제거한다.\n",
    "            self.queue[self.front] = '제거됨'\n",
    "            # 큐에서 데이터를 제거했으므로 front를 1 증가시킨다.\n",
    "            self.front += 1\n",
    "            print('큐에 {}을(를) 제거합니다. rear = {}, front = {}'.format(data, self.rear, self.front), end = ' ')\n",
    "            self.view()"
   ]
  },
  {
   "cell_type": "code",
   "execution_count": 2,
   "id": "df6ff4b7",
   "metadata": {},
   "outputs": [
    {
     "name": "stdout",
     "output_type": "stream",
     "text": [
      "큐에 111을(를) 저장합니다. rear = 1, front = 0 큐에 저장된 데이터 => 111 \n",
      "큐에 333을(를) 저장합니다. rear = 2, front = 0 큐에 저장된 데이터 => 111 333 \n",
      "큐에 999을(를) 저장합니다. rear = 3, front = 0 큐에 저장된 데이터 => 111 333 999 \n",
      "큐에 555을(를) 저장합니다. rear = 4, front = 0 큐에 저장된 데이터 => 111 333 999 555 \n",
      "큐에 222을(를) 저장합니다. rear = 5, front = 0 큐에 저장된 데이터 => 111 333 999 555 222 \n",
      "overflow 발생... 큐가 가득차서 777를(을) 저장할 수 없습니다.\n",
      "큐에 저장된 데이터 => 111 333 999 555 222 \n",
      "================================================================================\n",
      "큐에 111을(를) 제거합니다. rear = 5, front = 1 큐에 저장된 데이터 => 333 999 555 222 \n",
      "큐에 333을(를) 제거합니다. rear = 5, front = 2 큐에 저장된 데이터 => 999 555 222 \n",
      "큐에 999을(를) 제거합니다. rear = 5, front = 3 큐에 저장된 데이터 => 555 222 \n",
      "큐에 555을(를) 제거합니다. rear = 5, front = 4 큐에 저장된 데이터 => 222 \n",
      "큐에 222을(를) 제거합니다. rear = 5, front = 5 큐에 저장된 데이터 => 없음\n",
      "큐에 저장된 데이터가 없습니다.\n"
     ]
    }
   ],
   "source": [
    "if __name__ == '__main__':\n",
    "    queue = Queue()\n",
    "    queue.add(111)\n",
    "    queue.add(333)\n",
    "    queue.add(999)\n",
    "    queue.add(555)\n",
    "    queue.add(222)\n",
    "    queue.add(777)\n",
    "    \n",
    "    print('=' * 80)\n",
    "    \n",
    "    queue.remove()\n",
    "    queue.remove()\n",
    "    queue.remove()\n",
    "    queue.remove()\n",
    "    queue.remove()\n",
    "    queue.remove()"
   ]
  }
 ],
 "metadata": {
  "kernelspec": {
   "display_name": "Python 3",
   "language": "python",
   "name": "python3"
  },
  "language_info": {
   "codemirror_mode": {
    "name": "ipython",
    "version": 3
   },
   "file_extension": ".py",
   "mimetype": "text/x-python",
   "name": "python",
   "nbconvert_exporter": "python",
   "pygments_lexer": "ipython3",
   "version": "3.6.8"
  }
 },
 "nbformat": 4,
 "nbformat_minor": 5
}
