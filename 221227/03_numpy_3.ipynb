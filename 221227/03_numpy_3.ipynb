{
 "cells": [
  {
   "cell_type": "code",
   "execution_count": 1,
   "id": "c4b93bb7",
   "metadata": {},
   "outputs": [],
   "source": [
    "import warnings\n",
    "warnings.filterwarnings('ignore')\n",
    "import numpy as np\n",
    "\n",
    "def pprint(arr):\n",
    "    print('type: {}'.format(type(arr)))\n",
    "    print('hape: {}, dimenseion: {}, dtype: {}'.format(arr.shape, arr.ndim, arr.dtype))\n",
    "    print('numpy 배열의 데이터\\n', arr, sep = '')"
   ]
  },
  {
   "cell_type": "markdown",
   "id": "43c942da",
   "metadata": {},
   "source": [
    "인덱싱  \n",
    "배열의 각 요소는 axis 인덱스 배열로 참조 할 수 있다.  \n",
    "1차원 배열은 1개의 인덱스, 2차원 배열은 2개의 인덱스, 3차원 배열은 3개의 인덱스로 요소를 참조할 수 있다.  \n",
    "인덱싱 작업시 [행][열]과 같이 인덱스를 지정하고나 [행, 열]과 같이 인덱스를 지정할 수 있다."
   ]
  },
  {
   "cell_type": "code",
   "execution_count": 2,
   "id": "aac5193d",
   "metadata": {},
   "outputs": [
    {
     "name": "stdout",
     "output_type": "stream",
     "text": [
      "type: <class 'numpy.ndarray'>\n",
      "hape: (24,), dimenseion: 1, dtype: int32\n",
      "numpy 배열의 데이터\n",
      "[ 0  1  2  3  4  5  6  7  8  9 10 11 12 13 14 15 16 17 18 19 20 21 22 23]\n",
      "type: <class 'numpy.ndarray'>\n",
      "hape: (4, 6), dimenseion: 2, dtype: int32\n",
      "numpy 배열의 데이터\n",
      "[[ 0  1  2  3  4  5]\n",
      " [ 6  7  8  9 10 11]\n",
      " [12 13 14 15 16 17]\n",
      " [18 19 20 21 22 23]]\n",
      "type: <class 'numpy.ndarray'>\n",
      "hape: (2, 4, 3), dimenseion: 3, dtype: int32\n",
      "numpy 배열의 데이터\n",
      "[[[ 0  1  2]\n",
      "  [ 3  4  5]\n",
      "  [ 6  7  8]\n",
      "  [ 9 10 11]]\n",
      "\n",
      " [[12 13 14]\n",
      "  [15 16 17]\n",
      "  [18 19 20]\n",
      "  [21 22 23]]]\n"
     ]
    }
   ],
   "source": [
    "a = np.arange(24) # 1차원 배열\n",
    "pprint(a)\n",
    "b = np.arange(24).reshape(4, 6) # 2차원 배열\n",
    "pprint(b)\n",
    "c = np.arange(24).reshape(2, 4, 3) # 3차원 배열\n",
    "pprint(c)"
   ]
  },
  {
   "cell_type": "code",
   "execution_count": 3,
   "id": "71b28299",
   "metadata": {
    "scrolled": true
   },
   "outputs": [
    {
     "name": "stdout",
     "output_type": "stream",
     "text": [
      "5\n",
      "[     0      1      2      3      4 100000      6      7      8      9\n",
      "     10     11     12     13     14     15     16     17     18     19\n",
      "     20     21     22     23]\n"
     ]
    }
   ],
   "source": [
    "# 1차원 배열 요소 참조 및 변경\n",
    "print(a[5])\n",
    "a[5] = 100000\n",
    "print(a)"
   ]
  },
  {
   "cell_type": "code",
   "execution_count": 4,
   "id": "7c928c64",
   "metadata": {},
   "outputs": [
    {
     "name": "stdout",
     "output_type": "stream",
     "text": [
      "1\n",
      "[[    0 10000     2     3     4     5]\n",
      " [    6     7     8     9    10    11]\n",
      " [   12    13    14    15    16    17]\n",
      " [   18    19    20    21    22    23]]\n",
      "9\n",
      "[[    0 10000     2     3     4     5]\n",
      " [    6     7     8 20000    10    11]\n",
      " [   12    13    14    15    16    17]\n",
      " [   18    19    20    21    22    23]]\n"
     ]
    }
   ],
   "source": [
    "# 2차원 배열 요소 참조 및 변겅\n",
    "print(b[0][1])\n",
    "b[0][1] = 10000\n",
    "print(b)\n",
    "print(b[1, 3])\n",
    "b[1, 3] = 20000\n",
    "print(b)"
   ]
  },
  {
   "cell_type": "code",
   "execution_count": 5,
   "id": "88e6f2ec",
   "metadata": {},
   "outputs": [
    {
     "name": "stdout",
     "output_type": "stream",
     "text": [
      "13\n",
      "[[[    0     1     2]\n",
      "  [    3     4     5]\n",
      "  [    6     7     8]\n",
      "  [    9    10    11]]\n",
      "\n",
      " [[   12 99999    14]\n",
      "  [   15    16    17]\n",
      "  [   18    19    20]\n",
      "  [   21    22    23]]]\n",
      "7\n",
      "[[[    0     1     2]\n",
      "  [    3     4     5]\n",
      "  [    6  8888     8]\n",
      "  [    9    10    11]]\n",
      "\n",
      " [[   12 99999    14]\n",
      "  [   15    16    17]\n",
      "  [   18    19    20]\n",
      "  [   21    22    23]]]\n"
     ]
    }
   ],
   "source": [
    "# 3차원 배열 요소 참조 및 변경\n",
    "print(c[1][0][1])\n",
    "c[1][0][1] = 99999\n",
    "print(c)\n",
    "\n",
    "print(c[0, 2, 1])\n",
    "c[0, 2, 1] = 8888\n",
    "print(c)"
   ]
  },
  {
   "cell_type": "markdown",
   "id": "a7a9afe8",
   "metadata": {},
   "source": [
    "슬라이싱"
   ]
  },
  {
   "cell_type": "code",
   "execution_count": 6,
   "id": "f645a8bc",
   "metadata": {},
   "outputs": [
    {
     "name": "stdout",
     "output_type": "stream",
     "text": [
      "[     0      1      2      3      4 100000      6      7      8      9\n",
      "     10     11     12     13     14     15     16     17     18     19\n",
      "     20     21     22     23]\n",
      "[     2      3      4 100000]\n"
     ]
    }
   ],
   "source": [
    "print(a)\n",
    "print(a[2:6])"
   ]
  },
  {
   "cell_type": "markdown",
   "id": "4876b9f9",
   "metadata": {},
   "source": [
    "<img src=\"./numpyImage/numpyImage06.jpg\" width=\"1000\" align=\"left\"/>"
   ]
  },
  {
   "cell_type": "code",
   "execution_count": 7,
   "id": "e1d21ca1",
   "metadata": {},
   "outputs": [
    {
     "name": "stdout",
     "output_type": "stream",
     "text": [
      "[[    0 10000     2     3     4     5]\n",
      " [    6     7     8 20000    10    11]\n",
      " [   12    13    14    15    16    17]\n",
      " [   18    19    20    21    22    23]]\n",
      "=======================================================\n",
      "[[    6     7     8 20000    10    11]\n",
      " [   12    13    14    15    16    17]]\n",
      "=======================================================\n",
      "[[10000     2     3     4]\n",
      " [    7     8 20000    10]\n",
      " [   13    14    15    16]\n",
      " [   19    20    21    22]]\n",
      "=======================================================\n",
      "[[    7     8 20000    10]\n",
      " [   13    14    15    16]]\n"
     ]
    }
   ],
   "source": [
    "print(b)\n",
    "print('=' * 55)\n",
    "print(b[1:3]) # 열을 생략하면 행 단위로 슬라이싱 된다. b[1:3, :]와 같은 표현이다.\n",
    "print('=' * 55)\n",
    "print(b[:, 1:5]) # 열 단위로 슬라이싱 하려면 행 위치에 ':'를 적어야 한다. 행 위치에 ':'를 찍으면 전체 행을 의미한다.\n",
    "print('=' * 55)\n",
    "print(b[1:3, 1:5])"
   ]
  },
  {
   "cell_type": "markdown",
   "id": "7f73fbb2",
   "metadata": {},
   "source": [
    "<img src=\"./numpyImage/numpyImage07.jpg\" width=\"1000\" align=\"left\"/>"
   ]
  },
  {
   "cell_type": "code",
   "execution_count": 8,
   "id": "bcbfd4f2",
   "metadata": {},
   "outputs": [
    {
     "name": "stdout",
     "output_type": "stream",
     "text": [
      "[[    7     8 20000    10]\n",
      " [   13    14    15    16]]\n"
     ]
    }
   ],
   "source": [
    "# 음수 인덱싱을 이용한 범위 설정\n",
    "# 음수 인덱스는 지정한 axis의 마지막 요소부터 반대 방향의 인덱스이고 -1은 마지막 요소의 인덱스를 의미한다.\n",
    "print(b[1:-1, 1:-1])"
   ]
  },
  {
   "cell_type": "code",
   "execution_count": 9,
   "id": "83dc4843",
   "metadata": {},
   "outputs": [
    {
     "name": "stdout",
     "output_type": "stream",
     "text": [
      "[[12 13 14 15 16 17]]\n",
      "=======================================================\n",
      "[[    6     7     8 20000    10    11]\n",
      " [   12    13    14    15    16    17]]\n",
      "=======================================================\n",
      "[[12 13 14 15 16 17]]\n"
     ]
    }
   ],
   "source": [
    "print(b[1:3][1:5]) # b[1:3, :][1:5, :]와 같은 표현이다.\n",
    "print('=' * 55)\n",
    "dd = b[1:3, :]\n",
    "print(dd)\n",
    "print('=' * 55)\n",
    "ee = dd[1:5, :]\n",
    "print(ee)"
   ]
  },
  {
   "cell_type": "code",
   "execution_count": 10,
   "id": "01d7c234",
   "metadata": {},
   "outputs": [
    {
     "name": "stdout",
     "output_type": "stream",
     "text": [
      "[[    0 10000     2     3     4     5]\n",
      " [    6     7     8 20000    10    11]\n",
      " [   12    13    14    15    16    17]\n",
      " [   18    19    20    21    22    23]]\n",
      "=======================================================\n",
      "[[    7     8 20000    10]\n",
      " [   13    14    15    16]]\n",
      "=======================================================\n",
      "[[    8 20000]\n",
      " [   14    15]]\n",
      "=======================================================\n",
      "[[    7 99999 99999    10]\n",
      " [   13 99999 99999    16]]\n",
      "=======================================================\n",
      "[[    0 10000     2     3     4     5]\n",
      " [    6     7 99999 99999    10    11]\n",
      " [   12    13 99999 99999    16    17]\n",
      " [   18    19    20    21    22    23]]\n"
     ]
    }
   ],
   "source": [
    "# 슬라이싱을 이용한 데이터 수정\n",
    "print(b)\n",
    "print('=' * 55)\n",
    "\n",
    "# 슬라이싱을 이용한 배열 생성\n",
    "slide_arr = b[1:3, 1:5]\n",
    "print(slide_arr)\n",
    "print('=' * 55)\n",
    "\n",
    "print(slide_arr[:, 1:3])\n",
    "print('=' * 55)\n",
    "\n",
    "slide_arr[:, 1:3] = 99999\n",
    "print(slide_arr)\n",
    "print('=' * 55)\n",
    "\n",
    "print(b)"
   ]
  },
  {
   "cell_type": "markdown",
   "id": "380b50dd",
   "metadata": {},
   "source": [
    "불린 인덱싱  \n",
    "numpy의 불린 인덱싱은 배열의 각 요소 선택 여부를 True, False로 지정하는 방식이다."
   ]
  },
  {
   "cell_type": "code",
   "execution_count": 11,
   "id": "bc2027be",
   "metadata": {},
   "outputs": [
    {
     "name": "stdout",
     "output_type": "stream",
     "text": [
      "[[ 0  1  2  3  4  5]\n",
      " [ 6  7  8  9 10 11]\n",
      " [12 13 14 15 16 17]\n",
      " [18 19 20 21 22 23]]\n"
     ]
    }
   ],
   "source": [
    "a = np.arange(24).reshape(4, 6)\n",
    "print(a)"
   ]
  },
  {
   "cell_type": "code",
   "execution_count": 12,
   "id": "07c2fcef",
   "metadata": {},
   "outputs": [
    {
     "name": "stdout",
     "output_type": "stream",
     "text": [
      "[[0 1 0 1 0 1]\n",
      " [0 1 0 1 0 1]\n",
      " [0 1 0 1 0 1]\n",
      " [0 1 0 1 0 1]]\n",
      "=======================================================\n",
      "[[ True False  True False  True False]\n",
      " [ True False  True False  True False]\n",
      " [ True False  True False  True False]\n",
      " [ True False  True False  True False]]\n"
     ]
    }
   ],
   "source": [
    "# a 배열에서 요소의 값이 짝수인 요소의 총 합계\n",
    "# numpy의 브로드캐스팅 기능을 이용해서 배열의 요소 중에서 짝수인 요소를 확인한다.\n",
    "even_arr1 = a % 2\n",
    "print(even_arr1)\n",
    "print('=' * 55)\n",
    "even_arr2 = a % 2 == 0\n",
    "print(even_arr2)"
   ]
  },
  {
   "cell_type": "code",
   "execution_count": 13,
   "id": "f9bc6e36",
   "metadata": {},
   "outputs": [
    {
     "name": "stdout",
     "output_type": "stream",
     "text": [
      "[ 0  2  4  6  8 10 12 14 16 18 20 22]\n",
      "[ 0  2  4  6  8 10 12 14 16 18 20 22]\n"
     ]
    }
   ],
   "source": [
    "# 불린 인덱싱은 브로드캐시팅 결과가 True인 요소들만 추출한다.\n",
    "print(a[even_arr2])\n",
    "print(a[a % 2 == 0])"
   ]
  },
  {
   "cell_type": "code",
   "execution_count": 14,
   "id": "951841db",
   "metadata": {},
   "outputs": [
    {
     "name": "stdout",
     "output_type": "stream",
     "text": [
      "276\n",
      "=======================================================\n",
      "132\n",
      "132\n",
      "=======================================================\n",
      "144\n",
      "144\n"
     ]
    }
   ],
   "source": [
    "print(np.sum(a))\n",
    "print('=' * 55)\n",
    "\n",
    "print(a[a % 2 == 0].sum())\n",
    "print(np.sum(a[a % 2 == 0]))\n",
    "print('=' * 55)\n",
    "\n",
    "print(a[a % 2 == 1].sum())\n",
    "print(np.sum(a[a % 2 == 1]))"
   ]
  },
  {
   "cell_type": "markdown",
   "id": "650ea6c8",
   "metadata": {},
   "source": [
    "불린 인덱싱 응용  \n",
    "데이터 파일 => 2014년 시에틀 강수량 데이터 => ./data/Seattle2014.csv  \n",
    "2014년 시에틀 1월 평균 강수량 구하기"
   ]
  },
  {
   "cell_type": "code",
   "execution_count": 15,
   "id": "8d93bff1",
   "metadata": {},
   "outputs": [],
   "source": [
    "#!pip install pandas\n",
    "import pandas as pd"
   ]
  },
  {
   "cell_type": "code",
   "execution_count": 16,
   "id": "19f085dc",
   "metadata": {},
   "outputs": [
    {
     "name": "stdout",
     "output_type": "stream",
     "text": [
      "<class 'pandas.core.frame.DataFrame'>\n"
     ]
    },
    {
     "data": {
      "text/html": [
       "<div>\n",
       "<style scoped>\n",
       "    .dataframe tbody tr th:only-of-type {\n",
       "        vertical-align: middle;\n",
       "    }\n",
       "\n",
       "    .dataframe tbody tr th {\n",
       "        vertical-align: top;\n",
       "    }\n",
       "\n",
       "    .dataframe thead th {\n",
       "        text-align: right;\n",
       "    }\n",
       "</style>\n",
       "<table border=\"1\" class=\"dataframe\">\n",
       "  <thead>\n",
       "    <tr style=\"text-align: right;\">\n",
       "      <th></th>\n",
       "      <th>STATION</th>\n",
       "      <th>STATION_NAME</th>\n",
       "      <th>DATE</th>\n",
       "      <th>PRCP</th>\n",
       "      <th>SNWD</th>\n",
       "      <th>SNOW</th>\n",
       "      <th>TMAX</th>\n",
       "      <th>TMIN</th>\n",
       "      <th>AWND</th>\n",
       "      <th>WDF2</th>\n",
       "      <th>WDF5</th>\n",
       "      <th>WSF2</th>\n",
       "      <th>WSF5</th>\n",
       "      <th>WT01</th>\n",
       "      <th>WT05</th>\n",
       "      <th>WT02</th>\n",
       "      <th>WT03</th>\n",
       "    </tr>\n",
       "  </thead>\n",
       "  <tbody>\n",
       "    <tr>\n",
       "      <th>0</th>\n",
       "      <td>GHCND:USW00024233</td>\n",
       "      <td>SEATTLE TACOMA INTERNATIONAL AIRPORT WA US</td>\n",
       "      <td>20140101</td>\n",
       "      <td>0</td>\n",
       "      <td>0</td>\n",
       "      <td>0</td>\n",
       "      <td>72</td>\n",
       "      <td>33</td>\n",
       "      <td>12</td>\n",
       "      <td>340</td>\n",
       "      <td>310</td>\n",
       "      <td>36</td>\n",
       "      <td>40</td>\n",
       "      <td>-9999</td>\n",
       "      <td>-9999</td>\n",
       "      <td>-9999</td>\n",
       "      <td>-9999</td>\n",
       "    </tr>\n",
       "    <tr>\n",
       "      <th>1</th>\n",
       "      <td>GHCND:USW00024233</td>\n",
       "      <td>SEATTLE TACOMA INTERNATIONAL AIRPORT WA US</td>\n",
       "      <td>20140102</td>\n",
       "      <td>41</td>\n",
       "      <td>0</td>\n",
       "      <td>0</td>\n",
       "      <td>106</td>\n",
       "      <td>61</td>\n",
       "      <td>32</td>\n",
       "      <td>190</td>\n",
       "      <td>200</td>\n",
       "      <td>94</td>\n",
       "      <td>116</td>\n",
       "      <td>-9999</td>\n",
       "      <td>-9999</td>\n",
       "      <td>-9999</td>\n",
       "      <td>-9999</td>\n",
       "    </tr>\n",
       "    <tr>\n",
       "      <th>2</th>\n",
       "      <td>GHCND:USW00024233</td>\n",
       "      <td>SEATTLE TACOMA INTERNATIONAL AIRPORT WA US</td>\n",
       "      <td>20140103</td>\n",
       "      <td>15</td>\n",
       "      <td>0</td>\n",
       "      <td>0</td>\n",
       "      <td>89</td>\n",
       "      <td>28</td>\n",
       "      <td>26</td>\n",
       "      <td>30</td>\n",
       "      <td>50</td>\n",
       "      <td>63</td>\n",
       "      <td>72</td>\n",
       "      <td>1</td>\n",
       "      <td>-9999</td>\n",
       "      <td>-9999</td>\n",
       "      <td>-9999</td>\n",
       "    </tr>\n",
       "    <tr>\n",
       "      <th>3</th>\n",
       "      <td>GHCND:USW00024233</td>\n",
       "      <td>SEATTLE TACOMA INTERNATIONAL AIRPORT WA US</td>\n",
       "      <td>20140104</td>\n",
       "      <td>0</td>\n",
       "      <td>0</td>\n",
       "      <td>0</td>\n",
       "      <td>78</td>\n",
       "      <td>6</td>\n",
       "      <td>27</td>\n",
       "      <td>40</td>\n",
       "      <td>40</td>\n",
       "      <td>45</td>\n",
       "      <td>58</td>\n",
       "      <td>1</td>\n",
       "      <td>-9999</td>\n",
       "      <td>-9999</td>\n",
       "      <td>-9999</td>\n",
       "    </tr>\n",
       "    <tr>\n",
       "      <th>4</th>\n",
       "      <td>GHCND:USW00024233</td>\n",
       "      <td>SEATTLE TACOMA INTERNATIONAL AIRPORT WA US</td>\n",
       "      <td>20140105</td>\n",
       "      <td>0</td>\n",
       "      <td>0</td>\n",
       "      <td>0</td>\n",
       "      <td>83</td>\n",
       "      <td>-5</td>\n",
       "      <td>37</td>\n",
       "      <td>10</td>\n",
       "      <td>10</td>\n",
       "      <td>67</td>\n",
       "      <td>76</td>\n",
       "      <td>-9999</td>\n",
       "      <td>-9999</td>\n",
       "      <td>-9999</td>\n",
       "      <td>-9999</td>\n",
       "    </tr>\n",
       "    <tr>\n",
       "      <th>...</th>\n",
       "      <td>...</td>\n",
       "      <td>...</td>\n",
       "      <td>...</td>\n",
       "      <td>...</td>\n",
       "      <td>...</td>\n",
       "      <td>...</td>\n",
       "      <td>...</td>\n",
       "      <td>...</td>\n",
       "      <td>...</td>\n",
       "      <td>...</td>\n",
       "      <td>...</td>\n",
       "      <td>...</td>\n",
       "      <td>...</td>\n",
       "      <td>...</td>\n",
       "      <td>...</td>\n",
       "      <td>...</td>\n",
       "      <td>...</td>\n",
       "    </tr>\n",
       "    <tr>\n",
       "      <th>360</th>\n",
       "      <td>GHCND:USW00024233</td>\n",
       "      <td>SEATTLE TACOMA INTERNATIONAL AIRPORT WA US</td>\n",
       "      <td>20141227</td>\n",
       "      <td>33</td>\n",
       "      <td>0</td>\n",
       "      <td>0</td>\n",
       "      <td>94</td>\n",
       "      <td>44</td>\n",
       "      <td>49</td>\n",
       "      <td>210</td>\n",
       "      <td>210</td>\n",
       "      <td>112</td>\n",
       "      <td>161</td>\n",
       "      <td>1</td>\n",
       "      <td>-9999</td>\n",
       "      <td>-9999</td>\n",
       "      <td>-9999</td>\n",
       "    </tr>\n",
       "    <tr>\n",
       "      <th>361</th>\n",
       "      <td>GHCND:USW00024233</td>\n",
       "      <td>SEATTLE TACOMA INTERNATIONAL AIRPORT WA US</td>\n",
       "      <td>20141228</td>\n",
       "      <td>41</td>\n",
       "      <td>0</td>\n",
       "      <td>0</td>\n",
       "      <td>67</td>\n",
       "      <td>28</td>\n",
       "      <td>18</td>\n",
       "      <td>50</td>\n",
       "      <td>30</td>\n",
       "      <td>58</td>\n",
       "      <td>72</td>\n",
       "      <td>1</td>\n",
       "      <td>-9999</td>\n",
       "      <td>-9999</td>\n",
       "      <td>-9999</td>\n",
       "    </tr>\n",
       "    <tr>\n",
       "      <th>362</th>\n",
       "      <td>GHCND:USW00024233</td>\n",
       "      <td>SEATTLE TACOMA INTERNATIONAL AIRPORT WA US</td>\n",
       "      <td>20141229</td>\n",
       "      <td>0</td>\n",
       "      <td>0</td>\n",
       "      <td>0</td>\n",
       "      <td>61</td>\n",
       "      <td>6</td>\n",
       "      <td>43</td>\n",
       "      <td>350</td>\n",
       "      <td>350</td>\n",
       "      <td>76</td>\n",
       "      <td>103</td>\n",
       "      <td>1</td>\n",
       "      <td>-9999</td>\n",
       "      <td>-9999</td>\n",
       "      <td>-9999</td>\n",
       "    </tr>\n",
       "    <tr>\n",
       "      <th>363</th>\n",
       "      <td>GHCND:USW00024233</td>\n",
       "      <td>SEATTLE TACOMA INTERNATIONAL AIRPORT WA US</td>\n",
       "      <td>20141230</td>\n",
       "      <td>0</td>\n",
       "      <td>0</td>\n",
       "      <td>0</td>\n",
       "      <td>33</td>\n",
       "      <td>-21</td>\n",
       "      <td>36</td>\n",
       "      <td>90</td>\n",
       "      <td>70</td>\n",
       "      <td>63</td>\n",
       "      <td>76</td>\n",
       "      <td>-9999</td>\n",
       "      <td>-9999</td>\n",
       "      <td>-9999</td>\n",
       "      <td>-9999</td>\n",
       "    </tr>\n",
       "    <tr>\n",
       "      <th>364</th>\n",
       "      <td>GHCND:USW00024233</td>\n",
       "      <td>SEATTLE TACOMA INTERNATIONAL AIRPORT WA US</td>\n",
       "      <td>20141231</td>\n",
       "      <td>0</td>\n",
       "      <td>0</td>\n",
       "      <td>0</td>\n",
       "      <td>33</td>\n",
       "      <td>-27</td>\n",
       "      <td>30</td>\n",
       "      <td>30</td>\n",
       "      <td>-9999</td>\n",
       "      <td>58</td>\n",
       "      <td>-9999</td>\n",
       "      <td>-9999</td>\n",
       "      <td>-9999</td>\n",
       "      <td>-9999</td>\n",
       "      <td>-9999</td>\n",
       "    </tr>\n",
       "  </tbody>\n",
       "</table>\n",
       "<p>365 rows × 17 columns</p>\n",
       "</div>"
      ],
      "text/plain": [
       "               STATION                                STATION_NAME      DATE  \\\n",
       "0    GHCND:USW00024233  SEATTLE TACOMA INTERNATIONAL AIRPORT WA US  20140101   \n",
       "1    GHCND:USW00024233  SEATTLE TACOMA INTERNATIONAL AIRPORT WA US  20140102   \n",
       "2    GHCND:USW00024233  SEATTLE TACOMA INTERNATIONAL AIRPORT WA US  20140103   \n",
       "3    GHCND:USW00024233  SEATTLE TACOMA INTERNATIONAL AIRPORT WA US  20140104   \n",
       "4    GHCND:USW00024233  SEATTLE TACOMA INTERNATIONAL AIRPORT WA US  20140105   \n",
       "..                 ...                                         ...       ...   \n",
       "360  GHCND:USW00024233  SEATTLE TACOMA INTERNATIONAL AIRPORT WA US  20141227   \n",
       "361  GHCND:USW00024233  SEATTLE TACOMA INTERNATIONAL AIRPORT WA US  20141228   \n",
       "362  GHCND:USW00024233  SEATTLE TACOMA INTERNATIONAL AIRPORT WA US  20141229   \n",
       "363  GHCND:USW00024233  SEATTLE TACOMA INTERNATIONAL AIRPORT WA US  20141230   \n",
       "364  GHCND:USW00024233  SEATTLE TACOMA INTERNATIONAL AIRPORT WA US  20141231   \n",
       "\n",
       "     PRCP  SNWD  SNOW  TMAX  TMIN  AWND  WDF2  WDF5  WSF2  WSF5  WT01  WT05  \\\n",
       "0       0     0     0    72    33    12   340   310    36    40 -9999 -9999   \n",
       "1      41     0     0   106    61    32   190   200    94   116 -9999 -9999   \n",
       "2      15     0     0    89    28    26    30    50    63    72     1 -9999   \n",
       "3       0     0     0    78     6    27    40    40    45    58     1 -9999   \n",
       "4       0     0     0    83    -5    37    10    10    67    76 -9999 -9999   \n",
       "..    ...   ...   ...   ...   ...   ...   ...   ...   ...   ...   ...   ...   \n",
       "360    33     0     0    94    44    49   210   210   112   161     1 -9999   \n",
       "361    41     0     0    67    28    18    50    30    58    72     1 -9999   \n",
       "362     0     0     0    61     6    43   350   350    76   103     1 -9999   \n",
       "363     0     0     0    33   -21    36    90    70    63    76 -9999 -9999   \n",
       "364     0     0     0    33   -27    30    30 -9999    58 -9999 -9999 -9999   \n",
       "\n",
       "     WT02  WT03  \n",
       "0   -9999 -9999  \n",
       "1   -9999 -9999  \n",
       "2   -9999 -9999  \n",
       "3   -9999 -9999  \n",
       "4   -9999 -9999  \n",
       "..    ...   ...  \n",
       "360 -9999 -9999  \n",
       "361 -9999 -9999  \n",
       "362 -9999 -9999  \n",
       "363 -9999 -9999  \n",
       "364 -9999 -9999  \n",
       "\n",
       "[365 rows x 17 columns]"
      ]
     },
     "execution_count": 16,
     "metadata": {},
     "output_type": "execute_result"
    }
   ],
   "source": [
    "# 판다스의 read_scv() 함수로 scv 파일을 데이터 프레임으로 읽어들인다.\n",
    "rain_in_seattle = pd.read_csv('./data/Seattle2014.csv')\n",
    "print(type(rain_in_seattle))\n",
    "rain_in_seattle"
   ]
  },
  {
   "cell_type": "code",
   "execution_count": 17,
   "id": "03325e4d",
   "metadata": {},
   "outputs": [
    {
     "name": "stdout",
     "output_type": "stream",
     "text": [
      "<class 'numpy.ndarray'>\n",
      "[  0  41  15   0   0   3 122  97  58  43 213  15   0   0   0   0   0   0\n",
      "   0   0   0   5   0   0   0   0   0  89 216   0  23  20   0   0   0   0\n",
      "   0   0  51   5 183 170  46  18  94 117 264 145 152  10  30  28  25  61\n",
      " 130   3   0   0   0   5 191 107 165 467  30   0 323  43 188   0   0   5\n",
      "  69  81 277   3   0   5   0   0   0   0   0  41  36   3 221 140   0   0\n",
      "   0   0  25   0  46   0   0  46   0   0   0   0   0   0   5 109 185   0\n",
      " 137   0  51 142  89 124   0  33  69   0   0   0   0   0 333 160  51   0\n",
      "   0 137  20   5   0   0   0   0   0   0   0   0   0   0   0   0  38   0\n",
      "  56   0   0   0   0   0   0   0   0   0   0   0   0   0   0   0   0   0\n",
      "  18  64   0   5  36  13   0   8   3   0   0   0   0   0   0  18  23   0\n",
      "   0   0   0   0   0   0   0   0   0   0   0   0   0   0   0   0   0   0\n",
      "   0   0   0   0   3 193   0   0   0   0   0   0   0   0   0   5   0   0\n",
      "   0   0   0   0   0   0   5 127 216   0  10   0   0   0   0   0   0   0\n",
      "   0   0   0   0   0   0   0  84  13   0  30   0   0   0   0   0   0   0\n",
      "   0   0   0   0   0   0   0   5   3   0   0   0   3 183 203  43  89   0\n",
      "   0   8   0   0   0   0   0   0   0   0   0   0   3  74   0  76  71  86\n",
      "   0  33 150   0 117  10 320  94  41  61  15   8 127   5 254 170   0  18\n",
      " 109  41  48  41   0   0  51   0   0   0   0   0   0   0   0   0   0  36\n",
      " 152   5 119  13 183   3  33 343  36   0   0   0   0   8  30  74   0  91\n",
      "  99 130  69   0   0   0   0   0  28 130  30 196   0   0 206  53   0   0\n",
      "  33  41   0   0   0]\n",
      "Data Size:  365\n"
     ]
    }
   ],
   "source": [
    "# 2014년 시에틀 강수량 데이터의 강수량 열(PRCP)의 데이터만 추출한다. \n",
    "\n",
    "# 데이터 프레임의 특정 열 1개 추출하기\n",
    "#    => 데이터프레임이름['열이름'], 데이터프레임이름.get('열이름'), 데이터프레임이름.열이름 => 인덱스도 같이 추출된다.\n",
    "# rain_arr = rain_in_seattle['PRCP']\n",
    "# rain_arr = rain_in_seattle.get('PRCP')\n",
    "# rain_arr = rain_in_seattle.PRCP\n",
    "# print(type(rain_arr)) # <class 'pandas.core.series.Series'> => 데이터 프레임을 구성하는 열 1개\n",
    "\n",
    "# 데이터만 얻어오기 위해 values 속성을 사용하고 인덱스만 얻어오려면 index 속성을 사용한다\n",
    "# rain_arr = rain_in_seattle['PRCP'].values\n",
    "# rain_arr = rain_in_seattle.get('PRCP').values\n",
    "rain_arr = rain_in_seattle.PRCP.values\n",
    "print(type(rain_arr)) # <class 'numpy.ndarray'>\n",
    "\n",
    "print(rain_arr)\n",
    "print('Data Size: ', len(rain_arr))"
   ]
  },
  {
   "cell_type": "code",
   "execution_count": 18,
   "id": "1e8a2f44",
   "metadata": {},
   "outputs": [
    {
     "name": "stdout",
     "output_type": "stream",
     "text": [
      "[ 0  1  2  3  4  5  6  7  8  9 10 11 12 13 14 15 16 17 18 19 20 21 22 23\n",
      " 24 25 26 27 28 29 30 31 32 33 34 35 36 37 38 39]\n",
      "[ True  True  True  True  True  True  True  True  True  True  True  True\n",
      "  True  True  True  True  True  True  True  True  True  True  True  True\n",
      "  True  True  True  True  True  True  True False False False False False\n",
      " False False False False]\n"
     ]
    }
   ],
   "source": [
    "days_arr = np.arange(0, 365) # 날짜 배열\n",
    "print(days_arr[:40])\n",
    "condition_jan = days_arr < 31 # 1월의 일수 만큼 불린 인덱스를 생성한다.\n",
    "print(condition_jan[:40])"
   ]
  },
  {
   "cell_type": "code",
   "execution_count": 19,
   "id": "1a0cfff1",
   "metadata": {
    "scrolled": true
   },
   "outputs": [
    {
     "name": "stdout",
     "output_type": "stream",
     "text": [
      "[  0  41  15   0   0   3 122  97  58  43 213  15   0   0   0   0   0   0\n",
      "   0   0   0   5   0   0   0   0   0  89 216   0  23]\n",
      "31\n"
     ]
    }
   ],
   "source": [
    "# 불린 인덱싱을 이용해서 1월의 강수량만 추출한다.\n",
    "rain_jan = rain_arr[condition_jan]\n",
    "print(rain_jan)\n",
    "print(len(rain_jan))"
   ]
  },
  {
   "cell_type": "code",
   "execution_count": 20,
   "id": "70729bf0",
   "metadata": {
    "scrolled": true
   },
   "outputs": [
    {
     "name": "stdout",
     "output_type": "stream",
     "text": [
      "1월 강수량 합계: 940\n",
      "1월 강수량 평균: 30.322580645161292\n"
     ]
    }
   ],
   "source": [
    "print('1월 강수량 합계: {}'.format(np.sum(rain_jan)))\n",
    "print('1월 강수량 평균: {}'.format(np.mean(rain_jan)))"
   ]
  },
  {
   "cell_type": "markdown",
   "id": "548fe49b",
   "metadata": {},
   "source": [
    "팬시 인덱싱  \n",
    "배열에 인덱스 배열을 전달해 요소를 참조하는 방법이다."
   ]
  },
  {
   "cell_type": "code",
   "execution_count": 21,
   "id": "dd76ec34",
   "metadata": {},
   "outputs": [
    {
     "name": "stdout",
     "output_type": "stream",
     "text": [
      "[[ 1  2  3  4  5  6]\n",
      " [ 7  8  9 10 11 12]\n",
      " [13 14 15 16 17 18]\n",
      " [19 20 21 22 23 24]]\n"
     ]
    }
   ],
   "source": [
    "a = np.arange(1, 25).reshape(4, 6)\n",
    "print(a)"
   ]
  },
  {
   "cell_type": "code",
   "execution_count": 22,
   "id": "b8e97343",
   "metadata": {},
   "outputs": [
    {
     "name": "stdout",
     "output_type": "stream",
     "text": [
      "1 8 15 22\n",
      "(1, 8, 15, 22)\n",
      "<class 'tuple'>\n",
      "[1, 8, 15, 22]\n",
      "<class 'list'>\n",
      "==================================================\n",
      "[ 1  8 15 22]\n"
     ]
    }
   ],
   "source": [
    "print(a[0, 0], a[1, 1], a[2, 2], a[3, 3])\n",
    "arr = a[0, 0], a[1, 1], a[2, 2], a[3, 3]\n",
    "print(arr)\n",
    "print(type(arr))\n",
    "\n",
    "arr = [a[0, 0], a[1, 1], a[2, 2], a[3, 3]]\n",
    "print(arr)\n",
    "print(type(arr))\n",
    "print('=' * 50)\n",
    "\n",
    "print(a[[0, 1, 2, 3], [0, 1, 2, 3]]) # 팬시 인덱싱"
   ]
  },
  {
   "cell_type": "markdown",
   "id": "357be200",
   "metadata": {},
   "source": [
    "배열 변환  \n",
    "배열을 변환하는 방법은 전치, 배열의 shape, 배열 요소 추가, 배열 결합, 배열 분리 등이 있다."
   ]
  },
  {
   "cell_type": "markdown",
   "id": "40ee37b7",
   "metadata": {},
   "source": [
    "전치는 행렬의 인덱스가 바뀌는 변환이다.  \n",
    "<img src=\"./numpyImage/numpyImage08.jpg\" width=\"400\" align=\"left\"/>"
   ]
  },
  {
   "cell_type": "code",
   "execution_count": 23,
   "id": "a106d88d",
   "metadata": {},
   "outputs": [
    {
     "name": "stdout",
     "output_type": "stream",
     "text": [
      "[[5 9 3]\n",
      " [3 8 6]]\n",
      "==================================================\n",
      "[[5 3]\n",
      " [9 8]\n",
      " [3 6]]\n"
     ]
    }
   ],
   "source": [
    "# numpy에서 행렬을 전치하기 위해 배열.T 속성을 사용한다.\n",
    "a = np.random.randint(1, 10, (2, 3))\n",
    "print(a)\n",
    "print('=' * 50)\n",
    "print(a.T)"
   ]
  },
  {
   "cell_type": "markdown",
   "id": "9acc115e",
   "metadata": {},
   "source": [
    "배열 형태 변경  \n",
    "numpy는 배열의 형태를 변경하는 reshape() 함수와 reval() 함수를 제공한다.  \n",
    "reshape() 함수는 데이터 변경없이 지정된 shape으로 배열의 형태를 변환한다.  \n",
    "reval() 함수는 배열의 shape를 1차원으로 변환한다."
   ]
  },
  {
   "cell_type": "code",
   "execution_count": 24,
   "id": "9044ea0b",
   "metadata": {},
   "outputs": [
    {
     "name": "stdout",
     "output_type": "stream",
     "text": [
      "[[5 1 9]\n",
      " [9 2 4]]\n",
      "[5 1 9 9 2 4]\n",
      "[[5 1 9]\n",
      " [9 2 4]]\n"
     ]
    }
   ],
   "source": [
    "a = np.random.randint(1, 10, (2, 3))\n",
    "print(a)\n",
    "print(a.ravel())\n",
    "print(a)"
   ]
  },
  {
   "cell_type": "code",
   "execution_count": 25,
   "id": "fc48e876",
   "metadata": {},
   "outputs": [
    {
     "name": "stdout",
     "output_type": "stream",
     "text": [
      "[5 1 9 9 2 4]\n",
      "[  5   1   9   9 999   4]\n",
      "[[  5   1   9]\n",
      " [  9 999   4]]\n"
     ]
    }
   ],
   "source": [
    "b = a.ravel()\n",
    "print(b)\n",
    "b[4] = 999\n",
    "print(b)\n",
    "# ravel() 함수는 원본 배열의 view를 반환한다.\n",
    "# ravel() 함수가 반환한 배열을 수정하면 원본 배열의 내용이 같이 수정된다,\n",
    "print(a)"
   ]
  },
  {
   "cell_type": "code",
   "execution_count": 26,
   "id": "61c540ee",
   "metadata": {},
   "outputs": [
    {
     "name": "stdout",
     "output_type": "stream",
     "text": [
      "[[4 4 1]\n",
      " [8 9 2]]\n",
      "==================================================\n",
      "[[[4]\n",
      "  [4]]\n",
      "\n",
      " [[1]\n",
      "  [8]]\n",
      "\n",
      " [[9]\n",
      "  [2]]]\n",
      "==================================================\n",
      "[[[999]\n",
      "  [  4]]\n",
      "\n",
      " [[  1]\n",
      "  [  8]]\n",
      "\n",
      " [[  9]\n",
      "  [  2]]]\n",
      "==================================================\n",
      "[[999   4   1]\n",
      " [  8   9   2]]\n"
     ]
    }
   ],
   "source": [
    "a = np.random.randint(1, 10, (2, 3))\n",
    "print(a)\n",
    "print('=' * 50)\n",
    "\n",
    "b = a.reshape(3, 2, 1)\n",
    "print(b)\n",
    "print('=' * 50)\n",
    "\n",
    "b[0][0][0] = 999\n",
    "print(b)\n",
    "print('=' * 50)\n",
    "\n",
    "# reshape() 함수도 원본 배열의 view를 반환한다.\n",
    "# reshape() 함수가 반환한 배열을 수정하면 원본 배열의 내용이 같이 수정된다.\n",
    "print(a)"
   ]
  },
  {
   "cell_type": "markdown",
   "id": "04a60b14",
   "metadata": {},
   "source": [
    "resize() 함수로 배열의 shape과 크기를 변경한다.  \n",
    "배열.resize(new_shape), np.resize(배열, new_shape)  \n",
    "resize() 함수와 reshape() 함수는 shape을 변경한다는 부분에서 유사하지만 reshape() 함수는 요소의 개수를 변경하지 못하는 반면에 resize() 함수는 shape을 변경하는 과정에서 요소의 개수를 줄이거나 늘릴 수 있다."
   ]
  },
  {
   "cell_type": "code",
   "execution_count": 27,
   "id": "91c37417",
   "metadata": {},
   "outputs": [
    {
     "name": "stdout",
     "output_type": "stream",
     "text": [
      "[[3 6 3 2 8 4]\n",
      " [7 9 1 2 8 3]]\n",
      "==================================================\n",
      "[[3 6 3 2 8 4]\n",
      " [7 9 1 2 8 3]]\n",
      "==================================================\n",
      "[[3 6]\n",
      " [3 2]\n",
      " [8 4]\n",
      " [7 9]\n",
      " [1 2]\n",
      " [8 3]]\n",
      "==================================================\n",
      "[[3 6]\n",
      " [3 2]\n",
      " [8 4]\n",
      " [7 9]\n",
      " [1 2]\n",
      " [8 3]]\n"
     ]
    }
   ],
   "source": [
    "a = np.random.randint(1, 10, (2, 6))\n",
    "print(a)\n",
    "print('=' * 50)\n",
    "\n",
    "np.resize(a, (6, 2))\n",
    "print(a)\n",
    "print('=' * 50)\n",
    "\n",
    "print(np.resize(a, (6,2))) # resize() 함수는 배열을 지정한 shape으로 변경한 새 배열을 리턴한다.\n",
    "print('=' * 50)\n",
    "\n",
    "b = np.resize(a, (6, 2)) # np.resize() 함수는 반드시 실행 결과를 새 배열에 저장시켜 사용한다.\n",
    "print(b)"
   ]
  },
  {
   "cell_type": "code",
   "execution_count": 28,
   "id": "6b9cac9a",
   "metadata": {},
   "outputs": [
    {
     "name": "stdout",
     "output_type": "stream",
     "text": [
      "[[3 3 8 7 6 4]\n",
      " [5 6 7 4 5 7]]\n",
      "==================================================\n",
      "[[3 3]\n",
      " [8 7]\n",
      " [6 4]\n",
      " [5 6]\n",
      " [7 4]\n",
      " [5 7]]\n"
     ]
    }
   ],
   "source": [
    "a = np.random.randint(1, 10, (2, 6))\n",
    "print(a)\n",
    "print('=' * 50)\n",
    "a.resize(6, 2) # 배열.resize() 함수를 실행하려면 원본 배열의 shape이 변경된다.\n",
    "print(a)"
   ]
  },
  {
   "cell_type": "code",
   "execution_count": 29,
   "id": "1c6034f5",
   "metadata": {},
   "outputs": [
    {
     "name": "stdout",
     "output_type": "stream",
     "text": [
      "[[7 7 2 7 6 2]\n",
      " [9 8 4 4 1 9]]\n",
      "==================================================\n",
      "[[7 7 2 7 6 2 9 8 4 4]\n",
      " [1 9 0 0 0 0 0 0 0 0]]\n",
      "==================================================\n",
      "[[7 7 2 7]\n",
      " [6 2 9 8]]\n"
     ]
    }
   ],
   "source": [
    "# 요소 개수(크기)가 변경되는 resize() 함수\n",
    "a = np.random.randint(1, 10, (2, 6))\n",
    "print(a)\n",
    "print('=' * 50)\n",
    "\n",
    "# a.reshape(2, 10) # reshape() 함수는 원본과 요소의 개수가 다르면 에러가 발생된다.\n",
    "a.resize(2, 10) # 배열의 요소 개수가 12개에서 20개로 늘어나고 늘어난 요소에서 0이 채워진다.\n",
    "print(a)\n",
    "print('=' * 50)\n",
    "\n",
    "a.resize(2, 4) # 배열의 요소 개수가 20개에서 8개로 줄어들고 줄어든 요소의 데이터는 분실된다.\n",
    "print(a)"
   ]
  },
  {
   "cell_type": "code",
   "execution_count": 30,
   "id": "baa91fd9",
   "metadata": {},
   "outputs": [
    {
     "name": "stdout",
     "output_type": "stream",
     "text": [
      "[[2 5 4 9 1 9]\n",
      " [6 5 2 7 4 4]]\n",
      "==================================================\n",
      "[[2 5 4 9 1 9 6 5 2 7]\n",
      " [4 4 2 5 4 9 1 9 6 5]]\n",
      "==================================================\n",
      "[[2 5 4 9]\n",
      " [1 9 6 5]]\n"
     ]
    }
   ],
   "source": [
    "a = np.random.randint(1, 10, (2, 6))\n",
    "print(a)\n",
    "print('=' * 50)\n",
    "\n",
    "a = np.resize(a, (2, 10)) # 배열의 요소 개수가 12개에서 20개로 늘어나고 늘어난 요소에는 원본 배열 데이터가 반복되서 채워진다.\n",
    "print(a)\n",
    "print('=' * 50)\n",
    "\n",
    "a = np.resize(a, (2, 4)) # 배열의 요소 개수가 20개에서 8개로 줄어든 요소의 데이터는 분실된다.\n",
    "print(a)"
   ]
  },
  {
   "cell_type": "markdown",
   "id": "b2234e5b",
   "metadata": {},
   "source": [
    "append() 함수는 배열의 끝에 데이터(배열)을 추가한다. axis로 데이터가 추가되는 방향을 지정할 수 있다.  \n",
    "np.append(배열, 추가할 데이터, axis)"
   ]
  },
  {
   "cell_type": "code",
   "execution_count": 31,
   "id": "5d7b870b",
   "metadata": {},
   "outputs": [
    {
     "name": "stdout",
     "output_type": "stream",
     "text": [
      "type: <class 'numpy.ndarray'>\n",
      "hape: (3, 3), dimenseion: 2, dtype: int32\n",
      "numpy 배열의 데이터\n",
      "[[1 9 3]\n",
      " [2 5 3]\n",
      " [4 4 8]]\n",
      "==================================================\n",
      "type: <class 'numpy.ndarray'>\n",
      "hape: (3, 3), dimenseion: 2, dtype: int32\n",
      "numpy 배열의 데이터\n",
      "[[17 16 12]\n",
      " [18 12 18]\n",
      " [14 11 13]]\n"
     ]
    }
   ],
   "source": [
    "a = np.random.randint(1, 10, (3, 3))\n",
    "pprint(a)\n",
    "print('=' * 50)\n",
    "\n",
    "b = np.random.randint(10, 19, (3, 3))\n",
    "pprint(b)"
   ]
  },
  {
   "cell_type": "code",
   "execution_count": 32,
   "id": "68b71245",
   "metadata": {},
   "outputs": [
    {
     "name": "stdout",
     "output_type": "stream",
     "text": [
      "type: <class 'numpy.ndarray'>\n",
      "hape: (18,), dimenseion: 1, dtype: int32\n",
      "numpy 배열의 데이터\n",
      "[ 1  9  3  2  5  3  4  4  8 17 16 12 18 12 18 14 11 13]\n",
      "type: <class 'numpy.ndarray'>\n",
      "hape: (18,), dimenseion: 1, dtype: int32\n",
      "numpy 배열의 데이터\n",
      "[ 1  9  3  2  5  3  4  4  8 17 16 12 18 12 18 14 11 13]\n"
     ]
    }
   ],
   "source": [
    "# axis를 지정하지 않았을 경우\n",
    "# axis를 지정하지 않으면 배열은 1차원 배열로 변환되서 결합한다.\n",
    "result = np.append(a, b)\n",
    "pprint(result)\n",
    "\n",
    "result = np.append(a, b, axis=None)\n",
    "pprint(result)"
   ]
  },
  {
   "cell_type": "code",
   "execution_count": 33,
   "id": "26fc2743",
   "metadata": {
    "scrolled": true
   },
   "outputs": [
    {
     "name": "stdout",
     "output_type": "stream",
     "text": [
      "type: <class 'numpy.ndarray'>\n",
      "hape: (6, 3), dimenseion: 2, dtype: int32\n",
      "numpy 배열의 데이터\n",
      "[[ 1  9  3]\n",
      " [ 2  5  3]\n",
      " [ 4  4  8]\n",
      " [17 16 12]\n",
      " [18 12 18]\n",
      " [14 11 13]]\n"
     ]
    }
   ],
   "source": [
    "# axis=0으로 지정한 경우\n",
    "result = np.append(a, b, axis=0) # a 배열 아래쪽에 b 배열이 추가됨\n",
    "pprint(result)"
   ]
  },
  {
   "cell_type": "code",
   "execution_count": 34,
   "id": "c69054a3",
   "metadata": {},
   "outputs": [
    {
     "name": "stdout",
     "output_type": "stream",
     "text": [
      "type: <class 'numpy.ndarray'>\n",
      "hape: (4, 3), dimenseion: 2, dtype: int32\n",
      "numpy 배열의 데이터\n",
      "[[12 12 18]\n",
      " [18 12 14]\n",
      " [15 13 16]\n",
      " [16 17 12]]\n",
      "==================================================\n",
      "type: <class 'numpy.ndarray'>\n",
      "hape: (7, 3), dimenseion: 2, dtype: int32\n",
      "numpy 배열의 데이터\n",
      "[[ 1  9  3]\n",
      " [ 2  5  3]\n",
      " [ 4  4  8]\n",
      " [12 12 18]\n",
      " [18 12 14]\n",
      " [15 13 16]\n",
      " [16 17 12]]\n",
      "==================================================\n"
     ]
    }
   ],
   "source": [
    "# axis=0으로 지정해서 아래쪽에 데이터를 추가할 경우 행의 개수는 달라도 상관없지만 열의 개수는 반드시 같아야 한다.\n",
    "diff_shape = np.random.randint(10, 19, (4, 3)) # 배열과 행의 개수가 다른 배열\n",
    "pprint(diff_shape)\n",
    "print('=' * 50)\n",
    "result = np.append(a, diff_shape, axis=0)\n",
    "pprint(result)\n",
    "print('=' * 50)\n",
    "\n",
    "# diff_shape = np.random.randint(10, 19, (3, 4)) # 배열과 열의 개수가 다른 배열\n",
    "# pprint(diff_shape)\n",
    "# result = np.append(a, diff_shape, axis=0) # 추가할 데이터가 원본의 열의 개수와 다르기 때문에 에러가 발생한다.\n",
    "# pprint(result)"
   ]
  },
  {
   "cell_type": "code",
   "execution_count": 35,
   "id": "98bcfd2d",
   "metadata": {},
   "outputs": [
    {
     "name": "stdout",
     "output_type": "stream",
     "text": [
      "type: <class 'numpy.ndarray'>\n",
      "hape: (3, 6), dimenseion: 2, dtype: int32\n",
      "numpy 배열의 데이터\n",
      "[[ 1  9  3 17 16 12]\n",
      " [ 2  5  3 18 12 18]\n",
      " [ 4  4  8 14 11 13]]\n"
     ]
    }
   ],
   "source": [
    "# axis=1으로 지정된 경우\n",
    "result = np.append(a, b, axis=1)\n",
    "pprint(result)"
   ]
  },
  {
   "cell_type": "code",
   "execution_count": 36,
   "id": "e91a5f0f",
   "metadata": {},
   "outputs": [
    {
     "name": "stdout",
     "output_type": "stream",
     "text": [
      "type: <class 'numpy.ndarray'>\n",
      "hape: (3, 4), dimenseion: 2, dtype: int32\n",
      "numpy 배열의 데이터\n",
      "[[10 18 11 13]\n",
      " [11 11 15 18]\n",
      " [15 14 11 16]]\n",
      "==================================================\n",
      "type: <class 'numpy.ndarray'>\n",
      "hape: (3, 7), dimenseion: 2, dtype: int32\n",
      "numpy 배열의 데이터\n",
      "[[ 1  9  3 10 18 11 13]\n",
      " [ 2  5  3 11 11 15 18]\n",
      " [ 4  4  8 15 14 11 16]]\n",
      "==================================================\n"
     ]
    }
   ],
   "source": [
    "# axis=1으로 지정해서 오른쪽에 데이터를 추가할 경우 열의 개수는 달라도 상관없지만 행의 개수는 반드시 같아야 한다.\n",
    "diff_shape = np.random.randint(10, 19, (3, 4)) # 배열과 열의 개수가 다른 배열\n",
    "pprint(diff_shape)\n",
    "print('=' * 50)\n",
    "result = np.append(a, diff_shape, axis=1)\n",
    "pprint(result)\n",
    "print('=' * 50)\n",
    "\n",
    "# diff_shape = np.random.randint(10, 19, (4, 3)) # 배열과 행의 개수가 다른 배열\n",
    "# pprint(diff_shape)\n",
    "# result = np.append(a, diff_shape, axis=1)\n",
    "# pprint(result)"
   ]
  },
  {
   "cell_type": "markdown",
   "id": "50d5faad",
   "metadata": {},
   "source": [
    "insert() 함수는 지정한 index에 데이터를 삽입한다. axis로 데이터가 삽입되는 방향을 지정할 수 있다.  \n",
    "np.insert(배열이름, index, 삽입할 데이터, axis)"
   ]
  },
  {
   "cell_type": "code",
   "execution_count": 37,
   "id": "4b32da07",
   "metadata": {},
   "outputs": [
    {
     "name": "stdout",
     "output_type": "stream",
     "text": [
      "type: <class 'numpy.ndarray'>\n",
      "hape: (3, 3), dimenseion: 2, dtype: int32\n",
      "numpy 배열의 데이터\n",
      "[[6 5 5]\n",
      " [4 3 2]\n",
      " [8 4 1]]\n"
     ]
    }
   ],
   "source": [
    "a = np.random.randint(1, 10, (3, 3))\n",
    "pprint(a)"
   ]
  },
  {
   "cell_type": "code",
   "execution_count": 38,
   "id": "91599a83",
   "metadata": {},
   "outputs": [
    {
     "name": "stdout",
     "output_type": "stream",
     "text": [
      "type: <class 'numpy.ndarray'>\n",
      "hape: (10,), dimenseion: 1, dtype: int32\n",
      "numpy 배열의 데이터\n",
      "[    6 99999     5     5     4     3     2     8     4     1]\n",
      "type: <class 'numpy.ndarray'>\n",
      "hape: (10,), dimenseion: 1, dtype: int32\n",
      "numpy 배열의 데이터\n",
      "[    6 99999     5     5     4     3     2     8     4     1]\n"
     ]
    }
   ],
   "source": [
    "# axis를 지정하지 않으면 None이 기본값이고 배열을 1차원으로 변환한 후 지정된 index에 데이터를 삽입한다.\n",
    "pprint(np.insert(a, 1, 99999))\n",
    "pprint(np.insert(a, 1, 99999, axis=None))"
   ]
  },
  {
   "cell_type": "code",
   "execution_count": 39,
   "id": "d809099b",
   "metadata": {},
   "outputs": [
    {
     "name": "stdout",
     "output_type": "stream",
     "text": [
      "type: <class 'numpy.ndarray'>\n",
      "hape: (4, 3), dimenseion: 2, dtype: int32\n",
      "numpy 배열의 데이터\n",
      "[[    6     5     5]\n",
      " [99999 99999 99999]\n",
      " [    4     3     2]\n",
      " [    8     4     1]]\n"
     ]
    }
   ],
   "source": [
    "# axis=0으로 지정하면 index가 1인 행에 데이터를 삽입한다.\n",
    "pprint(np.insert(a, 1, 99999, axis=0))"
   ]
  },
  {
   "cell_type": "code",
   "execution_count": 40,
   "id": "cf6a165f",
   "metadata": {
    "scrolled": true
   },
   "outputs": [
    {
     "name": "stdout",
     "output_type": "stream",
     "text": [
      "type: <class 'numpy.ndarray'>\n",
      "hape: (3, 4), dimenseion: 2, dtype: int32\n",
      "numpy 배열의 데이터\n",
      "[[    6 99999     5     5]\n",
      " [    4 99999     3     2]\n",
      " [    8 99999     4     1]]\n"
     ]
    }
   ],
   "source": [
    "# axis=1으로 지정하면 index가 1인 열에 데이터를 삽입한다.\n",
    "pprint(np.insert(a, 1, 99999, axis=1))"
   ]
  },
  {
   "cell_type": "markdown",
   "id": "30a8f7cf",
   "metadata": {},
   "source": [
    "delete() 함수로 지정된 index의 데이터를 삭제한다. axis로 데이터가 삭제되는 방향을 지정할 수 있다.  \n",
    "np.delete(배열이름, index, axis)"
   ]
  },
  {
   "cell_type": "code",
   "execution_count": 41,
   "id": "66a11a2c",
   "metadata": {},
   "outputs": [
    {
     "name": "stdout",
     "output_type": "stream",
     "text": [
      "type: <class 'numpy.ndarray'>\n",
      "hape: (3, 3), dimenseion: 2, dtype: int32\n",
      "numpy 배열의 데이터\n",
      "[[2 6 8]\n",
      " [5 8 7]\n",
      " [8 2 8]]\n"
     ]
    }
   ],
   "source": [
    "a = np.random.randint(1, 10, (3, 3))\n",
    "pprint(a)"
   ]
  },
  {
   "cell_type": "code",
   "execution_count": 42,
   "id": "152a9d1b",
   "metadata": {},
   "outputs": [
    {
     "name": "stdout",
     "output_type": "stream",
     "text": [
      "type: <class 'numpy.ndarray'>\n",
      "hape: (8,), dimenseion: 1, dtype: int32\n",
      "numpy 배열의 데이터\n",
      "[2 8 5 8 7 8 2 8]\n",
      "type: <class 'numpy.ndarray'>\n",
      "hape: (8,), dimenseion: 1, dtype: int32\n",
      "numpy 배열의 데이터\n",
      "[2 8 5 8 7 8 2 8]\n"
     ]
    }
   ],
   "source": [
    "# axis를 지정하지 않으면 None이 기본값이고 배열을 1차원으로 변환한 후 지정된 index에 데이터를 삭제한다.\n",
    "pprint(np.delete(a, 1))\n",
    "pprint(np.delete(a, 1, axis=None))"
   ]
  },
  {
   "cell_type": "code",
   "execution_count": 43,
   "id": "4a53ac25",
   "metadata": {},
   "outputs": [
    {
     "name": "stdout",
     "output_type": "stream",
     "text": [
      "type: <class 'numpy.ndarray'>\n",
      "hape: (2, 3), dimenseion: 2, dtype: int32\n",
      "numpy 배열의 데이터\n",
      "[[2 6 8]\n",
      " [8 2 8]]\n"
     ]
    }
   ],
   "source": [
    "# axis=0으로 지정하면 index가 1인 행의 데이터를 삭제한다.\n",
    "pprint(np.delete(a, 1, axis=0))"
   ]
  },
  {
   "cell_type": "code",
   "execution_count": 44,
   "id": "c9c7c1e1",
   "metadata": {
    "scrolled": true
   },
   "outputs": [
    {
     "name": "stdout",
     "output_type": "stream",
     "text": [
      "type: <class 'numpy.ndarray'>\n",
      "hape: (3, 2), dimenseion: 2, dtype: int32\n",
      "numpy 배열의 데이터\n",
      "[[2 8]\n",
      " [5 7]\n",
      " [8 8]]\n"
     ]
    }
   ],
   "source": [
    "# axis=1으로 지정하면 index가 1인 열의 데이터를 삭제한다.\n",
    "pprint(np.delete(a, 1, axis=1))"
   ]
  },
  {
   "cell_type": "markdown",
   "id": "88a8fff7",
   "metadata": {},
   "source": [
    "배열과 결합  \n",
    "배열과 배열을 결합하는 np.concatenate(), np.vstack(), np.hstack()함수를 제공한다."
   ]
  },
  {
   "cell_type": "markdown",
   "id": "c6d5b79b",
   "metadata": {},
   "source": [
    "np.concatenate() 함수는 axis로 결합할 방향을 지정해 배열을 결합한다.  \n",
    "np.concatenate(배열1, 배열2, ...), axis)"
   ]
  },
  {
   "cell_type": "code",
   "execution_count": 45,
   "id": "dc231a25",
   "metadata": {},
   "outputs": [
    {
     "name": "stdout",
     "output_type": "stream",
     "text": [
      "type: <class 'numpy.ndarray'>\n",
      "hape: (2, 3), dimenseion: 2, dtype: int32\n",
      "numpy 배열의 데이터\n",
      "[[2 6 4]\n",
      " [7 5 1]]\n",
      "==================================================\n",
      "type: <class 'numpy.ndarray'>\n",
      "hape: (2, 3), dimenseion: 2, dtype: int32\n",
      "numpy 배열의 데이터\n",
      "[[16 16 10]\n",
      " [13 10 16]]\n"
     ]
    }
   ],
   "source": [
    "a = np.random.randint(1, 10, (2, 3))\n",
    "pprint(a)\n",
    "print('=' * 50)\n",
    "b = np.random.randint(10, 19, (2, 3))\n",
    "pprint(b)"
   ]
  },
  {
   "cell_type": "code",
   "execution_count": 46,
   "id": "48600c47",
   "metadata": {},
   "outputs": [
    {
     "name": "stdout",
     "output_type": "stream",
     "text": [
      "[[ 2  6  4]\n",
      " [ 7  5  1]\n",
      " [16 16 10]\n",
      " [13 10 16]]\n",
      "==================================================\n",
      "[[ 2  6  4]\n",
      " [ 7  5  1]\n",
      " [16 16 10]\n",
      " [13 10 16]]\n"
     ]
    }
   ],
   "source": [
    "# axis를 지정하지 않으면 0이 기본값이고 아래쪽으로 배열을 결합한다.\n",
    "result = np.concatenate((a, b))\n",
    "print(result)\n",
    "print('=' * 50)\n",
    "\n",
    "result = np.concatenate((a, b), axis=0)\n",
    "print(result)"
   ]
  },
  {
   "cell_type": "code",
   "execution_count": 47,
   "id": "d996a3df",
   "metadata": {
    "scrolled": true
   },
   "outputs": [
    {
     "name": "stdout",
     "output_type": "stream",
     "text": [
      "[[ 2  6  4 16 16 10]\n",
      " [ 7  5  1 13 10 16]]\n"
     ]
    }
   ],
   "source": [
    "# axis=1로 지정하면 오른쪽으로 배열을 결합한다. 결합한 배열들이 행의 개수가 다르면 에러가 발생한다.\n",
    "result = np.concatenate((a, b), axis=1)\n",
    "print(result)"
   ]
  },
  {
   "cell_type": "markdown",
   "id": "8382c761",
   "metadata": {},
   "source": [
    "np.vstack() 함수는 인수로 지정된 튜플 타입의 배열을 수직방향(axis=0)으로 결합한다.  \n",
    "np.concatenate(배열1, 배열2, ...), axis=0)와 동일한 기능이 실행된다.  \n",
    "np.vstack(배열1, 배열2, ...)"
   ]
  },
  {
   "cell_type": "code",
   "execution_count": 48,
   "id": "350627a0",
   "metadata": {},
   "outputs": [
    {
     "name": "stdout",
     "output_type": "stream",
     "text": [
      "type: <class 'numpy.ndarray'>\n",
      "hape: (4, 3), dimenseion: 2, dtype: int32\n",
      "numpy 배열의 데이터\n",
      "[[ 2  6  4]\n",
      " [ 7  5  1]\n",
      " [16 16 10]\n",
      " [13 10 16]]\n"
     ]
    }
   ],
   "source": [
    "pprint(np.vstack((a,b))) # 결합할 배열들이 열의 개수가 다르면 에러가 발생한다."
   ]
  },
  {
   "cell_type": "markdown",
   "id": "eb17a73b",
   "metadata": {},
   "source": [
    "np.hstack() 함수는 인수로 지정된 튜플 타입의 배열을 수직방향(axis=1)으로 결합한다.  \n",
    "np.concatenate(배열1, 배열2, ...), axis=1)와 동일한 기능이 실행된다.  \n",
    "np.hstack(배열1, 배열2, ...)"
   ]
  },
  {
   "cell_type": "code",
   "execution_count": 49,
   "id": "9cf3e5ec",
   "metadata": {
    "scrolled": true
   },
   "outputs": [
    {
     "name": "stdout",
     "output_type": "stream",
     "text": [
      "type: <class 'numpy.ndarray'>\n",
      "hape: (2, 6), dimenseion: 2, dtype: int32\n",
      "numpy 배열의 데이터\n",
      "[[ 2  6  4 16 16 10]\n",
      " [ 7  5  1 13 10 16]]\n"
     ]
    }
   ],
   "source": [
    "pprint(np.hstack((a,b))) # 결합할 배열들이 행의 개수가 다르면 에러가 발생한다."
   ]
  },
  {
   "cell_type": "markdown",
   "id": "9e4681fc",
   "metadata": {},
   "source": [
    "배열 분리  \n",
    "numpy는 배열을 수직(열) 방향으로 분할하는 np.vsplit() 함수와 수평(행) 방향으로 분할하는 np.hsplit() 함수를 제공한다."
   ]
  },
  {
   "cell_type": "code",
   "execution_count": 50,
   "id": "67f65116",
   "metadata": {},
   "outputs": [
    {
     "name": "stdout",
     "output_type": "stream",
     "text": [
      "type: <class 'numpy.ndarray'>\n",
      "hape: (4, 6), dimenseion: 2, dtype: int32\n",
      "numpy 배열의 데이터\n",
      "[[ 1  2  3  4  5  6]\n",
      " [ 7  8  9 10 11 12]\n",
      " [13 14 15 16 17 18]\n",
      " [19 20 21 22 23 24]]\n"
     ]
    }
   ],
   "source": [
    "a= np.arange(1, 25).reshape(4, 6)\n",
    "pprint(a)"
   ]
  },
  {
   "cell_type": "markdown",
   "id": "7fdf3717",
   "metadata": {},
   "source": [
    "np.hsplit() 함수로 배열을 수평 방향으로 분할한다.  \n",
    "np.hsplit(배열이름, 분할 배열의 개수)"
   ]
  },
  {
   "cell_type": "code",
   "execution_count": 51,
   "id": "bc65da30",
   "metadata": {
    "scrolled": true
   },
   "outputs": [
    {
     "name": "stdout",
     "output_type": "stream",
     "text": [
      "<class 'list'>\n",
      "[array([[ 1,  2,  3],\n",
      "       [ 7,  8,  9],\n",
      "       [13, 14, 15],\n",
      "       [19, 20, 21]]), array([[ 4,  5,  6],\n",
      "       [10, 11, 12],\n",
      "       [16, 17, 18],\n",
      "       [22, 23, 24]])]\n",
      "<class 'numpy.ndarray'>\n"
     ]
    }
   ],
   "source": [
    "result = np.hsplit(a, 2) # hsplit() 함수의 실행 결과 리턴값은 numpy 배열을 저장하고 있는 파이썬 list 형태로 리턴된다.\n",
    "print(type(result)) # <class 'list'> \n",
    "print(result)\n",
    "print(type(result[0]))"
   ]
  },
  {
   "cell_type": "code",
   "execution_count": 52,
   "id": "13a9a88f",
   "metadata": {
    "scrolled": false
   },
   "outputs": [
    {
     "name": "stdout",
     "output_type": "stream",
     "text": [
      "[array([[ 1,  2,  3],\n",
      "       [ 7,  8,  9],\n",
      "       [13, 14, 15],\n",
      "       [19, 20, 21]]), array([[ 4,  5,  6],\n",
      "       [10, 11, 12],\n",
      "       [16, 17, 18],\n",
      "       [22, 23, 24]])]\n"
     ]
    }
   ],
   "source": [
    "result = np.hsplit(a, 2)\n",
    "print(result)"
   ]
  },
  {
   "cell_type": "markdown",
   "id": "33c191e1",
   "metadata": {},
   "source": [
    "<img src=\"./numpyImage/numpyImage09.jpg\" width=\"1000\" align=\"left\"/>"
   ]
  },
  {
   "cell_type": "code",
   "execution_count": 53,
   "id": "45bfbbf0",
   "metadata": {
    "scrolled": false
   },
   "outputs": [
    {
     "name": "stdout",
     "output_type": "stream",
     "text": [
      "[array([[ 1,  2],\n",
      "       [ 7,  8],\n",
      "       [13, 14],\n",
      "       [19, 20]]), array([[ 3,  4],\n",
      "       [ 9, 10],\n",
      "       [15, 16],\n",
      "       [21, 22]]), array([[ 5,  6],\n",
      "       [11, 12],\n",
      "       [17, 18],\n",
      "       [23, 24]])]\n"
     ]
    }
   ],
   "source": [
    "result = np.hsplit(a, 3)\n",
    "print(result)"
   ]
  },
  {
   "cell_type": "markdown",
   "id": "dc3b6d71",
   "metadata": {},
   "source": [
    "<img src=\"./numpyImage/numpyImage10.jpg\" width=\"1000\" align=\"left\"/>"
   ]
  },
  {
   "cell_type": "code",
   "execution_count": 54,
   "id": "c9121e76",
   "metadata": {
    "scrolled": true
   },
   "outputs": [
    {
     "name": "stdout",
     "output_type": "stream",
     "text": [
      "[array([[ 1],\n",
      "       [ 7],\n",
      "       [13],\n",
      "       [19]]), array([[ 2,  3],\n",
      "       [ 8,  9],\n",
      "       [14, 15],\n",
      "       [20, 21]]), array([[ 4,  5],\n",
      "       [10, 11],\n",
      "       [16, 17],\n",
      "       [22, 23]]), array([[ 6],\n",
      "       [12],\n",
      "       [18],\n",
      "       [24]])]\n"
     ]
    }
   ],
   "source": [
    "result = np.hsplit(a, [1, 3, 5])\n",
    "print(result)"
   ]
  },
  {
   "cell_type": "markdown",
   "id": "b104f45c",
   "metadata": {},
   "source": [
    "<img src=\"./numpyImage/numpyImage11.jpg\" width=\"1000\" align=\"left\"/>"
   ]
  },
  {
   "cell_type": "markdown",
   "id": "02b3a8ce",
   "metadata": {},
   "source": [
    "np.vsplit() 함수로 배열을 수직 방향으로 분할한다.  \n",
    "np.vsplit(배열이름, 분할 배열의 개수)"
   ]
  },
  {
   "cell_type": "code",
   "execution_count": 55,
   "id": "2d62fd9a",
   "metadata": {
    "scrolled": true
   },
   "outputs": [
    {
     "name": "stdout",
     "output_type": "stream",
     "text": [
      "[array([[ 1,  2,  3,  4,  5,  6],\n",
      "       [ 7,  8,  9, 10, 11, 12]]), array([[13, 14, 15, 16, 17, 18],\n",
      "       [19, 20, 21, 22, 23, 24]])]\n"
     ]
    }
   ],
   "source": [
    "result = np.vsplit(a, 2)\n",
    "print(result)"
   ]
  },
  {
   "cell_type": "markdown",
   "id": "9c1d80b6",
   "metadata": {},
   "source": [
    "<img src=\"./numpyImage/numpyImage12.jpg\" width=\"1000\" align=\"left\"/>"
   ]
  },
  {
   "cell_type": "code",
   "execution_count": 56,
   "id": "5e0597ab",
   "metadata": {
    "scrolled": true
   },
   "outputs": [
    {
     "name": "stdout",
     "output_type": "stream",
     "text": [
      "[array([[1, 2, 3, 4, 5, 6]]), array([[ 7,  8,  9, 10, 11, 12]]), array([[13, 14, 15, 16, 17, 18]]), array([[19, 20, 21, 22, 23, 24]])]\n"
     ]
    }
   ],
   "source": [
    "result = np.vsplit(a, 4)\n",
    "print(result)"
   ]
  },
  {
   "cell_type": "markdown",
   "id": "7097f57d",
   "metadata": {},
   "source": [
    "<img src=\"./numpyImage/numpyImage13.jpg\" width=\"1000\" align=\"left\"/>"
   ]
  },
  {
   "cell_type": "code",
   "execution_count": 57,
   "id": "ea28b14c",
   "metadata": {},
   "outputs": [
    {
     "name": "stdout",
     "output_type": "stream",
     "text": [
      "[array([[1, 2, 3, 4, 5, 6]]), array([[ 7,  8,  9, 10, 11, 12],\n",
      "       [13, 14, 15, 16, 17, 18]]), array([[19, 20, 21, 22, 23, 24]])]\n"
     ]
    }
   ],
   "source": [
    "result = np.vsplit(a, [1, 3])\n",
    "print(result)"
   ]
  },
  {
   "cell_type": "markdown",
   "id": "b840de11",
   "metadata": {},
   "source": [
    "<img src=\"./numpyImage/numpyImage14.jpg\" width=\"1000\" align=\"left\"/>"
   ]
  }
 ],
 "metadata": {
  "kernelspec": {
   "display_name": "Python 3",
   "language": "python",
   "name": "python3"
  },
  "language_info": {
   "codemirror_mode": {
    "name": "ipython",
    "version": 3
   },
   "file_extension": ".py",
   "mimetype": "text/x-python",
   "name": "python",
   "nbconvert_exporter": "python",
   "pygments_lexer": "ipython3",
   "version": "3.6.8"
  }
 },
 "nbformat": 4,
 "nbformat_minor": 5
}
