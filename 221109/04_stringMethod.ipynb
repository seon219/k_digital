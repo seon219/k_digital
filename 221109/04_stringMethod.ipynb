{
 "cells": [
  {
   "cell_type": "code",
   "execution_count": 1,
   "id": "3ea2f962",
   "metadata": {},
   "outputs": [
    {
     "name": "stdout",
     "output_type": "stream",
     "text": [
      "33\n",
      "!\n",
      "!\n",
      "!\n"
     ]
    }
   ],
   "source": [
    "string = 'We are the champions, My friends!'\n",
    "# len() 함수는 인수로 지정한 문자열을 구성하는 문자의 개수를 얻어온다.\n",
    "print(len(string))\n",
    "print(string[32])\n",
    "print(string[-1])\n",
    "print(string[len(string) - 1])"
   ]
  },
  {
   "cell_type": "code",
   "execution_count": 2,
   "id": "064df1bd",
   "metadata": {},
   "outputs": [
    {
     "name": "stdout",
     "output_type": "stream",
     "text": [
      "4\n",
      "1\n",
      "0\n"
     ]
    }
   ],
   "source": [
    "string = 'We are the champions, My friends!'\n",
    "# count() 메소드는 인수로 지정된 문자열의 전체 출현 횟수를 얻어온다.\n",
    "# count() 메소드의 인수로 지정한 문자열이 특정 문자열에 포함되어있나 알아낼 수 있다.\n",
    "# count() 메소드를 실행한 결과가 0이면 불포함, 1이면 포함, 2이상이면 중복해서 포함\n",
    "print(string.count('e'))\n",
    "print(string.count('We'))\n",
    "print(string.count('we'))"
   ]
  },
  {
   "cell_type": "code",
   "execution_count": 3,
   "id": "f3484573",
   "metadata": {},
   "outputs": [
    {
     "name": "stdout",
     "output_type": "stream",
     "text": [
      "1\n",
      "0\n"
     ]
    }
   ],
   "source": [
    "string = 'We are the champions, My friends!'\n",
    "# index() 메소드는 인수로 지정된 문자열이 최초로 출현하는 인덱스를 얻어온다.\n",
    "# index() 메소드의 인수로 지정한 문자열이 특정 문자열에 포함되어있나 알아낼 수 있다.\n",
    "# count() 메소드를 실행한 결과가 0이상이면 포함, 에러가 발생되면 불포함\n",
    "print(string.index('e'))\n",
    "print(string.index('We'))\n",
    "#print(string.index('we')) # 인수로 지정한 문자열이 없으면 에러가 발생"
   ]
  },
  {
   "cell_type": "code",
   "execution_count": 4,
   "id": "ba1eda42",
   "metadata": {},
   "outputs": [
    {
     "name": "stdout",
     "output_type": "stream",
     "text": [
      "1\n",
      "0\n",
      "-1\n"
     ]
    }
   ],
   "source": [
    "string = 'We are the champions, My friends!'\n",
    "# find() 메소드는 인수로 지정한 문자열이 최초로 출현하는 인덱스를 얻어온다,\n",
    "# find() 메소드의 인수로 지정한 문자열이 틀정 문자열에 포함되어있나 알아낼 수 있다.\n",
    "# 실행한 결과가 0이상이면 포함, 1은 불포함\n",
    "print(string.find('e'))\n",
    "print(string.find('We'))\n",
    "print(string.find('we'))"
   ]
  }
 ],
 "metadata": {
  "kernelspec": {
   "display_name": "Python 3",
   "language": "python",
   "name": "python3"
  },
  "language_info": {
   "codemirror_mode": {
    "name": "ipython",
    "version": 3
   },
   "file_extension": ".py",
   "mimetype": "text/x-python",
   "name": "python",
   "nbconvert_exporter": "python",
   "pygments_lexer": "ipython3",
   "version": "3.6.8"
  }
 },
 "nbformat": 4,
 "nbformat_minor": 5
}
