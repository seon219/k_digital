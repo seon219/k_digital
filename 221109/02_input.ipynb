{
 "cells": [
  {
   "cell_type": "markdown",
   "id": "878bd05b",
   "metadata": {},
   "source": [
    "# 변수\n",
    "변수는 처리할 데이터(상수. constant)를 저장하는 기억장소를 말한다.  \n",
    "\n",
    "변수명 작성방법  \n",
    "영문자(대소문자 구분), 숫자, 특수문자('_'만 가능)를 사용할 수 있으며 반드시 문자로 시작해야 한다.  \n",
    "파이썬 예약어(파이썬과 약속된 단어 => 명령어, 함수이름 등)은 사용할 수 없다."
   ]
  },
  {
   "cell_type": "markdown",
   "id": "52e08715",
   "metadata": {},
   "source": [
    "파이썬은 C/C++이나 JAVA와 같이 변수 선언시 변수의 자료형을 지정하지 않고,  \n",
    "JavaScript처럼 var, le, const를 붙이지 않고 변수를 선언하고,  \n",
    "변수에 저장되는 데이터의 타입에 따라서 자동으로 변수의 자료형이 결정된다.  \n",
    "'='는 같다라는 의미로 사용되지 않고, 오른쪽의 데이터를 왼쪽의 기억장소에 저장하라는 의미로 사용된다. => 대입문, 할당문, 배정문  \n",
    "'=='와 같이 2개를 연속해서 사용해야 같다로 인식한다."
   ]
  },
  {
   "cell_type": "code",
   "execution_count": 1,
   "id": "96d58f62",
   "metadata": {},
   "outputs": [
    {
     "name": "stdout",
     "output_type": "stream",
     "text": [
      "홍길동\n",
      "<class 'str'>\n",
      "100\n",
      "<class 'int'>\n",
      "3.14\n",
      "<class 'float'>\n",
      "True\n",
      "<class 'bool'>\n"
     ]
    }
   ],
   "source": [
    "a = '홍길동'\n",
    "print(a)\n",
    "# type() 함수는 인수로 지정된 기억장소의 자료형을 얻어온다.\n",
    "print(type(a)) # <class 'str'> => 문자열\n",
    "\n",
    "a = 100\n",
    "print(a)\n",
    "print(type(a)) # <class 'int'> => 정수\n",
    "\n",
    "a = 3.14\n",
    "print(a)\n",
    "print(type(a)) # <class 'float'> => 실수\n",
    "\n",
    "# True => 참, False => 거짓, 반드시 첫 문자만 대문자로 쓰고 나머지는 소문자로 작성해야 한다.\n",
    "a = True\n",
    "print(a)\n",
    "print(type(a)) # <class 'bool'> => 논리값"
   ]
  },
  {
   "cell_type": "code",
   "execution_count": 2,
   "id": "386ad31c",
   "metadata": {},
   "outputs": [
    {
     "name": "stdout",
     "output_type": "stream",
     "text": [
      "True\n"
     ]
    }
   ],
   "source": [
    "print(a)\n",
    "# 파이썬은 프로그램이 종료되야 기억장소가 메모리에서 제거된다.\n",
    "# 프로그램 도중에 더 이상 사용할 필요가 없는 기억장소는 del 명령으로 메모리에서 삭제할 수 있다.\n",
    "del a\n",
    "#print(a) # 에러"
   ]
  },
  {
   "cell_type": "markdown",
   "id": "ecfc3ec9",
   "metadata": {},
   "source": [
    "## input 함수\n",
    "키보드로 입력하는 데이터를 입력 받을 수 있다. => 무조건 문자열 형태로 입력 받는다.  \n",
    "변수 = input('메시지')"
   ]
  },
  {
   "cell_type": "code",
   "execution_count": 3,
   "id": "5c96e761",
   "metadata": {},
   "outputs": [
    {
     "name": "stdout",
     "output_type": "stream",
     "text": [
      "이름을 입력하세요: 홍길동\n",
      "<class 'str'>\n",
      "홍길동님 안녕하세요\n",
      "홍길동님 안녕하세요\n",
      "홍길동님 안녕하세요.\n"
     ]
    }
   ],
   "source": [
    "name = input('이름을 입력하세요: ')\n",
    "print(type(name))\n",
    "print('%s님 안녕하세요' % name)\n",
    "print('{}님 안녕하세요'.format(name))\n",
    "print(f'{name}님 안녕하세요.')"
   ]
  },
  {
   "cell_type": "markdown",
   "id": "c97f38de",
   "metadata": {},
   "source": [
    "input()함수는 무조건 문자열 형태로 데이터를 입력받기 때문에,  \n",
    "정수나 실수 형태의 데이터를 입력 받으려면 입력받은 데이터를 int() 함수나 float() 함수를 사용해서 숫자로 변환한다."
   ]
  },
  {
   "cell_type": "code",
   "execution_count": 4,
   "id": "d4f17463",
   "metadata": {},
   "outputs": [
    {
     "name": "stdout",
     "output_type": "stream",
     "text": [
      "나이를 입력하세요: 20\n",
      "<class 'int'>\n",
      "홍길동님은 20살 입니다.\n",
      "홍길동님은 20살 입니다.\n",
      "홍길동님은 내년에 21살 입니다.\n"
     ]
    }
   ],
   "source": [
    "age = int(input('나이를 입력하세요: '))\n",
    "print(type(age))\n",
    "print('%s님은 %d살 입니다.' % (name, age))\n",
    "print('{}님은 {}살 입니다.'.format(name, age))\n",
    "# '+' 연산자는 문자열과 문자열(연결), 숫자와 숫자(덧셈)의 연산만 가능하다\n",
    "print('{}님은 내년에 {}살 입니다.'.format(name, age + 1))"
   ]
  },
  {
   "cell_type": "code",
   "execution_count": 5,
   "id": "d49f237a",
   "metadata": {},
   "outputs": [
    {
     "name": "stdout",
     "output_type": "stream",
     "text": [
      "나이를 입력하세요: 20\n",
      "<class 'str'>\n",
      "홍길동님은 내년에 21살 입니다.\n"
     ]
    }
   ],
   "source": [
    "age = input('나이를 입력하세요: ')\n",
    "print(type(age))\n",
    "print('{}님은 내년에 {}살 입니다.'.format(name, int(age) + 1))"
   ]
  },
  {
   "cell_type": "markdown",
   "id": "fd0dc368",
   "metadata": {},
   "source": [
    "split() 메소드를 사용하면 1개의 input() 함수로 여러개의 데이터를 입력받을 수 있다.  \n",
    "split() 메소드는 인수로 지정된 구분자를 사용해서 문자열을 나눠준다. 인수를 지정하지 않으면 공백이 기본 구분자로 사용된다."
   ]
  },
  {
   "cell_type": "code",
   "execution_count": 6,
   "id": "f9eb09fb",
   "metadata": {},
   "outputs": [
    {
     "name": "stdout",
     "output_type": "stream",
     "text": [
      "이름과 나이를 입력하세요: 홍길동 20\n",
      "홍길동님은 20살 입니다.\n",
      "홍길동님은 내년에 21살 입니다.\n"
     ]
    }
   ],
   "source": [
    "name, age = input('이름과 나이를 입력하세요: ').split()\n",
    "print('{}님은 {}살 입니다.'.format(name, age))\n",
    "print('{}님은 내년에 {}살 입니다.'.format(name, int(age) + 1))"
   ]
  },
  {
   "cell_type": "code",
   "execution_count": 7,
   "id": "cf614b56",
   "metadata": {},
   "outputs": [
    {
     "name": "stdout",
     "output_type": "stream",
     "text": [
      "세 과목의 성적을 입력하세요: 20 50 60\n",
      "과목의 총합: 130\n",
      "과목의 평균: 43.333333333333336\n"
     ]
    }
   ],
   "source": [
    "a, b, c = input('세 과목의 성적을 입력하세요: ').split()\n",
    "sum = int(a) + int(b) + int(c)\n",
    "print('과목의 총합: {}'.format(sum))\n",
    "print('과목의 평균: {}'.format(sum / 3))"
   ]
  },
  {
   "cell_type": "markdown",
   "id": "f641b2cc",
   "metadata": {},
   "source": [
    "map()함수를 사용하면 입력받은 데이터를 split() 메소드로 구분한 후 일괄적으로 변환시킬 수 있다.  \n",
    "map(자료형, input('메시지').split()"
   ]
  },
  {
   "cell_type": "code",
   "execution_count": 8,
   "id": "35fd837e",
   "metadata": {},
   "outputs": [
    {
     "name": "stdout",
     "output_type": "stream",
     "text": [
      "세 과목의 성적을 입력하세요: 20 50 60\n",
      "과목의 총합: 130\n",
      "과목의 평균: 43.333333333333336\n"
     ]
    }
   ],
   "source": [
    "a, b, c = map(int, input('세 과목의 성적을 입력하세요: ').split())\n",
    "sum = a + b + c\n",
    "print('과목의 총합: {}'.format(sum))\n",
    "print('과목의 평균: {}'.format(sum / 3))"
   ]
  }
 ],
 "metadata": {
  "kernelspec": {
   "display_name": "Python 3",
   "language": "python",
   "name": "python3"
  },
  "language_info": {
   "codemirror_mode": {
    "name": "ipython",
    "version": 3
   },
   "file_extension": ".py",
   "mimetype": "text/x-python",
   "name": "python",
   "nbconvert_exporter": "python",
   "pygments_lexer": "ipython3",
   "version": "3.6.8"
  }
 },
 "nbformat": 4,
 "nbformat_minor": 5
}
