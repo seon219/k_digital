{
 "cells": [
  {
   "cell_type": "code",
   "execution_count": 1,
   "id": "fb8f24e4",
   "metadata": {},
   "outputs": [
    {
     "name": "stdout",
     "output_type": "stream",
     "text": [
      "Hello\n",
      "World\n",
      "Python\n",
      "is\n",
      "Good\n"
     ]
    }
   ],
   "source": [
    "# 큰 따옴표나 작은 따옴표로 묶어주면 문자열 데이터로 취급된다.\n",
    "memo = 'Hello\\nWorld'\n",
    "print(memo)\n",
    "\n",
    "memo = 'Python\\nis\\nGood'\n",
    "print(memo)"
   ]
  },
  {
   "cell_type": "code",
   "execution_count": 2,
   "id": "c8a65303",
   "metadata": {},
   "outputs": [
    {
     "name": "stdout",
     "output_type": "stream",
     "text": [
      "개울가에\n",
      "올챙이 한마리\n",
      "꼬물꼬물 헤엄치다\n",
      "뒷다리가 쏙\n",
      "앞다리가 쏙\n",
      "팔딱팔딱 메뚜기됐네\n"
     ]
    }
   ],
   "source": [
    "# 큰 따옴표 3개를 연속해서 아용하면 개행문자(\\n)를 사용하지 않고 여러줄 문자열을 만들 수 있다.\n",
    "memo = \"\"\"개울가에\n",
    "올챙이 한마리\n",
    "꼬물꼬물 헤엄치다\n",
    "뒷다리가 쏙\n",
    "앞다리가 쏙\n",
    "팔딱팔딱 메뚜기됐네\"\"\"\n",
    "print(memo)"
   ]
  },
  {
   "cell_type": "markdown",
   "id": "94f69d0e",
   "metadata": {},
   "source": [
    "# 인덱싱과 슬라이싱\n",
    "인덱스는 0부터 시작한다.  \n",
    "인덱싱: 문자열에서 특정 인덱스의 문자 1개를 얻어온다. => []에 인덱스를 지정하면 된다. => charAt()  \n",
    "슬라이싱: 문자열에서 지정된 범위의 문자열을 얻어온다. => [시작인덱스:끝인덱스] 형태로 범위를 지정하면 된다. => substring()"
   ]
  },
  {
   "cell_type": "code",
   "execution_count": 3,
   "id": "57e84f64",
   "metadata": {},
   "outputs": [
    {
     "name": "stdout",
     "output_type": "stream",
     "text": [
      "We are the champions, My friends!\n",
      "W\n",
      "c\n",
      "!\n",
      "33\n",
      "!\n",
      "!\n",
      "s\n"
     ]
    }
   ],
   "source": [
    "string = 'We are the champions, My friends!'\n",
    "print(string)\n",
    "print(string[0])\n",
    "print(string[11])\n",
    "print(string[32])\n",
    "# len() 함수로 문자열을 구성하는 문자의 개수를 얻어올 수 있다. => length()\n",
    "print(len(string))\n",
    "print(string[len(string) - 1])\n",
    "# 파이썬은 음수 인덱싱이 가능 => 인덱스를 지정할 때 '-'를 붙이면 맨 뒤부터 인덱싱 할 수 있다.\n",
    "print(string[-1])\n",
    "print(string[-2])"
   ]
  },
  {
   "cell_type": "code",
   "execution_count": 4,
   "id": "7ee33152",
   "metadata": {},
   "outputs": [
    {
     "name": "stdout",
     "output_type": "stream",
     "text": [
      "We\n",
      "champions\n",
      "We are the champions\n",
      "My friends!\n",
      "We are the champions, My friends!\n",
      "\n",
      "W r h hmin,M red!\n",
      "!sdneirf yM ,snoipmahc eht era eW\n"
     ]
    }
   ],
   "source": [
    "string = 'We are the champions, My friends!'\n",
    "# 슬라이싱 범위는 [시작인덱스:끝인덱스] 형태로 지정하며 시작 인덱스부터 끝 인덱스 -1번째 문자까지 얻어온다.\n",
    "print(string[0:2])\n",
    "print(string[11:20])\n",
    "\n",
    "# 시작 인덱스를 생략하면 처음부터 슬라이싱 하고, 끝 인덱스를 생략하면 마지막까지 슬라이싱 한다.\n",
    "print(string[:20])\n",
    "print(string[22:])\n",
    "print(string[:])\n",
    "\n",
    "# 슬라이싱은 왼쪽에서 오른쪽으로 실행되므로 시작 인덱스가 끝 인덱스보다 크면 안된다.\n",
    "print(string[20:0]) # 실행은 됐지만 아무것도 출력되지 않음\n",
    "\n",
    "# [시작인덱스:끝인덱스:증가치]와 같이 슬라이싱에 증가치를 지정할 수 있다.\n",
    "print(string[::2]) # 2씩 건너뛰어 출력된다.\n",
    "print(string[::-1]) # 증가치에 1을 지정하면 슬라이싱 결과가 반전되서 출력된다."
   ]
  },
  {
   "cell_type": "code",
   "execution_count": 5,
   "id": "5d88a8e3",
   "metadata": {},
   "outputs": [
    {
     "name": "stdout",
     "output_type": "stream",
     "text": [
      "1234567890\n",
      "1234567890\n",
      "13579\n",
      "24680\n",
      "0987654321\n"
     ]
    }
   ],
   "source": [
    "string = '1234567890'\n",
    "print(string[:])\n",
    "# [시작인덱스:끝인덱스:증가치] 형태로 시작인덱스부터 끝 인덱스까지 증가치만큼 건너뛰며 슬라이싱 한다.\n",
    "# 증가치는 생략하면 1이 기본값으로 사용된다.\n",
    "print(string[::1])\n",
    "print(string[::2]) # 짝수 인덱스만 슬라이싱한다\n",
    "print(string[1::2]) # 홀수 인덱스만 슬라이싱 한다,\n",
    "# 증가치를 -1로 지정하면 문자열이 뒤집힌다.\n",
    "print(string[::-1])"
   ]
  }
 ],
 "metadata": {
  "kernelspec": {
   "display_name": "Python 3",
   "language": "python",
   "name": "python3"
  },
  "language_info": {
   "codemirror_mode": {
    "name": "ipython",
    "version": 3
   },
   "file_extension": ".py",
   "mimetype": "text/x-python",
   "name": "python",
   "nbconvert_exporter": "python",
   "pygments_lexer": "ipython3",
   "version": "3.6.8"
  }
 },
 "nbformat": 4,
 "nbformat_minor": 5
}
