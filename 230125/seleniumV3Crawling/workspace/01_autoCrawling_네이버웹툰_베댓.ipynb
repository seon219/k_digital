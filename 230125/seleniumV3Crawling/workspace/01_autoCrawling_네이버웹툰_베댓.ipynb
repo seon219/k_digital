{
 "cells": [
  {
   "cell_type": "code",
   "execution_count": 1,
   "id": "8bff5df5",
   "metadata": {},
   "outputs": [],
   "source": [
    "import warnings\n",
    "warnings.filterwarnings(action='ignore')"
   ]
  },
  {
   "cell_type": "markdown",
   "id": "9061de9f",
   "metadata": {},
   "source": [
    "selenium을 사용하기 위해 selenium을 설치하고 import 한다."
   ]
  },
  {
   "cell_type": "code",
   "execution_count": 2,
   "id": "3d748b8d",
   "metadata": {},
   "outputs": [],
   "source": [
    "#!pip install selenium\n",
    "from selenium import webdriver\n",
    "from selenium.webdriver.chrome.options import Options\n",
    "from bs4 import BeautifulSoup"
   ]
  },
  {
   "cell_type": "code",
   "execution_count": 3,
   "id": "1f665440",
   "metadata": {},
   "outputs": [
    {
     "name": "stdout",
     "output_type": "stream",
     "text": [
      "아 치즈고양이 물 무서워해서 마루가 머리에 얹고가는 거 너무 귀엽다..\n",
      "10점 만점에 삼만 오천점짜리 웹툰이다 정말... 마음이 넘 몽글몽글해짐🫶\n",
      "********************************************************************************\n",
      " 1. 아 치즈고양이 물 무서워해서 마루가 머리에 얹고가는 거 너무 귀엽다..\n",
      " 2. 근데 준호는 겨울인데도 반팔을 입고있네 ㅋㅋㅋㅋㅋ\n",
      " 3. 10점 만점에 삼만 오천점짜리 웹툰이다 정말... 마음이 넘 몽글몽글해짐🫶\n",
      " 4. 벼락치기의 민족..\n",
      " 5. 하....마루랑 치즈고양이 같이다니면서 선물 열심히 찾는고 진짜 넘귀여워 치즈냥이 컨펌해주고 마루가 치즈냥이 물웅덩이 건너는거 도와주고 그냥 둘다 한입에 삼켜버려\n",
      " 6. 탄이는.. 정말 고양이인걸 숨길 생각이 1도 없구나? ㅋㅋㅋㅋㅋㅋㅋㅋㅋㅋㅋ 냅다 강아지풀 들고 고양이 원정대 만드는거 귀여워 죽겠네\n",
      " 7. 우리랑 임주스씨 너무나 신혼부부vibe..\n",
      " 8. 마루 큰 장면은 아니지만 작게작게 누군가를 배려하는 장면들 너무 이뻐요ㅜㅠ 치즈 물 무서워하니 본인 머리에 올리고 가는것봐ㅠㅠ 마루 은근히 이런 행동이 많고 사랑스러워ㅠㅠ\n",
      " 9. 탄이 시점 이야기도 듣고 싶네요ㅠㅠ\n",
      "10. 고양이 양말냄새맡고 꼬리부푼거 넘기여븜ㅠㅠㅠㅠㅠㅠㅠㅠㅠㅠㅠㅠ\n",
      "11. 이번화 킬링포인트1. 선물이랑 생일축하받고 귀여운 얼굴된 탄이\n",
      "2. 씩씩한 마루\n",
      "3. 착한어린이 벼락치기하는 마루랑 율이 \n",
      "+ 멱멕 등 사실적인 치즈냥이 울음소리 ㅋㅋㅋ큐ㅠㅠㅠ\n",
      "\n",
      "하 일주일의 행복이네요 정말\n",
      "12. 아 마루 서율이 안 운다니까 엄지척 날려주네 ㅋㄹㄱㅋㅋㄱㄱㅋㅋㄱㅋㄱㅋㅋㅋㅋㅋㅋㅋ\n",
      "13. 수많은 갈대들 두고 강아지풀 들고가는거 너무 귀여워ㅋㅋㅋㅋㅋ\n",
      "14. 마루의 매력포인트1.  치즈냥이 물무서워 하니까 머리에 얹고 물웅덩이랑 계곡 건너는거.\n",
      "2. 선물 찾는거 귀찮고 힘들텐데 힘든티 안 내고 치즈냥이랑 계속 같이 찾아다니는거.\n",
      "3. 강아지풀 주면서 언니 머리끈 달라는 말이 먼저가 아니라 생일축하한다는 말  먼저 건네는거..감동ㅜ\n",
      "마루야ㅜㅜㅜㅜ넘 따뜻하고 다정한거 아니니ㅜㅜㅜㅜ\n",
      "\n",
      "15. 제발요. 마루는 강쥐 어린이들 필독서해야해요. 애니메이션화해야해요. 아이들이 보면서 자라야해요🥲🥲🥲 어른을 위한 동화 뭐 이런 상 받아야한다구요. 있는상없는상 다 모죠님드려야함. 사랑스러워.....\n"
     ]
    }
   ],
   "source": [
    "# 셀레니움 옵션\n",
    "option = Options()\n",
    "option.add_argument('--window-size=945,1030') # 창 크기(가로, 세로), 픽셀 단위\n",
    "driver = webdriver.Chrome('./chromedriver.exe', options=option)\n",
    "driver.implicitly_wait(5) # 지정된 시간동안 로딩되기를 기다리며 대기한다. 로딩이 완료되면 즉시 다음단계로 진행한다.\n",
    "\n",
    "\n",
    "# 네이버 웹튼의 댓글을 보여주는 페이지\n",
    "# https://comic.naver.com/webtoon/detail?titleId=796152&no=33&weekday=tue\n",
    "# 네이버 웹툰의 댓글은 https://comic.naver.com/comment/comment?titleId=796152&no=33 페이지의 내용을 읽어서 \n",
    "# id 속성이 commentIFrame인 iframe에 넣어준다.\n",
    "driver.get('https://comic.naver.com/comment/comment?titleId=796152&no=33')\n",
    "\n",
    "\n",
    "# 특정 베댓을 읽는다.\n",
    "html = driver.page_source\n",
    "soup = BeautifulSoup(html, 'html.parser')\n",
    "review1 = soup.select_one('#cbox_module_wai_u_cbox_content_wrap_tabpanel > ul > li.u_cbox_comment.cbox_module__comment_447909402._user_id_no_6Bb4N > div.u_cbox_comment_box > div > div.u_cbox_text_wrap > span.u_cbox_contents')\n",
    "review3 = soup.select_one('#cbox_module_wai_u_cbox_content_wrap_tabpanel > ul > li.u_cbox_comment.cbox_module__comment_447909546._user_id_no_4mZR > div.u_cbox_comment_box > div > div.u_cbox_text_wrap > span.u_cbox_contents')\n",
    "print(review1.text)\n",
    "print(review3.text)\n",
    "print('*' * 80)\n",
    "\n",
    "\n",
    "# 전체 베댓을 읽는다.\n",
    "html = driver.page_source\n",
    "soup = BeautifulSoup(html, 'html.parser')\n",
    "reviews = soup.select('span.u_cbox_contents')\n",
    "# print(reviews)\n",
    "for i in range(len(reviews)):\n",
    "    print('{:2d}. {}'.format(i + 1, reviews[i].text))"
   ]
  }
 ],
 "metadata": {
  "kernelspec": {
   "display_name": "Python 3",
   "language": "python",
   "name": "python3"
  },
  "language_info": {
   "codemirror_mode": {
    "name": "ipython",
    "version": 3
   },
   "file_extension": ".py",
   "mimetype": "text/x-python",
   "name": "python",
   "nbconvert_exporter": "python",
   "pygments_lexer": "ipython3",
   "version": "3.6.8"
  }
 },
 "nbformat": 4,
 "nbformat_minor": 5
}
