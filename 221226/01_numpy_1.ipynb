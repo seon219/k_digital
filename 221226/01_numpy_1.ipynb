{
 "cells": [
  {
   "cell_type": "code",
   "execution_count": 1,
   "id": "7012085d",
   "metadata": {},
   "outputs": [],
   "source": [
    "# jupyter notebook 경고 메시지 숨기기\n",
    "# jupyter notebook을 사용하다 보면 향후 버전이 올라갈 때 변경될 사항을 올려주는 경고 메시지가 거슬릴 때가 있다.\n",
    "# 이럴 때 warnings 라이브러리를 사용한다,\n",
    "import warnings\n",
    "warnings.filterwarnings('ignore') # 경고 메시지를 무시하고 숨긴다.\n",
    "#warnings.filterwarnings('default') # 경고 메시지를 다시 표시한다."
   ]
  },
  {
   "cell_type": "markdown",
   "id": "a23db522",
   "metadata": {},
   "source": [
    "파이썬 기반 데이터 분석 환경에서 numpy는 행렬 연산을 위한 핵심 라이브러리이다.  \n",
    "numpy는 대규모 다차원 배열과 행렬 연산에 필요한 다양한 함수를 제공하고 특히 메모리 버퍼에 배열 데이터를 저장하고 처리하는 효율적인 인터페이스를 제공한다.  \n",
    "파이썬의 list 객체를 개선한 numpy의 ndarray 객체를 사용하면 더 많은 데이터를 더 빠르게 처리할 수 있다."
   ]
  },
  {
   "cell_type": "markdown",
   "id": "e28fa2c3",
   "metadata": {},
   "source": [
    "numpy의 특징  \n",
    "&nbsp;&nbsp;1. 강력한 n차원 배열 객체  \n",
    "&nbsp;&nbsp;2. 정교한 브로드캐스팅(m:1 연산) 기능  \n",
    "&nbsp;&nbsp;3. c/c++ 및 fortran 코드 통합 도구  \n",
    "&nbsp;&nbsp;4. 유연한 선형 대수학, 푸리에 변환 및 난수기능  \n",
    "&nbsp;&nbsp;5. 범용적 처리에 사용가능한 다차원 컨테이너"
   ]
  },
  {
   "cell_type": "markdown",
   "id": "c5506e2d",
   "metadata": {},
   "source": [
    "numpy 데이터 타입"
   ]
  },
  {
   "cell_type": "code",
   "execution_count": 2,
   "id": "5e8c335d",
   "metadata": {},
   "outputs": [],
   "source": [
    "# numpy는 다음과 같은 데이터 타입을 지원한다. 배열을 만들 때 dtype 속성으로 데이터 타입을 지정할 수 있다.\n",
    "# np.int64 : 64비트 정수(고정 소수점) 타입\n",
    "# np.float32 : 32비트 정수(부동 소수점) 타입\n",
    "# np.complex : 복소수 타입\n",
    "# np.bool : 불린(논리값) 타입\n",
    "# np.object : 파이썬 객체 타입\n",
    "# np.string_ : 스트링 타입\n",
    "# np.unicode_ : 유니코드 타입"
   ]
  },
  {
   "cell_type": "code",
   "execution_count": 3,
   "id": "fa18f5f2",
   "metadata": {},
   "outputs": [
    {
     "name": "stdout",
     "output_type": "stream",
     "text": [
      "1.19.5\n"
     ]
    }
   ],
   "source": [
    "#!pip install numpy\n",
    "import numpy as np\n",
    "print(np.__version__) # __version__: 라이브러리의 버전을 얻어온다."
   ]
  },
  {
   "cell_type": "code",
   "execution_count": 4,
   "id": "937394c9",
   "metadata": {},
   "outputs": [],
   "source": [
    "# numpy는 다차원 배열을 지원하고 numpy 배열의 구조는 shape으로 표현한다.\n",
    "# shape은 배열의 구조를 튜플 자료형을 사용해서 정의한다.\n",
    "# 예를 들어 28 * 28 컬러 사진은 폭이 28픽셀, 높이 28픽셀, 각 픽셀은 3개의 채널(RGB)로 구성된 구조를 가진다.\n",
    "# 따라서 컬러 사진의 데이터 구조는 shape(28, 28, 3)인 3차원 배열이 된다.\n",
    "# 다차원 배열은 입체적인 구조를 가지며 데이터의 차원은 여러 갈래의 데이터 방향(axis)을 가진다.\n",
    "# 3차원 배열의 데이터 방향은 면은 axis=0, 행은 axis = 1, 열은 axis=2로 지정한다."
   ]
  },
  {
   "cell_type": "markdown",
   "id": "122e3455",
   "metadata": {},
   "source": [
    "<img src=\"./numpyImage/numpyImage01.jpg\" width=\"600\"/>"
   ]
  },
  {
   "cell_type": "code",
   "execution_count": 5,
   "id": "ed8120de",
   "metadata": {},
   "outputs": [],
   "source": [
    "# numpy 배열 객체 정보 출력용으로 사용할 함수 선언\n",
    "def pprint(arr):\n",
    "    print('type: {}'.format(type(arr)))\n",
    "    print('hape: {}, dimenseion: {}, dtype: {}'.format(arr.shape, arr.ndim, arr.dtype))\n",
    "    print('numpy 배열의 데이터\\n', arr, sep = '')"
   ]
  },
  {
   "cell_type": "markdown",
   "id": "eb3d7fab",
   "metadata": {},
   "source": [
    "파이썬 list 객체로 numpy 배열을 생성할 수 있다.  \n",
    "인수로 list 객체와 데이터의 타입(dtype, 생략가능)을 입력해 numpy 배열을 생성하고 dtype을 생략하면 인수로 넘어오는 list 객체의 데이터 타입으로 dtype이 설정된다."
   ]
  },
  {
   "cell_type": "code",
   "execution_count": 6,
   "id": "6b9918e5",
   "metadata": {},
   "outputs": [
    {
     "name": "stdout",
     "output_type": "stream",
     "text": [
      "<class 'list'>\n",
      "==================================================\n",
      "type: <class 'numpy.ndarray'>\n",
      "hape: (3,), dimenseion: 1, dtype: int32\n",
      "numpy 배열의 데이터\n",
      "[1 2 3]\n"
     ]
    }
   ],
   "source": [
    "# 파이썬 1차원 list로 numpy 배열 만들기\n",
    "arr = [1, 2, 3]\n",
    "print(type(arr))\n",
    "print('=' * 50)\n",
    "\n",
    "# array() 메소드는 인수로 list 객체를 넘겨받아 numpy 배열을 만든다.\n",
    "# 정수형 데이터의 dtype 기본값은 np.int이고 32비트 정수 데이터를 의미한다. => np.int32와 같다.\n",
    "# 정수형 데이터의 dtype은 np.int, np.int8, np.int16, np.int32, np.int64를 사용할 수 있다.\n",
    "a = np.array(arr, dtype=np.int)\n",
    "pprint(a)"
   ]
  },
  {
   "cell_type": "code",
   "execution_count": 7,
   "id": "e6e305a6",
   "metadata": {
    "scrolled": true
   },
   "outputs": [
    {
     "name": "stdout",
     "output_type": "stream",
     "text": [
      "<class 'list'>\n",
      "==================================================\n",
      "type: <class 'numpy.ndarray'>\n",
      "hape: (2, 3), dimenseion: 2, dtype: float64\n",
      "numpy 배열의 데이터\n",
      "[[1. 2. 3.]\n",
      " [4. 5. 6.]]\n"
     ]
    }
   ],
   "source": [
    "# 파이썬 2차원 list로 numpy 배열 만들기\n",
    "arr = [[1, 2, 3], [4, 5, 6]]\n",
    "print(type(arr))\n",
    "print('=' * 50)\n",
    "\n",
    "# 실수형 데이터의 dtype 기본값은 np.float이고 64비트 정수 데이터를 의미한다. => np.float64와 같다.\n",
    "# 실수형 데이터의 dtype은 np.float, np.float16, np.float32, np.float64를 사용할 수 있다.\n",
    "a = np.array(arr, dtype=np.float)\n",
    "pprint(a)"
   ]
  },
  {
   "cell_type": "code",
   "execution_count": 8,
   "id": "6c4b5be2",
   "metadata": {
    "scrolled": true
   },
   "outputs": [
    {
     "name": "stdout",
     "output_type": "stream",
     "text": [
      "<class 'list'>\n",
      "==================================================\n",
      "type: <class 'numpy.ndarray'>\n",
      "hape: (2, 2, 3), dimenseion: 3, dtype: int32\n",
      "numpy 배열의 데이터\n",
      "[[[ 1  2  3]\n",
      "  [ 4  5  6]]\n",
      "\n",
      " [[11 22 33]\n",
      "  [44 55 66]]]\n"
     ]
    }
   ],
   "source": [
    "# 파이썬 3차원 list로 numpy 배열 만들기\n",
    "arr = [[[1, 2, 3], [4, 5, 6]], [[11, 22, 33], [44, 55, 66]]]\n",
    "print(type(arr))\n",
    "print('=' * 50)\n",
    "\n",
    "# dtype에 numpy 자료형이 아닌 파이썬 자료형을 사용할 수 있다. => int, float만 사용가능\n",
    "# int는 np.int(np.int32)와 같고 float는 np.float(np.float64)와 같다.\n",
    "a = np.array(arr)\n",
    "pprint(a)"
   ]
  },
  {
   "cell_type": "markdown",
   "id": "1415b7b8",
   "metadata": {},
   "source": [
    "numpy는 원하는 shape으로 배열을 생성하고 각 요소들을 특정 값으로 초기화시키는 메소드를 제공한다."
   ]
  },
  {
   "cell_type": "code",
   "execution_count": 9,
   "id": "d3ec20a5",
   "metadata": {},
   "outputs": [
    {
     "name": "stdout",
     "output_type": "stream",
     "text": [
      "type: <class 'numpy.ndarray'>\n",
      "hape: (3, 4), dimenseion: 2, dtype: int32\n",
      "numpy 배열의 데이터\n",
      "[[0 0 0 0]\n",
      " [0 0 0 0]\n",
      " [0 0 0 0]]\n"
     ]
    }
   ],
   "source": [
    "# np.zeros() 메소드는 지정된 shape 만큼의 배열을 생성하고 모든 요소를 0으로 초기화시킨다. => 영행렬\n",
    "# np.zeros(shape[, dtype,order]) # dtype과 order은 생략 가능하다.\n",
    "# order => 2차원 이상의 배열일 경우 데이터가 채워지는 방식을 지정한다.\n",
    "# c, c++, java, c#, python => 행 우선 방식, fortran => 열 우선 방식\n",
    "#a = np.zeros(shape=(3, 4)) # dtype이 numpy 기본값 float64로 지정된다.\n",
    "#a = np.zeros(shape=(3, 4), dtype=np.int, order ='f') # dtype을 지정하면 지정된 dtype으로 배열이 만들어진다.\n",
    "a = np.zeros((3, 4), np.int, 'f')\n",
    "pprint(a)"
   ]
  },
  {
   "cell_type": "code",
   "execution_count": 10,
   "id": "b1e461a1",
   "metadata": {},
   "outputs": [
    {
     "name": "stdout",
     "output_type": "stream",
     "text": [
      "type: <class 'numpy.ndarray'>\n",
      "hape: (2, 3, 4), dimenseion: 3, dtype: int32\n",
      "numpy 배열의 데이터\n",
      "[[[1 1 1 1]\n",
      "  [1 1 1 1]\n",
      "  [1 1 1 1]]\n",
      "\n",
      " [[1 1 1 1]\n",
      "  [1 1 1 1]\n",
      "  [1 1 1 1]]]\n"
     ]
    }
   ],
   "source": [
    "# np.ones() 메소드는 지정된 shape 만큼의 배열을 생성하고 모든 요소를 1로 초기화시킨다.\n",
    "# np.ones(shape[, dtype, order])\n",
    "a = np.ones(shape=(2, 3, 4), dtype=np.int)\n",
    "pprint(a)"
   ]
  },
  {
   "cell_type": "code",
   "execution_count": 11,
   "id": "5509d57a",
   "metadata": {
    "scrolled": true
   },
   "outputs": [
    {
     "name": "stdout",
     "output_type": "stream",
     "text": [
      "type: <class 'numpy.ndarray'>\n",
      "hape: (2, 3), dimenseion: 2, dtype: int32\n",
      "numpy 배열의 데이터\n",
      "[[7 7 7]\n",
      " [7 7 7]]\n"
     ]
    }
   ],
   "source": [
    "# np.full() 메소드는 지정된 shape 만큼의 배열을 생성하고 모든 요소를 특정값으로 초기화시킨다.\n",
    "# np.full(shape, fill_value [, dtype, order])\n",
    "a = np.full(shape=(2, 3), fill_value=7, dtype=np.int)\n",
    "pprint(a)"
   ]
  },
  {
   "cell_type": "code",
   "execution_count": 12,
   "id": "15a6063b",
   "metadata": {},
   "outputs": [
    {
     "name": "stdout",
     "output_type": "stream",
     "text": [
      "type: <class 'numpy.ndarray'>\n",
      "hape: (5, 5), dimenseion: 2, dtype: float64\n",
      "numpy 배열의 데이터\n",
      "[[1. 0. 0. 0. 0.]\n",
      " [0. 1. 0. 0. 0.]\n",
      " [0. 0. 1. 0. 0.]\n",
      " [0. 0. 0. 1. 0.]\n",
      " [0. 0. 0. 0. 1.]]\n"
     ]
    }
   ],
   "source": [
    "# np.eye() 메소드는 지정된 shape 만큼의 크기를 가지는 단위 행렬(주 대각 요소만 1이고, 나머지는 0인 행렬)을 만든다.\n",
    "# np.eye(n [, dtype]) # n행 n열 크기의 단위 행렬을 만든다.\n",
    "a = np.eye(5)\n",
    "pprint(a)"
   ]
  },
  {
   "cell_type": "code",
   "execution_count": 13,
   "id": "4a6b53f4",
   "metadata": {},
   "outputs": [
    {
     "name": "stdout",
     "output_type": "stream",
     "text": [
      "type: <class 'numpy.ndarray'>\n",
      "hape: (4, 2), dimenseion: 2, dtype: float64\n",
      "numpy 배열의 데이터\n",
      "[[0.000e+000 0.000e+000]\n",
      " [0.000e+000 0.000e+000]\n",
      " [0.000e+000 7.826e-321]\n",
      " [0.000e+000 0.000e+000]]\n"
     ]
    }
   ],
   "source": [
    "# np.empty() 메소드는 지정된 shape 만큼의 크기를 가지는 배열을 만들기만 한다. => 초기화하지 않는다. => 쓰레기가 저장된다.\n",
    "# np.empty(shape, dtype, order) \n",
    "a = np.empty(shape=(4,2))\n",
    "pprint(a)"
   ]
  },
  {
   "cell_type": "markdown",
   "id": "757d53c7",
   "metadata": {},
   "source": [
    "like 메소드  \n",
    "numpy는 인수로 지정한 배열과 shape이 같은 배열을 만드는 like 메소드를 제공한다.  \n",
    "np.zeros_like(), np.ones_like(), np.full_like(), np.empty_like()"
   ]
  },
  {
   "cell_type": "code",
   "execution_count": 14,
   "id": "12aa4bce",
   "metadata": {},
   "outputs": [
    {
     "name": "stdout",
     "output_type": "stream",
     "text": [
      "[[1 2 3]\n",
      " [4 5 6]]\n",
      "[[0 0 0]\n",
      " [0 0 0]]\n",
      "[[1 1 1]\n",
      " [1 1 1]]\n",
      "[[999 999 999]\n",
      " [999 999 999]]\n",
      "[[       4        0        4]\n",
      " [       0 56230244 73007206]]\n"
     ]
    }
   ],
   "source": [
    "a = np.array([[1, 2, 3], [4, 5, 6]])\n",
    "print(a)\n",
    "b = np.zeros_like(a)\n",
    "print(b)\n",
    "c = np.ones_like(a)\n",
    "print(c)\n",
    "d = np.full_like(a, 999)\n",
    "print(d)\n",
    "e = np.empty_like(a)\n",
    "print(e)"
   ]
  },
  {
   "cell_type": "markdown",
   "id": "b7d64bf4",
   "metadata": {},
   "source": [
    "데이터 생성 메소드  \n",
    "numpy는 주어진 조건으로 데이터를 생성한 후 배열을 만드는 데이터 생성 메소드를 제공한다.  \n",
    "np.linspace(), np.arange(), np.logspace()"
   ]
  },
  {
   "cell_type": "code",
   "execution_count": 15,
   "id": "c2fdd079",
   "metadata": {},
   "outputs": [],
   "source": [
    "# !pip install matplotlib\n",
    "import matplotlib.pyplot as plt"
   ]
  },
  {
   "cell_type": "code",
   "execution_count": 16,
   "id": "3d4bca5a",
   "metadata": {},
   "outputs": [],
   "source": [
    "# 쥬피터 노트북에 그래프를 표시하기 위해 실행한다,\n",
    "# %matplotlib inline\n",
    "# %matplotlib notebook # 그래프 조절 가능"
   ]
  },
  {
   "cell_type": "code",
   "execution_count": 17,
   "id": "63277d30",
   "metadata": {},
   "outputs": [
    {
     "name": "stdout",
     "output_type": "stream",
     "text": [
      "type: <class 'numpy.ndarray'>\n",
      "hape: (5,), dimenseion: 1, dtype: float64\n",
      "numpy 배열의 데이터\n",
      "[0.   0.25 0.5  0.75 1.  ]\n"
     ]
    },
    {
     "data": {
      "image/png": "[encoded data removed]",
      "text/plain": [
       "<Figure size 576x432 with 1 Axes>"
      ]
     },
     "metadata": {
      "needs_background": "light"
     },
     "output_type": "display_data"
    }
   ],
   "source": [
    "# linspace() 메소드는 start부터 stop의 범위에서 num개를 균일한 간격으로 데이터를 생성하고 배열을 만든다.\n",
    "# np.linspace(start, stop, num)\n",
    "a = np.linspace(0, 1, 5)\n",
    "pprint(a)\n",
    "# np.linspace()메소드 실행 결과 시각화\n",
    "plt.figure(figsize=(8, 6))\n",
    "plt.plot(a, 'c*')\n",
    "plt.show()"
   ]
  },
  {
   "cell_type": "code",
   "execution_count": 18,
   "id": "b5dd54b7",
   "metadata": {},
   "outputs": [
    {
     "name": "stdout",
     "output_type": "stream",
     "text": [
      "type: <class 'numpy.ndarray'>\n",
      "hape: (5,), dimenseion: 1, dtype: float32\n",
      "numpy 배열의 데이터\n",
      "[0. 2. 4. 6. 8.]\n"
     ]
    },
    {
     "data": {
      "image/png": "[encoded data removed]",
      "text/plain": [
       "<Figure size 576x432 with 1 Axes>"
      ]
     },
     "metadata": {
      "needs_background": "light"
     },
     "output_type": "display_data"
    }
   ],
   "source": [
    "# arange() 메소드는 start부터 stop미만까지 step 간격으로 데이터를 생성하고 배열을 만든다.\n",
    "# np.arange([start, ]stop[, step, dtype])\n",
    "# linspace()는 요소의 개수를 지정해 배열을 만들지만 arange()는 요소의 개수가 아닌 데이터의 간격을 기준으로 균등한 간격의 배열을 만든다.\n",
    "# start를 생략하면 0, step을 생략하면 1이 기본값으로 사용된다.\n",
    "# np.arange(10), np.arange(0, 10), np.arange(0, 10, 1)은 모두 같은 기능이 실행된다.\n",
    "a = np.arange(0, 10, 2, dtype=np.float32)\n",
    "pprint(a)\n",
    "\n",
    "# np.arange() 메소드 실행 결과 시각화\n",
    "plt.figure(figsize=(8, 6))\n",
    "plt.plot(a)\n",
    "plt.show()"
   ]
  },
  {
   "cell_type": "code",
   "execution_count": 19,
   "id": "a9acb232",
   "metadata": {},
   "outputs": [
    {
     "name": "stdout",
     "output_type": "stream",
     "text": [
      "type: <class 'numpy.ndarray'>\n",
      "hape: (10,), dimenseion: 1, dtype: float64\n",
      "numpy 배열의 데이터\n",
      "[1.00000000e+00 2.16011948e+00 4.66611616e+00 1.00793684e+01\n",
      " 2.17726400e+01 4.70315038e+01 1.01593667e+02 2.19454460e+02\n",
      " 4.74047853e+02 1.02400000e+03]\n"
     ]
    },
    {
     "data": {
      "image/png": "[encoded data removed]",
      "text/plain": [
       "<Figure size 576x432 with 1 Axes>"
      ]
     },
     "metadata": {
      "needs_background": "light"
     },
     "output_type": "display_data"
    }
   ],
   "source": [
    "# logspace() 메소드는 로그 스케일로 지정된 범위(start 부터 stop 사이)에서 num개 만큼 균등한 간격으로 데이터를 생성하고 배열을 만든다.\n",
    "# np.logspace(start, end, num, base) # base를 생략하면 10이 기본값으로 사용된다.\n",
    "a = np.logspace(0, 10, 10, base=2)\n",
    "pprint(a)\n",
    "\n",
    "# np.logspace() 메소드 실행결과 시각화\n",
    "plt.figure(figsize=(8, 6))\n",
    "plt.plot(a)\n",
    "plt.show()"
   ]
  },
  {
   "cell_type": "markdown",
   "id": "270df19c",
   "metadata": {},
   "source": [
    "난수 기반 배열 생성  \n",
    "넘파이는 난수 발생 및 배열을 생성하는 random 모듈을 제공하고 다음과 같은 함수를 사용할 수 있다.  \n",
    "np.random.normal(), np.random.randn(), np.random.rand(), np.random.randint(), np.random.random()"
   ]
  },
  {
   "cell_type": "code",
   "execution_count": 20,
   "id": "5ec17b3a",
   "metadata": {},
   "outputs": [
    {
     "name": "stdout",
     "output_type": "stream",
     "text": [
      "type: <class 'numpy.ndarray'>\n",
      "hape: (10,), dimenseion: 1, dtype: float64\n",
      "numpy 배열의 데이터\n",
      "[ 0.21474182 -0.28497188 -0.17469634 -1.0945663   1.80003232 -1.24066765\n",
      "  0.44951299 -0.39988758  0.74032584  0.59673645]\n"
     ]
    },
    {
     "data": {
      "image/png": "[encoded data removed]",
      "text/plain": [
       "<Figure size 576x432 with 1 Axes>"
      ]
     },
     "metadata": {
      "needs_background": "light"
     },
     "output_type": "display_data"
    }
   ],
   "source": [
    "# normal() 함수는 정규 분포를 따르는 난수 데이터를 생성하고 배열을 만든다.\n",
    "# np.random.normal(평균, 표준편차, 난수의 개수)\n",
    "a = np.random.normal(0, 1, 10)\n",
    "pprint(a)\n",
    "\n",
    "# 히스토그램으로 실행 결과 시각화\n",
    "plt.figure(figsize=(8, 6))\n",
    "plt.hist(a)\n",
    "plt.show()"
   ]
  },
  {
   "cell_type": "code",
   "execution_count": 21,
   "id": "797798e2",
   "metadata": {},
   "outputs": [
    {
     "data": {
      "image/png": "[encoded data removed]",
      "text/plain": [
       "<Figure size 576x432 with 1 Axes>"
      ]
     },
     "metadata": {
      "needs_background": "light"
     },
     "output_type": "display_data"
    }
   ],
   "source": [
    "# normal() 함수가 생성한 난수는 정규 분포의 형상을 가진다.\n",
    "a = np.random.normal(0, 1, 10000)\n",
    "plt.figure(figsize=(8, 6))\n",
    "\n",
    "# hist() 메소드에 bins 옵션으로 히스토그램 막대(구간)의 개수를 지정할 수 있다.\n",
    "plt.hist(a, bins=100)\n",
    "plt.show()"
   ]
  },
  {
   "cell_type": "code",
   "execution_count": 22,
   "id": "b8b2645e",
   "metadata": {},
   "outputs": [
    {
     "name": "stdout",
     "output_type": "stream",
     "text": [
      "type: <class 'numpy.ndarray'>\n",
      "hape: (10,), dimenseion: 1, dtype: float64\n",
      "numpy 배열의 데이터\n",
      "[-0.47533116 -1.53362248 -1.77952368 -1.11807562  0.06949232 -0.38219973\n",
      " -1.32438538 -0.30158949 -1.22731598  1.00424597]\n"
     ]
    },
    {
     "data": {
      "image/png": "[encoded data removed]",
      "text/plain": [
       "<Figure size 576x432 with 1 Axes>"
      ]
     },
     "metadata": {
      "needs_background": "light"
     },
     "output_type": "display_data"
    }
   ],
   "source": [
    "# randn() 함수는 표준 정규 분포를 따르는 난수 데이터를 생성하고 배열을 만든다.\n",
    "# np.random.normal(난수의 개수)\n",
    "a = np.random.randn(10)\n",
    "pprint(a)\n",
    "plt.figure(figsize=(8, 6))\n",
    "plt.hist(a)\n",
    "plt.show()"
   ]
  },
  {
   "cell_type": "code",
   "execution_count": 23,
   "id": "8290c747",
   "metadata": {},
   "outputs": [
    {
     "data": {
      "image/png": "[encoded data removed]",
      "text/plain": [
       "<Figure size 576x432 with 1 Axes>"
      ]
     },
     "metadata": {
      "needs_background": "light"
     },
     "output_type": "display_data"
    }
   ],
   "source": [
    "a = np.random.randn(10000)\n",
    "plt.figure(figsize=(8, 6))\n",
    "plt.hist(a, bins=100)\n",
    "plt.show()"
   ]
  },
  {
   "cell_type": "code",
   "execution_count": 24,
   "id": "e3366bd2",
   "metadata": {
    "scrolled": true
   },
   "outputs": [
    {
     "name": "stdout",
     "output_type": "stream",
     "text": [
      "type: <class 'numpy.ndarray'>\n",
      "hape: (2, 3), dimenseion: 2, dtype: float64\n",
      "numpy 배열의 데이터\n",
      "[[-0.21775546  1.367472    0.60753176]\n",
      " [ 1.39043294 -1.16479595 -0.55102646]]\n"
     ]
    }
   ],
   "source": [
    "a = np.random.randn(2, 3)\n",
    "pprint(a)"
   ]
  },
  {
   "cell_type": "code",
   "execution_count": 25,
   "id": "b6f2cabb",
   "metadata": {},
   "outputs": [
    {
     "name": "stdout",
     "output_type": "stream",
     "text": [
      "type: <class 'numpy.ndarray'>\n",
      "hape: (10,), dimenseion: 1, dtype: float64\n",
      "numpy 배열의 데이터\n",
      "[0.75976476 0.4049489  0.25981942 0.98313188 0.53340906 0.25913988\n",
      " 0.25045789 0.30974777 0.87919914 0.40401878]\n"
     ]
    },
    {
     "data": {
      "image/png": "[encoded data removed]",
      "text/plain": [
       "<Figure size 576x432 with 1 Axes>"
      ]
     },
     "metadata": {
      "needs_background": "light"
     },
     "output_type": "display_data"
    }
   ],
   "source": [
    "# rand() 함수는 0 ~ 1 사이의 균등 분포를 따르는 난수 데이터를 생성하고 배열을 만든다.\n",
    "# np.random.rand(난수의 개수)\n",
    "a = np.random.rand(10)\n",
    "pprint(a)\n",
    "plt.figure(figsize=(8, 6))\n",
    "plt.hist(a)\n",
    "plt.show()"
   ]
  },
  {
   "cell_type": "code",
   "execution_count": 26,
   "id": "a21e9888",
   "metadata": {},
   "outputs": [
    {
     "data": {
      "image/png": "[encoded data removed]",
      "text/plain": [
       "<Figure size 576x432 with 1 Axes>"
      ]
     },
     "metadata": {
      "needs_background": "light"
     },
     "output_type": "display_data"
    }
   ],
   "source": [
    "a = np.random.rand(10000)\n",
    "plt.figure(figsize=(8, 6))\n",
    "plt.hist(a, bins=100)\n",
    "plt.show()"
   ]
  },
  {
   "cell_type": "code",
   "execution_count": 27,
   "id": "90ee28a0",
   "metadata": {},
   "outputs": [
    {
     "name": "stdout",
     "output_type": "stream",
     "text": [
      "type: <class 'numpy.ndarray'>\n",
      "hape: (3, 4), dimenseion: 2, dtype: float64\n",
      "numpy 배열의 데이터\n",
      "[[0.35645276 0.41761599 0.38159347 0.78167076]\n",
      " [0.72947444 0.99819606 0.3520359  0.57411396]\n",
      " [0.62034264 0.5696443  0.15718064 0.07614775]]\n"
     ]
    }
   ],
   "source": [
    "a = np.random.rand(3, 4)\n",
    "pprint(a)"
   ]
  },
  {
   "cell_type": "code",
   "execution_count": 28,
   "id": "37df38a5",
   "metadata": {},
   "outputs": [
    {
     "name": "stdout",
     "output_type": "stream",
     "text": [
      "type: <class 'numpy.ndarray'>\n",
      "hape: (6,), dimenseion: 1, dtype: int32\n",
      "numpy 배열의 데이터\n",
      "[12 13 43 26 25 31]\n"
     ]
    }
   ],
   "source": [
    "# randint() 함수는 지정된 크기만큼 low부터 high 미만의 범위에서 난수를 정수 데이터로 생성하고 배열을 만든다.\n",
    "# np.random.randint(low, high, size)\n",
    "a = np.random.randint(1, 46, size=6)\n",
    "pprint(a)"
   ]
  },
  {
   "cell_type": "code",
   "execution_count": 29,
   "id": "8a7367b9",
   "metadata": {},
   "outputs": [
    {
     "data": {
      "image/png": "[encoded data removed]",
      "text/plain": [
       "<Figure size 576x432 with 1 Axes>"
      ]
     },
     "metadata": {
      "needs_background": "light"
     },
     "output_type": "display_data"
    }
   ],
   "source": [
    "a = np.random.randint(-100, 100, size=10000)\n",
    "plt.figure(figsize=(8, 6))\n",
    "plt.hist(a, bins=100)\n",
    "plt.show()"
   ]
  },
  {
   "cell_type": "code",
   "execution_count": 30,
   "id": "6f999014",
   "metadata": {
    "scrolled": true
   },
   "outputs": [
    {
     "name": "stdout",
     "output_type": "stream",
     "text": [
      "type: <class 'numpy.ndarray'>\n",
      "hape: (2, 4), dimenseion: 2, dtype: float64\n",
      "numpy 배열의 데이터\n",
      "[[0.02152496 0.05058397 0.49322939 0.4545332 ]\n",
      " [0.08014223 0.46104302 0.37067222 0.25648434]]\n"
     ]
    }
   ],
   "source": [
    "# random() 함수는 0부터 1사이의 균등 분포에서 난수로 데이터를 생성하고 배열을 만든다.\n",
    "# np.random.random(size)\n",
    "a = np.random.random(size=(2, 4))\n",
    "pprint(a)"
   ]
  },
  {
   "cell_type": "code",
   "execution_count": 31,
   "id": "c9d26cae",
   "metadata": {
    "scrolled": false
   },
   "outputs": [
    {
     "data": {
      "image/png": "[encoded data removed]",
      "text/plain": [
       "<Figure size 576x432 with 1 Axes>"
      ]
     },
     "metadata": {
      "needs_background": "light"
     },
     "output_type": "display_data"
    }
   ],
   "source": [
    "a = np.random.random(size=(10000))\n",
    "plt.figure(figsize=(8, 6))\n",
    "plt.hist(a, bins=100)\n",
    "plt.show()"
   ]
  },
  {
   "cell_type": "markdown",
   "id": "c525b418",
   "metadata": {},
   "source": [
    "약속된 난수  \n",
    "무작위 수를 발생시키는 난수 발생 함수는 특정 시작 숫자로부터 난수처럼 보이는 알고리즘의 결과물이다.  \n",
    "따라서 시작점을 설정하면 난수 발생을 재연할 수 있다. => 매번 같은 배열의 난수가 발생되게 할 수 있다."
   ]
  },
  {
   "cell_type": "code",
   "execution_count": 32,
   "id": "ba9a0267",
   "metadata": {},
   "outputs": [
    {
     "name": "stdout",
     "output_type": "stream",
     "text": [
      "[[0.54340494 0.27836939 0.42451759]\n",
      " [0.84477613 0.00471886 0.12156912]]\n",
      "[[2 2 2]\n",
      " [1 0 8]]\n"
     ]
    }
   ],
   "source": [
    "# seed() 함수\n",
    "np.random.seed(100)\n",
    "print(np.random.random((2, 3)))\n",
    "print(np.random.randint(0, 10, (2, 3)))"
   ]
  },
  {
   "cell_type": "markdown",
   "id": "6cf8d8d4",
   "metadata": {},
   "source": [
    "배열의 상태"
   ]
  },
  {
   "cell_type": "code",
   "execution_count": 33,
   "id": "36929512",
   "metadata": {},
   "outputs": [],
   "source": [
    "# numpy는 배열의 상태를 검사하는 다음과 같은 방법을 제공한다.\n",
    "# 배열 속성 검사 항목   배열 속성 확인 방법        예시                 결과\n",
    "# 배열 shape            넘파이배열.shape           arr.shape            (5, 2, 3)\n",
    "# 배열 길이             len(넘파이배열)            len(arr)             5\n",
    "# 배열 차원             넘파이배열.ndim            arr.ndim             3\n",
    "# 배열 요소 수          넘파이배열.size            arr.size             30\n",
    "# 배열 타입             넘파이배열.dtype           arr.dtype            dtype('float64')\n",
    "# 배열 타입 이름        넘파이배열.dtype.name      arr.dtype.name       float64\n",
    "# 배열 타입 변환        넘파이배열.astype() 함수   arr.astype(np.int)"
   ]
  },
  {
   "cell_type": "code",
   "execution_count": 34,
   "id": "344b51dd",
   "metadata": {},
   "outputs": [
    {
     "name": "stdout",
     "output_type": "stream",
     "text": [
      "type: <class 'numpy.ndarray'>\n",
      "hape: (2, 3, 6), dimenseion: 3, dtype: float64\n",
      "numpy 배열의 데이터\n",
      "[[[0.06368104 0.62431189 0.52334774 0.56229626 0.00581719 0.30742321]\n",
      "  [0.95018431 0.12665424 0.07898787 0.31135313 0.63238359 0.69935892]\n",
      "  [0.64196495 0.92002378 0.29887635 0.56874553 0.17862432 0.5325737 ]]\n",
      "\n",
      " [[0.64669147 0.14206538 0.58138896 0.47918994 0.38641911 0.44046495]\n",
      "  [0.40475733 0.44225404 0.03012328 0.77600531 0.55095838 0.3810734 ]\n",
      "  [0.52926578 0.9568769  0.17582131 0.11830284 0.86294567 0.07486688]]]\n"
     ]
    }
   ],
   "source": [
    "arr = np.random.random((2, 3, 6))\n",
    "pprint(arr)"
   ]
  },
  {
   "cell_type": "markdown",
   "id": "7132e8bb",
   "metadata": {},
   "source": [
    "numpy 배열 객체는 다음과 같은 방법으로 속성을 확인할 수 있다."
   ]
  },
  {
   "cell_type": "code",
   "execution_count": 35,
   "id": "fe4a3c17",
   "metadata": {},
   "outputs": [
    {
     "name": "stdout",
     "output_type": "stream",
     "text": [
      "배열의 타입: <class 'numpy.ndarray'>\n"
     ]
    }
   ],
   "source": [
    "print('배열의 타입: {}'.format(type(arr)))"
   ]
  },
  {
   "cell_type": "code",
   "execution_count": 36,
   "id": "94716f00",
   "metadata": {},
   "outputs": [
    {
     "name": "stdout",
     "output_type": "stream",
     "text": [
      "배열의 shape: (2, 3, 6)\n"
     ]
    }
   ],
   "source": [
    "print('배열의 shape: {}'.format(arr.shape))"
   ]
  },
  {
   "cell_type": "code",
   "execution_count": 37,
   "id": "447c9cd1",
   "metadata": {},
   "outputs": [
    {
     "name": "stdout",
     "output_type": "stream",
     "text": [
      "배열의 길이(면): 2\n",
      "배열의 길이(행): 3\n",
      "배열의 길이(열): 6\n"
     ]
    }
   ],
   "source": [
    "print('배열의 길이(면): {}'.format(len(arr)))\n",
    "print('배열의 길이(행): {}'.format(len(arr[0])))\n",
    "print('배열의 길이(열): {}'.format(len(arr[0][0])))"
   ]
  },
  {
   "cell_type": "code",
   "execution_count": 38,
   "id": "3335156c",
   "metadata": {},
   "outputs": [
    {
     "name": "stdout",
     "output_type": "stream",
     "text": [
      "배열의 차원: 3\n"
     ]
    }
   ],
   "source": [
    "print('배열의 차원: {}'.format(arr.ndim))"
   ]
  },
  {
   "cell_type": "code",
   "execution_count": 39,
   "id": "e52b5f4d",
   "metadata": {},
   "outputs": [
    {
     "name": "stdout",
     "output_type": "stream",
     "text": [
      "배열의 요소 개수: 36\n"
     ]
    }
   ],
   "source": [
    "print('배열의 요소 개수: {}'.format(arr.size))"
   ]
  },
  {
   "cell_type": "code",
   "execution_count": 40,
   "id": "3dff1cd4",
   "metadata": {},
   "outputs": [
    {
     "name": "stdout",
     "output_type": "stream",
     "text": [
      "배열의 데이터 타입: float64\n",
      "배열의 데이터 타입 이름: float64\n"
     ]
    }
   ],
   "source": [
    "print('배열의 데이터 타입: {}'.format(arr.dtype))\n",
    "print('배열의 데이터 타입 이름: {}'.format(arr.dtype.name))"
   ]
  },
  {
   "cell_type": "code",
   "execution_count": 41,
   "id": "f648d34c",
   "metadata": {},
   "outputs": [
    {
     "name": "stdout",
     "output_type": "stream",
     "text": [
      "[[[0 0 0 0 0 0]\n",
      "  [0 0 0 0 0 0]\n",
      "  [0 0 0 0 0 0]]\n",
      "\n",
      " [[0 0 0 0 0 0]\n",
      "  [0 0 0 0 0 0]\n",
      "  [0 0 0 0 0 0]]]\n",
      "type: <class 'numpy.ndarray'>\n",
      "hape: (2, 3, 6), dimenseion: 3, dtype: float64\n",
      "numpy 배열의 데이터\n",
      "[[[0.06368104 0.62431189 0.52334774 0.56229626 0.00581719 0.30742321]\n",
      "  [0.95018431 0.12665424 0.07898787 0.31135313 0.63238359 0.69935892]\n",
      "  [0.64196495 0.92002378 0.29887635 0.56874553 0.17862432 0.5325737 ]]\n",
      "\n",
      " [[0.64669147 0.14206538 0.58138896 0.47918994 0.38641911 0.44046495]\n",
      "  [0.40475733 0.44225404 0.03012328 0.77600531 0.55095838 0.3810734 ]\n",
      "  [0.52926578 0.9568769  0.17582131 0.11830284 0.86294567 0.07486688]]]\n",
      "type: <class 'numpy.ndarray'>\n",
      "hape: (2, 3, 6), dimenseion: 3, dtype: int32\n",
      "numpy 배열의 데이터\n",
      "[[[0 0 0 0 0 0]\n",
      "  [0 0 0 0 0 0]\n",
      "  [0 0 0 0 0 0]]\n",
      "\n",
      " [[0 0 0 0 0 0]\n",
      "  [0 0 0 0 0 0]\n",
      "  [0 0 0 0 0 0]]]\n"
     ]
    }
   ],
   "source": [
    "# 배열 요소를 정수(int)로 변환한다.\n",
    "print(arr.astype(np.int)) # 배열 요소의 실제 값이 변환되는 것이 아니고 화면에 보여주기만 한다.\n",
    "pprint(arr)\n",
    "arr = arr.astype(np.int)\n",
    "pprint(arr)"
   ]
  }
 ],
 "metadata": {
  "kernelspec": {
   "display_name": "Python 3",
   "language": "python",
   "name": "python3"
  },
  "language_info": {
   "codemirror_mode": {
    "name": "ipython",
    "version": 3
   },
   "file_extension": ".py",
   "mimetype": "text/x-python",
   "name": "python",
   "nbconvert_exporter": "python",
   "pygments_lexer": "ipython3",
   "version": "3.6.8"
  }
 },
 "nbformat": 4,
 "nbformat_minor": 5
}
