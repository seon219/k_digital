{
 "cells": [
  {
   "cell_type": "code",
   "execution_count": 1,
   "id": "7d131ca3",
   "metadata": {},
   "outputs": [],
   "source": [
    "import random\n",
    "import time # sleep() 메소드를 사용하기 위해 import를 시킨다.\n",
    "import numpy as np"
   ]
  },
  {
   "cell_type": "code",
   "execution_count": 2,
   "id": "cc530e39",
   "metadata": {},
   "outputs": [
    {
     "name": "stdout",
     "output_type": "stream",
     "text": [
      " 1  2  3  4  5  6  7  8  9 10 \n",
      "11 12 13 14 15 16 17 18 19 20 \n",
      "21 22 23 24 25 26 27 28 29 30 \n",
      "31 32 33 34 35 36 37 38 39 40 \n",
      "41 42 43 44 45 \n",
      "==============================섞기 전\n",
      "43 29 33 31 38  8 34  3 45  5 \n",
      "26 12 32 44  4 22 30 19 42  2 \n",
      "40 21 39 14 13 24  7 20 10 36 \n",
      "35 16 15 27 17 11 23 25 41  6 \n",
      "18 37  9  1 28 \n",
      "==============================섞은 후\n",
      "1등 번호:  43 29 33 31 38  8 보너스 번호:  8\n",
      "Wall time: 6.07 s\n"
     ]
    }
   ],
   "source": [
    "%%time \n",
    "# %%time 매직명령은 쥬피터 노트북 한 셀이 실행되는 시간을 출력한다.\n",
    "\n",
    "# 로또 추첨기로 사용할 리스트를 만들고 1 ~ 45로 초기화 시킨다.\n",
    "#lotto = []\n",
    "#for i in range(45):\n",
    "#    lotto.append(i + 1)\n",
    "\n",
    "lotto = [i for i in range(1, 46)]\n",
    "#print(np.array(lotto))\n",
    "\n",
    "# 섞기 전 상태를 출력 => 1줄에 숫자 10개씩 출력한다.\n",
    "for i in range(len(lotto)):\n",
    "    print('{:2d}'.format(lotto[i]), end=' ')\n",
    "    if (i + 1) % 10 == 0:\n",
    "        print()\n",
    "print('\\n' + '=' * 30 + '섞기 전')\n",
    "\n",
    "\n",
    "# 섞는다.\n",
    "'''\n",
    "# lotto[0]와 (고정) lotto[1] ~ lotto[44] 중에서 랜덤한 위치의 값을 선택해서 두 기억장소의 값을 교환한다.\n",
    "for i in range(10000):\n",
    "     # 1 ~ 44 중에서 랜덤한 위치를 선택한다.\n",
    "        r = random.randint(1, 44)\n",
    "        # lotto[0]과 lotto[r]에 저장된 데이터를 교환한다.\n",
    "        #temp = lotto[0]\n",
    "        #lotto[0] = lotto[r]\n",
    "        #lotto[r] = temp\n",
    "        lotto[0], lotto[r] = lotto[r], lotto[0]\n",
    "'''\n",
    "# shuffle() 메소드르 사용하면 데이터를 섞어준다. => 반복 처리보다 속도도 월등히 빠르다.\n",
    "random.shuffle(lotto)\n",
    "\n",
    "# 섞은 후 상태를 출력한다.\n",
    "for i in range(len(lotto)):\n",
    "    print('{:2d}'.format(lotto[i]), end=' ')\n",
    "    if (i + 1) % 10 == 0:\n",
    "        print()\n",
    "print('\\n' + '=' * 30 + '섞은 후')\n",
    "\n",
    "# 1등 번호와 보너스 번호를 출력한다.\n",
    "print('1등 번호: ', end = ' ')\n",
    "for i in range(6):\n",
    "    print('{:2d}'.format(lotto[i]), end=' ')\n",
    "    # time 모듈의 sleep() 메소드는 인수로 지정한 시간만큼 프로그램을 멈춘다.\n",
    "    time.sleep(1) # 시간은 초 단위로 지정한다.\n",
    "print('보너스 번호: {:2d}'.format(lotto[i]))"
   ]
  },
  {
   "cell_type": "code",
   "execution_count": 3,
   "id": "a8025b3b",
   "metadata": {},
   "outputs": [
    {
     "name": "stdout",
     "output_type": "stream",
     "text": [
      "[36, 14, 20, 37, 22, 33]\n",
      "Wall time: 0 ns\n"
     ]
    }
   ],
   "source": [
    "%%time\n",
    "lotto = [i for i in range(1, 46)]\n",
    "# seed() 메소드를 이용하면 모두 똑같은 난수 배열을 얻을 수 있다. => 테스트 시 많이 사용한다.\n",
    "# random.seed(42)\n",
    "# sample(리스트, 개수) 메소드는 리스트에 저장된 데이터 중에서 무작위로 지정된 개부만큼 샘플링한다.\n",
    "print(random.sample(lotto, 6))"
   ]
  }
 ],
 "metadata": {
  "kernelspec": {
   "display_name": "Python 3",
   "language": "python",
   "name": "python3"
  },
  "language_info": {
   "codemirror_mode": {
    "name": "ipython",
    "version": 3
   },
   "file_extension": ".py",
   "mimetype": "text/x-python",
   "name": "python",
   "nbconvert_exporter": "python",
   "pygments_lexer": "ipython3",
   "version": "3.6.8"
  }
 },
 "nbformat": 4,
 "nbformat_minor": 5
}
