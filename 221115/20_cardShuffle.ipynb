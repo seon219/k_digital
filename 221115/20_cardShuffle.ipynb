{
 "cells": [
  {
   "cell_type": "code",
   "execution_count": 1,
   "id": "fe5dbe35",
   "metadata": {},
   "outputs": [],
   "source": [
    "import random"
   ]
  },
  {
   "cell_type": "code",
   "execution_count": 2,
   "id": "cb73fd4c",
   "metadata": {
    "scrolled": true
   },
   "outputs": [
    {
     "name": "stdout",
     "output_type": "stream",
     "text": [
      "[0, 1, 2, 3, 4, 5, 6, 7, 8, 9, 10, 11, 12, 13, 14, 15, 16, 17, 18, 19, 20, 21, 22, 23, 24, 25, 26, 27, 28, 29, 30, 31, 32, 33, 34, 35, 36, 37, 38, 39, 40, 41, 42, 43, 44, 45, 46, 47, 48, 49, 50, 51]\n"
     ]
    }
   ],
   "source": [
    "# 카드 출력에 사용할 숫자와 무늬를 기억하는 리스트를 만든다.\n",
    "number = ['A', '2', '3', '4', '5', '6', '7', '8', '9', '10', 'J', 'Q', 'K']\n",
    "symbol = ['♠', '◇', '♥', '♧']\n",
    "\n",
    "# 0 ~ 51 사이의 숫자가 채워진 리스트를 만든다.\n",
    "cards = [i for i in range(52)]\n",
    "print(cards)"
   ]
  },
  {
   "cell_type": "code",
   "execution_count": 3,
   "id": "1c3f8649",
   "metadata": {},
   "outputs": [
    {
     "name": "stdout",
     "output_type": "stream",
     "text": [
      "♠A  ♠2  ♠3  ♠4  ♠5  ♠6  ♠7  ♠8  ♠9  ♠10 ♠J  ♠Q  ♠K  \n",
      "◇A  ◇2  ◇3  ◇4  ◇5  ◇6  ◇7  ◇8  ◇9  ◇10 ◇J  ◇Q  ◇K  \n",
      "♥A  ♥2  ♥3  ♥4  ♥5  ♥6  ♥7  ♥8  ♥9  ♥10 ♥J  ♥Q  ♥K  \n",
      "♧A  ♧2  ♧3  ♧4  ♧5  ♧6  ♧7  ♧8  ♧9  ♧10 ♧J  ♧Q  ♧K  \n",
      "\n",
      "========================================섞기 전\n",
      "♧Q  ♠5  ♥2  ◇6  ◇3  ♥9  ♥3  ♥4  ♥10 ♠10 ◇K  ◇A  ♧J  \n",
      "♧4  ♧6  ♧3  ◇2  ♠J  ◇8  ♥K  ◇5  ◇4  ♧10 ♠6  ♧7  ♥J  \n",
      "◇9  ♥7  ♠7  ♧8  ♧K  ♠A  ♠Q  ♥5  ♧5  ◇7  ◇Q  ♥8  ♥A  \n",
      "♠8  ◇J  ♠4  ♧A  ♠3  ◇10 ♧2  ♠2  ♥Q  ♠K  ♠9  ♧9  ♥6  \n",
      "\n",
      "========================================섞은 후\n"
     ]
    }
   ],
   "source": [
    "# 섞기 전 상태를 출력 => 1줄에 숫자 13개씩 입력한다.\n",
    "for i in range(len(cards)):\n",
    "    #print('{:2d}'.format(cards[i]), end=' ')\n",
    "    #print('{:2s}'.format(number[cards[i] % 13]), end=' ') # 숫자만\n",
    "    #print('{:s}'.format(symbol[cards[i] // 13]), end=' ') # 무늬만\n",
    "    print('{:s}{:2s}'.format(symbol[cards[i] // 13], number[cards[i] % 13]), end=' ') \n",
    "    if (i + 1) % 13 == 0:\n",
    "        print()\n",
    "print('\\n' + '=' * 40 + '섞기 전')\n",
    "\n",
    "random.shuffle(cards)\n",
    "\n",
    "# 섞은 후 상태를 출력한다.\n",
    "for i in range(len(cards)):\n",
    "    #print('{:2d}'.format(cards[i]), end=' ')\n",
    "    #print('{:2s}'.format(number[cards[i] % 13]), end=' ') \n",
    "    print('{:s}{:2s}'.format(symbol[cards[i] // 13], number[cards[i] % 13]), end=' ') \n",
    "    if (i + 1) % 13 == 0:\n",
    "        print()\n",
    "print('\\n' + '=' * 40 + '섞은 후')"
   ]
  }
 ],
 "metadata": {
  "kernelspec": {
   "display_name": "Python 3",
   "language": "python",
   "name": "python3"
  },
  "language_info": {
   "codemirror_mode": {
    "name": "ipython",
    "version": 3
   },
   "file_extension": ".py",
   "mimetype": "text/x-python",
   "name": "python",
   "nbconvert_exporter": "python",
   "pygments_lexer": "ipython3",
   "version": "3.6.8"
  }
 },
 "nbformat": 4,
 "nbformat_minor": 5
}
