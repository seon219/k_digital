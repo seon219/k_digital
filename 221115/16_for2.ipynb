{
 "cells": [
  {
   "cell_type": "markdown",
   "id": "ed1ca8a5",
   "metadata": {},
   "source": [
    "리스트와 함께 사용하는 for"
   ]
  },
  {
   "cell_type": "code",
   "execution_count": 1,
   "id": "76562aaa",
   "metadata": {},
   "outputs": [
    {
     "name": "stdout",
     "output_type": "stream",
     "text": [
      "['Life', 'is', 'too', 'Good']\n",
      "================================================================================\n",
      "Life\n",
      "is\n",
      "too\n",
      "Good\n",
      "================================================================================\n",
      "Life\n",
      "is\n",
      "too\n",
      "Good\n",
      "================================================================================\n",
      "is\n",
      "too\n"
     ]
    }
   ],
   "source": [
    "a = ['Life', 'is', 'too', 'Good']\n",
    "print(a)\n",
    "print('=' * 80)\n",
    "\n",
    "for i in a:\n",
    "    print(i)\n",
    "print('=' * 80)\n",
    "\n",
    "for i in range(len(a)):\n",
    "    print(a[i])\n",
    "print('=' * 80)\n",
    "\n",
    "for i in a[1:3]:\n",
    "    print(i)"
   ]
  },
  {
   "cell_type": "markdown",
   "id": "1bacfa46",
   "metadata": {},
   "source": [
    "튜플과 함꼐 사용하는 for"
   ]
  },
  {
   "cell_type": "code",
   "execution_count": 2,
   "id": "01f37bc3",
   "metadata": {},
   "outputs": [
    {
     "name": "stdout",
     "output_type": "stream",
     "text": [
      "('Life', 'is', 'too', 'Good')\n",
      "================================================================================\n",
      "Life\n",
      "is\n",
      "too\n",
      "Good\n",
      "================================================================================\n",
      "Life\n",
      "is\n",
      "too\n",
      "Good\n",
      "================================================================================\n",
      "is\n",
      "too\n"
     ]
    }
   ],
   "source": [
    "a = 'Life', 'is', 'too', 'Good'\n",
    "print(a)\n",
    "print('=' * 80)\n",
    "\n",
    "for i in a:\n",
    "    print(i)\n",
    "print('=' * 80)\n",
    "\n",
    "for i in range(len(a)):\n",
    "    print(a[i])\n",
    "print('=' * 80)\n",
    "\n",
    "for i in a[1:3]:\n",
    "    print(i)"
   ]
  },
  {
   "cell_type": "markdown",
   "id": "22e7f735",
   "metadata": {},
   "source": [
    "set과 함께 사용하는 for"
   ]
  },
  {
   "cell_type": "code",
   "execution_count": 3,
   "id": "391cd173",
   "metadata": {
    "scrolled": true
   },
   "outputs": [
    {
     "name": "stdout",
     "output_type": "stream",
     "text": [
      "{'is', 'Good', 'Life', 'too'}\n",
      "================================================================================\n",
      "is\n",
      "Good\n",
      "Life\n",
      "too\n",
      "================================================================================\n"
     ]
    }
   ],
   "source": [
    "a = {'Life', 'is', 'too', 'Good'}\n",
    "print(a)\n",
    "print('=' * 80)\n",
    "\n",
    "for i in a:\n",
    "    print(i)\n",
    "print('=' * 80)\n",
    "\n",
    "'''\n",
    "for i in range(len(a)):\n",
    "    print(a[i]) # set은 입력되는 순서와 저장되는 순서가 달라서 인덱싱을 사용할 수 없으므로 에러가 발생된다.\n",
    "print('=' * 80)\n",
    "\n",
    "for i in a[1:3]: # set은 입력되는 순서와 저장되는 순서가 달라서 슬라이싱을 사용할 수 없으므로 에러가 발생된다.\n",
    "    print(i)\n",
    "'''\n",
    "pass"
   ]
  },
  {
   "cell_type": "markdown",
   "id": "65e4ec85",
   "metadata": {},
   "source": [
    "딕셔너리와 함께 사용하는 for"
   ]
  },
  {
   "cell_type": "code",
   "execution_count": 4,
   "id": "8f53113c",
   "metadata": {},
   "outputs": [
    {
     "name": "stdout",
     "output_type": "stream",
     "text": [
      "{'apple': 1000, 'banana': 2000, 'melon': 5000, 'mango': 10000}\n",
      "dict_keys(['apple', 'banana', 'melon', 'mango'])\n",
      "dict_values([1000, 2000, 5000, 10000])\n",
      "dict_items([('apple', 1000), ('banana', 2000), ('melon', 5000), ('mango', 10000)])\n"
     ]
    }
   ],
   "source": [
    "a = {'apple':1000, 'banana':2000, 'melon':5000, 'mango':10000}\n",
    "print(a)\n",
    "print(a.keys())\n",
    "print(a.values())\n",
    "print(a.items())"
   ]
  },
  {
   "cell_type": "code",
   "execution_count": 5,
   "id": "feff6477",
   "metadata": {},
   "outputs": [
    {
     "name": "stdout",
     "output_type": "stream",
     "text": [
      "apple\n",
      "banana\n",
      "melon\n",
      "mango\n",
      "================================================================================\n",
      "apple\n",
      "banana\n",
      "melon\n",
      "mango\n",
      "================================================================================\n",
      "1000\n",
      "2000\n",
      "5000\n",
      "10000\n",
      "================================================================================\n",
      "('apple', 1000)\n",
      "('banana', 2000)\n",
      "('melon', 5000)\n",
      "('mango', 10000)\n",
      "================================================================================\n"
     ]
    }
   ],
   "source": [
    "for key in a: # 딕셔너리 이름만 쓰면 딕셔너리이름.keys()와 같은 의미로 사용됨\n",
    "    print(key)\n",
    "print('=' * 80)\n",
    "\n",
    "for key in a.keys():  \n",
    "    print(key)\n",
    "print('=' * 80)\n",
    "\n",
    "for value in a.values():  \n",
    "    print(value)\n",
    "print('=' * 80)\n",
    "\n",
    "for item in a.items():  \n",
    "    print(item)\n",
    "print('=' * 80)"
   ]
  },
  {
   "cell_type": "code",
   "execution_count": 6,
   "id": "67b746e3",
   "metadata": {},
   "outputs": [
    {
     "name": "stdout",
     "output_type": "stream",
     "text": [
      "1000\n",
      "2000\n",
      "5000\n",
      "10000\n",
      "================================================================================\n",
      "1000\n",
      "2000\n",
      "5000\n",
      "10000\n"
     ]
    }
   ],
   "source": [
    "# key 값을 이용해서 value 얻어오기\n",
    "for key in a.keys():\n",
    "    print(a[key]) # 딕셔너리 이름[key]\n",
    "print('=' * 80)\n",
    "\n",
    "for key in a.keys():\n",
    "    print(a.get(key)) # 딕셔너리이름.get[key]"
   ]
  },
  {
   "cell_type": "code",
   "execution_count": 7,
   "id": "237a3d9c",
   "metadata": {
    "scrolled": true
   },
   "outputs": [
    {
     "name": "stdout",
     "output_type": "stream",
     "text": [
      "('apple', 1000)\n",
      "('banana', 2000)\n",
      "('melon', 5000)\n",
      "('mango', 10000)\n",
      "================================================================================\n",
      "apple는(은) 1,000\n",
      "banana는(은) 2,000\n",
      "melon는(은) 5,000\n",
      "mango는(은) 10,000\n",
      "================================================================================\n",
      "apple는(은) 1,000\n",
      "banana는(은) 2,000\n",
      "melon는(은) 5,000\n",
      "mango는(은) 10,000\n"
     ]
    }
   ],
   "source": [
    "# item 값을 이용해서 key, value 얻어오기\n",
    "for item in a.items():\n",
    "    print(item) \n",
    "print('=' * 80)\n",
    "\n",
    "for item in a.items():\n",
    "    print('{}는(은) {:,}'.format(item[0], item[1]))\n",
    "print('=' * 80)\n",
    "\n",
    "for (key, value) in a.items():\n",
    "    print('{}는(은) {:,}'.format(key, value))"
   ]
  },
  {
   "cell_type": "markdown",
   "id": "bbc2d45e",
   "metadata": {},
   "source": [
    "zip() 함수는 서로 다른 데이터를 나열하는 객체를 반복 가능한 형태로 묶어준다."
   ]
  },
  {
   "cell_type": "code",
   "execution_count": 8,
   "id": "c2e57d29",
   "metadata": {},
   "outputs": [
    {
     "name": "stdout",
     "output_type": "stream",
     "text": [
      "1 java\n",
      "2 jsp\n",
      "3 python\n"
     ]
    }
   ],
   "source": [
    "for index, data in zip([1, 2, 3], ['java', 'jsp', 'python']):\n",
    "    print(index, data)"
   ]
  }
 ],
 "metadata": {
  "kernelspec": {
   "display_name": "Python 3",
   "language": "python",
   "name": "python3"
  },
  "language_info": {
   "codemirror_mode": {
    "name": "ipython",
    "version": 3
   },
   "file_extension": ".py",
   "mimetype": "text/x-python",
   "name": "python",
   "nbconvert_exporter": "python",
   "pygments_lexer": "ipython3",
   "version": "3.6.8"
  }
 },
 "nbformat": 4,
 "nbformat_minor": 5
}
