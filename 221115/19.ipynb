{
 "cells": [
  {
   "cell_type": "code",
   "execution_count": 1,
   "id": "052f916d",
   "metadata": {},
   "outputs": [],
   "source": [
    "import random\n",
    "lotto = [i for i in range(1, 46)]"
   ]
  },
  {
   "cell_type": "code",
   "execution_count": 2,
   "id": "d731ee5a",
   "metadata": {
    "scrolled": false
   },
   "outputs": [
    {
     "name": "stdout",
     "output_type": "stream",
     "text": [
      "로또 복권 구매 금액을 입력하세요: 10000\n",
      "  1game:  03 05 09 33 34 41 \n",
      "  2game:  09 12 24 28 33 39 \n",
      "  3game:  05 12 23 30 31 33 \n",
      "  4game:  11 17 18 23 28 33 \n",
      "  5game:  03 04 12 35 39 40 \n",
      "  6game:  09 13 16 20 23 26 \n",
      "  7game:  03 13 18 23 26 30 \n",
      "  8game:  02 03 06 14 19 22 \n",
      "  9game:  03 18 30 31 34 42 \n",
      " 10game:  03 08 10 27 37 38 \n"
     ]
    }
   ],
   "source": [
    "# 로또 복권 구매 금액을 입력받아 입력받은 금약만큼 로또 번호를 출력하는 프로그램\n",
    "# 로또 복권 구매 금액을 입력받는다,\n",
    "money = int(input('로또 복권 구매 금액을 입력하세요: '))\n",
    "# 복권 구매 금액만큼 반복하며 로또 번호를 출력한다.\n",
    "for i in range(money // 1000):\n",
    "    random.shuffle(lotto)\n",
    "    print('{:3d}game: '.format(i + 1), end=' ')\n",
    "    # 자동으로 생성된 로또 번호를 오름차순으로 정렬한다.\n",
    "    result = lotto[:6]\n",
    "    result.sort()\n",
    "\n",
    "    for j in range(6):\n",
    "         print('{:02d}'.format(result[j]), end=' ')\n",
    "    print()"
   ]
  },
  {
   "cell_type": "code",
   "execution_count": 3,
   "id": "de10e589",
   "metadata": {},
   "outputs": [
    {
     "name": "stdout",
     "output_type": "stream",
     "text": [
      "로또 복권 구매 금액을 입력하세요: 10000\n",
      "  1game:  08 12 15 20 21 35 \n",
      "  2game:  08 13 14 16 32 34 \n",
      "  3game:  04 12 20 30 32 37 \n",
      "  4game:  08 21 33 40 42 43 \n",
      "  5game:  16 20 24 26 31 37 \n",
      "==============================\n",
      "  6game:  01 15 23 30 33 43 \n",
      "  7game:  03 04 22 27 28 33 \n",
      "  8game:  01 15 20 22 26 31 \n",
      "  9game:  19 27 34 36 40 44 \n",
      " 10game:  07 14 19 21 25 32 \n",
      "==============================\n"
     ]
    }
   ],
   "source": [
    "money = int(input('로또 복권 구매 금액을 입력하세요: '))\n",
    "for i in range(money // 1000):\n",
    "    print('{:3d}game: '.format(i + 1), end=' ')\n",
    "    result = random.sample(lotto, 6)\n",
    "    result.sort()\n",
    "\n",
    "    for j in range(6):\n",
    "         print('{:02d}'.format(result[j]), end=' ')\n",
    "    print()\n",
    "    \n",
    "    if (i + 1) % 5 == 0:\n",
    "        print('=' * 30)"
   ]
  }
 ],
 "metadata": {
  "kernelspec": {
   "display_name": "Python 3",
   "language": "python",
   "name": "python3"
  },
  "language_info": {
   "codemirror_mode": {
    "name": "ipython",
    "version": 3
   },
   "file_extension": ".py",
   "mimetype": "text/x-python",
   "name": "python",
   "nbconvert_exporter": "python",
   "pygments_lexer": "ipython3",
   "version": "3.6.8"
  }
 },
 "nbformat": 4,
 "nbformat_minor": 5
}
