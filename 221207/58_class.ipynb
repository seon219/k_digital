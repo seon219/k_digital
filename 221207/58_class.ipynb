{
 "cells": [
  {
   "cell_type": "markdown",
   "id": "f51131b4",
   "metadata": {},
   "source": [
    "# class\n",
    "class 는 데이터와 데이터를 처리하는 함수(클래스 내부에서 만든 함수를 메소드라 부른다.)를 가지고 있는 자료형이다."
   ]
  },
  {
   "cell_type": "code",
   "execution_count": 1,
   "id": "17c1c6f0",
   "metadata": {},
   "outputs": [],
   "source": [
    "'''\n",
    "형식\n",
    "class 클래스이름: # 클래스 이름은 다른 변수와 헷갈리지 않게 하기 위해서 일반적으로 첫 문자를 대문자로 만들어 사용한다.\n",
    "    \n",
    "    # 생성자(초기자) 함수를 만든다. => __init__()\n",
    "    # 생성자(constructor)란 객체(클래스로 만든 변수)가 생성될 떄 자동으로 실행되는 함수\n",
    "    # 클래스 내부에서 선언하는 모든 함수의 첫 번째 인수는 무조건 self를 써야한다.\n",
    "    # self라는 변수에는 클래스의 객체가 메모리에 생성된 주소가 넘어온다 => self로 넘어온 주소로 객체를 식별한다.\n",
    "    # 생성자는 class의 멤버 변수(클래스 내부의 모든 함수에서 사용할 수 있는 변수)를 초기화 시키는 목적으로 주로 사용된다.\n",
    "    # def __init__(self[, 인수, ...]):\n",
    "        # 멤버 변수 초기화\n",
    "        # 변수 이름 앞에 'self'가 붙어있는 변수를 멤버변수라 부르고 클래스 전체에서 사용할 수 있다.\n",
    "        # 변수 이름 앞에 'self'가 붙어있지 않은 변수를 지역변수라 부르고 지역변수는 선언된 함수에서만 사용할 수 있다.\n",
    "    \n",
    "    \n",
    "    # 클래스에 저장된 데이터 출력에 사용하는 함수 __str__(self)는 java의 toString()과 같은 기능을 실행한다.\n",
    "    def __str__(self):\n",
    "        # return 뒤에 클래스 객체를 출력할 때 출력할 내용을 반드시 문자열 형태로 만들어 리턴시킨다.\n",
    "        return '출력할 내용'\n",
    "    \n",
    "'''\n",
    "pass"
   ]
  },
  {
   "cell_type": "code",
   "execution_count": 2,
   "id": "a46dcf43",
   "metadata": {},
   "outputs": [],
   "source": [
    "class Score:\n",
    "    # 생성자 함수로 Score 클래스의 객체가 생성될 때 이름과 3과목의 점수를 넘겨받아 멤버 변수를 초기화시키고 총번과 평균을 계산한다.\n",
    "    def __init__(self, name='무명씨', python=0, java=0, spring=0):\n",
    "        #print('Score 클래스의 객체가 메모리에 생성될 떄 자동으로 실행된다.')\n",
    "        #print('Socre 클래스의 객체가 메모리에 생성된 주소:{}'.format(self))\n",
    "        \n",
    "        # 멤버 변수 초기화\n",
    "        self.name = name\n",
    "        self.python = python\n",
    "        self.java = java\n",
    "        self.spring = spring\n",
    "        \n",
    "        # 총점과 평균을 계산해서 멤버 변수에 저장\n",
    "        self.total = python + java + spring\n",
    "        self.mean = self.total / 3\n",
    "        \n",
    "    # 총점을 출력하는 함수를 만든다\n",
    "    def getTotal(self):\n",
    "        print('{}님의 총점은 {}점 입니다'.format(self.name, self.total))\n",
    "        \n",
    "    # 평균을 출력하는 함수를 만든다.\n",
    "    def getMean(self):\n",
    "        print('{}님의 평균은 {:.2f}점 입니다'.format(self.name, self.mean))\n",
    "        \n",
    "    # 객체에 저장된 데이터를 출력하는 __str__(self) 함수\n",
    "    def __str__(self):\n",
    "        # 1문장이 너무 길어서 2줄 이상으로 나눠 코딩하려면 줄을 변경하는 부분에 '\\'를 입력하고\n",
    "        #다음 줄에 코딩하면 '\\'를 입력한 줄과 아랫줄을 같은 문장으로 인식한다. => 문자열\n",
    "        return '이름: {}, python: {}, java: {}, spring: {}, 총점: {}, 평균: {:.2f}'.format(\n",
    "            self.name, self.python, self.java, self.spring, self.total, self.mean);"
   ]
  },
  {
   "cell_type": "code",
   "execution_count": 3,
   "id": "23dc52a7",
   "metadata": {},
   "outputs": [
    {
     "name": "stdout",
     "output_type": "stream",
     "text": [
      "홍길동님의 총점은 299점 입니다\n",
      "홍길동님의 평균은 99.67점 입니다\n",
      "홍길동님의 파이썬 점수는 100점 입니다.\n",
      "이름: 홍길동, python: 100, java: 100, spring: 99, 총점: 299, 평균: 99.67\n"
     ]
    }
   ],
   "source": [
    "# class 객체(변수) 선언\n",
    "# 객체이름 = 클래스이름([생성자로 전달할 데이터, ....])\n",
    "# 클래스 객체를 선언하면 클래스의 객체가 메모리에 생성된 주소가 생성자의 첫 번째 인수인 self로 전달된다.\n",
    "score1 = Score('홍길동', 100, 100, 99)\n",
    "\n",
    "# 클래스 객체의 메소드(함수) 실행 방법\n",
    "# 객체이름.함수이름()\n",
    "score1.getTotal()\n",
    "score1.getMean()\n",
    "\n",
    "# 클래스 객체의 멤버 변수에 접근하는 방법\n",
    "# 객체이름.멤버변수이름\n",
    "print('{}님의 파이썬 점수는 {}점 입니다.'.format(score1.name, score1.python))\n",
    "\n",
    "\n",
    "# 클래스에서 __str__(self)함수를 선언하지 않고 클래스 객체를 출력하면 객체가 메모리에 생성된 주소가 출력된다.\n",
    "print(score1)"
   ]
  }
 ],
 "metadata": {
  "kernelspec": {
   "display_name": "Python 3",
   "language": "python",
   "name": "python3"
  },
  "language_info": {
   "codemirror_mode": {
    "name": "ipython",
    "version": 3
   },
   "file_extension": ".py",
   "mimetype": "text/x-python",
   "name": "python",
   "nbconvert_exporter": "python",
   "pygments_lexer": "ipython3",
   "version": "3.6.8"
  }
 },
 "nbformat": 4,
 "nbformat_minor": 5
}
