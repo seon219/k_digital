{
 "cells": [
  {
   "cell_type": "code",
   "execution_count": 1,
   "id": "7d20e9cb",
   "metadata": {},
   "outputs": [],
   "source": [
    "import math"
   ]
  },
  {
   "cell_type": "code",
   "execution_count": 2,
   "id": "e8a6caed",
   "metadata": {},
   "outputs": [
    {
     "name": "stdout",
     "output_type": "stream",
     "text": [
      "3.141592653589793\n"
     ]
    }
   ],
   "source": [
    "print(math.pi)"
   ]
  },
  {
   "cell_type": "code",
   "execution_count": 3,
   "id": "d5fc5025",
   "metadata": {},
   "outputs": [
    {
     "name": "stdout",
     "output_type": "stream",
     "text": [
      "반지름: 5\n",
      "원의 둘레: 31.42\n",
      "원의 너비: 78.54\n"
     ]
    }
   ],
   "source": [
    "# 반지름을 인수로 넘겨받아 원의 너비와 둘레를 계산하는 함수를 포함하는 클래스\n",
    "class Circle:\n",
    "    def __init__(self, r=1):\n",
    "        self.r = r\n",
    "\n",
    "        # 너비\n",
    "        self.n = r * r * math.pi\n",
    "\n",
    "        # 둘레\n",
    "        self.d = 2 * r * math.pi\n",
    "        \n",
    "    def __str__(self):\n",
    "        return '반지름: {}'.format(self.r)\n",
    "        \n",
    "    def areaCircle(self):\n",
    "        print('원의 너비: {:.2f}'.format(self.n))\n",
    "    def roundCircle(self):\n",
    "        print('원의 둘레: {:.2f}'.format(self.d))\n",
    "    \n",
    "circle = Circle(5)\n",
    "print(circle)\n",
    "circle.roundCircle()\n",
    "circle.areaCircle()"
   ]
  }
 ],
 "metadata": {
  "kernelspec": {
   "display_name": "Python 3",
   "language": "python",
   "name": "python3"
  },
  "language_info": {
   "codemirror_mode": {
    "name": "ipython",
    "version": 3
   },
   "file_extension": ".py",
   "mimetype": "text/x-python",
   "name": "python",
   "nbconvert_exporter": "python",
   "pygments_lexer": "ipython3",
   "version": "3.6.8"
  }
 },
 "nbformat": 4,
 "nbformat_minor": 5
}
