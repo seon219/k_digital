{
 "cells": [
  {
   "cell_type": "code",
   "execution_count": 1,
   "id": "ee17f09b",
   "metadata": {},
   "outputs": [
    {
     "name": "stdout",
     "output_type": "stream",
     "text": [
      "WARNING:tensorflow:From D:\\anaconda3\\envs\\py36\\lib\\site-packages\\tensorflow\\python\\compat\\v2_compat.py:101: disable_resource_variables (from tensorflow.python.ops.variable_scope) is deprecated and will be removed in a future version.\n",
      "Instructions for updating:\n",
      "non-resource variables are not supported in the long term\n"
     ]
    }
   ],
   "source": [
    "%config Completer.use_jedi = False\n",
    "import warnings\n",
    "warnings.filterwarnings(action='ignore')\n",
    "import tensorflow.compat.v1 as tf\n",
    "tf.disable_v2_behavior()\n",
    "import numpy as np\n",
    "import pandas as pd"
   ]
  },
  {
   "cell_type": "code",
   "execution_count": 2,
   "id": "7e3e289c",
   "metadata": {},
   "outputs": [],
   "source": [
    "import matplotlib.pyplot as plt\n",
    "from mpl_toolkits.mplot3d import Axes3D\n",
    "from pylab import rcParams"
   ]
  },
  {
   "cell_type": "markdown",
   "id": "9b84c799",
   "metadata": {},
   "source": [
    "Word2Vec은 word to vector의 줄임말이다.  \n",
    "딥러닝 모델은 입력값으로 수식값을 받기 때문에 자연어 처리 분야에서는 단어(word)들을 어떻게 수치(vector)로 변환하느냐가 딥러닝 모델의 성능을 결정하는 중요한 요소이다.\n",
    "\n",
    "\n"
   ]
  },
  {
   "cell_type": "markdown",
   "id": "9c2ed199",
   "metadata": {},
   "source": [
    "데이터 획득"
   ]
  },
  {
   "cell_type": "code",
   "execution_count": 3,
   "id": "9ec77ca7",
   "metadata": {},
   "outputs": [
    {
     "name": "stdout",
     "output_type": "stream",
     "text": [
      "['king is a strong man', 'queen is a wise woman', 'boy is a young man', 'girl is a young woman', 'prince is a young king', 'princess is a young queen', 'man is strong', 'woman is pretty', 'prince is a boy will be king', 'princess is a girl will be queen']\n"
     ]
    }
   ],
   "source": [
    "corpus = [\n",
    "    'king is a strong man', \n",
    "    'queen is a wise woman', \n",
    "    'boy is a young man', \n",
    "    'girl is a young woman',\n",
    "    'prince is a young king', \n",
    "    'princess is a young queen', \n",
    "    'man is strong', \n",
    "    'woman is pretty',\n",
    "    'prince is a boy will be king', \n",
    "    'princess is a girl will be queen'\n",
    "]\n",
    "print(corpus)"
   ]
  },
  {
   "cell_type": "markdown",
   "id": "f10bbcdb",
   "metadata": {},
   "source": [
    "불용어(step word) 제거하기  \n",
    "불용어란 학습에 도움이 되지도 않으면서 빈번하게 발생되는 단어를 의미하며 효율적인 학습을 위해 불용어를 데이터에서 제거한다."
   ]
  },
  {
   "cell_type": "code",
   "execution_count": 4,
   "id": "ef17968c",
   "metadata": {},
   "outputs": [],
   "source": [
    "def remove_stop_words(corpus):\n",
    "    stop_words = ['is', 'a', 'will', 'be']\n",
    "    results = [] # 인수로 넘어온 문장에서 불용어를 제거한 결과를 저장해서 리턴시킬 빈 리스트를 선언한다.\n",
    "    # 불용어를 제거한 문장을 한 줄씩 읽어가며 반복한다.\n",
    "    for text in corpus:\n",
    "        print(text)\n",
    "        # 불용어를 제거하기 위해서 공백을 경게로 문장을 단어 단위로 나눈다.\n",
    "        temp = text.split()\n",
    "            \n",
    "        # 불용어 개수만큼 반복하며 불용어를 제거할 문장에서 불용어를 제거한다.\n",
    "        for stop_word in stop_words:\n",
    "            # 문장에 포함된 불용어를 제거한다.\n",
    "            while stop_word in temp:\n",
    "                temp.remove(stop_word)\n",
    "            # ===== while\n",
    "        # ===== for\n",
    "        \n",
    "        # print(temp)\n",
    "        # 불용어가 제거된 단어 사이에 공백을 넣어서 불용어가 제거된 문장을 만든다.\n",
    "        # print(' '.join(temp))\n",
    "        results.append(' '.join(temp))\n",
    "    return results"
   ]
  },
  {
   "cell_type": "code",
   "execution_count": 5,
   "id": "00784a89",
   "metadata": {},
   "outputs": [
    {
     "name": "stdout",
     "output_type": "stream",
     "text": [
      "king is a strong man\n",
      "queen is a wise woman\n",
      "boy is a young man\n",
      "girl is a young woman\n",
      "prince is a young king\n",
      "princess is a young queen\n",
      "man is strong\n",
      "woman is pretty\n",
      "prince is a boy will be king\n",
      "princess is a girl will be queen\n"
     ]
    },
    {
     "data": {
      "text/plain": [
       "['king strong man',\n",
       " 'queen wise woman',\n",
       " 'boy young man',\n",
       " 'girl young woman',\n",
       " 'prince young king',\n",
       " 'princess young queen',\n",
       " 'man strong',\n",
       " 'woman pretty',\n",
       " 'prince boy king',\n",
       " 'princess girl queen']"
      ]
     },
     "execution_count": 5,
     "metadata": {},
     "output_type": "execute_result"
    }
   ],
   "source": [
    "corpus = remove_stop_words(corpus)\n",
    "corpus"
   ]
  },
  {
   "cell_type": "markdown",
   "id": "a07e81f8",
   "metadata": {},
   "source": [
    "불용어를 제거한 후 데이터에 존재하는 단어들은 다음과 같다."
   ]
  },
  {
   "cell_type": "code",
   "execution_count": 6,
   "id": "6d430f96",
   "metadata": {},
   "outputs": [
    {
     "name": "stdout",
     "output_type": "stream",
     "text": [
      "['king', 'strong', 'man', 'queen', 'wise', 'woman', 'boy', 'young', 'man', 'girl', 'young', 'woman', 'prince', 'young', 'king', 'princess', 'young', 'queen', 'man', 'strong', 'woman', 'pretty', 'prince', 'boy', 'king', 'princess', 'girl', 'queen']\n"
     ]
    }
   ],
   "source": [
    "words = []\n",
    "for text in corpus:\n",
    "    for word in text.split():\n",
    "        words.append(word)\n",
    "print(words) # 중복되는 단어가 존재한다."
   ]
  },
  {
   "cell_type": "markdown",
   "id": "ea38b84c",
   "metadata": {},
   "source": [
    "불용어를 제거한 단어의 중복을 제거한다."
   ]
  },
  {
   "cell_type": "code",
   "execution_count": 7,
   "id": "db54a825",
   "metadata": {},
   "outputs": [
    {
     "name": "stdout",
     "output_type": "stream",
     "text": [
      "{'strong', 'prince', 'princess', 'queen', 'man', 'wise', 'girl', 'pretty', 'young', 'boy', 'woman', 'king'}\n"
     ]
    }
   ],
   "source": [
    "words = set(words)\n",
    "print(words) # 중복되는 단어가 존재하지 않는다."
   ]
  },
  {
   "cell_type": "markdown",
   "id": "9805a04e",
   "metadata": {},
   "source": [
    "단어별 인덱스 매핑 테이블 만들기  \n",
    "단어를  원-핫 인코딩으로 변환하기 위해서 가장 먼저 인덱스로 인코딩 해야하고 단어를 손쉽게 인덱싱하기 위해 key라는 단어이고 value는 인덱스인 딕셔너리를 만든다."
   ]
  },
  {
   "cell_type": "code",
   "execution_count": 8,
   "id": "462ac910",
   "metadata": {
    "scrolled": true
   },
   "outputs": [
    {
     "name": "stdout",
     "output_type": "stream",
     "text": [
      "{'strong': 0, 'prince': 1, 'princess': 2, 'queen': 3, 'man': 4, 'wise': 5, 'girl': 6, 'pretty': 7, 'young': 8, 'boy': 9, 'woman': 10, 'king': 11}\n"
     ]
    }
   ],
   "source": [
    "word2int = {}\n",
    "for index, data in enumerate(words):\n",
    "    word2int[data] = index\n",
    "print(word2int)"
   ]
  },
  {
   "cell_type": "markdown",
   "id": "bdb8f867",
   "metadata": {},
   "source": [
    "skip gram 방식으로 각 단어별 레이블을 생성한다."
   ]
  },
  {
   "cell_type": "code",
   "execution_count": 9,
   "id": "6bcc3f84",
   "metadata": {},
   "outputs": [
    {
     "name": "stdout",
     "output_type": "stream",
     "text": [
      "[['king', 'strong', 'man'], ['queen', 'wise', 'woman'], ['boy', 'young', 'man'], ['girl', 'young', 'woman'], ['prince', 'young', 'king'], ['princess', 'young', 'queen'], ['man', 'strong'], ['woman', 'pretty'], ['prince', 'boy', 'king'], ['princess', 'girl', 'queen']]\n"
     ]
    }
   ],
   "source": [
    "sentences = []\n",
    "for sentence in corpus:\n",
    "    sentences.append(sentence.split())\n",
    "print(sentences)"
   ]
  },
  {
   "cell_type": "code",
   "execution_count": 10,
   "id": "9068545f",
   "metadata": {},
   "outputs": [],
   "source": [
    "WINDOW_SIZE = 2\n",
    "data = []\n",
    "\n",
    "# 단어별 레이블을 생성할 문장의 개수만큼 반복하며 레이블을 생성한다.\n",
    "for sentence in sentences:\n",
    "    # print('sentence: {}'.format(sentence))\n",
    "    for index, word in enumerate(sentence):\n",
    "        # print('index: {}, word: {}'.format(index, word))\n",
    "        \n",
    "        for neighbor in sentence[max(index - WINDOW_SIZE, 0) : min(index + WINDOW_SIZE, len(sentence)) + 1]:\n",
    "            if word != neighbor:\n",
    "                #print('{} neighbor: {}'.format(word, neighbor))\n",
    "                data.append([word, neighbor])"
   ]
  },
  {
   "cell_type": "code",
   "execution_count": 11,
   "id": "edbc91fd",
   "metadata": {},
   "outputs": [
    {
     "data": {
      "text/html": [
       "<div>\n",
       "<style scoped>\n",
       "    .dataframe tbody tr th:only-of-type {\n",
       "        vertical-align: middle;\n",
       "    }\n",
       "\n",
       "    .dataframe tbody tr th {\n",
       "        vertical-align: top;\n",
       "    }\n",
       "\n",
       "    .dataframe thead th {\n",
       "        text-align: right;\n",
       "    }\n",
       "</style>\n",
       "<table border=\"1\" class=\"dataframe\">\n",
       "  <thead>\n",
       "    <tr style=\"text-align: right;\">\n",
       "      <th></th>\n",
       "      <th>input</th>\n",
       "      <th>label</th>\n",
       "    </tr>\n",
       "  </thead>\n",
       "  <tbody>\n",
       "    <tr>\n",
       "      <th>0</th>\n",
       "      <td>king</td>\n",
       "      <td>strong</td>\n",
       "    </tr>\n",
       "    <tr>\n",
       "      <th>1</th>\n",
       "      <td>king</td>\n",
       "      <td>man</td>\n",
       "    </tr>\n",
       "    <tr>\n",
       "      <th>2</th>\n",
       "      <td>strong</td>\n",
       "      <td>king</td>\n",
       "    </tr>\n",
       "    <tr>\n",
       "      <th>3</th>\n",
       "      <td>strong</td>\n",
       "      <td>man</td>\n",
       "    </tr>\n",
       "    <tr>\n",
       "      <th>4</th>\n",
       "      <td>man</td>\n",
       "      <td>king</td>\n",
       "    </tr>\n",
       "  </tbody>\n",
       "</table>\n",
       "</div>"
      ],
      "text/plain": [
       "    input   label\n",
       "0    king  strong\n",
       "1    king     man\n",
       "2  strong    king\n",
       "3  strong     man\n",
       "4     man    king"
      ]
     },
     "execution_count": 11,
     "metadata": {},
     "output_type": "execute_result"
    }
   ],
   "source": [
    "df = pd.DataFrame(data, columns=['input', 'label'])\n",
    "df.head()"
   ]
  },
  {
   "cell_type": "markdown",
   "id": "897372f6",
   "metadata": {},
   "source": [
    "텐서플로우 word2Vec 모델 구현하기\n",
    "<img src = './data/word2vec.png'>"
   ]
  },
  {
   "cell_type": "code",
   "execution_count": 12,
   "id": "c7f9ca34",
   "metadata": {},
   "outputs": [
    {
     "name": "stdout",
     "output_type": "stream",
     "text": [
      "[1. 0. 0. 0. 0. 0. 0. 0. 0. 0. 0. 0.]\n",
      "[0. 1. 0. 0. 0. 0. 0. 0. 0. 0. 0. 0.]\n",
      "[0. 0. 1. 0. 0. 0. 0. 0. 0. 0. 0. 0.]\n",
      "[0. 0. 0. 1. 0. 0. 0. 0. 0. 0. 0. 0.]\n",
      "[0. 0. 0. 0. 1. 0. 0. 0. 0. 0. 0. 0.]\n",
      "[0. 0. 0. 0. 0. 1. 0. 0. 0. 0. 0. 0.]\n",
      "[0. 0. 0. 0. 0. 0. 1. 0. 0. 0. 0. 0.]\n",
      "[0. 0. 0. 0. 0. 0. 0. 1. 0. 0. 0. 0.]\n",
      "[0. 0. 0. 0. 0. 0. 0. 0. 1. 0. 0. 0.]\n",
      "[0. 0. 0. 0. 0. 0. 0. 0. 0. 1. 0. 0.]\n",
      "[0. 0. 0. 0. 0. 0. 0. 0. 0. 0. 1. 0.]\n",
      "[0. 0. 0. 0. 0. 0. 0. 0. 0. 0. 0. 1.]\n"
     ]
    }
   ],
   "source": [
    "# 단어(key)에 할당된 인덱스(value)를 원-핫 인코딩으로 전환하는 함수를 만든다.\n",
    "ONE_HOT_DIN = len(words)\n",
    "def to_one_hot_encoding(data_point_index):\n",
    "    one_hot_encoding = np.zeros(ONE_HOT_DIN)\n",
    "    one_hot_encoding[data_point_index] = 1\n",
    "    return one_hot_encoding\n",
    "\n",
    "for w in word2int:\n",
    "    result = to_one_hot_encoding(word2int[w])\n",
    "    print(result)"
   ]
  },
  {
   "cell_type": "code",
   "execution_count": 13,
   "id": "94bcdecb",
   "metadata": {},
   "outputs": [
    {
     "name": "stdout",
     "output_type": "stream",
     "text": [
      "[0. 0. 0. 0. 0. 0. 0. 0. 0. 0. 0. 1.] [1. 0. 0. 0. 0. 0. 0. 0. 0. 0. 0. 0.]\n",
      "[0. 0. 0. 0. 0. 0. 0. 0. 0. 0. 0. 1.] [1. 0. 0. 0. 0. 0. 0. 0. 0. 0. 0. 0.]\n"
     ]
    }
   ],
   "source": [
    "# 모델을 만든다.\n",
    "X = [] # 입력 단어\n",
    "Y = [] # 입력 단어에 따른 레이블\n",
    "\n",
    "# 데이터 프레임에 저장된 입력과 입력에 따른 결과를 원-핫 인코딩으로 변환해서 X, Y 리스트에 저장한다.\n",
    "for x, y in zip(df['input'], df['label']):\n",
    "    X.append(to_one_hot_encoding(word2int[x]))\n",
    "    Y.append(to_one_hot_encoding(word2int[y]))\n",
    "print(X[0], Y[0])\n",
    "\n",
    "# 딥러닝 모델의 입력값으로 전환한다.\n",
    "# np.array() 함수는 리스트나 튜플 ndarray(넘파이 배열)를 만드는데 np.asarray() 함수는 인수로 지정한 데이터가 \n",
    "# 이미 ndarray 타입의 데이터 형태로 설정되어 있다면 데이터의 형태가 다른 경우에만 복사한다. \n",
    "X_train = np.array(X)\n",
    "Y_train = np.array(Y)\n",
    "print(X_train[0], Y_train[0])\n",
    "\n",
    "# 입력 단어와 입력 단어에 따른 레이블을 받기 위한 placeholder를 설정한다.\n",
    "x = tf.placeholder(dtype=tf.float32, shape = [None, ONE_HOT_DIN])\n",
    "y_label = tf.placeholder(dtype=tf.float32, shape=[None, ONE_HOT_DIN])\n",
    "\n",
    "# 시각화를 위해 임베딩을 2차원으로 설정한다.\n",
    "EMBEDDING_DIM = 2\n",
    "\n",
    "# 히든 레이어\n",
    "W1 = tf.Variable(tf.truncated_normal([ONE_HOT_DIN, EMBEDDING_DIM], stddev=0.1))\n",
    "hidden_layer = tf.matmul(x, W1)\n",
    "\n",
    "# 출력 레이어\n",
    "W2 = tf.Variable(tf.random_normal([EMBEDDING_DIM, ONE_HOT_DIN]))\n",
    "b2 = tf.Variable(tf.random_normal([1]))\n",
    "predict = tf.nn.softmax(tf.add(tf.matmul(hidden_layer, W2), b2))\n",
    "\n",
    "# 크로스 엔트로피 손실함수\n",
    "loss = tf.reduce_mean(-tf.reduce_sum(y_label * tf.log(predict), axis=1))\n",
    "\n",
    "# 최적화\n",
    "train_np = tf.train.GradientDescentOptimizer(0.01).minimize(loss)"
   ]
  },
  {
   "cell_type": "markdown",
   "id": "e488831e",
   "metadata": {},
   "source": [
    "학습시킨다."
   ]
  },
  {
   "cell_type": "code",
   "execution_count": 14,
   "id": "51c37c4f",
   "metadata": {},
   "outputs": [
    {
     "name": "stdout",
     "output_type": "stream",
     "text": [
      "epoch:     0, loss: 2.48854\n",
      "epoch:  2000, loss: 2.30902\n",
      "epoch:  4000, loss: 2.23365\n",
      "epoch:  6000, loss: 2.17147\n",
      "epoch:  8000, loss: 2.10284\n",
      "epoch: 10000, loss: 2.04316\n",
      "epoch: 12000, loss: 1.99242\n",
      "epoch: 14000, loss: 1.94825\n",
      "epoch: 16000, loss: 1.91320\n",
      "epoch: 18000, loss: 1.88743\n",
      "epoch: 20000, loss: 1.87242\n"
     ]
    }
   ],
   "source": [
    "sess = tf.Session()\n",
    "sess.run(tf.global_variables_initializer())\n",
    "\n",
    "for epoch in range(20001):\n",
    "    _, loss_ = sess.run([train_np, loss], feed_dict={x: X_train, y_label: Y_train})\n",
    "    if epoch % 2000 == 0:\n",
    "        print('epoch: {:5d}, loss: {:7.5f}'.format(epoch, loss_))"
   ]
  },
  {
   "cell_type": "markdown",
   "id": "2f6fa48c",
   "metadata": {},
   "source": [
    "히든 레이어의 값(word2Vec) 추출하기"
   ]
  },
  {
   "cell_type": "code",
   "execution_count": 15,
   "id": "e7f26967",
   "metadata": {},
   "outputs": [
    {
     "name": "stdout",
     "output_type": "stream",
     "text": [
      "[[ 1.5767206   1.8001429 ]\n",
      " [-0.36407524  2.3841643 ]\n",
      " [-0.10506073 -0.5658412 ]\n",
      " [ 0.09585513 -0.41662046]\n",
      " [-1.0199889   1.991666  ]\n",
      " [-0.7099005  -1.8361825 ]\n",
      " [-0.24563542 -0.47847933]\n",
      " [-1.5692755  -1.3908194 ]\n",
      " [ 0.10892801 -0.05868655]\n",
      " [ 0.408878    1.0477997 ]\n",
      " [ 0.11982979 -0.360207  ]\n",
      " [-0.03710118  0.7482888 ]]\n"
     ]
    }
   ],
   "source": [
    "vectors = sess.run(W1)\n",
    "print(vectors)"
   ]
  },
  {
   "cell_type": "markdown",
   "id": "dba53a5d",
   "metadata": {},
   "source": [
    "word2Vec의 좌표값을 데이터프레임으로 저장한다."
   ]
  },
  {
   "cell_type": "code",
   "execution_count": 16,
   "id": "6d3d071a",
   "metadata": {},
   "outputs": [
    {
     "data": {
      "text/html": [
       "<div>\n",
       "<style scoped>\n",
       "    .dataframe tbody tr th:only-of-type {\n",
       "        vertical-align: middle;\n",
       "    }\n",
       "\n",
       "    .dataframe tbody tr th {\n",
       "        vertical-align: top;\n",
       "    }\n",
       "\n",
       "    .dataframe thead th {\n",
       "        text-align: right;\n",
       "    }\n",
       "</style>\n",
       "<table border=\"1\" class=\"dataframe\">\n",
       "  <thead>\n",
       "    <tr style=\"text-align: right;\">\n",
       "      <th></th>\n",
       "      <th>word</th>\n",
       "      <th>x1</th>\n",
       "      <th>x2</th>\n",
       "    </tr>\n",
       "  </thead>\n",
       "  <tbody>\n",
       "    <tr>\n",
       "      <th>0</th>\n",
       "      <td>strong</td>\n",
       "      <td>1.576721</td>\n",
       "      <td>1.800143</td>\n",
       "    </tr>\n",
       "    <tr>\n",
       "      <th>1</th>\n",
       "      <td>prince</td>\n",
       "      <td>-0.364075</td>\n",
       "      <td>2.384164</td>\n",
       "    </tr>\n",
       "    <tr>\n",
       "      <th>2</th>\n",
       "      <td>princess</td>\n",
       "      <td>-0.105061</td>\n",
       "      <td>-0.565841</td>\n",
       "    </tr>\n",
       "    <tr>\n",
       "      <th>3</th>\n",
       "      <td>queen</td>\n",
       "      <td>0.095855</td>\n",
       "      <td>-0.416620</td>\n",
       "    </tr>\n",
       "    <tr>\n",
       "      <th>4</th>\n",
       "      <td>man</td>\n",
       "      <td>-1.019989</td>\n",
       "      <td>1.991666</td>\n",
       "    </tr>\n",
       "    <tr>\n",
       "      <th>5</th>\n",
       "      <td>wise</td>\n",
       "      <td>-0.709900</td>\n",
       "      <td>-1.836182</td>\n",
       "    </tr>\n",
       "    <tr>\n",
       "      <th>6</th>\n",
       "      <td>girl</td>\n",
       "      <td>-0.245635</td>\n",
       "      <td>-0.478479</td>\n",
       "    </tr>\n",
       "    <tr>\n",
       "      <th>7</th>\n",
       "      <td>pretty</td>\n",
       "      <td>-1.569275</td>\n",
       "      <td>-1.390819</td>\n",
       "    </tr>\n",
       "    <tr>\n",
       "      <th>8</th>\n",
       "      <td>young</td>\n",
       "      <td>0.108928</td>\n",
       "      <td>-0.058687</td>\n",
       "    </tr>\n",
       "    <tr>\n",
       "      <th>9</th>\n",
       "      <td>boy</td>\n",
       "      <td>0.408878</td>\n",
       "      <td>1.047800</td>\n",
       "    </tr>\n",
       "    <tr>\n",
       "      <th>10</th>\n",
       "      <td>woman</td>\n",
       "      <td>0.119830</td>\n",
       "      <td>-0.360207</td>\n",
       "    </tr>\n",
       "    <tr>\n",
       "      <th>11</th>\n",
       "      <td>king</td>\n",
       "      <td>-0.037101</td>\n",
       "      <td>0.748289</td>\n",
       "    </tr>\n",
       "  </tbody>\n",
       "</table>\n",
       "</div>"
      ],
      "text/plain": [
       "        word        x1        x2\n",
       "0     strong  1.576721  1.800143\n",
       "1     prince -0.364075  2.384164\n",
       "2   princess -0.105061 -0.565841\n",
       "3      queen  0.095855 -0.416620\n",
       "4        man -1.019989  1.991666\n",
       "5       wise -0.709900 -1.836182\n",
       "6       girl -0.245635 -0.478479\n",
       "7     pretty -1.569275 -1.390819\n",
       "8      young  0.108928 -0.058687\n",
       "9        boy  0.408878  1.047800\n",
       "10     woman  0.119830 -0.360207\n",
       "11      king -0.037101  0.748289"
      ]
     },
     "execution_count": 16,
     "metadata": {},
     "output_type": "execute_result"
    }
   ],
   "source": [
    "w2v_df = pd.DataFrame(vectors, columns=['x1', 'x2'])\n",
    "w2v_df['word'] = words\n",
    "w2v_df = w2v_df[['word', 'x1', 'x2']]\n",
    "w2v_df"
   ]
  },
  {
   "cell_type": "markdown",
   "id": "f1bc13e0",
   "metadata": {},
   "source": [
    "word2Vec를 2차원 공간에서 시각화한다"
   ]
  },
  {
   "cell_type": "code",
   "execution_count": 17,
   "id": "766e9c09",
   "metadata": {
    "scrolled": true
   },
   "outputs": [
    {
     "data": {
      "image/png": "[encoded data removed]",
      "text/plain": [
       "<Figure size 432x288 with 1 Axes>"
      ]
     },
     "metadata": {
      "needs_background": "light"
     },
     "output_type": "display_data"
    }
   ],
   "source": [
    "fig, ax = plt.subplots()\n",
    "for word, x1, x2 in zip(w2v_df['word'], w2v_df['x1'], w2v_df['x2']):\n",
    "    ax.annotate(word, (x1, x2))\n",
    "    \n",
    "PADDING = 1.0\n",
    "x_axis_min = np.amin(vectors, axis=0)[0] - PADDING\n",
    "y_axis_min = np.amin(vectors, axis=0)[1] - PADDING\n",
    "x_axis_max = np.amax(vectors, axis=0)[0] + PADDING\n",
    "y_axis_max = np.amax(vectors, axis=0)[1] + PADDING\n",
    "\n",
    "plt.xlim(x_axis_min, x_axis_max)\n",
    "plt.ylim(y_axis_min, y_axis_max)\n",
    "plt.rcParams['figure.figsize'] = [12, 10]\n",
    "plt.show()"
   ]
  }
 ],
 "metadata": {
  "kernelspec": {
   "display_name": "Python [conda env:py36] *",
   "language": "python",
   "name": "conda-env-py36-py"
  },
  "language_info": {
   "codemirror_mode": {
    "name": "ipython",
    "version": 3
   },
   "file_extension": ".py",
   "mimetype": "text/x-python",
   "name": "python",
   "nbconvert_exporter": "python",
   "pygments_lexer": "ipython3",
   "version": "3.6.13"
  }
 },
 "nbformat": 4,
 "nbformat_minor": 5
}
