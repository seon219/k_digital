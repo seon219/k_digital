{
 "cells": [
  {
   "cell_type": "code",
   "execution_count": 1,
   "id": "113f4f3e",
   "metadata": {},
   "outputs": [],
   "source": [
    "import warnings\n",
    "warnings.filterwarnings(action='ignore')\n",
    "import requests\n",
    "from bs4 import BeautifulSoup\n",
    "import time"
   ]
  },
  {
   "cell_type": "code",
   "execution_count": 2,
   "id": "c1414b8b",
   "metadata": {},
   "outputs": [],
   "source": [
    "# 1건의 대화 내용을 저장하는 클래스 => 질문과 답변이 한 쌍으로 저장되는 클래스\n",
    "class Conversation:\n",
    "    def __init__(self, question, answer):\n",
    "        self.question = question\n",
    "        self.answer = answer\n",
    "     \n",
    "    def __str__(self):\n",
    "        return f'질문: {self.question} \\n답변: {self.answer}'"
   ]
  },
  {
   "cell_type": "code",
   "execution_count": 3,
   "id": "9f9de200",
   "metadata": {},
   "outputs": [
    {
     "name": "stdout",
     "output_type": "stream",
     "text": [
      "질문: 안녕 \n",
      "답변: hello\n"
     ]
    }
   ],
   "source": [
    "c = Conversation('안녕', 'hello')\n",
    "print(c)"
   ]
  },
  {
   "cell_type": "code",
   "execution_count": 4,
   "id": "e40275b9",
   "metadata": {},
   "outputs": [],
   "source": [
    "# 75개의 대화 주제와 세부 대화 내용의 url을 크롤링해서 리턴하는 함수\n",
    "def getSubjects():\n",
    "    targetSite = \"https://basicenglishspeaking.com/daily-english-conversation-topics/\"\n",
    "    req = requests.get(targetSite)\n",
    "    html = req.text\n",
    "    soup = BeautifulSoup(html, 'html.parser')\n",
    "    \n",
    "    subjects = []\n",
    "    contentLinks = [] # 세부 대화 내용의 url을 저장할  빈 리스트를 선언한다.\n",
    "    divs = soup.findAll('div', {'class':'tcb-flex-col'})\n",
    "    for div in divs:\n",
    "        chapters = div.findAll('a')\n",
    "        for chapter in chapters:\n",
    "            subjects.append(chapter.text)\n",
    "            # 세부 대화 내용의 url을 contentLinks에 추가한다.\n",
    "            contentLinks.append(chapter.get('href'))\n",
    "            \n",
    "    # 대화 주제와 대화 주제에 따른 세부 대화 내용의 url을 리턴시킨다.\n",
    "    # 리턴되는 데이터가 2개가 아니라 subject, contentLinks를 1개의 튜플로 묶어서 리턴시킨다.\n",
    "    return subjects, contentLinks"
   ]
  },
  {
   "cell_type": "code",
   "execution_count": null,
   "id": "b70e46a3",
   "metadata": {
    "scrolled": true
   },
   "outputs": [],
   "source": [
    "subjects, contentLinks = getSubjects()\n",
    "# for i in range(len(subjects)):\n",
    "    # print('{:2d}. {}: {}'.format(i + 1, subjects[i], contentLinks[i]))\n",
    "    \n",
    "# 대화 주제에 따른 전체 대화 내용을 저장할 빈 리스트를 선언한다.\n",
    "conversation = list() # Conversation 클래스 객체를 저장한다.\n",
    "\n",
    "i = 0 # 대화 주제의 개수를 세는 변수\n",
    "# 대화 주제의 개수만큼 반복하며 각각의 대화 주제에 따른 대화 내용을 읽어서 저장한다.\n",
    "for subject in subjects[:]:\n",
    "    conversation.append('{:2d}. {}: {}'.format(i + 1, subjects[i], contentLinks[i]))\n",
    "    \n",
    "    # 대화 주제별 대화 내용을 크롤링할 페이지를 요청한다.\n",
    "    req = requests.get(contentLinks[i])\n",
    "    \n",
    "    # time 모듈을 import 하면 sleep() 메소드를 사용할 수 있다.\n",
    "    # sleep() 메소드는 인수로 지정한 시간만큼 프로그램을 멈춘다. => 시간은 초 단위로 지정한다.\n",
    "    # 대형 포털 사이트는 짧은 간격으로 많은 요청이 들어오면 자기네 사이트가 공격당하는 것으로 판단할 수 있기 때문에\n",
    "    # 일정한 간격을 두고 정보를 요청한다.\n",
    "    # 자동화된 크롤링을 할 경우 페이지가 로딩되는 시간만큼 기다리기 위해서 일정한 시간 간격을 두고 정보를 요청한다.\n",
    "    time.sleep(1)\n",
    "    \n",
    "    html = req.text\n",
    "    soup = BeautifulSoup(html, 'html.parser')\n",
    "    \n",
    "    # 대화 주제에 따른 대화 내용은 플레이 버튼(class 속성이 'sc_player_container1'인 div 태그)의 다음 형제이다.\n",
    "    buttons = soup.findAll('div', {'class': 'sc_player_container1'}) # 플레이 버튼 전체를 얻어온다.\n",
    "    # print(len(divs)) # 플레이 버튼의 개수 => 크롤링할 문장의 개수\n",
    "    \n",
    "    # 각각의 대화 주제에 따른 문장의 개수만큼 반복한다.\n",
    "    for button in buttons:\n",
    "        # index() 메소드로 전체 중에서 인수로 지정한 객체의 index를 얻어올 수 있다.\n",
    "        # buttons.index(button) => 전체 플레이 버튼(buttons)에서 특정 버튼(button)의 index를 얻어온다.\n",
    "        # index() 메소드의 실행 결과가 짝수면 질문이고 홀수면 답변이다.\n",
    "        # print(buttons.index(button))\n",
    "        \n",
    "        # 크롤링할 문장은 플레이 버튼 내부에 작성된 것이 아니고 다음 형제로 작성되어 있다.\n",
    "        # next_sibling: 다음 형제, previous_sibling: 이전 형제\n",
    "        if buttons.index(button) % 2 == 0: # 질문인가?\n",
    "            # print('질문: {}'.format(button.next_sibling))\n",
    "            question = button.next_sibling\n",
    "        else:\n",
    "            # print('답변: {}'.format(button.next_sibling))\n",
    "            answer = button.next_sibling\n",
    "            # 대화 1건이 완성된다.\n",
    "        \n",
    "            # Conversation 클래스 객체를 만드는 작업은 질문과 답변이 한 쌍이 되는 순간 실행한다.\n",
    "            # 질문과 답변이 한 쌍이 되었으므로 Conversation 클래스 객체를 생성하고 질문과 답변을 저장한다.\n",
    "            c = Conversation(question, answer)\n",
    "            # 질문과 답변이 한 쌍으로 저장된 Conversation 클래스 객체를 대화 내용을 기억할 conversation\n",
    "            # 리스트에 추가한다.\n",
    "            conversation.append(c)\n",
    "        # ===== if    \n",
    "            \n",
    "    # 대화 주제 1건이 처리 완료되면 다음 대화를 처리하기 위해서 i를 1증가시킨다.\n",
    "    i += 1"
   ]
  },
  {
   "cell_type": "code",
   "execution_count": null,
   "id": "182afa07",
   "metadata": {},
   "outputs": [],
   "source": [
    "for c in conversation:\n",
    "    print(c)"
   ]
  }
 ],
 "metadata": {
  "kernelspec": {
   "display_name": "Python 3",
   "language": "python",
   "name": "python3"
  },
  "language_info": {
   "codemirror_mode": {
    "name": "ipython",
    "version": 3
   },
   "file_extension": ".py",
   "mimetype": "text/x-python",
   "name": "python",
   "nbconvert_exporter": "python",
   "pygments_lexer": "ipython3",
   "version": "3.6.8"
  }
 },
 "nbformat": 4,
 "nbformat_minor": 5
}
