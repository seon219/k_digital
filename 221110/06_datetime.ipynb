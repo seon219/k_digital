{
 "cells": [
  {
   "cell_type": "markdown",
   "id": "44b0d1b6",
   "metadata": {},
   "source": [
    "# dateTime 모듈\n",
    "컴퓨터 시스템의 날짜와 시간을 얻어온다."
   ]
  },
  {
   "cell_type": "code",
   "execution_count": 1,
   "id": "3f2b03cf",
   "metadata": {},
   "outputs": [
    {
     "name": "stdout",
     "output_type": "stream",
     "text": [
      "2022-11-10 18:24:01.548821\n"
     ]
    }
   ],
   "source": [
    "import datetime # datetime 모듈 전체를 import 한다\n",
    "now = datetime.datetime.now()\n",
    "print(now)"
   ]
  },
  {
   "cell_type": "code",
   "execution_count": 2,
   "id": "c25ee9dd",
   "metadata": {},
   "outputs": [
    {
     "name": "stdout",
     "output_type": "stream",
     "text": [
      "2022-11-10 18:24:01.564828\n"
     ]
    }
   ],
   "source": [
    "from datetime import datetime\n",
    "now2 = datetime.now()\n",
    "print(now2)"
   ]
  },
  {
   "cell_type": "code",
   "execution_count": 3,
   "id": "c549fe88",
   "metadata": {},
   "outputs": [
    {
     "name": "stdout",
     "output_type": "stream",
     "text": [
      "2022-11-10 18:24:01.579835\n"
     ]
    }
   ],
   "source": [
    "from datetime import datetime as dt # import 하는 datetime 클래스의 별명을 dt로 지정한다.\n",
    "# import 하는 모듈에 별명을 지정한 경우 원래 모듈 이름은 사용할 수 없고 as 뒤의 별명을 사용해야 한다.\n",
    "# now3 = datetime.now() # 에러\n",
    "now3 = dt.now()\n",
    "print(now3)"
   ]
  },
  {
   "cell_type": "markdown",
   "id": "f6444084",
   "metadata": {},
   "source": [
    "날짜, 시간 데이터에서 년, 월, 일, 시, 분, 초, 밀리초, 마이크로초, 요일만 추출하기"
   ]
  },
  {
   "cell_type": "code",
   "execution_count": 4,
   "id": "bfd23168",
   "metadata": {},
   "outputs": [
    {
     "name": "stdout",
     "output_type": "stream",
     "text": [
      "2022-11-10 18:24:01.596714\n",
      "년: 2022\n",
      "월: 11\n",
      "일: 10\n",
      "시: 18\n",
      "분: 24\n",
      "초: 1\n",
      "마이크로초: 596714\n",
      "밀리초: 596\n",
      "요일: 3\n",
      "요일: 목\n"
     ]
    }
   ],
   "source": [
    "from datetime import datetime as dt\n",
    "today = dt.now()\n",
    "print(today)\n",
    "print('년: {}'.format(today.year))\n",
    "print('월: {}'.format(today.month))\n",
    "print('일: {}'.format(today.day))\n",
    "print('시: {}'.format(today.hour))\n",
    "print('분: {}'.format(today.minute))\n",
    "print('초: {}'.format(today.second))\n",
    "print('마이크로초: {}'.format(today.microsecond))\n",
    "print('밀리초: {}'.format(today.microsecond // 1000))\n",
    "# weekday() 메소드로 요일을 숫자로 얻어올 수 있다. => 월(0), 화(1), 수(2), 목(3), 금(4), 토(5), 일(6)\n",
    "print('요일: {}'.format(today.weekday()))\n",
    "week = ['월', '화', '수', '목', '금', '토', '일']\n",
    "print('요일: {}'.format(week[today.weekday()]))"
   ]
  },
  {
   "cell_type": "markdown",
   "id": "3be4fab3",
   "metadata": {},
   "source": [
    "날짜, 시간 수정하기"
   ]
  },
  {
   "cell_type": "code",
   "execution_count": 5,
   "id": "0438a874",
   "metadata": {},
   "outputs": [
    {
     "name": "stdout",
     "output_type": "stream",
     "text": [
      "2022-11-10 18:24:01.611132\n",
      "2023-11-10 18:24:01.611132\n",
      "2022-03-10 18:24:01.611132\n",
      "2022-11-27 18:24:01.611132\n",
      "2022-11-10 12:24:01.611132\n",
      "2022-11-10 18:20:01.611132\n",
      "2022-11-10 18:24:00.611132\n",
      "2022-11-10 18:24:01.111111\n"
     ]
    }
   ],
   "source": [
    "from datetime import datetime as dt\n",
    "today = dt.now()\n",
    "print(today)\n",
    "print(today.replace(year=2023))\n",
    "print(today.replace(month=3))\n",
    "print(today.replace(day=27))\n",
    "print(today.replace(hour=12))\n",
    "print(today.replace(minute=20))\n",
    "print(today.replace(second=0))\n",
    "print(today.replace(microsecond=111111))"
   ]
  },
  {
   "cell_type": "markdown",
   "id": "d02e5653",
   "metadata": {},
   "source": [
    "날짜, 시간 데이터 만들기"
   ]
  },
  {
   "cell_type": "code",
   "execution_count": 6,
   "id": "98fcbe28",
   "metadata": {},
   "outputs": [
    {
     "name": "stdout",
     "output_type": "stream",
     "text": [
      "2023-03-27 00:00:00\n",
      "<class 'datetime.datetime'>\n",
      "2022-11-10 18:20:00\n",
      "2023-03-27 18:20:00\n"
     ]
    }
   ],
   "source": [
    "from dateutil.parser import parse\n",
    "date = parse('2023-3-27')\n",
    "print(date)\n",
    "print(type(date))\n",
    "time = parse('18:20:00')\n",
    "print(time)\n",
    "day = parse('2023-3-27 18:20:00')\n",
    "print(day)"
   ]
  },
  {
   "cell_type": "markdown",
   "id": "3265f6f8",
   "metadata": {},
   "source": [
    "두 날짜 데이터 사이의 파이 계산하기"
   ]
  },
  {
   "cell_type": "code",
   "execution_count": 7,
   "id": "da4a9b53",
   "metadata": {},
   "outputs": [
    {
     "name": "stdout",
     "output_type": "stream",
     "text": [
      "2022-11-10 18:24:01.642140\n",
      "2023-03-27 12:20:00\n"
     ]
    }
   ],
   "source": [
    "start = dt.now()\n",
    "print(start)\n",
    "end = parse('2023-3-27 12:20:00')\n",
    "print(end)"
   ]
  },
  {
   "cell_type": "code",
   "execution_count": 8,
   "id": "6e31af66",
   "metadata": {},
   "outputs": [
    {
     "name": "stdout",
     "output_type": "stream",
     "text": [
      "136 days, 17:55:58.357860\n",
      "136\n",
      "64558\n",
      "357860\n",
      "11814958.35786\n"
     ]
    }
   ],
   "source": [
    "gap = end - start\n",
    "print(gap)\n",
    "print(gap.days) # 두 날짜 데이터 사이의 일 단위 차이를 얻어온다. => 날짜만\n",
    "print(gap.seconds) # 두 시간 데이터 사이의 초 단위 차이를 얻어온다. => 시간만\n",
    "print(gap.microseconds) # 두 시간 데이터 사이의 마이크로초 단위 차이를 얻어온다. => 밀리초만\n",
    "print(gap.total_seconds()) # 두 날짜 데이터 사이의 차이를 초 단위로 환산해서 얻어온다. => 데이터 전체"
   ]
  },
  {
   "cell_type": "markdown",
   "id": "027434df",
   "metadata": {},
   "source": [
    "날짜, 시간 출력 서식 지정하기  \n",
    "날짜데이터.strftime('출력서식')\n",
    "\n",
    "날짜 서식  \n",
    "%Y: 년도 4자리, %y: 년도 2자리  \n",
    "%m: 월(숫자), %B: 월(영어 => 전체), %b: 월(영어 => 앞 3글자)  \n",
    "%d: 일, %A: 요일(영어 => 전체), %a: 요일(영어 => 앞 3글자  "
   ]
  },
  {
   "cell_type": "code",
   "execution_count": 9,
   "id": "c9502c1e",
   "metadata": {},
   "outputs": [
    {
     "name": "stdout",
     "output_type": "stream",
     "text": [
      "2022-11-10 18:24:01.675148\n",
      "2022-11-10\n",
      "22-11-10\n",
      "2022-November-10\n",
      "2022-Nov-10\n",
      "November 10 2022\n",
      "2022-11-10 Thu\n",
      "Thursday November 10 2022\n",
      "2022년 11월 10일\n"
     ]
    }
   ],
   "source": [
    "today = dt.now()\n",
    "print(today)\n",
    "print(today.strftime('%Y-%m-%d'))\n",
    "print(today.strftime('%y-%m-%d'))\n",
    "print(today.strftime('%Y-%B-%d'))\n",
    "print(today.strftime('%Y-%b-%d'))\n",
    "print(today.strftime('%B %d %Y'))\n",
    "print(today.strftime('%Y-%m-%d %a'))\n",
    "print(today.strftime('%A %B %d %Y'))\n",
    "# 날짜, 시간 서식에 한글을 넣었을 때 유니코드 인코딩 문제로 UnicodeEncodeError가 발생될 수 있다.\n",
    "# print(today.strftime('%Y년 %m월 %d일')) # 에러\n",
    "# 날짜, 시간 서식에 UnicodeEncodeError가 발생되면 아래와 같이 코딩한다.\n",
    "print(today.strftime('%Y년 %m월 %d일'.encode('unicode-escape').decode()).encode().decode('unicode-escape'))"
   ]
  },
  {
   "cell_type": "markdown",
   "id": "9eb03f00",
   "metadata": {},
   "source": [
    "시간 서식  \n",
    "%H: 시간(24시각), %I: 시간(12시각), %M: 분, %S: 초, %f: 마이크로초, %p: AM/PM"
   ]
  },
  {
   "cell_type": "code",
   "execution_count": 10,
   "id": "6ebe964a",
   "metadata": {},
   "outputs": [
    {
     "name": "stdout",
     "output_type": "stream",
     "text": [
      "2022-11-10 18:24:01.691151\n",
      "PM 06:24:01\n",
      "18:24:01\n",
      "18시 24분 01초\n"
     ]
    }
   ],
   "source": [
    "today = dt.now()\n",
    "print(today)\n",
    "print(today.strftime('%p %I:%M:%S'))\n",
    "print(today.strftime('%H:%M:%S'))\n",
    "# print(today.strftime('%H시 %M분 %S초')) # 에러\n",
    "print(today.strftime('%H시 %M분 %S초'.encode('unicode-escape').decode()).encode().decode('unicode-escape'))"
   ]
  }
 ],
 "metadata": {
  "kernelspec": {
   "display_name": "Python 3",
   "language": "python",
   "name": "python3"
  },
  "language_info": {
   "codemirror_mode": {
    "name": "ipython",
    "version": 3
   },
   "file_extension": ".py",
   "mimetype": "text/x-python",
   "name": "python",
   "nbconvert_exporter": "python",
   "pygments_lexer": "ipython3",
   "version": "3.6.8"
  }
 },
 "nbformat": 4,
 "nbformat_minor": 5
}
