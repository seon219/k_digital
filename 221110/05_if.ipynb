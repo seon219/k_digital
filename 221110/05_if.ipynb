{
 "cells": [
  {
   "cell_type": "markdown",
   "id": "c42bebbd",
   "metadata": {},
   "source": [
    "# if 명령의 형식\n",
    "if 조건식: \n",
    "&nbsp;&nbsp;&nbsp;&nbsp; 조건식이 참일 경우 실행할 문장  \n",
    "&nbsp;&nbsp;&nbsp;&nbsp; ...  \n",
    "else:  \n",
    "&nbsp;&nbsp;&nbsp;&nbsp; 조건식이 거짓일 경우 실행할 문장  \n",
    "&nbsp;&nbsp;&nbsp;&nbsp; ...  \n",
    "***\n",
    "조건식을 만족하지 않을 때 아무런 일도 할 필요가 없다면 else 이하를 생략할 수 있다.  \n",
    "조건을 만족하는 경우 또는 만족하지 않는 경우에 실행할 문장이 없다면 pass를 입력하면 된다."
   ]
  },
  {
   "cell_type": "markdown",
   "id": "d469ca15",
   "metadata": {},
   "source": [
    "# 관계 연산자\n",
    "&nbsp;<&nbsp;&nbsp;: 작다. 미만  \n",
    "&nbsp;<=&nbsp;: 작거나 같다. 이하  \n",
    "&nbsp;>&nbsp;&nbsp;: 크다. 이하  \n",
    "&nbsp;>=&nbsp;: 크거나 같다. 이하  \n",
    "&nbsp;==&nbsp;: 같다.  \n",
    "&nbsp;!=&nbsp;: 같지 않다.  "
   ]
  },
  {
   "cell_type": "markdown",
   "id": "b7554272",
   "metadata": {},
   "source": [
    "# 논리 연산자\n",
    "and&nbsp;: 논리곱. 두 조건이 모두 참일 경우에만 참. ~이고, ~이면서, ~중에서  \n",
    "or&nbsp;: 논리합. 두 조건 중에서 한 개 이상 참일 경우에 참. ~또는, ~이거나  \n",
    "not&nbsp;: 논리 부정"
   ]
  },
  {
   "cell_type": "markdown",
   "id": "863de935",
   "metadata": {},
   "source": [
    "# 연산자 우선순위\n",
    "단항 연산자 => 이항연산자 => 삼항 연산자 => 대입 연산자('='와 같이 사용한다)  \n",
    "이항 연산자: ** => *, /, //, % => +, - => 관계 연산자 => 논리 연산자(not => and => or)"
   ]
  },
  {
   "cell_type": "code",
   "execution_count": 1,
   "id": "1875d0b2",
   "metadata": {},
   "outputs": [
    {
     "name": "stdout",
     "output_type": "stream",
     "text": [
      "나이를 입력하세요: 18\n",
      "<class 'int'>\n",
      "투표권이 있습니다.\n"
     ]
    }
   ],
   "source": [
    "# 나이를 입력받아 투표권이 있나 없나 판단한다.\n",
    "age = int(input('나이를 입력하세요: '))\n",
    "print(type(age))\n",
    "if age >= 18:\n",
    "    print('투표권이 있습니다.');\n",
    "else :\n",
    "    print('투표권이 없습니다.');"
   ]
  },
  {
   "cell_type": "code",
   "execution_count": 2,
   "id": "03cd0fef",
   "metadata": {
    "scrolled": true
   },
   "outputs": [
    {
     "name": "stdout",
     "output_type": "stream",
     "text": [
      "주민등록번호 13자리를 \"-\" 없이 입력하세요: 8305041020811\n",
      "1\n",
      "<class 'str'>\n",
      "남자\n",
      "남자\n",
      "==================================================\n",
      "남자\n",
      "남자\n",
      "==================================================\n",
      "남자\n"
     ]
    }
   ],
   "source": [
    "# 주민등록번호를 입력받아 성별을 판단한다.\n",
    "jumin = input('주민등록번호 13자리를 \"-\" 없이 입력하세요: ')\n",
    "print(jumin[6])\n",
    "print(type(jumin[6]))\n",
    "\n",
    "# 문자열로 비교\n",
    "if jumin[6] == '1' or jumin[6] == '3' :\n",
    "    print('남자')\n",
    "else :\n",
    "    print('여자')\n",
    "    \n",
    "if jumin[6] in ['1', '3'] : # in 연산자 <=> not in 연산자\n",
    "    print('남자')\n",
    "else :\n",
    "    print('여자')\n",
    "\n",
    "print('=' * 50)\n",
    "# 숫자로 비교\n",
    "if int(jumin[6]) == 1 or int(jumin[6]) == '3':\n",
    "    print('남자')\n",
    "else :\n",
    "    print('여자')\n",
    "    \n",
    "if int(jumin[6]) in [1, 3] : \n",
    "    print('남자')\n",
    "else :\n",
    "    print('여자')\n",
    "    \n",
    "print('=' * 50)\n",
    "# 성별이 홀수면 남자, 짝수면 여자로 비교\n",
    "if int(jumin[6]) % 2 == 1:\n",
    "    print('남자')\n",
    "else:\n",
    "    print('여자')"
   ]
  },
  {
   "cell_type": "code",
   "execution_count": 3,
   "id": "157e3646",
   "metadata": {},
   "outputs": [
    {
     "name": "stdout",
     "output_type": "stream",
     "text": [
      "주민등록번호 13자리를 \"-\" 없이 입력하세요: 8305041080120\n",
      "83\n",
      "당신의 출생 년도는 1983년이고 나이는 39세 입니다.\n"
     ]
    }
   ],
   "source": [
    "# 주민등록번호를 입력받아 나이를 출력한다.\n",
    "jumin = input('주민등록번호 13자리를 \"-\" 없이 입력하세요: ')\n",
    "year = int(jumin[:2])\n",
    "print(year)\n",
    "\n",
    "# 성별이 2 이하면 1900년대, 그렇지 않으면 200년대에 태어났다,\n",
    "if jumin[6] <= '2':\n",
    "    year += 1900\n",
    "else : \n",
    "    year += 2000\n",
    "    \n",
    "print('당신의 출생 년도는 {}년이고 나이는 {}세 입니다.'.format(year, 2022 - year))"
   ]
  }
 ],
 "metadata": {
  "kernelspec": {
   "display_name": "Python 3",
   "language": "python",
   "name": "python3"
  },
  "language_info": {
   "codemirror_mode": {
    "name": "ipython",
    "version": 3
   },
   "file_extension": ".py",
   "mimetype": "text/x-python",
   "name": "python",
   "nbconvert_exporter": "python",
   "pygments_lexer": "ipython3",
   "version": "3.6.8"
  }
 },
 "nbformat": 4,
 "nbformat_minor": 5
}
