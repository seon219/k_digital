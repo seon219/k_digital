{
 "cells": [
  {
   "cell_type": "code",
   "execution_count": 1,
   "id": "f8dbe2f0",
   "metadata": {},
   "outputs": [],
   "source": [
    "%config Completer.use_jedi = False\n",
    "import warnings\n",
    "warnings.filterwarnings(action='ignore')\n",
    "import pandas as pd\n",
    "import seaborn as sns\n",
    "import matplotlib.pyplot as plt\n",
    "import matplotlib as mpl"
   ]
  },
  {
   "cell_type": "code",
   "execution_count": 2,
   "id": "881d9627",
   "metadata": {},
   "outputs": [],
   "source": [
    "# 학습데이터와 테스트 데이터를 비율을 지정해서 무작위로 분리하기 위해 train_test_split() 함수를 import 한다.\n",
    "from sklearn.model_selection import train_test_split\n",
    "\n",
    "# 교차 검증을 실행하기 위해서 cross_val_score() 함수를 import 한다\n",
    "from sklearn.model_selection import cross_val_score\n",
    "\n",
    "# kNN 분류기를 사용하기 위한 KNeighborsClassifier() 함수를 import 한다.\n",
    "from sklearn.neighbors import KNeighborsClassifier\n",
    "\n",
    "# 모델의 정확도를 계산하는 accuracy_score() 함수를 import 한다.\n",
    "from sklearn.metrics import accuracy_score"
   ]
  },
  {
   "cell_type": "code",
   "execution_count": 3,
   "id": "79b675bc",
   "metadata": {},
   "outputs": [
    {
     "name": "stdout",
     "output_type": "stream",
     "text": [
      "<class 'pandas.core.frame.DataFrame'>\n"
     ]
    },
    {
     "data": {
      "text/html": [
       "<div>\n",
       "<style scoped>\n",
       "    .dataframe tbody tr th:only-of-type {\n",
       "        vertical-align: middle;\n",
       "    }\n",
       "\n",
       "    .dataframe tbody tr th {\n",
       "        vertical-align: top;\n",
       "    }\n",
       "\n",
       "    .dataframe thead th {\n",
       "        text-align: right;\n",
       "    }\n",
       "</style>\n",
       "<table border=\"1\" class=\"dataframe\">\n",
       "  <thead>\n",
       "    <tr style=\"text-align: right;\">\n",
       "      <th></th>\n",
       "      <th>Player</th>\n",
       "      <th>Pos</th>\n",
       "      <th>3P</th>\n",
       "      <th>2P</th>\n",
       "      <th>TRB</th>\n",
       "      <th>AST</th>\n",
       "      <th>STL</th>\n",
       "      <th>BLK</th>\n",
       "    </tr>\n",
       "  </thead>\n",
       "  <tbody>\n",
       "    <tr>\n",
       "      <th>0</th>\n",
       "      <td>Alex Abrines</td>\n",
       "      <td>SG</td>\n",
       "      <td>1.4</td>\n",
       "      <td>0.6</td>\n",
       "      <td>1.3</td>\n",
       "      <td>0.6</td>\n",
       "      <td>0.5</td>\n",
       "      <td>0.1</td>\n",
       "    </tr>\n",
       "    <tr>\n",
       "      <th>1</th>\n",
       "      <td>Steven Adams</td>\n",
       "      <td>C</td>\n",
       "      <td>0.0</td>\n",
       "      <td>4.7</td>\n",
       "      <td>7.7</td>\n",
       "      <td>1.1</td>\n",
       "      <td>1.1</td>\n",
       "      <td>1.0</td>\n",
       "    </tr>\n",
       "    <tr>\n",
       "      <th>2</th>\n",
       "      <td>Alexis Ajinca</td>\n",
       "      <td>C</td>\n",
       "      <td>0.0</td>\n",
       "      <td>2.3</td>\n",
       "      <td>4.5</td>\n",
       "      <td>0.3</td>\n",
       "      <td>0.5</td>\n",
       "      <td>0.6</td>\n",
       "    </tr>\n",
       "    <tr>\n",
       "      <th>3</th>\n",
       "      <td>Chris Andersen</td>\n",
       "      <td>C</td>\n",
       "      <td>0.0</td>\n",
       "      <td>0.8</td>\n",
       "      <td>2.6</td>\n",
       "      <td>0.4</td>\n",
       "      <td>0.4</td>\n",
       "      <td>0.6</td>\n",
       "    </tr>\n",
       "    <tr>\n",
       "      <th>4</th>\n",
       "      <td>Will Barton</td>\n",
       "      <td>SG</td>\n",
       "      <td>1.5</td>\n",
       "      <td>3.5</td>\n",
       "      <td>4.3</td>\n",
       "      <td>3.4</td>\n",
       "      <td>0.8</td>\n",
       "      <td>0.5</td>\n",
       "    </tr>\n",
       "  </tbody>\n",
       "</table>\n",
       "</div>"
      ],
      "text/plain": [
       "           Player Pos   3P   2P  TRB  AST  STL  BLK\n",
       "0    Alex Abrines  SG  1.4  0.6  1.3  0.6  0.5  0.1\n",
       "1    Steven Adams   C  0.0  4.7  7.7  1.1  1.1  1.0\n",
       "2   Alexis Ajinca   C  0.0  2.3  4.5  0.3  0.5  0.6\n",
       "3  Chris Andersen   C  0.0  0.8  2.6  0.4  0.4  0.6\n",
       "4     Will Barton  SG  1.5  3.5  4.3  3.4  0.8  0.5"
      ]
     },
     "execution_count": 3,
     "metadata": {},
     "output_type": "execute_result"
    }
   ],
   "source": [
    "df = pd.read_csv('./data/basketball_stat.csv')\n",
    "print(type(df))\n",
    "df.head()"
   ]
  },
  {
   "cell_type": "code",
   "execution_count": 4,
   "id": "4bffc8da",
   "metadata": {},
   "outputs": [
    {
     "data": {
      "text/plain": [
       "SG    50\n",
       "C     50\n",
       "Name: Pos, dtype: int64"
      ]
     },
     "execution_count": 4,
     "metadata": {},
     "output_type": "execute_result"
    }
   ],
   "source": [
    "df.Pos.value_counts()"
   ]
  },
  {
   "cell_type": "markdown",
   "id": "da8b9bc1",
   "metadata": {},
   "source": [
    "데이터 시각화"
   ]
  },
  {
   "cell_type": "code",
   "execution_count": 5,
   "id": "8b5eae1c",
   "metadata": {},
   "outputs": [
    {
     "data": {
      "text/plain": [
       "Text(0.5, 1.0, 'AST and 2P in 2d plane')"
      ]
     },
     "execution_count": 5,
     "metadata": {},
     "output_type": "execute_result"
    },
    {
     "data": {
      "image/png": "[encoded data removed]",
      "text/plain": [
       "<Figure size 410x360 with 1 Axes>"
      ]
     },
     "metadata": {
      "needs_background": "light"
     },
     "output_type": "display_data"
    },
    {
     "data": {
      "image/png": "[encoded data removed]",
      "text/plain": [
       "<Figure size 410x360 with 1 Axes>"
      ]
     },
     "metadata": {
      "needs_background": "light"
     },
     "output_type": "display_data"
    }
   ],
   "source": [
    "# STL(스틸)과 2P(2점슛), AST(어시스트)와 2P(2점슛)의 Pos(포지션) 별 분포도를 출력한다.\n",
    "sns.lmplot(\n",
    "    data=df, x='STL', y ='2P', fit_reg=False, # 데이터, x축, y축, 회귀선 표시 여부\n",
    "    hue='Pos', # 그래프에 표시될 표식의 색상\n",
    "    markers=['o', 'x'], # 그래프에 표시될 표식의 종류\n",
    "    scatter_kws={'s': 50} # 그래프에 표시될 표식의 크기\n",
    ")\n",
    "plt.title('STL and 2P in 2d plane')\n",
    "\n",
    "# STL(스틸)과 2P(2점슛), AST(어시스트)와 2P(2점슛)의 Pos(포지션) 별 분포도를 출력한다.\n",
    "sns.lmplot(data=df, x='AST', y ='2P', fit_reg=False, hue='Pos', markers=['o', 'x'], scatter_kws={'s': 50})\n",
    "plt.title('AST and 2P in 2d plane')"
   ]
  },
  {
   "cell_type": "code",
   "execution_count": 6,
   "id": "27701388",
   "metadata": {
    "scrolled": false
   },
   "outputs": [
    {
     "data": {
      "text/plain": [
       "Text(0.5, 1.0, 'AST and 3P in 2d plane')"
      ]
     },
     "execution_count": 6,
     "metadata": {},
     "output_type": "execute_result"
    },
    {
     "data": {
      "image/png": "[encoded data removed]",
      "text/plain": [
       "<Figure size 410x360 with 1 Axes>"
      ]
     },
     "metadata": {
      "needs_background": "light"
     },
     "output_type": "display_data"
    },
    {
     "data": {
      "image/png": "[encoded data removed]",
      "text/plain": [
       "<Figure size 410x360 with 1 Axes>"
      ]
     },
     "metadata": {
      "needs_background": "light"
     },
     "output_type": "display_data"
    }
   ],
   "source": [
    "# BLK(블로킹)과 3P(3점슛), TRB(리바운드)와 3P(3점슛)의 Pos(포지션) 별 분포도를 출력한다.\n",
    "sns.lmplot(data=df, x='BLK', y ='3P', fit_reg=False, hue='Pos', markers=['o', 'x'], scatter_kws={'s': 50})\n",
    "plt.title('AST and 3P in 2d plane')\n",
    "\n",
    "sns.lmplot(data=df, x='TRB', y ='3P', fit_reg=False, hue='Pos', markers=['o', 'x'], scatter_kws={'s': 50})\n",
    "plt.title('AST and 3P in 2d plane')"
   ]
  },
  {
   "cell_type": "markdown",
   "id": "ff4cdb6c",
   "metadata": {},
   "source": [
    "데이터 전처리"
   ]
  },
  {
   "cell_type": "code",
   "execution_count": 7,
   "id": "92b13be8",
   "metadata": {},
   "outputs": [
    {
     "data": {
      "text/html": [
       "<div>\n",
       "<style scoped>\n",
       "    .dataframe tbody tr th:only-of-type {\n",
       "        vertical-align: middle;\n",
       "    }\n",
       "\n",
       "    .dataframe tbody tr th {\n",
       "        vertical-align: top;\n",
       "    }\n",
       "\n",
       "    .dataframe thead th {\n",
       "        text-align: right;\n",
       "    }\n",
       "</style>\n",
       "<table border=\"1\" class=\"dataframe\">\n",
       "  <thead>\n",
       "    <tr style=\"text-align: right;\">\n",
       "      <th></th>\n",
       "      <th>Player</th>\n",
       "      <th>Pos</th>\n",
       "      <th>3P</th>\n",
       "      <th>TRB</th>\n",
       "      <th>BLK</th>\n",
       "    </tr>\n",
       "  </thead>\n",
       "  <tbody>\n",
       "    <tr>\n",
       "      <th>0</th>\n",
       "      <td>Alex Abrines</td>\n",
       "      <td>SG</td>\n",
       "      <td>1.4</td>\n",
       "      <td>1.3</td>\n",
       "      <td>0.1</td>\n",
       "    </tr>\n",
       "    <tr>\n",
       "      <th>1</th>\n",
       "      <td>Steven Adams</td>\n",
       "      <td>C</td>\n",
       "      <td>0.0</td>\n",
       "      <td>7.7</td>\n",
       "      <td>1.0</td>\n",
       "    </tr>\n",
       "    <tr>\n",
       "      <th>2</th>\n",
       "      <td>Alexis Ajinca</td>\n",
       "      <td>C</td>\n",
       "      <td>0.0</td>\n",
       "      <td>4.5</td>\n",
       "      <td>0.6</td>\n",
       "    </tr>\n",
       "    <tr>\n",
       "      <th>3</th>\n",
       "      <td>Chris Andersen</td>\n",
       "      <td>C</td>\n",
       "      <td>0.0</td>\n",
       "      <td>2.6</td>\n",
       "      <td>0.6</td>\n",
       "    </tr>\n",
       "    <tr>\n",
       "      <th>4</th>\n",
       "      <td>Will Barton</td>\n",
       "      <td>SG</td>\n",
       "      <td>1.5</td>\n",
       "      <td>4.3</td>\n",
       "      <td>0.5</td>\n",
       "    </tr>\n",
       "  </tbody>\n",
       "</table>\n",
       "</div>"
      ],
      "text/plain": [
       "           Player Pos   3P  TRB  BLK\n",
       "0    Alex Abrines  SG  1.4  1.3  0.1\n",
       "1    Steven Adams   C  0.0  7.7  1.0\n",
       "2   Alexis Ajinca   C  0.0  4.5  0.6\n",
       "3  Chris Andersen   C  0.0  2.6  0.6\n",
       "4     Will Barton  SG  1.5  4.3  0.5"
      ]
     },
     "execution_count": 7,
     "metadata": {},
     "output_type": "execute_result"
    }
   ],
   "source": [
    "# 판다스의 drop() 함수로 불필요한 컬럼(피쳐)를 삭제한다.\n",
    "# axis 속성은 생략시 0이 가본값으며 행 단위로 선택되고, 1을 쓰면 열 단위로 선택된다.\n",
    "# df = df.drop(['2P', 'AST', 'STL'], axis=1)\n",
    "\n",
    "# inplace 속성은 생략시 False가 기본값이며, 실행한 결과를 바로 반영하지 않고, True를 사용하면 결과를 바로 반영한다.\n",
    "df.drop(['2P', 'AST', 'STL'], axis=1, inplace=True)\n",
    "df.head()"
   ]
  },
  {
   "cell_type": "markdown",
   "id": "60ab6f9b",
   "metadata": {},
   "source": [
    "학습 데이터와 테스트 데이터로 나누기"
   ]
  },
  {
   "cell_type": "code",
   "execution_count": 8,
   "id": "1f714602",
   "metadata": {},
   "outputs": [
    {
     "name": "stdout",
     "output_type": "stream",
     "text": [
      "(80, 5) (20, 5)\n",
      "            Player Pos   3P  TRB  BLK\n",
      "39    Tim Hardaway  SG  1.9  2.8  0.2\n",
      "88  Garrett Temple  SG  1.3  2.8  0.4\n",
      "99    Lou Williams  SG  2.0  2.5  0.2\n",
      "81    Marcus Smart  SG  1.2  3.9  0.4\n",
      "38    A.J. Hammons   C  0.2  1.6  0.6\n",
      "..             ...  ..  ...  ...  ...\n",
      "71  Timofey Mozgov   C  0.0  4.9  0.6\n",
      "76     J.J. Redick  SG  2.6  2.2  0.2\n",
      "22    Troy Daniels  SG  2.1  1.5  0.1\n",
      "29   Channing Frye   C  1.9  3.9  0.5\n",
      "73  Victor Oladipo  SG  1.9  4.3  0.3\n",
      "\n",
      "[80 rows x 5 columns]\n"
     ]
    }
   ],
   "source": [
    "# train_test_split() 함수는 학습 데이터와 테스트 데이터의 비율을 지정하지 않으면 학습 데이터 75%, 테스트 데이터 25% 비율로 데이터를 나눈다.\n",
    "# train_size 옵션으로 학습 데이터 비율을 지정할 수 있다. 나머지는 자동으로 테스트 데이터의 비율로 인식한다.\n",
    "# test_size 옵션으로 테스트 데이터 비율을 지정할 수 있다. 나머지는 자동으로 학습 데이터의 비율로 인식한다.\n",
    "\n",
    "# 데이터의 80%를 학습용 데이터로, 데이터의 20%를 테스트 데이터로 무작위로 분리한다.\n",
    "train, test = train_test_split(df, train_size=0.8)\n",
    "print(train.shape, test.shape)\n",
    "print(train)"
   ]
  },
  {
   "cell_type": "markdown",
   "id": "a94d002f",
   "metadata": {},
   "source": [
    "최적의 kNN파라미터 찾기  \n",
    "sklearn 라이브러리의 croass_val_score() 함수로  k-fold 교차검증을 사용해서 kNN 알고리즘의 조절 가능한 단 하나의 변수 k를 찾는다. \n",
    "\n",
    "k-fold 교차 검증은 기존 데이터를 k개로 나눠서 k번 정확도를 검증하는 방법이다.\n",
    "<img"
   ]
  },
  {
   "cell_type": "code",
   "execution_count": 9,
   "id": "5fb1f880",
   "metadata": {},
   "outputs": [
    {
     "name": "stdout",
     "output_type": "stream",
     "text": [
      "[3, 5, 7, 9, 11, 13, 15, 17, 19, 21, 23, 25, 27, 29, 31, 33, 35, 37, 39]\n"
     ]
    }
   ],
   "source": [
    "# 최적의 k를 찾기위해 교차 검증을 수행할 k 범위를 3부터 학습 데이터 개수의 절반까지 지정한다.\n",
    "k_list = []\n",
    "for i in range(3, train.shape[0] // 2, 2):\n",
    "    k_list.append(i)\n",
    "print(k_list)"
   ]
  },
  {
   "cell_type": "code",
   "execution_count": 10,
   "id": "51306b0b",
   "metadata": {},
   "outputs": [],
   "source": [
    "# 각각의 k별 10-fold 교차 검증 결과의 평균을 기억할 빈 리스트를 선언한다.\n",
    "cross_validation_scores = []\n",
    "# train_test_split() 함수로 분리한 학습 데이터에서 학습에 사용할 데이터(피처)를 저장한다.\n",
    "x_train = train[['3P', 'TRB', 'BLK']]\n",
    "# train_test_split() 함수로 분리한 학습 데이터에서 학습 결과로 사용할 데이터(라벨, 타겟)를 저장한다.\n",
    "y_train = train['Pos'] # 실제값"
   ]
  },
  {
   "cell_type": "markdown",
   "id": "bc12d844",
   "metadata": {},
   "source": [
    "10-fold 교차 검증  \n",
    "학습 데이터를 10개의 조각으로 나누고 1조각을 검증 데이터로 사용하고 나머지 9조각을 학습 데이터로 사용해서 1번째 조각부터 10번째 조각까지 1번씩 검증하고 10번의 검증 결과를 10으로 나눈 평균값을 검증 결과 점수로 한다.  \n",
    "\n",
    "\n",
    "corss_val_score(model, X, Y, scoring=None, cv=None)  \n",
    "model: 분석 모델  \n",
    "X: 독립 변수, 학습 데이터(피처)  \n",
    "Y: 종속 변수, 학습 결과(라벨, 타겟)  \n",
    "scoring: 성늘 검증에 사용할 매개 변수로 원하는 평가 지표를 작성한다. => 정확도를 의미하는 'accuracy'를 지정한다.  \n",
    "cv: 교차 검증 생성기 객체 또는 숫자, None이면 KFold(3), 숫자를 지정하면 KFold(숫자)"
   ]
  },
  {
   "cell_type": "code",
   "execution_count": 11,
   "id": "9d2a1403",
   "metadata": {},
   "outputs": [
    {
     "name": "stdout",
     "output_type": "stream",
     "text": [
      "k: 3, scores: [0.875 0.875 0.75  0.875 1.    1.    1.    1.    1.    0.875], scores.mean: 0.925\n",
      "k: 5, scores: [0.875 0.875 0.75  0.875 1.    1.    1.    1.    1.    0.875], scores.mean: 0.925\n",
      "k: 7, scores: [0.875 0.875 0.875 0.875 1.    1.    1.    1.    1.    0.875], scores.mean: 0.9375\n",
      "k: 9, scores: [0.75  0.875 0.875 0.875 1.    1.    1.    1.    1.    0.875], scores.mean: 0.925\n",
      "k: 11, scores: [0.75  0.875 0.875 0.875 1.    1.    1.    1.    1.    0.875], scores.mean: 0.925\n",
      "k: 13, scores: [0.75  0.875 0.875 0.875 1.    1.    1.    1.    1.    0.875], scores.mean: 0.925\n",
      "k: 15, scores: [0.75  0.875 0.875 0.875 1.    1.    1.    1.    1.    0.875], scores.mean: 0.925\n",
      "k: 17, scores: [0.75  0.875 0.875 0.875 1.    1.    1.    1.    1.    0.875], scores.mean: 0.925\n",
      "k: 19, scores: [0.75  0.875 0.875 0.875 1.    1.    1.    1.    1.    0.875], scores.mean: 0.925\n",
      "k: 21, scores: [0.75  0.875 0.875 0.875 1.    1.    1.    1.    1.    0.875], scores.mean: 0.925\n",
      "k: 23, scores: [0.75  0.875 0.875 0.875 1.    0.875 1.    1.    1.    0.875], scores.mean: 0.9125\n",
      "k: 25, scores: [0.75  0.875 0.875 0.875 0.875 0.875 1.    1.    1.    0.875], scores.mean: 0.9\n",
      "k: 27, scores: [0.75  0.875 0.875 0.875 0.875 0.875 0.875 1.    1.    0.875], scores.mean: 0.8875\n",
      "k: 29, scores: [0.625 0.875 1.    0.875 0.875 0.875 0.875 1.    1.    0.75 ], scores.mean: 0.875\n",
      "k: 31, scores: [0.625 0.875 0.75  0.875 0.875 0.875 0.875 1.    1.    0.75 ], scores.mean: 0.85\n",
      "k: 33, scores: [0.625 0.875 0.875 0.875 0.875 0.875 0.875 1.    1.    0.75 ], scores.mean: 0.8625\n",
      "k: 35, scores: [0.625 0.875 0.75  0.875 0.875 0.875 0.875 1.    1.    0.75 ], scores.mean: 0.85\n",
      "k: 37, scores: [0.625 0.875 0.75  0.875 0.875 0.875 0.875 1.    1.    0.75 ], scores.mean: 0.85\n",
      "k: 39, scores: [0.625 0.875 0.75  0.875 0.75  0.875 0.875 1.    1.    0.75 ], scores.mean: 0.8375\n"
     ]
    }
   ],
   "source": [
    "# 10-fold 교차 검증을 각 k값을 대상으로 실행해서 검증 결과를 저장한다.\n",
    "for k in k_list:\n",
    "    # KNeighborsClassifier() 함수의 n_neighbors 속성에 kNN 모댈애서 사용할 이웃의 개수를 지정해 kNN모델을 만든다.\n",
    "    knn = KNeighborsClassifier(n_neighbors=k)\n",
    "    \n",
    "    # 학습에 따른 결과는 1차원 형태로 지정해야 하므로 value.ravel()를 사용해서 1차원으로 변경한다.\n",
    "    scores = cross_val_score(knn, x_train, y_train.values.ravel(), scoring='accuracy', cv=10)\n",
    "    cross_validation_scores.append(scores.mean())\n",
    "    print('k: {}, scores: {}, scores.mean: {}'.format(k, scores, scores.mean()))"
   ]
  },
  {
   "cell_type": "code",
   "execution_count": 12,
   "id": "c4026476",
   "metadata": {},
   "outputs": [
    {
     "name": "stdout",
     "output_type": "stream",
     "text": [
      "[0.925, 0.925, 0.9375, 0.925, 0.925, 0.925, 0.925, 0.925, 0.925, 0.925, 0.9125, 0.9, 0.8875, 0.875, 0.85, 0.8625, 0.85, 0.85, 0.8375]\n"
     ]
    }
   ],
   "source": [
    "print(cross_validation_scores)"
   ]
  },
  {
   "cell_type": "markdown",
   "id": "bebc7dde",
   "metadata": {},
   "source": [
    "각 k 별로 정확도기 쉽게 이해되지 않기 때문에 시각화를 통해 최적의 k를 확인한다."
   ]
  },
  {
   "cell_type": "code",
   "execution_count": 13,
   "id": "2b40a8f1",
   "metadata": {},
   "outputs": [
    {
     "data": {
      "image/png": "[encoded data removed]",
      "text/plain": [
       "<Figure size 720x432 with 1 Axes>"
      ]
     },
     "metadata": {
      "needs_background": "light"
     },
     "output_type": "display_data"
    }
   ],
   "source": [
    "plt.figure(figsize=[10, 6])\n",
    "plt.plot(k_list, cross_validation_scores)\n",
    "plt.xlabel('k')\n",
    "plt.ylabel('accuracy')\n",
    "plt.show()"
   ]
  },
  {
   "cell_type": "code",
   "execution_count": 14,
   "id": "a0ec605e",
   "metadata": {
    "scrolled": true
   },
   "outputs": [
    {
     "name": "stdout",
     "output_type": "stream",
     "text": [
      "0.9375\n",
      "2\n",
      "최적의 k: 7\n"
     ]
    }
   ],
   "source": [
    "# 예측율이 가장 높은 k를 지정한다.\n",
    "print(max(cross_validation_scores))\n",
    "print(cross_validation_scores.index(max(cross_validation_scores)))\n",
    "optimal_k = k_list[cross_validation_scores.index(max(cross_validation_scores))]\n",
    "print('최적의 k: {}'.format(optimal_k))"
   ]
  },
  {
   "cell_type": "markdown",
   "id": "74fe83cb",
   "metadata": {},
   "source": [
    "최적의 k를 사용한 kNN 모델 테스트"
   ]
  },
  {
   "cell_type": "code",
   "execution_count": 17,
   "id": "bd7c0928",
   "metadata": {},
   "outputs": [
    {
     "name": "stdout",
     "output_type": "stream",
     "text": [
      "정확도: 0.9\n"
     ]
    }
   ],
   "source": [
    "# 분별력이 있다고 판단된 3점슛(3P), 블로킹(BLK), 리바운드(TRB) 속성으로 모델을 학습시킨 후 테스트를 진행한다.\n",
    "knn = KNeighborsClassifier(n_neighbors=optimal_k)\n",
    "\n",
    "# 학습에 사용할 속성과 결과를 지정한다.\n",
    "x_train = train[['3P', 'TRB', 'BLK']]\n",
    "y_train = train['Pos']\n",
    "\n",
    "# 모델을 학습시킨다.\n",
    "knn.fit(x_train, y_train.values.ravel())\n",
    "\n",
    "# 테스트에 사용할 속성과 결과를 지정한다.\n",
    "x_test = test[['3P', 'TRB', 'BLK']]\n",
    "y_test = test['Pos']\n",
    "\n",
    "# 테스트를 실행(예측)하고 정확도를 계산한다.\n",
    "predict = knn.predict(x_test)\n",
    "print('정확도: {}'.format(accuracy_score(y_test.values.ravel(), predict)))\n"
   ]
  },
  {
   "cell_type": "code",
   "execution_count": 18,
   "id": "1b6f5c88",
   "metadata": {},
   "outputs": [
    {
     "data": {
      "text/html": [
       "<div>\n",
       "<style scoped>\n",
       "    .dataframe tbody tr th:only-of-type {\n",
       "        vertical-align: middle;\n",
       "    }\n",
       "\n",
       "    .dataframe tbody tr th {\n",
       "        vertical-align: top;\n",
       "    }\n",
       "\n",
       "    .dataframe thead th {\n",
       "        text-align: right;\n",
       "    }\n",
       "</style>\n",
       "<table border=\"1\" class=\"dataframe\">\n",
       "  <thead>\n",
       "    <tr style=\"text-align: right;\">\n",
       "      <th></th>\n",
       "      <th>예측값</th>\n",
       "      <th>실제값</th>\n",
       "    </tr>\n",
       "  </thead>\n",
       "  <tbody>\n",
       "    <tr>\n",
       "      <th>0</th>\n",
       "      <td>C</td>\n",
       "      <td>C</td>\n",
       "    </tr>\n",
       "    <tr>\n",
       "      <th>1</th>\n",
       "      <td>SG</td>\n",
       "      <td>SG</td>\n",
       "    </tr>\n",
       "    <tr>\n",
       "      <th>2</th>\n",
       "      <td>C</td>\n",
       "      <td>C</td>\n",
       "    </tr>\n",
       "    <tr>\n",
       "      <th>3</th>\n",
       "      <td>C</td>\n",
       "      <td>C</td>\n",
       "    </tr>\n",
       "    <tr>\n",
       "      <th>4</th>\n",
       "      <td>SG</td>\n",
       "      <td>SG</td>\n",
       "    </tr>\n",
       "    <tr>\n",
       "      <th>5</th>\n",
       "      <td>SG</td>\n",
       "      <td>SG</td>\n",
       "    </tr>\n",
       "    <tr>\n",
       "      <th>6</th>\n",
       "      <td>SG</td>\n",
       "      <td>C</td>\n",
       "    </tr>\n",
       "    <tr>\n",
       "      <th>7</th>\n",
       "      <td>SG</td>\n",
       "      <td>SG</td>\n",
       "    </tr>\n",
       "    <tr>\n",
       "      <th>8</th>\n",
       "      <td>C</td>\n",
       "      <td>C</td>\n",
       "    </tr>\n",
       "    <tr>\n",
       "      <th>9</th>\n",
       "      <td>SG</td>\n",
       "      <td>SG</td>\n",
       "    </tr>\n",
       "    <tr>\n",
       "      <th>10</th>\n",
       "      <td>SG</td>\n",
       "      <td>C</td>\n",
       "    </tr>\n",
       "    <tr>\n",
       "      <th>11</th>\n",
       "      <td>C</td>\n",
       "      <td>C</td>\n",
       "    </tr>\n",
       "    <tr>\n",
       "      <th>12</th>\n",
       "      <td>SG</td>\n",
       "      <td>SG</td>\n",
       "    </tr>\n",
       "    <tr>\n",
       "      <th>13</th>\n",
       "      <td>SG</td>\n",
       "      <td>SG</td>\n",
       "    </tr>\n",
       "    <tr>\n",
       "      <th>14</th>\n",
       "      <td>SG</td>\n",
       "      <td>SG</td>\n",
       "    </tr>\n",
       "    <tr>\n",
       "      <th>15</th>\n",
       "      <td>SG</td>\n",
       "      <td>SG</td>\n",
       "    </tr>\n",
       "    <tr>\n",
       "      <th>16</th>\n",
       "      <td>C</td>\n",
       "      <td>C</td>\n",
       "    </tr>\n",
       "    <tr>\n",
       "      <th>17</th>\n",
       "      <td>SG</td>\n",
       "      <td>SG</td>\n",
       "    </tr>\n",
       "    <tr>\n",
       "      <th>18</th>\n",
       "      <td>SG</td>\n",
       "      <td>SG</td>\n",
       "    </tr>\n",
       "    <tr>\n",
       "      <th>19</th>\n",
       "      <td>SG</td>\n",
       "      <td>SG</td>\n",
       "    </tr>\n",
       "  </tbody>\n",
       "</table>\n",
       "</div>"
      ],
      "text/plain": [
       "   예측값 실제값\n",
       "0    C   C\n",
       "1   SG  SG\n",
       "2    C   C\n",
       "3    C   C\n",
       "4   SG  SG\n",
       "5   SG  SG\n",
       "6   SG   C\n",
       "7   SG  SG\n",
       "8    C   C\n",
       "9   SG  SG\n",
       "10  SG   C\n",
       "11   C   C\n",
       "12  SG  SG\n",
       "13  SG  SG\n",
       "14  SG  SG\n",
       "15  SG  SG\n",
       "16   C   C\n",
       "17  SG  SG\n",
       "18  SG  SG\n",
       "19  SG  SG"
      ]
     },
     "execution_count": 18,
     "metadata": {},
     "output_type": "execute_result"
    }
   ],
   "source": [
    "comparison = pd.DataFrame({'예측값': predict, '실제값': y_test.values.ravel()})\n",
    "comparison"
   ]
  },
  {
   "cell_type": "markdown",
   "id": "94cf547c",
   "metadata": {},
   "source": [
    "완성된 모델 사용하기"
   ]
  },
  {
   "cell_type": "code",
   "execution_count": 19,
   "id": "f7ed9bcd",
   "metadata": {},
   "outputs": [
    {
     "data": {
      "text/html": [
       "<div>\n",
       "<style scoped>\n",
       "    .dataframe tbody tr th:only-of-type {\n",
       "        vertical-align: middle;\n",
       "    }\n",
       "\n",
       "    .dataframe tbody tr th {\n",
       "        vertical-align: top;\n",
       "    }\n",
       "\n",
       "    .dataframe thead th {\n",
       "        text-align: right;\n",
       "    }\n",
       "</style>\n",
       "<table border=\"1\" class=\"dataframe\">\n",
       "  <thead>\n",
       "    <tr style=\"text-align: right;\">\n",
       "      <th></th>\n",
       "      <th>3P</th>\n",
       "      <th>BLK</th>\n",
       "      <th>TRB</th>\n",
       "    </tr>\n",
       "  </thead>\n",
       "  <tbody>\n",
       "    <tr>\n",
       "      <th>0</th>\n",
       "      <td>0.0</td>\n",
       "      <td>7.7</td>\n",
       "      <td>1.0</td>\n",
       "    </tr>\n",
       "    <tr>\n",
       "      <th>1</th>\n",
       "      <td>3.9</td>\n",
       "      <td>0.3</td>\n",
       "      <td>0.1</td>\n",
       "    </tr>\n",
       "  </tbody>\n",
       "</table>\n",
       "</div>"
      ],
      "text/plain": [
       "    3P  BLK  TRB\n",
       "0  0.0  7.7  1.0\n",
       "1  3.9  0.3  0.1"
      ]
     },
     "execution_count": 19,
     "metadata": {},
     "output_type": "execute_result"
    }
   ],
   "source": [
    "x = {'3P': [0, 3.9], 'BLK': [7.7, 0.3], 'TRB': [1, 0.1]}\n",
    "x_test = pd.DataFrame(x)\n",
    "x_test"
   ]
  },
  {
   "cell_type": "code",
   "execution_count": 20,
   "id": "0e1a8d0c",
   "metadata": {},
   "outputs": [
    {
     "data": {
      "text/html": [
       "<div>\n",
       "<style scoped>\n",
       "    .dataframe tbody tr th:only-of-type {\n",
       "        vertical-align: middle;\n",
       "    }\n",
       "\n",
       "    .dataframe tbody tr th {\n",
       "        vertical-align: top;\n",
       "    }\n",
       "\n",
       "    .dataframe thead th {\n",
       "        text-align: right;\n",
       "    }\n",
       "</style>\n",
       "<table border=\"1\" class=\"dataframe\">\n",
       "  <thead>\n",
       "    <tr style=\"text-align: right;\">\n",
       "      <th></th>\n",
       "      <th>Pos</th>\n",
       "    </tr>\n",
       "  </thead>\n",
       "  <tbody>\n",
       "    <tr>\n",
       "      <th>0</th>\n",
       "      <td>C</td>\n",
       "    </tr>\n",
       "    <tr>\n",
       "      <th>1</th>\n",
       "      <td>SG</td>\n",
       "    </tr>\n",
       "  </tbody>\n",
       "</table>\n",
       "</div>"
      ],
      "text/plain": [
       "  Pos\n",
       "0   C\n",
       "1  SG"
      ]
     },
     "execution_count": 20,
     "metadata": {},
     "output_type": "execute_result"
    }
   ],
   "source": [
    "y = {'Pos': ['C', 'SG']}\n",
    "y_test = pd.DataFrame(y)\n",
    "y_test"
   ]
  },
  {
   "cell_type": "code",
   "execution_count": 23,
   "id": "d3864a37",
   "metadata": {},
   "outputs": [
    {
     "name": "stdout",
     "output_type": "stream",
     "text": [
      "['C' 'SG']\n",
      "정확도: 1.0\n"
     ]
    },
    {
     "data": {
      "text/html": [
       "<div>\n",
       "<style scoped>\n",
       "    .dataframe tbody tr th:only-of-type {\n",
       "        vertical-align: middle;\n",
       "    }\n",
       "\n",
       "    .dataframe tbody tr th {\n",
       "        vertical-align: top;\n",
       "    }\n",
       "\n",
       "    .dataframe thead th {\n",
       "        text-align: right;\n",
       "    }\n",
       "</style>\n",
       "<table border=\"1\" class=\"dataframe\">\n",
       "  <thead>\n",
       "    <tr style=\"text-align: right;\">\n",
       "      <th></th>\n",
       "      <th>예측값</th>\n",
       "      <th>실제값</th>\n",
       "    </tr>\n",
       "  </thead>\n",
       "  <tbody>\n",
       "    <tr>\n",
       "      <th>0</th>\n",
       "      <td>C</td>\n",
       "      <td>C</td>\n",
       "    </tr>\n",
       "    <tr>\n",
       "      <th>1</th>\n",
       "      <td>SG</td>\n",
       "      <td>SG</td>\n",
       "    </tr>\n",
       "  </tbody>\n",
       "</table>\n",
       "</div>"
      ],
      "text/plain": [
       "  예측값 실제값\n",
       "0   C   C\n",
       "1  SG  SG"
      ]
     },
     "execution_count": 23,
     "metadata": {},
     "output_type": "execute_result"
    }
   ],
   "source": [
    "predict = knn.predict(x_test)\n",
    "print(predict)\n",
    "print('정확도: {}'.format(accuracy_score(y_test.values.ravel(), predict)))\n",
    "comparison = pd.DataFrame({'예측값': predict, '실제값': y_test.values.ravel()})\n",
    "comparison"
   ]
  }
 ],
 "metadata": {
  "kernelspec": {
   "display_name": "Python [conda env:py36] *",
   "language": "python",
   "name": "conda-env-py36-py"
  },
  "language_info": {
   "codemirror_mode": {
    "name": "ipython",
    "version": 3
   },
   "file_extension": ".py",
   "mimetype": "text/x-python",
   "name": "python",
   "nbconvert_exporter": "python",
   "pygments_lexer": "ipython3",
   "version": "3.6.13"
  }
 },
 "nbformat": 4,
 "nbformat_minor": 5
}
